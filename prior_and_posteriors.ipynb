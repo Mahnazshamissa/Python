{
  "nbformat": 4,
  "nbformat_minor": 0,
  "metadata": {
    "colab": {
      "name": "prior and posteriors.ipynb",
      "provenance": [],
      "collapsed_sections": [],
      "include_colab_link": true
    },
    "kernelspec": {
      "name": "python3",
      "display_name": "Python 3"
    }
  },
  "cells": [
    {
      "cell_type": "markdown",
      "metadata": {
        "id": "view-in-github",
        "colab_type": "text"
      },
      "source": [
        "<a href=\"https://colab.research.google.com/github/Mahnazshamissa/Python/blob/main/prior_and_posteriors.ipynb\" target=\"_parent\"><img src=\"https://colab.research.google.com/assets/colab-badge.svg\" alt=\"Open In Colab\"/></a>"
      ]
    },
    {
      "cell_type": "markdown",
      "metadata": {
        "id": "5ixLFNX92aDR"
      },
      "source": [
        "# Creation of the prior and posteriors table\n",
        "from data provided by Katia"
      ]
    },
    {
      "cell_type": "code",
      "metadata": {
        "id": "YEmVWXlw0F46"
      },
      "source": [
        "import pandas as pd"
      ],
      "execution_count": 7,
      "outputs": []
    },
    {
      "cell_type": "code",
      "metadata": {
        "id": "CklBNHVh1Vb3"
      },
      "source": [
        "# 0. imports\n",
        "import numpy as np\n",
        "import pickle\n",
        "\n",
        "# 1. load the data\n",
        "with open('/content/fruit_data.pkl','rb') as flBytes:\n",
        "    raw = pickle.load(flBytes)\n",
        " "
      ],
      "execution_count": 8,
      "outputs": []
    },
    {
      "cell_type": "code",
      "metadata": {
        "id": "HvUbvMIO1UKm"
      },
      "source": [
        "columnNames=['fruit','long','sweet','yellow','seeds','Brazil']"
      ],
      "execution_count": 9,
      "outputs": []
    },
    {
      "cell_type": "code",
      "metadata": {
        "id": "pFzaOSdW08oj",
        "outputId": "984e070f-0b02-4b72-9af1-0c8e1f7b0906",
        "colab": {
          "base_uri": "https://localhost:8080/",
          "height": 136
        }
      },
      "source": [
        "dfRaw = pd.DataFrame(raw,columns = columnNames,dtype='str')\n",
        "dfRaw[dfRaw.columns[1:]] = dfRaw[dfRaw.columns[1:]].astype('int8')\n",
        "dfPosts = dfRaw.groupby(dfRaw.fruit).sum()\n",
        "dfPosts['total'] = dfRaw.fruit.groupby(dfRaw.fruit).count()\n",
        "dfPosts.loc['combined']= dfPosts.sum()\n",
        "dfPostsNorm = dfPosts.copy()\n",
        "dfPosts['total']"
      ],
      "execution_count": 10,
      "outputs": [
        {
          "output_type": "execute_result",
          "data": {
            "text/plain": [
              "fruit\n",
              "bananas      400.0\n",
              "mangoes      300.0\n",
              "oranges      500.0\n",
              "others       200.0\n",
              "combined    1400.0\n",
              "Name: total, dtype: float64"
            ]
          },
          "metadata": {
            "tags": []
          },
          "execution_count": 10
        }
      ]
    },
    {
      "cell_type": "code",
      "metadata": {
        "id": "9koxJZSK5Hi2",
        "outputId": "c1f51a5f-d16a-4a7a-fdca-82feded9cd9c",
        "colab": {
          "base_uri": "https://localhost:8080/",
          "height": 235
        }
      },
      "source": [
        "dfPostsNorm[dfPostsNorm.columns[:-1]] = (dfPostsNorm[dfPostsNorm.columns[:-1]].T / dfPostsNorm.total).T\n",
        "dfPostsNorm\n",
        "dfPostsNorm.total = dfPostsNorm.total / dfPostsNorm.total.loc['combined']\n",
        "dfPostsNorm\n"
      ],
      "execution_count": 11,
      "outputs": [
        {
          "output_type": "execute_result",
          "data": {
            "text/html": [
              "<div>\n",
              "<style scoped>\n",
              "    .dataframe tbody tr th:only-of-type {\n",
              "        vertical-align: middle;\n",
              "    }\n",
              "\n",
              "    .dataframe tbody tr th {\n",
              "        vertical-align: top;\n",
              "    }\n",
              "\n",
              "    .dataframe thead th {\n",
              "        text-align: right;\n",
              "    }\n",
              "</style>\n",
              "<table border=\"1\" class=\"dataframe\">\n",
              "  <thead>\n",
              "    <tr style=\"text-align: right;\">\n",
              "      <th></th>\n",
              "      <th>long</th>\n",
              "      <th>sweet</th>\n",
              "      <th>yellow</th>\n",
              "      <th>seeds</th>\n",
              "      <th>Brazil</th>\n",
              "      <th>total</th>\n",
              "    </tr>\n",
              "    <tr>\n",
              "      <th>fruit</th>\n",
              "      <th></th>\n",
              "      <th></th>\n",
              "      <th></th>\n",
              "      <th></th>\n",
              "      <th></th>\n",
              "      <th></th>\n",
              "    </tr>\n",
              "  </thead>\n",
              "  <tbody>\n",
              "    <tr>\n",
              "      <th>bananas</th>\n",
              "      <td>0.900000</td>\n",
              "      <td>0.625000</td>\n",
              "      <td>0.975000</td>\n",
              "      <td>0.000000</td>\n",
              "      <td>0.162500</td>\n",
              "      <td>0.285714</td>\n",
              "    </tr>\n",
              "    <tr>\n",
              "      <th>mangoes</th>\n",
              "      <td>0.366667</td>\n",
              "      <td>0.666667</td>\n",
              "      <td>0.400000</td>\n",
              "      <td>0.000000</td>\n",
              "      <td>1.000000</td>\n",
              "      <td>0.214286</td>\n",
              "    </tr>\n",
              "    <tr>\n",
              "      <th>oranges</th>\n",
              "      <td>0.006000</td>\n",
              "      <td>0.920000</td>\n",
              "      <td>0.060000</td>\n",
              "      <td>0.940000</td>\n",
              "      <td>0.020000</td>\n",
              "      <td>0.357143</td>\n",
              "    </tr>\n",
              "    <tr>\n",
              "      <th>others</th>\n",
              "      <td>0.225000</td>\n",
              "      <td>1.000000</td>\n",
              "      <td>0.500000</td>\n",
              "      <td>0.950000</td>\n",
              "      <td>0.000000</td>\n",
              "      <td>0.142857</td>\n",
              "    </tr>\n",
              "    <tr>\n",
              "      <th>combined</th>\n",
              "      <td>0.370000</td>\n",
              "      <td>0.792857</td>\n",
              "      <td>0.457143</td>\n",
              "      <td>0.471429</td>\n",
              "      <td>0.267857</td>\n",
              "      <td>1.000000</td>\n",
              "    </tr>\n",
              "  </tbody>\n",
              "</table>\n",
              "</div>"
            ],
            "text/plain": [
              "              long     sweet    yellow     seeds    Brazil     total\n",
              "fruit                                                               \n",
              "bananas   0.900000  0.625000  0.975000  0.000000  0.162500  0.285714\n",
              "mangoes   0.366667  0.666667  0.400000  0.000000  1.000000  0.214286\n",
              "oranges   0.006000  0.920000  0.060000  0.940000  0.020000  0.357143\n",
              "others    0.225000  1.000000  0.500000  0.950000  0.000000  0.142857\n",
              "combined  0.370000  0.792857  0.457143  0.471429  0.267857  1.000000"
            ]
          },
          "metadata": {
            "tags": []
          },
          "execution_count": 11
        }
      ]
    },
    {
      "cell_type": "code",
      "metadata": {
        "id": "tvKB7yLl8fc4"
      },
      "source": [
        ""
      ],
      "execution_count": 11,
      "outputs": []
    },
    {
      "cell_type": "markdown",
      "metadata": {
        "id": "0IiNBya912__"
      },
      "source": [
        "dfPostsNorm[dfPostsNorm.columns[:-1]] = (dfPostsNorm[dfPostsNorm.columns[:-1]].T / dfPostsNorm.total).T\n",
        "dfPostsNorm"
      ]
    },
    {
      "cell_type": "code",
      "metadata": {
        "id": "sgdhPnM22DG3"
      },
      "source": [
        "# 2. retrieve general information\n",
        "rawRows = raw.shape[0] #total number of fruits\n",
        "rawCols = raw.shape[1] #number of feats, including fruit type \n",
        " \n",
        "fruitTypes = np.unique(raw[:,0],return_counts=True)\n",
        "\n",
        "# 3. create sub arrays per fruit and add them to a dictionary with fruit names as keys\n",
        "fruitDict = {}\n",
        "for i,el in enumerate(fruitTypes[0]):\n",
        "    fruitDict[el] =  [i,raw[np.where(raw[:,0]==el)][:,1:].astype(float)] # first elemento of the list is an id in numeric form that can be stored numerically in the numeric numpy\n",
        "    "
      ],
      "execution_count": 12,
      "outputs": []
    },
    {
      "cell_type": "code",
      "metadata": {
        "id": "8IbQ74472H1W"
      },
      "source": [
        "# 4. create the empty posteriors matrix (not normalized)\n",
        "postRows = fruitTypes[0].size + 1 # add a sum row\n",
        "postCols = 2*(rawCols - 1) + 2 #add an index column, and a sum column\n",
        "posteriors = np.zeros((postRows,postCols)) \n"
      ],
      "execution_count": 13,
      "outputs": []
    },
    {
      "cell_type": "code",
      "metadata": {
        "id": "-BRmbvP_2NSL"
      },
      "source": [
        "# 5. fill for each fruit its correspondent row in the posteriors matrix\n",
        "for k,v in fruitDict.items():\n",
        "    rowId = v[0] # id of the fruit, in numeric form\n",
        "    amount = v[1].shape[0] # could have used also fruitTypes[1]\n",
        "    additions = np.sum(v[1],axis=0)\n",
        "    posteriors[rowId,0] = rowId # first col of the posteriors array is the id of the fruit\n",
        "    posteriors[rowId,-1] = amount # last col of the posteriors array is the total amount of each fruit\n",
        "    for j in range(1,rawCols):\n",
        "        posteriors[rowId,2*j-1] = additions[j-1]# fulfilling the feat\n",
        "        posteriors[rowId,2*j] = amount - additions[j-1] # not fullfilling the feat\n",
        "\n",
        "# 6. add a final row that sums all the values above\n",
        "posteriors[-1] = np.sum(posteriors,axis=0)"
      ],
      "execution_count": 14,
      "outputs": []
    },
    {
      "cell_type": "code",
      "metadata": {
        "id": "42Yq8M5V2QxK"
      },
      "source": [
        "# 7. create the posteeriorsNorm: the posteriors normalized to the values to the specific fruit total amount\n",
        "## for that, i took the last column, the amount of each fruit, and broadcasted it to an array of the same dimensions of the posteriors, where all the values of the row are the same: the amount of each fruit\n",
        "posteriorsNorm = posteriors.copy()\n",
        "arrayTotals = np.broadcast_to(posteriorsNorm[:,-1:],posteriorsNorm.shape)\n",
        "posteriorsNorm = posteriorsNorm / arrayTotals\n"
      ],
      "execution_count": 15,
      "outputs": []
    },
    {
      "cell_type": "code",
      "metadata": {
        "id": "lQ8GOBix2WJZ"
      },
      "source": [
        "# 8. as the operation before also edited the id column, rewrite the first column to its original\n",
        "posteriorsNorm[:,0] = posteriors[:,0]\n",
        "\n",
        "# 9. the last column normalized lacks value: rewrite to the total amount per fruit again, as in posteriors, and normalize to total fruits\n",
        "posteriorsNorm[:,-1] = posteriors[:,-1]/posteriors[-1,-1]"
      ],
      "execution_count": 16,
      "outputs": []
    }
  ]
}