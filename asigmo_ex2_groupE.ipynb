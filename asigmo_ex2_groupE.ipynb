{
  "nbformat": 4,
  "nbformat_minor": 0,
  "metadata": {
    "colab": {
      "name": "asigmo_ex2_groupE.ipynb",
      "provenance": [],
      "collapsed_sections": [],
      "include_colab_link": true
    },
    "kernelspec": {
      "name": "python3",
      "display_name": "Python 3"
    },
    "accelerator": "GPU"
  },
  "cells": [
    {
      "cell_type": "markdown",
      "metadata": {
        "id": "view-in-github",
        "colab_type": "text"
      },
      "source": [
        "<a href=\"https://colab.research.google.com/github/Mahnazshamissa/Python/blob/main/asigmo_ex2_groupE.ipynb\" target=\"_parent\"><img src=\"https://colab.research.google.com/assets/colab-badge.svg\" alt=\"Open In Colab\"/></a>"
      ]
    },
    {
      "cell_type": "markdown",
      "metadata": {
        "id": "k-3Byol5O_U5"
      },
      "source": [
        "# Lab exercise 2\n",
        "\n",
        "\n",
        "Per Group:\n",
        "1.   Create a teams-meeting where one person opens the colab notebook and shares the screen (preferably a different person than yesterday)\n",
        "2.   Change the network as described below. Different to yesterday you need to use Google and read the Tensorflow documention.\n",
        "3.   Train the network, then plot the training history and evaluate it one the test set\n",
        "4.   Replace the code that plots the training history by code that computes the best validation accuracy achieved during the training\n",
        "5.   Post the best validation accuracy during and the test accuracy in the general Deep Learning teams channel\n",
        "6.   Think about why your network performed better or worse compared to the ~73% accuracy of the baseline network\n",
        "7.   In each group channel answer the questions below\n",
        "\n",
        "\n",
        "- **Group A:** Add random zoom data augmentation (before the RandomCrop layer) and try it out with a height_factor of 0.1 and 0.2.\n",
        "- **Group C:** Add L2 regularization with a factor of 0.0001 to the kernel of the convolutional layers. Try it out, then increase the learning rate to 0.001 and try it again\n",
        "- **Group D:** Add [random flip data augmentation](https://www.tensorflow.org/api_docs/python/tf/keras/layers/experimental/preprocessing/RandomFlip) before the rescaling layer. Try it out once with only horzontal flips and once with both horizontal and vertical flips \n",
        "- **Group E:** Add an spacial 2D dropout layer after the first MaxPool2D layer. Try is out with a dropout rate of 0.1 and 0.2\n",
        "\n",
        "\n",
        "**Questions**\n",
        "1.  How many training samples are fed through the network in each epochs? \n",
        "2.  How many weight updates (= training steps) are applied in our case in each epoch?\n",
        "3.  How many training steps are applied in our case over the whole training process?\n",
        "4.  Read the documentation of [```tf.keras.optimizers.schedules.PiecewiseConstantDecay```](https://www.tensorflow.org/api_docs/python/tf/keras/optimizers/schedules/PiecewiseConstantDecay). What does this module do?\n",
        "5.  Which values for the argument ```boundaries``` and ```values``` do we need to set if we can a learning rate of 0.01 for the first 50 epochs, 0.001 for the next next 50 epochs and 0.0001 for the last 50 epochs?\n",
        "\n",
        "**Info**: If your Colab notebook is training in the background (another tab), open it once in a while to avoid Colab from disconnecting the session!\n"
      ]
    },
    {
      "cell_type": "markdown",
      "metadata": {
        "id": "SB-q8XI3NPWq"
      },
      "source": [
        "## Setup notebook environment\n",
        "\n",
        "Make sure the Colab environment has a GPU enabled *Edit->Notebook Settings->Hardware accelerator->Choose GPU*"
      ]
    },
    {
      "cell_type": "code",
      "metadata": {
        "id": "1aG_RlnMI7Fj",
        "outputId": "3a41c281-1a15-498a-a407-b1b8d94e2a8d",
        "colab": {
          "base_uri": "https://localhost:8080/",
          "height": 391
        }
      },
      "source": [
        "! nvidia-smi"
      ],
      "execution_count": null,
      "outputs": [
        {
          "output_type": "stream",
          "text": [
            "Wed Oct 28 09:46:33 2020       \n",
            "+-----------------------------------------------------------------------------+\n",
            "| NVIDIA-SMI 455.23.05    Driver Version: 418.67       CUDA Version: 10.1     |\n",
            "|-------------------------------+----------------------+----------------------+\n",
            "| GPU  Name        Persistence-M| Bus-Id        Disp.A | Volatile Uncorr. ECC |\n",
            "| Fan  Temp  Perf  Pwr:Usage/Cap|         Memory-Usage | GPU-Util  Compute M. |\n",
            "|                               |                      |               MIG M. |\n",
            "|===============================+======================+======================|\n",
            "|   0  Tesla T4            Off  | 00000000:00:04.0 Off |                    0 |\n",
            "| N/A   46C    P8    10W /  70W |      0MiB / 15079MiB |      0%      Default |\n",
            "|                               |                      |                 ERR! |\n",
            "+-------------------------------+----------------------+----------------------+\n",
            "                                                                               \n",
            "+-----------------------------------------------------------------------------+\n",
            "| Processes:                                                                  |\n",
            "|  GPU   GI   CI        PID   Type   Process name                  GPU Memory |\n",
            "|        ID   ID                                                   Usage      |\n",
            "|=============================================================================|\n",
            "|  No running processes found                                                 |\n",
            "+-----------------------------------------------------------------------------+\n"
          ],
          "name": "stdout"
        }
      ]
    },
    {
      "cell_type": "markdown",
      "metadata": {
        "id": "uc8c_aozNWpg"
      },
      "source": [
        "Download the dataset first"
      ]
    },
    {
      "cell_type": "code",
      "metadata": {
        "id": "MGa7l7SjNZFe",
        "outputId": "fa209bb8-b8e1-448e-b434-572bc1e6ab08",
        "colab": {
          "base_uri": "https://localhost:8080/",
          "height": 223
        }
      },
      "source": [
        "! wget https://pub.ist.ac.at/~mlechner/datasets/f8d.tar.gz\n",
        "! tar -xf f8d.tar.gz"
      ],
      "execution_count": null,
      "outputs": [
        {
          "output_type": "stream",
          "text": [
            "--2020-10-28 09:48:30--  https://pub.ist.ac.at/~mlechner/datasets/f8d.tar.gz\n",
            "Resolving pub.ist.ac.at (pub.ist.ac.at)... 81.223.84.195\n",
            "Connecting to pub.ist.ac.at (pub.ist.ac.at)|81.223.84.195|:443... connected.\n",
            "HTTP request sent, awaiting response... 200 OK\n",
            "Length: 76149807 (73M) [application/x-gzip]\n",
            "Saving to: ‘f8d.tar.gz’\n",
            "\n",
            "f8d.tar.gz          100%[===================>]  72.62M   972KB/s    in 98s     \n",
            "\n",
            "2020-10-28 09:50:08 (758 KB/s) - ‘f8d.tar.gz’ saved [76149807/76149807]\n",
            "\n"
          ],
          "name": "stdout"
        }
      ]
    },
    {
      "cell_type": "markdown",
      "metadata": {
        "id": "NkhCfNnTOdTJ"
      },
      "source": [
        "Import python libraries"
      ]
    },
    {
      "cell_type": "code",
      "metadata": {
        "id": "gBF6BqbgNbII"
      },
      "source": [
        "import tensorflow as tf\n",
        "import matplotlib.pyplot as plt"
      ],
      "execution_count": null,
      "outputs": []
    },
    {
      "cell_type": "markdown",
      "metadata": {
        "id": "WlKQkw7ZOhBQ"
      },
      "source": [
        "## Step 1: Define datasets"
      ]
    },
    {
      "cell_type": "code",
      "metadata": {
        "id": "WZt14huyNguI",
        "outputId": "1e2be68d-1b80-4a10-c837-d3e0e3e459e5",
        "colab": {
          "base_uri": "https://localhost:8080/",
          "height": 111
        }
      },
      "source": [
        "test_dataset = tf.keras.preprocessing.image_dataset_from_directory(\n",
        "  \"f8d/test\", shuffle=False, batch_size=128, image_size=(256, 256),\n",
        ")\n",
        "train_dataset = tf.keras.preprocessing.image_dataset_from_directory(\n",
        "  \"f8d/training\",\n",
        "  shuffle=True,\n",
        "  batch_size=64,\n",
        "  image_size=(256, 256),\n",
        "  validation_split=0.2,\n",
        "  subset=\"training\",\n",
        "  seed=1020202,\n",
        ")\n",
        "valid_dataset = tf.keras.preprocessing.image_dataset_from_directory(\n",
        "  \"f8d/training\",\n",
        "  shuffle=True,\n",
        "  batch_size=128,\n",
        "  image_size=(256, 256),\n",
        "  validation_split=0.2,\n",
        "  subset=\"validation\",\n",
        "  seed=1020202,\n",
        ")\n",
        "AUTOTUNE = tf.data.experimental.AUTOTUNE\n",
        "train_dataset = train_dataset.prefetch(buffer_size=AUTOTUNE)\n",
        "valid_dataset = valid_dataset.prefetch(buffer_size=AUTOTUNE)\n",
        "test_dataset = test_dataset.prefetch(buffer_size=AUTOTUNE)"
      ],
      "execution_count": null,
      "outputs": [
        {
          "output_type": "stream",
          "text": [
            "Found 640 files belonging to 8 classes.\n",
            "Found 1840 files belonging to 8 classes.\n",
            "Using 1472 files for training.\n",
            "Found 1840 files belonging to 8 classes.\n",
            "Using 368 files for validation.\n"
          ],
          "name": "stdout"
        }
      ]
    },
    {
      "cell_type": "markdown",
      "metadata": {
        "id": "_HtXmk8mOrh4"
      },
      "source": [
        "## Step 2 and 3: Define model and objective"
      ]
    },
    {
      "cell_type": "code",
      "metadata": {
        "id": "onpKWbSNNjCg",
        "outputId": "e4e70809-d80e-4192-b323-02dcb371369a",
        "colab": {
          "base_uri": "https://localhost:8080/",
          "height": 690
        }
      },
      "source": [
        "model = tf.keras.Sequential([\n",
        "  tf.keras.layers.Input(shape=(256,256,3)),\n",
        "  tf.keras.layers.experimental.preprocessing.RandomCrop(224, 224),\n",
        "  tf.keras.layers.experimental.preprocessing.Rescaling(1.0 / 255),\n",
        "  tf.keras.layers.Conv2D(64, 7, strides=2, activation=\"relu\", padding=\"same\"),\n",
        "  tf.keras.layers.Conv2D(64, (3, 3), activation=\"relu\", padding=\"same\"),\n",
        "  tf.keras.layers.MaxPool2D(),\n",
        "  tf.keras.layers.SpatialDropout2D(0.2),\n",
        "  tf.keras.layers.BatchNormalization(),\n",
        "  tf.keras.layers.Conv2D(128,(4, 4), activation=\"relu\", padding=\"same\"),\n",
        "  tf.keras.layers.MaxPool2D(),\n",
        "  tf.keras.layers.BatchNormalization(),\n",
        "  tf.keras.layers.Conv2D(256,(3, 3), activation=\"relu\", padding=\"same\"),\n",
        "  tf.keras.layers.GlobalAveragePooling2D(),\n",
        "  tf.keras.layers.Dropout(0.2),\n",
        "  tf.keras.layers.Dense(8,activation=\"softmax\"),\n",
        "])\n",
        "model.compile(\n",
        "    optimizer=tf.keras.optimizers.Adam(0.0005),\n",
        "    loss=\"sparse_categorical_crossentropy\",\n",
        "    metrics=[\"sparse_categorical_accuracy\"],\n",
        ")\n",
        "model.summary()"
      ],
      "execution_count": null,
      "outputs": [
        {
          "output_type": "stream",
          "text": [
            "Model: \"sequential\"\n",
            "_________________________________________________________________\n",
            "Layer (type)                 Output Shape              Param #   \n",
            "=================================================================\n",
            "random_crop (RandomCrop)     (None, 224, 224, 3)       0         \n",
            "_________________________________________________________________\n",
            "rescaling (Rescaling)        (None, 224, 224, 3)       0         \n",
            "_________________________________________________________________\n",
            "conv2d (Conv2D)              (None, 112, 112, 64)      9472      \n",
            "_________________________________________________________________\n",
            "conv2d_1 (Conv2D)            (None, 112, 112, 64)      36928     \n",
            "_________________________________________________________________\n",
            "max_pooling2d (MaxPooling2D) (None, 56, 56, 64)        0         \n",
            "_________________________________________________________________\n",
            "spatial_dropout2d (SpatialDr (None, 56, 56, 64)        0         \n",
            "_________________________________________________________________\n",
            "batch_normalization (BatchNo (None, 56, 56, 64)        256       \n",
            "_________________________________________________________________\n",
            "conv2d_2 (Conv2D)            (None, 56, 56, 128)       131200    \n",
            "_________________________________________________________________\n",
            "max_pooling2d_1 (MaxPooling2 (None, 28, 28, 128)       0         \n",
            "_________________________________________________________________\n",
            "batch_normalization_1 (Batch (None, 28, 28, 128)       512       \n",
            "_________________________________________________________________\n",
            "conv2d_3 (Conv2D)            (None, 28, 28, 256)       295168    \n",
            "_________________________________________________________________\n",
            "global_average_pooling2d (Gl (None, 256)               0         \n",
            "_________________________________________________________________\n",
            "dropout (Dropout)            (None, 256)               0         \n",
            "_________________________________________________________________\n",
            "dense (Dense)                (None, 8)                 2056      \n",
            "=================================================================\n",
            "Total params: 475,592\n",
            "Trainable params: 475,208\n",
            "Non-trainable params: 384\n",
            "_________________________________________________________________\n"
          ],
          "name": "stdout"
        }
      ]
    },
    {
      "cell_type": "markdown",
      "metadata": {
        "id": "YXRe8j9zOvbw"
      },
      "source": [
        "## Step 4: Train the model"
      ]
    },
    {
      "cell_type": "code",
      "metadata": {
        "id": "1Aes5WmpNlTN",
        "outputId": "a57c9548-3d09-44f7-a06c-127d16ff507f",
        "colab": {
          "base_uri": "https://localhost:8080/",
          "height": 1000
        }
      },
      "source": [
        "training_log = model.fit(\n",
        "  train_dataset, epochs=150, validation_data=valid_dataset\n",
        ")"
      ],
      "execution_count": null,
      "outputs": [
        {
          "output_type": "stream",
          "text": [
            "Epoch 1/150\n",
            " 2/23 [=>............................] - ETA: 1s - loss: 2.1706 - sparse_categorical_accuracy: 0.1719WARNING:tensorflow:Callbacks method `on_train_batch_end` is slow compared to the batch time (batch time: 0.0470s vs `on_train_batch_end` time: 0.0754s). Check your callbacks.\n",
            "23/23 [==============================] - 5s 208ms/step - loss: 2.0511 - sparse_categorical_accuracy: 0.2262 - val_loss: 2.0681 - val_sparse_categorical_accuracy: 0.1359\n",
            "Epoch 2/150\n",
            "23/23 [==============================] - 4s 153ms/step - loss: 1.9162 - sparse_categorical_accuracy: 0.2609 - val_loss: 2.0959 - val_sparse_categorical_accuracy: 0.1196\n",
            "Epoch 3/150\n",
            "23/23 [==============================] - 4s 155ms/step - loss: 1.7706 - sparse_categorical_accuracy: 0.3227 - val_loss: 2.1499 - val_sparse_categorical_accuracy: 0.1196\n",
            "Epoch 4/150\n",
            "23/23 [==============================] - 4s 155ms/step - loss: 1.7453 - sparse_categorical_accuracy: 0.3370 - val_loss: 2.5297 - val_sparse_categorical_accuracy: 0.1196\n",
            "Epoch 5/150\n",
            "23/23 [==============================] - 4s 153ms/step - loss: 1.6523 - sparse_categorical_accuracy: 0.3920 - val_loss: 2.6197 - val_sparse_categorical_accuracy: 0.1223\n",
            "Epoch 6/150\n",
            "23/23 [==============================] - 4s 153ms/step - loss: 1.5852 - sparse_categorical_accuracy: 0.4096 - val_loss: 2.6675 - val_sparse_categorical_accuracy: 0.1196\n",
            "Epoch 7/150\n",
            "23/23 [==============================] - 4s 156ms/step - loss: 1.5528 - sparse_categorical_accuracy: 0.4103 - val_loss: 2.7061 - val_sparse_categorical_accuracy: 0.1848\n",
            "Epoch 8/150\n",
            "23/23 [==============================] - 4s 154ms/step - loss: 1.5080 - sparse_categorical_accuracy: 0.4171 - val_loss: 3.1634 - val_sparse_categorical_accuracy: 0.1630\n",
            "Epoch 9/150\n",
            "23/23 [==============================] - 4s 156ms/step - loss: 1.4516 - sparse_categorical_accuracy: 0.4674 - val_loss: 3.2623 - val_sparse_categorical_accuracy: 0.1386\n",
            "Epoch 10/150\n",
            "23/23 [==============================] - 4s 157ms/step - loss: 1.4400 - sparse_categorical_accuracy: 0.4762 - val_loss: 3.0464 - val_sparse_categorical_accuracy: 0.1250\n",
            "Epoch 11/150\n",
            "23/23 [==============================] - 4s 153ms/step - loss: 1.3971 - sparse_categorical_accuracy: 0.4681 - val_loss: 3.7414 - val_sparse_categorical_accuracy: 0.1223\n",
            "Epoch 12/150\n",
            "23/23 [==============================] - 4s 153ms/step - loss: 1.3696 - sparse_categorical_accuracy: 0.5183 - val_loss: 3.3867 - val_sparse_categorical_accuracy: 0.2038\n",
            "Epoch 13/150\n",
            "23/23 [==============================] - 4s 153ms/step - loss: 1.3629 - sparse_categorical_accuracy: 0.4993 - val_loss: 3.5195 - val_sparse_categorical_accuracy: 0.1495\n",
            "Epoch 14/150\n",
            "23/23 [==============================] - 4s 154ms/step - loss: 1.2949 - sparse_categorical_accuracy: 0.5177 - val_loss: 3.2935 - val_sparse_categorical_accuracy: 0.1576\n",
            "Epoch 15/150\n",
            "23/23 [==============================] - 4s 154ms/step - loss: 1.2880 - sparse_categorical_accuracy: 0.5353 - val_loss: 3.2296 - val_sparse_categorical_accuracy: 0.2283\n",
            "Epoch 16/150\n",
            "23/23 [==============================] - 4s 154ms/step - loss: 1.2686 - sparse_categorical_accuracy: 0.5394 - val_loss: 3.1223 - val_sparse_categorical_accuracy: 0.2092\n",
            "Epoch 17/150\n",
            "23/23 [==============================] - 4s 154ms/step - loss: 1.2448 - sparse_categorical_accuracy: 0.5387 - val_loss: 2.7493 - val_sparse_categorical_accuracy: 0.2310\n",
            "Epoch 18/150\n",
            "23/23 [==============================] - 4s 153ms/step - loss: 1.2313 - sparse_categorical_accuracy: 0.5516 - val_loss: 2.5691 - val_sparse_categorical_accuracy: 0.2201\n",
            "Epoch 19/150\n",
            "23/23 [==============================] - 4s 156ms/step - loss: 1.2019 - sparse_categorical_accuracy: 0.5740 - val_loss: 2.5765 - val_sparse_categorical_accuracy: 0.1467\n",
            "Epoch 20/150\n",
            "23/23 [==============================] - 4s 155ms/step - loss: 1.1842 - sparse_categorical_accuracy: 0.5713 - val_loss: 2.1595 - val_sparse_categorical_accuracy: 0.2500\n",
            "Epoch 21/150\n",
            "23/23 [==============================] - 4s 157ms/step - loss: 1.1910 - sparse_categorical_accuracy: 0.5523 - val_loss: 1.9094 - val_sparse_categorical_accuracy: 0.3152\n",
            "Epoch 22/150\n",
            "23/23 [==============================] - 4s 155ms/step - loss: 1.1604 - sparse_categorical_accuracy: 0.5870 - val_loss: 1.8342 - val_sparse_categorical_accuracy: 0.3342\n",
            "Epoch 23/150\n",
            "23/23 [==============================] - 4s 154ms/step - loss: 1.1421 - sparse_categorical_accuracy: 0.5904 - val_loss: 1.6655 - val_sparse_categorical_accuracy: 0.3967\n",
            "Epoch 24/150\n",
            "23/23 [==============================] - 4s 157ms/step - loss: 1.1114 - sparse_categorical_accuracy: 0.5938 - val_loss: 1.6718 - val_sparse_categorical_accuracy: 0.4076\n",
            "Epoch 25/150\n",
            "23/23 [==============================] - 4s 154ms/step - loss: 1.1183 - sparse_categorical_accuracy: 0.5883 - val_loss: 1.5918 - val_sparse_categorical_accuracy: 0.3859\n",
            "Epoch 26/150\n",
            "23/23 [==============================] - 4s 156ms/step - loss: 1.1170 - sparse_categorical_accuracy: 0.5971 - val_loss: 1.5274 - val_sparse_categorical_accuracy: 0.4674\n",
            "Epoch 27/150\n",
            "23/23 [==============================] - 4s 156ms/step - loss: 1.0805 - sparse_categorical_accuracy: 0.6087 - val_loss: 1.8610 - val_sparse_categorical_accuracy: 0.3397\n",
            "Epoch 28/150\n",
            "23/23 [==============================] - 4s 155ms/step - loss: 1.0581 - sparse_categorical_accuracy: 0.6141 - val_loss: 1.2625 - val_sparse_categorical_accuracy: 0.5027\n",
            "Epoch 29/150\n",
            "23/23 [==============================] - 4s 157ms/step - loss: 1.0166 - sparse_categorical_accuracy: 0.6318 - val_loss: 1.4039 - val_sparse_categorical_accuracy: 0.4837\n",
            "Epoch 30/150\n",
            "23/23 [==============================] - 4s 155ms/step - loss: 0.9869 - sparse_categorical_accuracy: 0.6481 - val_loss: 1.5220 - val_sparse_categorical_accuracy: 0.4402\n",
            "Epoch 31/150\n",
            "23/23 [==============================] - 4s 157ms/step - loss: 0.9685 - sparse_categorical_accuracy: 0.6474 - val_loss: 1.3913 - val_sparse_categorical_accuracy: 0.4973\n",
            "Epoch 32/150\n",
            "23/23 [==============================] - 4s 154ms/step - loss: 1.0134 - sparse_categorical_accuracy: 0.6359 - val_loss: 1.2189 - val_sparse_categorical_accuracy: 0.5679\n",
            "Epoch 33/150\n",
            "23/23 [==============================] - 4s 156ms/step - loss: 0.9772 - sparse_categorical_accuracy: 0.6596 - val_loss: 1.1860 - val_sparse_categorical_accuracy: 0.5707\n",
            "Epoch 34/150\n",
            "23/23 [==============================] - 4s 157ms/step - loss: 0.9383 - sparse_categorical_accuracy: 0.6664 - val_loss: 1.0911 - val_sparse_categorical_accuracy: 0.6277\n",
            "Epoch 35/150\n",
            "23/23 [==============================] - 4s 157ms/step - loss: 0.9096 - sparse_categorical_accuracy: 0.6719 - val_loss: 1.0599 - val_sparse_categorical_accuracy: 0.6141\n",
            "Epoch 36/150\n",
            "23/23 [==============================] - 4s 155ms/step - loss: 0.9123 - sparse_categorical_accuracy: 0.6787 - val_loss: 1.1426 - val_sparse_categorical_accuracy: 0.6033\n",
            "Epoch 37/150\n",
            "23/23 [==============================] - 4s 156ms/step - loss: 0.9080 - sparse_categorical_accuracy: 0.6827 - val_loss: 1.1787 - val_sparse_categorical_accuracy: 0.5571\n",
            "Epoch 38/150\n",
            "23/23 [==============================] - 4s 156ms/step - loss: 0.9098 - sparse_categorical_accuracy: 0.6671 - val_loss: 1.0349 - val_sparse_categorical_accuracy: 0.6332\n",
            "Epoch 39/150\n",
            "23/23 [==============================] - 4s 157ms/step - loss: 0.9039 - sparse_categorical_accuracy: 0.6868 - val_loss: 1.0326 - val_sparse_categorical_accuracy: 0.6359\n",
            "Epoch 40/150\n",
            "23/23 [==============================] - 4s 157ms/step - loss: 0.8469 - sparse_categorical_accuracy: 0.6997 - val_loss: 1.1208 - val_sparse_categorical_accuracy: 0.5842\n",
            "Epoch 41/150\n",
            "23/23 [==============================] - 4s 156ms/step - loss: 0.8216 - sparse_categorical_accuracy: 0.7201 - val_loss: 1.1880 - val_sparse_categorical_accuracy: 0.5924\n",
            "Epoch 42/150\n",
            "23/23 [==============================] - 4s 156ms/step - loss: 0.8329 - sparse_categorical_accuracy: 0.7038 - val_loss: 0.8900 - val_sparse_categorical_accuracy: 0.7147\n",
            "Epoch 43/150\n",
            "23/23 [==============================] - 4s 158ms/step - loss: 0.8112 - sparse_categorical_accuracy: 0.7092 - val_loss: 0.9648 - val_sparse_categorical_accuracy: 0.6712\n",
            "Epoch 44/150\n",
            "23/23 [==============================] - 4s 157ms/step - loss: 0.7852 - sparse_categorical_accuracy: 0.7269 - val_loss: 0.9217 - val_sparse_categorical_accuracy: 0.6793\n",
            "Epoch 45/150\n",
            "23/23 [==============================] - 4s 158ms/step - loss: 0.8118 - sparse_categorical_accuracy: 0.7072 - val_loss: 0.9897 - val_sparse_categorical_accuracy: 0.6766\n",
            "Epoch 46/150\n",
            "23/23 [==============================] - 4s 157ms/step - loss: 0.7890 - sparse_categorical_accuracy: 0.6990 - val_loss: 1.1299 - val_sparse_categorical_accuracy: 0.6386\n",
            "Epoch 47/150\n",
            "23/23 [==============================] - 4s 157ms/step - loss: 0.7361 - sparse_categorical_accuracy: 0.7466 - val_loss: 0.9365 - val_sparse_categorical_accuracy: 0.6848\n",
            "Epoch 48/150\n",
            "23/23 [==============================] - 4s 158ms/step - loss: 0.7556 - sparse_categorical_accuracy: 0.7289 - val_loss: 1.0285 - val_sparse_categorical_accuracy: 0.6440\n",
            "Epoch 49/150\n",
            "23/23 [==============================] - 4s 157ms/step - loss: 0.7461 - sparse_categorical_accuracy: 0.7432 - val_loss: 1.0727 - val_sparse_categorical_accuracy: 0.6413\n",
            "Epoch 50/150\n",
            "23/23 [==============================] - 4s 158ms/step - loss: 0.7222 - sparse_categorical_accuracy: 0.7459 - val_loss: 0.9330 - val_sparse_categorical_accuracy: 0.6739\n",
            "Epoch 51/150\n",
            "23/23 [==============================] - 4s 158ms/step - loss: 0.6908 - sparse_categorical_accuracy: 0.7561 - val_loss: 0.8701 - val_sparse_categorical_accuracy: 0.6957\n",
            "Epoch 52/150\n",
            "23/23 [==============================] - 4s 159ms/step - loss: 0.7259 - sparse_categorical_accuracy: 0.7371 - val_loss: 0.9357 - val_sparse_categorical_accuracy: 0.6793\n",
            "Epoch 53/150\n",
            "23/23 [==============================] - 4s 159ms/step - loss: 0.6961 - sparse_categorical_accuracy: 0.7677 - val_loss: 0.9715 - val_sparse_categorical_accuracy: 0.6766\n",
            "Epoch 54/150\n",
            "23/23 [==============================] - 4s 157ms/step - loss: 0.6726 - sparse_categorical_accuracy: 0.7711 - val_loss: 1.0026 - val_sparse_categorical_accuracy: 0.6549\n",
            "Epoch 55/150\n",
            "23/23 [==============================] - 4s 158ms/step - loss: 0.6652 - sparse_categorical_accuracy: 0.7649 - val_loss: 0.9672 - val_sparse_categorical_accuracy: 0.6413\n",
            "Epoch 56/150\n",
            "23/23 [==============================] - 4s 159ms/step - loss: 0.6332 - sparse_categorical_accuracy: 0.7942 - val_loss: 0.8958 - val_sparse_categorical_accuracy: 0.6902\n",
            "Epoch 57/150\n",
            "23/23 [==============================] - 4s 160ms/step - loss: 0.6692 - sparse_categorical_accuracy: 0.7683 - val_loss: 0.8489 - val_sparse_categorical_accuracy: 0.7038\n",
            "Epoch 58/150\n",
            "23/23 [==============================] - 4s 157ms/step - loss: 0.6310 - sparse_categorical_accuracy: 0.7772 - val_loss: 0.8536 - val_sparse_categorical_accuracy: 0.7038\n",
            "Epoch 59/150\n",
            "23/23 [==============================] - 4s 157ms/step - loss: 0.6023 - sparse_categorical_accuracy: 0.7833 - val_loss: 0.8698 - val_sparse_categorical_accuracy: 0.7038\n",
            "Epoch 60/150\n",
            "23/23 [==============================] - 4s 158ms/step - loss: 0.6058 - sparse_categorical_accuracy: 0.8003 - val_loss: 1.0253 - val_sparse_categorical_accuracy: 0.6576\n",
            "Epoch 61/150\n",
            "23/23 [==============================] - 4s 159ms/step - loss: 0.5799 - sparse_categorical_accuracy: 0.8016 - val_loss: 1.0491 - val_sparse_categorical_accuracy: 0.6739\n",
            "Epoch 62/150\n",
            "23/23 [==============================] - 4s 160ms/step - loss: 0.5743 - sparse_categorical_accuracy: 0.8057 - val_loss: 0.8279 - val_sparse_categorical_accuracy: 0.7120\n",
            "Epoch 63/150\n",
            "23/23 [==============================] - 4s 157ms/step - loss: 0.5680 - sparse_categorical_accuracy: 0.7962 - val_loss: 0.8406 - val_sparse_categorical_accuracy: 0.7092\n",
            "Epoch 64/150\n",
            "23/23 [==============================] - 4s 158ms/step - loss: 0.5521 - sparse_categorical_accuracy: 0.8010 - val_loss: 0.8687 - val_sparse_categorical_accuracy: 0.7065\n",
            "Epoch 65/150\n",
            "23/23 [==============================] - 4s 160ms/step - loss: 0.5328 - sparse_categorical_accuracy: 0.8173 - val_loss: 0.8110 - val_sparse_categorical_accuracy: 0.7147\n",
            "Epoch 66/150\n",
            "23/23 [==============================] - 4s 159ms/step - loss: 0.5256 - sparse_categorical_accuracy: 0.8152 - val_loss: 0.8881 - val_sparse_categorical_accuracy: 0.6902\n",
            "Epoch 67/150\n",
            "23/23 [==============================] - 4s 161ms/step - loss: 0.5553 - sparse_categorical_accuracy: 0.8084 - val_loss: 0.9860 - val_sparse_categorical_accuracy: 0.6984\n",
            "Epoch 68/150\n",
            "23/23 [==============================] - 4s 159ms/step - loss: 0.5333 - sparse_categorical_accuracy: 0.8200 - val_loss: 0.9004 - val_sparse_categorical_accuracy: 0.7011\n",
            "Epoch 69/150\n",
            "23/23 [==============================] - 4s 158ms/step - loss: 0.5401 - sparse_categorical_accuracy: 0.8118 - val_loss: 0.8280 - val_sparse_categorical_accuracy: 0.7147\n",
            "Epoch 70/150\n",
            "23/23 [==============================] - 4s 162ms/step - loss: 0.4963 - sparse_categorical_accuracy: 0.8227 - val_loss: 1.0657 - val_sparse_categorical_accuracy: 0.6658\n",
            "Epoch 71/150\n",
            "23/23 [==============================] - 4s 162ms/step - loss: 0.4943 - sparse_categorical_accuracy: 0.8295 - val_loss: 0.8730 - val_sparse_categorical_accuracy: 0.7011\n",
            "Epoch 72/150\n",
            "23/23 [==============================] - 4s 160ms/step - loss: 0.4749 - sparse_categorical_accuracy: 0.8356 - val_loss: 0.8095 - val_sparse_categorical_accuracy: 0.7364\n",
            "Epoch 73/150\n",
            "23/23 [==============================] - 4s 159ms/step - loss: 0.4628 - sparse_categorical_accuracy: 0.8342 - val_loss: 0.8586 - val_sparse_categorical_accuracy: 0.7011\n",
            "Epoch 74/150\n",
            "23/23 [==============================] - 4s 161ms/step - loss: 0.4422 - sparse_categorical_accuracy: 0.8505 - val_loss: 0.8302 - val_sparse_categorical_accuracy: 0.7092\n",
            "Epoch 75/150\n",
            "23/23 [==============================] - 4s 159ms/step - loss: 0.4251 - sparse_categorical_accuracy: 0.8628 - val_loss: 0.8731 - val_sparse_categorical_accuracy: 0.6902\n",
            "Epoch 76/150\n",
            "23/23 [==============================] - 4s 160ms/step - loss: 0.4507 - sparse_categorical_accuracy: 0.8444 - val_loss: 0.8995 - val_sparse_categorical_accuracy: 0.6984\n",
            "Epoch 77/150\n",
            "23/23 [==============================] - 4s 161ms/step - loss: 0.4081 - sparse_categorical_accuracy: 0.8648 - val_loss: 0.7639 - val_sparse_categorical_accuracy: 0.7500\n",
            "Epoch 78/150\n",
            "23/23 [==============================] - 4s 160ms/step - loss: 0.4268 - sparse_categorical_accuracy: 0.8417 - val_loss: 0.7636 - val_sparse_categorical_accuracy: 0.7337\n",
            "Epoch 79/150\n",
            "23/23 [==============================] - 4s 161ms/step - loss: 0.4145 - sparse_categorical_accuracy: 0.8526 - val_loss: 0.9300 - val_sparse_categorical_accuracy: 0.6821\n",
            "Epoch 80/150\n",
            "23/23 [==============================] - 4s 163ms/step - loss: 0.4366 - sparse_categorical_accuracy: 0.8607 - val_loss: 0.9748 - val_sparse_categorical_accuracy: 0.6984\n",
            "Epoch 81/150\n",
            "23/23 [==============================] - 4s 162ms/step - loss: 0.4340 - sparse_categorical_accuracy: 0.8587 - val_loss: 0.8678 - val_sparse_categorical_accuracy: 0.7120\n",
            "Epoch 82/150\n",
            "23/23 [==============================] - 4s 158ms/step - loss: 0.4451 - sparse_categorical_accuracy: 0.8444 - val_loss: 0.8688 - val_sparse_categorical_accuracy: 0.7120\n",
            "Epoch 83/150\n",
            "23/23 [==============================] - 4s 160ms/step - loss: 0.4374 - sparse_categorical_accuracy: 0.8505 - val_loss: 0.9466 - val_sparse_categorical_accuracy: 0.7011\n",
            "Epoch 84/150\n",
            "23/23 [==============================] - 4s 160ms/step - loss: 0.4195 - sparse_categorical_accuracy: 0.8601 - val_loss: 0.7715 - val_sparse_categorical_accuracy: 0.7473\n",
            "Epoch 85/150\n",
            "23/23 [==============================] - 4s 161ms/step - loss: 0.3757 - sparse_categorical_accuracy: 0.8750 - val_loss: 0.8559 - val_sparse_categorical_accuracy: 0.7147\n",
            "Epoch 86/150\n",
            "23/23 [==============================] - 4s 160ms/step - loss: 0.3962 - sparse_categorical_accuracy: 0.8573 - val_loss: 0.7513 - val_sparse_categorical_accuracy: 0.7582\n",
            "Epoch 87/150\n",
            "23/23 [==============================] - 4s 161ms/step - loss: 0.3854 - sparse_categorical_accuracy: 0.8702 - val_loss: 0.7812 - val_sparse_categorical_accuracy: 0.7418\n",
            "Epoch 88/150\n",
            "23/23 [==============================] - 4s 161ms/step - loss: 0.3405 - sparse_categorical_accuracy: 0.8859 - val_loss: 0.7078 - val_sparse_categorical_accuracy: 0.7690\n",
            "Epoch 89/150\n",
            "23/23 [==============================] - 4s 161ms/step - loss: 0.3442 - sparse_categorical_accuracy: 0.8770 - val_loss: 0.7636 - val_sparse_categorical_accuracy: 0.7527\n",
            "Epoch 90/150\n",
            "23/23 [==============================] - 4s 161ms/step - loss: 0.3447 - sparse_categorical_accuracy: 0.8838 - val_loss: 0.8855 - val_sparse_categorical_accuracy: 0.6929\n",
            "Epoch 91/150\n",
            "23/23 [==============================] - 4s 161ms/step - loss: 0.3506 - sparse_categorical_accuracy: 0.8804 - val_loss: 0.7730 - val_sparse_categorical_accuracy: 0.7527\n",
            "Epoch 92/150\n",
            "23/23 [==============================] - 4s 164ms/step - loss: 0.3331 - sparse_categorical_accuracy: 0.8940 - val_loss: 0.7147 - val_sparse_categorical_accuracy: 0.7500\n",
            "Epoch 93/150\n",
            "23/23 [==============================] - 4s 161ms/step - loss: 0.2841 - sparse_categorical_accuracy: 0.9083 - val_loss: 0.8141 - val_sparse_categorical_accuracy: 0.7201\n",
            "Epoch 94/150\n",
            "23/23 [==============================] - 4s 162ms/step - loss: 0.3400 - sparse_categorical_accuracy: 0.8872 - val_loss: 0.8308 - val_sparse_categorical_accuracy: 0.7310\n",
            "Epoch 95/150\n",
            "23/23 [==============================] - 4s 162ms/step - loss: 0.3338 - sparse_categorical_accuracy: 0.8865 - val_loss: 0.7579 - val_sparse_categorical_accuracy: 0.7527\n",
            "Epoch 96/150\n",
            "23/23 [==============================] - 4s 160ms/step - loss: 0.3009 - sparse_categorical_accuracy: 0.8974 - val_loss: 0.8500 - val_sparse_categorical_accuracy: 0.7201\n",
            "Epoch 97/150\n",
            "23/23 [==============================] - 4s 162ms/step - loss: 0.3292 - sparse_categorical_accuracy: 0.8899 - val_loss: 0.8702 - val_sparse_categorical_accuracy: 0.7228\n",
            "Epoch 98/150\n",
            "23/23 [==============================] - 4s 160ms/step - loss: 0.3035 - sparse_categorical_accuracy: 0.8967 - val_loss: 0.9097 - val_sparse_categorical_accuracy: 0.7228\n",
            "Epoch 99/150\n",
            "23/23 [==============================] - 4s 162ms/step - loss: 0.2940 - sparse_categorical_accuracy: 0.8995 - val_loss: 0.7422 - val_sparse_categorical_accuracy: 0.7527\n",
            "Epoch 100/150\n",
            "23/23 [==============================] - 4s 162ms/step - loss: 0.2799 - sparse_categorical_accuracy: 0.9110 - val_loss: 0.7312 - val_sparse_categorical_accuracy: 0.7663\n",
            "Epoch 101/150\n",
            "23/23 [==============================] - 4s 162ms/step - loss: 0.2736 - sparse_categorical_accuracy: 0.9096 - val_loss: 0.7346 - val_sparse_categorical_accuracy: 0.7500\n",
            "Epoch 102/150\n",
            "23/23 [==============================] - 4s 161ms/step - loss: 0.2585 - sparse_categorical_accuracy: 0.9164 - val_loss: 0.6826 - val_sparse_categorical_accuracy: 0.7717\n",
            "Epoch 103/150\n",
            "23/23 [==============================] - 4s 160ms/step - loss: 0.2945 - sparse_categorical_accuracy: 0.8995 - val_loss: 0.7706 - val_sparse_categorical_accuracy: 0.7663\n",
            "Epoch 104/150\n",
            "23/23 [==============================] - 4s 162ms/step - loss: 0.2639 - sparse_categorical_accuracy: 0.9185 - val_loss: 0.7365 - val_sparse_categorical_accuracy: 0.7609\n",
            "Epoch 105/150\n",
            "23/23 [==============================] - 4s 161ms/step - loss: 0.2738 - sparse_categorical_accuracy: 0.9029 - val_loss: 0.8030 - val_sparse_categorical_accuracy: 0.7391\n",
            "Epoch 106/150\n",
            "23/23 [==============================] - 4s 163ms/step - loss: 0.2530 - sparse_categorical_accuracy: 0.9124 - val_loss: 0.7777 - val_sparse_categorical_accuracy: 0.7554\n",
            "Epoch 107/150\n",
            "23/23 [==============================] - 4s 162ms/step - loss: 0.2683 - sparse_categorical_accuracy: 0.9212 - val_loss: 0.7465 - val_sparse_categorical_accuracy: 0.7636\n",
            "Epoch 108/150\n",
            "23/23 [==============================] - 4s 160ms/step - loss: 0.2595 - sparse_categorical_accuracy: 0.9110 - val_loss: 0.7249 - val_sparse_categorical_accuracy: 0.7473\n",
            "Epoch 109/150\n",
            "23/23 [==============================] - 4s 161ms/step - loss: 0.2352 - sparse_categorical_accuracy: 0.9280 - val_loss: 0.7852 - val_sparse_categorical_accuracy: 0.7418\n",
            "Epoch 110/150\n",
            "23/23 [==============================] - 4s 162ms/step - loss: 0.2414 - sparse_categorical_accuracy: 0.9192 - val_loss: 0.7925 - val_sparse_categorical_accuracy: 0.7446\n",
            "Epoch 111/150\n",
            "23/23 [==============================] - 4s 161ms/step - loss: 0.2609 - sparse_categorical_accuracy: 0.9103 - val_loss: 0.8687 - val_sparse_categorical_accuracy: 0.7418\n",
            "Epoch 112/150\n",
            "23/23 [==============================] - 4s 163ms/step - loss: 0.2401 - sparse_categorical_accuracy: 0.9246 - val_loss: 0.7902 - val_sparse_categorical_accuracy: 0.7554\n",
            "Epoch 113/150\n",
            "23/23 [==============================] - 4s 162ms/step - loss: 0.2501 - sparse_categorical_accuracy: 0.9185 - val_loss: 0.8765 - val_sparse_categorical_accuracy: 0.7283\n",
            "Epoch 114/150\n",
            "23/23 [==============================] - 4s 162ms/step - loss: 0.2598 - sparse_categorical_accuracy: 0.9164 - val_loss: 0.7475 - val_sparse_categorical_accuracy: 0.7554\n",
            "Epoch 115/150\n",
            "23/23 [==============================] - 4s 161ms/step - loss: 0.2339 - sparse_categorical_accuracy: 0.9232 - val_loss: 0.7366 - val_sparse_categorical_accuracy: 0.7582\n",
            "Epoch 116/150\n",
            "23/23 [==============================] - 4s 161ms/step - loss: 0.2170 - sparse_categorical_accuracy: 0.9327 - val_loss: 0.7772 - val_sparse_categorical_accuracy: 0.7690\n",
            "Epoch 117/150\n",
            "23/23 [==============================] - 4s 160ms/step - loss: 0.2267 - sparse_categorical_accuracy: 0.9239 - val_loss: 0.8847 - val_sparse_categorical_accuracy: 0.7201\n",
            "Epoch 118/150\n",
            "23/23 [==============================] - 4s 162ms/step - loss: 0.2332 - sparse_categorical_accuracy: 0.9219 - val_loss: 0.8672 - val_sparse_categorical_accuracy: 0.7283\n",
            "Epoch 119/150\n",
            "23/23 [==============================] - 4s 161ms/step - loss: 0.2780 - sparse_categorical_accuracy: 0.9151 - val_loss: 0.7565 - val_sparse_categorical_accuracy: 0.7418\n",
            "Epoch 120/150\n",
            "23/23 [==============================] - 4s 161ms/step - loss: 0.2189 - sparse_categorical_accuracy: 0.9307 - val_loss: 0.8818 - val_sparse_categorical_accuracy: 0.7065\n",
            "Epoch 121/150\n",
            "23/23 [==============================] - 4s 162ms/step - loss: 0.2214 - sparse_categorical_accuracy: 0.9253 - val_loss: 0.7948 - val_sparse_categorical_accuracy: 0.7337\n",
            "Epoch 122/150\n",
            "23/23 [==============================] - 4s 162ms/step - loss: 0.2084 - sparse_categorical_accuracy: 0.9314 - val_loss: 0.7555 - val_sparse_categorical_accuracy: 0.7609\n",
            "Epoch 123/150\n",
            "23/23 [==============================] - 4s 162ms/step - loss: 0.2092 - sparse_categorical_accuracy: 0.9280 - val_loss: 0.7482 - val_sparse_categorical_accuracy: 0.7527\n",
            "Epoch 124/150\n",
            "23/23 [==============================] - 4s 162ms/step - loss: 0.1815 - sparse_categorical_accuracy: 0.9389 - val_loss: 0.8060 - val_sparse_categorical_accuracy: 0.7500\n",
            "Epoch 125/150\n",
            "23/23 [==============================] - 4s 162ms/step - loss: 0.1892 - sparse_categorical_accuracy: 0.9416 - val_loss: 0.8005 - val_sparse_categorical_accuracy: 0.7636\n",
            "Epoch 126/150\n",
            "23/23 [==============================] - 4s 161ms/step - loss: 0.2154 - sparse_categorical_accuracy: 0.9321 - val_loss: 0.7551 - val_sparse_categorical_accuracy: 0.7799\n",
            "Epoch 127/150\n",
            "23/23 [==============================] - 4s 162ms/step - loss: 0.2121 - sparse_categorical_accuracy: 0.9307 - val_loss: 0.6799 - val_sparse_categorical_accuracy: 0.7826\n",
            "Epoch 128/150\n",
            "23/23 [==============================] - 4s 161ms/step - loss: 0.1768 - sparse_categorical_accuracy: 0.9484 - val_loss: 0.7455 - val_sparse_categorical_accuracy: 0.7554\n",
            "Epoch 129/150\n",
            "23/23 [==============================] - 4s 164ms/step - loss: 0.1767 - sparse_categorical_accuracy: 0.9389 - val_loss: 0.9013 - val_sparse_categorical_accuracy: 0.7201\n",
            "Epoch 130/150\n",
            "23/23 [==============================] - 4s 162ms/step - loss: 0.1839 - sparse_categorical_accuracy: 0.9423 - val_loss: 0.7383 - val_sparse_categorical_accuracy: 0.7554\n",
            "Epoch 131/150\n",
            "23/23 [==============================] - 4s 161ms/step - loss: 0.1564 - sparse_categorical_accuracy: 0.9565 - val_loss: 0.8593 - val_sparse_categorical_accuracy: 0.7337\n",
            "Epoch 132/150\n",
            "23/23 [==============================] - 4s 163ms/step - loss: 0.2026 - sparse_categorical_accuracy: 0.9355 - val_loss: 0.8882 - val_sparse_categorical_accuracy: 0.7364\n",
            "Epoch 133/150\n",
            "23/23 [==============================] - 4s 162ms/step - loss: 0.1829 - sparse_categorical_accuracy: 0.9416 - val_loss: 0.7106 - val_sparse_categorical_accuracy: 0.7772\n",
            "Epoch 134/150\n",
            "23/23 [==============================] - 4s 160ms/step - loss: 0.1703 - sparse_categorical_accuracy: 0.9484 - val_loss: 0.8172 - val_sparse_categorical_accuracy: 0.7554\n",
            "Epoch 135/150\n",
            "23/23 [==============================] - 4s 161ms/step - loss: 0.1844 - sparse_categorical_accuracy: 0.9375 - val_loss: 0.8403 - val_sparse_categorical_accuracy: 0.7473\n",
            "Epoch 136/150\n",
            "23/23 [==============================] - 4s 160ms/step - loss: 0.1880 - sparse_categorical_accuracy: 0.9395 - val_loss: 0.7763 - val_sparse_categorical_accuracy: 0.7717\n",
            "Epoch 137/150\n",
            "23/23 [==============================] - 4s 161ms/step - loss: 0.1928 - sparse_categorical_accuracy: 0.9382 - val_loss: 0.7626 - val_sparse_categorical_accuracy: 0.7609\n",
            "Epoch 138/150\n",
            "23/23 [==============================] - 4s 160ms/step - loss: 0.1787 - sparse_categorical_accuracy: 0.9436 - val_loss: 0.7533 - val_sparse_categorical_accuracy: 0.7636\n",
            "Epoch 139/150\n",
            "23/23 [==============================] - 4s 160ms/step - loss: 0.1641 - sparse_categorical_accuracy: 0.9463 - val_loss: 0.8563 - val_sparse_categorical_accuracy: 0.7310\n",
            "Epoch 140/150\n",
            "23/23 [==============================] - 4s 160ms/step - loss: 0.1529 - sparse_categorical_accuracy: 0.9524 - val_loss: 0.7961 - val_sparse_categorical_accuracy: 0.7609\n",
            "Epoch 141/150\n",
            "23/23 [==============================] - 4s 161ms/step - loss: 0.1439 - sparse_categorical_accuracy: 0.9538 - val_loss: 0.7712 - val_sparse_categorical_accuracy: 0.7690\n",
            "Epoch 142/150\n",
            "23/23 [==============================] - 4s 161ms/step - loss: 0.1670 - sparse_categorical_accuracy: 0.9531 - val_loss: 0.8439 - val_sparse_categorical_accuracy: 0.7337\n",
            "Epoch 143/150\n",
            "23/23 [==============================] - 4s 161ms/step - loss: 0.1497 - sparse_categorical_accuracy: 0.9524 - val_loss: 0.8412 - val_sparse_categorical_accuracy: 0.7418\n",
            "Epoch 144/150\n",
            "23/23 [==============================] - 4s 160ms/step - loss: 0.1506 - sparse_categorical_accuracy: 0.9504 - val_loss: 0.7891 - val_sparse_categorical_accuracy: 0.7364\n",
            "Epoch 145/150\n",
            "23/23 [==============================] - 4s 161ms/step - loss: 0.1622 - sparse_categorical_accuracy: 0.9477 - val_loss: 0.7415 - val_sparse_categorical_accuracy: 0.7582\n",
            "Epoch 146/150\n",
            "23/23 [==============================] - 4s 162ms/step - loss: 0.1415 - sparse_categorical_accuracy: 0.9579 - val_loss: 0.8116 - val_sparse_categorical_accuracy: 0.7582\n",
            "Epoch 147/150\n",
            "23/23 [==============================] - 4s 161ms/step - loss: 0.1558 - sparse_categorical_accuracy: 0.9484 - val_loss: 0.8826 - val_sparse_categorical_accuracy: 0.7283\n",
            "Epoch 148/150\n",
            "23/23 [==============================] - 4s 163ms/step - loss: 0.1668 - sparse_categorical_accuracy: 0.9402 - val_loss: 0.8522 - val_sparse_categorical_accuracy: 0.7364\n",
            "Epoch 149/150\n",
            "23/23 [==============================] - 4s 161ms/step - loss: 0.1546 - sparse_categorical_accuracy: 0.9531 - val_loss: 0.8903 - val_sparse_categorical_accuracy: 0.7364\n",
            "Epoch 150/150\n",
            "23/23 [==============================] - 4s 162ms/step - loss: 0.1377 - sparse_categorical_accuracy: 0.9538 - val_loss: 0.8102 - val_sparse_categorical_accuracy: 0.7446\n"
          ],
          "name": "stdout"
        }
      ]
    },
    {
      "cell_type": "markdown",
      "metadata": {
        "id": "IAoj-WjROyUI"
      },
      "source": [
        "**Task:** Instead of plotting the training history, compute the best validation accuracy achieved during the entire training process"
      ]
    },
    {
      "cell_type": "code",
      "metadata": {
        "id": "ttjXh35Hp5j6",
        "outputId": "0ca99f81-8858-4d7e-8557-439011021c21",
        "colab": {
          "base_uri": "https://localhost:8080/",
          "height": 73
        }
      },
      "source": [
        "valAcc = training_log.history[\"val_sparse_categorical_accuracy\"]\n",
        "#tf.math.maximum(training_log.history[\"val_sparse_categorical_accuracy\"])\n",
        "print(type(valAcc))\n",
        "import numpy as np\n",
        "valAccSeries = np.array(valAcc)\n",
        "maxValAcc = np.max(valAcc)\n",
        "maxValAccIdx = np.argmax(valAcc)\n",
        "training_log.history[\"val_sparse_categorical_accuracy\"]\n",
        "print(maxValAcc)\n",
        "print(maxValAccIdx)"
      ],
      "execution_count": null,
      "outputs": [
        {
          "output_type": "stream",
          "text": [
            "<class 'list'>\n",
            "0.782608687877655\n",
            "126\n"
          ],
          "name": "stdout"
        }
      ]
    },
    {
      "cell_type": "code",
      "metadata": {
        "id": "xIt6mEA-NnIY",
        "outputId": "4f2de47d-73ea-4839-f74a-ff0997fe420f",
        "colab": {
          "base_uri": "https://localhost:8080/",
          "height": 592
        }
      },
      "source": [
        "fig,axes = plt.subplots(2,1,figsize=(10,10))\n",
        "axes[0].plot(training_log.history[\"loss\"],label=\"Training loss\")\n",
        "axes[0].plot(training_log.history[\"val_loss\"],label=\"Validation loss\")\n",
        "axes[0].legend(loc=\"upper right\")\n",
        "axes[0].set_ylabel(\"Loss\")\n",
        "axes[1].plot(training_log.history[\"sparse_categorical_accuracy\"],label=\"Training accuracy\")\n",
        "axes[1].plot(training_log.history[\"val_sparse_categorical_accuracy\"],label=\"Validation accuracy\")\n",
        "axes[1].legend(loc=\"upper right\")\n",
        "axes[1].set_ylabel(\"Accuracy\")\n",
        "fig.show()"
      ],
      "execution_count": null,
      "outputs": [
        {
          "output_type": "display_data",
          "data": {
            "image/png": "[encoded data removed]",
            "text/plain": [
              "<Figure size 720x720 with 2 Axes>"
            ]
          },
          "metadata": {
            "tags": [],
            "needs_background": "light"
          }
        }
      ]
    },
    {
      "cell_type": "markdown",
      "metadata": {
        "id": "eECMpKvLO4LJ"
      },
      "source": [
        "## Step 5: Evaluate the model"
      ]
    },
    {
      "cell_type": "code",
      "metadata": {
        "id": "VP1f7owVNohQ",
        "outputId": "edfab28b-a8e6-462e-fdb9-a16c501058cf",
        "colab": {
          "base_uri": "https://localhost:8080/",
          "height": 36
        }
      },
      "source": [
        "finalEval = model.evaluate(test_dataset)"
      ],
      "execution_count": null,
      "outputs": [
        {
          "output_type": "stream",
          "text": [
            "5/5 [==============================] - 1s 173ms/step - loss: 1.0573 - sparse_categorical_accuracy: 0.7375\n"
          ],
          "name": "stdout"
        }
      ]
    },
    {
      "cell_type": "code",
      "metadata": {
        "id": "XUvhOtEHq7Ni",
        "outputId": "40902b7a-5df7-4c78-acc1-89fb9c7c14c5",
        "colab": {
          "base_uri": "https://localhost:8080/",
          "height": 36
        }
      },
      "source": [
        "print(\"the max validation accuracy is %f at epoch %d. The final accuracy is %f\"\n",
        "  %(maxValAcc,maxValAccIdx,finalEval[1]))"
      ],
      "execution_count": null,
      "outputs": [
        {
          "output_type": "stream",
          "text": [
            "the max validation accuracy is 0.782609 at epoch 126. The final accuracy is 0.737500\n"
          ],
          "name": "stdout"
        }
      ]
    }
  ]
}