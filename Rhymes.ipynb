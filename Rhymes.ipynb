{
  "nbformat": 4,
  "nbformat_minor": 0,
  "metadata": {
    "colab": {
      "name": "Rhymes.ipynb",
      "provenance": [],
      "authorship_tag": "ABX9TyOXF9VO7nuOWfbXGMjARRlz",
      "include_colab_link": true
    },
    "kernelspec": {
      "name": "python3",
      "display_name": "Python 3"
    }
  },
  "cells": [
    {
      "cell_type": "markdown",
      "metadata": {
        "id": "view-in-github",
        "colab_type": "text"
      },
      "source": [
        "<a href=\"https://colab.research.google.com/github/Mahnazshamissa/Python/blob/main/Rhymes.ipynb\" target=\"_parent\"><img src=\"https://colab.research.google.com/assets/colab-badge.svg\" alt=\"Open In Colab\"/></a>"
      ]
    },
    {
      "cell_type": "code",
      "metadata": {
        "id": "t7PWqkFVuY8q",
        "outputId": "eae1990e-2305-4c8c-b0b3-61e81a0f4445",
        "colab": {
          "base_uri": "https://localhost:8080/",
          "height": 51
        }
      },
      "source": [
        "!pip install pronouncing\n",
        "\n",
        "df = pd.read_csv('https://raw.githubusercontent.com/estambolieva/asigmo_python/master/data/poem_line_data.csv')"
      ],
      "execution_count": 13,
      "outputs": [
        {
          "output_type": "stream",
          "text": [
            "Requirement already satisfied: pronouncing in /usr/local/lib/python3.6/dist-packages (0.2.0)\n",
            "Requirement already satisfied: cmudict>=0.4.0 in /usr/local/lib/python3.6/dist-packages (from pronouncing) (0.4.5)\n"
          ],
          "name": "stdout"
        }
      ]
    },
    {
      "cell_type": "code",
      "metadata": {
        "id": "Hg6axTvhzoDq"
      },
      "source": [
        "import pandas as pd\n",
        "import numpy as np\n",
        "import pronouncing # we use this library to get rhymes"
      ],
      "execution_count": 20,
      "outputs": []
    },
    {
      "cell_type": "code",
      "metadata": {
        "id": "udEAz_nWwBxE",
        "outputId": "3457a741-af43-4807-ceaa-a70480da4058",
        "colab": {
          "base_uri": "https://localhost:8080/",
          "height": 204
        }
      },
      "source": [
        "df.head()"
      ],
      "execution_count": 21,
      "outputs": [
        {
          "output_type": "execute_result",
          "data": {
            "text/html": [
              "<div>\n",
              "<style scoped>\n",
              "    .dataframe tbody tr th:only-of-type {\n",
              "        vertical-align: middle;\n",
              "    }\n",
              "\n",
              "    .dataframe tbody tr th {\n",
              "        vertical-align: top;\n",
              "    }\n",
              "\n",
              "    .dataframe thead th {\n",
              "        text-align: right;\n",
              "    }\n",
              "</style>\n",
              "<table border=\"1\" class=\"dataframe\">\n",
              "  <thead>\n",
              "    <tr style=\"text-align: right;\">\n",
              "      <th></th>\n",
              "      <th>Unnamed: 0</th>\n",
              "      <th>Title</th>\n",
              "      <th>Poet</th>\n",
              "      <th>Lines</th>\n",
              "      <th>Last_Word</th>\n",
              "      <th>Rhymes</th>\n",
              "      <th>rhymes</th>\n",
              "    </tr>\n",
              "  </thead>\n",
              "  <tbody>\n",
              "    <tr>\n",
              "      <th>0</th>\n",
              "      <td>0</td>\n",
              "      <td>Song of Myself (1892 version)</td>\n",
              "      <td>Walt Whitman</td>\n",
              "      <td>1</td>\n",
              "      <td>1</td>\n",
              "      <td>NaN</td>\n",
              "      <td>NaN</td>\n",
              "    </tr>\n",
              "    <tr>\n",
              "      <th>1</th>\n",
              "      <td>1</td>\n",
              "      <td>Song of Myself (1892 version)</td>\n",
              "      <td>Walt Whitman</td>\n",
              "      <td>I celebrate myself, and sing myself,</td>\n",
              "      <td>myself</td>\n",
              "      <td>NaN</td>\n",
              "      <td>NaN</td>\n",
              "    </tr>\n",
              "    <tr>\n",
              "      <th>2</th>\n",
              "      <td>2</td>\n",
              "      <td>Song of Myself (1892 version)</td>\n",
              "      <td>Walt Whitman</td>\n",
              "      <td>And what I assume you shall assume,</td>\n",
              "      <td>assume</td>\n",
              "      <td>NaN</td>\n",
              "      <td>NaN</td>\n",
              "    </tr>\n",
              "    <tr>\n",
              "      <th>3</th>\n",
              "      <td>3</td>\n",
              "      <td>Song of Myself (1892 version)</td>\n",
              "      <td>Walt Whitman</td>\n",
              "      <td>For every atom belonging to me as good belongs...</td>\n",
              "      <td>you</td>\n",
              "      <td>NaN</td>\n",
              "      <td>NaN</td>\n",
              "    </tr>\n",
              "    <tr>\n",
              "      <th>4</th>\n",
              "      <td>4</td>\n",
              "      <td>Song of Myself (1892 version)</td>\n",
              "      <td>Walt Whitman</td>\n",
              "      <td>I loafe and invite my soul,</td>\n",
              "      <td>soul</td>\n",
              "      <td>NaN</td>\n",
              "      <td>NaN</td>\n",
              "    </tr>\n",
              "  </tbody>\n",
              "</table>\n",
              "</div>"
            ],
            "text/plain": [
              "   Unnamed: 0                          Title  ... Rhymes rhymes\n",
              "0           0  Song of Myself (1892 version)  ...    NaN    NaN\n",
              "1           1  Song of Myself (1892 version)  ...    NaN    NaN\n",
              "2           2  Song of Myself (1892 version)  ...    NaN    NaN\n",
              "3           3  Song of Myself (1892 version)  ...    NaN    NaN\n",
              "4           4  Song of Myself (1892 version)  ...    NaN    NaN\n",
              "\n",
              "[5 rows x 7 columns]"
            ]
          },
          "metadata": {
            "tags": []
          },
          "execution_count": 21
        }
      ]
    },
    {
      "cell_type": "code",
      "metadata": {
        "id": "YyUxcSDTu3lo"
      },
      "source": [
        "df['Rhymes'] = np.array([np.nan]* df.shape[0])"
      ],
      "execution_count": 22,
      "outputs": []
    },
    {
      "cell_type": "code",
      "metadata": {
        "id": "hcfPiBXavRfv",
        "outputId": "4b31b93d-43a5-41cb-b93d-3d3f676330fd",
        "colab": {
          "base_uri": "https://localhost:8080/",
          "height": 408
        }
      },
      "source": [
        "word = 'myself'\n",
        "word_rhymes = pronouncing.rhymes(word)\n",
        "word_rhymes.append(word)\n",
        "word_rhymes"
      ],
      "execution_count": 23,
      "outputs": [
        {
          "output_type": "execute_result",
          "data": {
            "text/plain": [
              "['chelf',\n",
              " 'delph',\n",
              " 'elf',\n",
              " 'helf',\n",
              " 'herself',\n",
              " 'himself',\n",
              " 'hisself',\n",
              " 'itself',\n",
              " 'oneself',\n",
              " 'ourself',\n",
              " 'ourself',\n",
              " 'relf',\n",
              " 'relph',\n",
              " 'self',\n",
              " 'selph',\n",
              " 'shelf',\n",
              " 'theirself',\n",
              " 'themself',\n",
              " 'themself',\n",
              " 'thyself',\n",
              " 'yourself',\n",
              " 'yourself',\n",
              " 'myself']"
            ]
          },
          "metadata": {
            "tags": []
          },
          "execution_count": 23
        }
      ]
    },
    {
      "cell_type": "code",
      "metadata": {
        "id": "EU-tfAGlwc5Z",
        "outputId": "4bc1fde3-bb2a-4172-f0ff-76646c439ff1",
        "colab": {
          "base_uri": "https://localhost:8080/",
          "height": 221
        }
      },
      "source": [
        "df.Last_Word.isin(word_rhymes)"
      ],
      "execution_count": 24,
      "outputs": [
        {
          "output_type": "execute_result",
          "data": {
            "text/plain": [
              "0        False\n",
              "1         True\n",
              "2        False\n",
              "3        False\n",
              "4        False\n",
              "         ...  \n",
              "40422    False\n",
              "40423    False\n",
              "40424    False\n",
              "40425    False\n",
              "40426    False\n",
              "Name: Last_Word, Length: 40427, dtype: bool"
            ]
          },
          "metadata": {
            "tags": []
          },
          "execution_count": 24
        }
      ]
    },
    {
      "cell_type": "code",
      "metadata": {
        "id": "vbdaDAvuwnH2"
      },
      "source": [
        "df.Rhymes[df.Last_Word.isin(word_rhymes)] = 0"
      ],
      "execution_count": null,
      "outputs": []
    },
    {
      "cell_type": "markdown",
      "metadata": {
        "id": "swsHLels5ce6"
      },
      "source": [
        "\n",
        "**Now we work with the resut of the data which has np.NaN as a value in Rhymes**\n"
      ]
    },
    {
      "cell_type": "code",
      "metadata": {
        "id": "KLizI4gY5gMc",
        "outputId": "4c25232a-9117-42a2-c9ce-83f68d3cb76f",
        "colab": {
          "base_uri": "https://localhost:8080/",
          "height": 521
        }
      },
      "source": [
        " # the first word from Last_Word in the rest of this data, and repeat what we did for myself\n",
        "df[df.Rhymes.isnull()]"
      ],
      "execution_count": 28,
      "outputs": [
        {
          "output_type": "execute_result",
          "data": {
            "text/html": [
              "<div>\n",
              "<style scoped>\n",
              "    .dataframe tbody tr th:only-of-type {\n",
              "        vertical-align: middle;\n",
              "    }\n",
              "\n",
              "    .dataframe tbody tr th {\n",
              "        vertical-align: top;\n",
              "    }\n",
              "\n",
              "    .dataframe thead th {\n",
              "        text-align: right;\n",
              "    }\n",
              "</style>\n",
              "<table border=\"1\" class=\"dataframe\">\n",
              "  <thead>\n",
              "    <tr style=\"text-align: right;\">\n",
              "      <th></th>\n",
              "      <th>Unnamed: 0</th>\n",
              "      <th>Title</th>\n",
              "      <th>Poet</th>\n",
              "      <th>Lines</th>\n",
              "      <th>Last_Word</th>\n",
              "      <th>Rhymes</th>\n",
              "      <th>rhymes</th>\n",
              "    </tr>\n",
              "  </thead>\n",
              "  <tbody>\n",
              "    <tr>\n",
              "      <th>0</th>\n",
              "      <td>0</td>\n",
              "      <td>Song of Myself (1892 version)</td>\n",
              "      <td>Walt Whitman</td>\n",
              "      <td>1</td>\n",
              "      <td>1</td>\n",
              "      <td>NaN</td>\n",
              "      <td>NaN</td>\n",
              "    </tr>\n",
              "    <tr>\n",
              "      <th>2</th>\n",
              "      <td>2</td>\n",
              "      <td>Song of Myself (1892 version)</td>\n",
              "      <td>Walt Whitman</td>\n",
              "      <td>And what I assume you shall assume,</td>\n",
              "      <td>assume</td>\n",
              "      <td>NaN</td>\n",
              "      <td>NaN</td>\n",
              "    </tr>\n",
              "    <tr>\n",
              "      <th>3</th>\n",
              "      <td>3</td>\n",
              "      <td>Song of Myself (1892 version)</td>\n",
              "      <td>Walt Whitman</td>\n",
              "      <td>For every atom belonging to me as good belongs...</td>\n",
              "      <td>you</td>\n",
              "      <td>NaN</td>\n",
              "      <td>NaN</td>\n",
              "    </tr>\n",
              "    <tr>\n",
              "      <th>4</th>\n",
              "      <td>4</td>\n",
              "      <td>Song of Myself (1892 version)</td>\n",
              "      <td>Walt Whitman</td>\n",
              "      <td>I loafe and invite my soul,</td>\n",
              "      <td>soul</td>\n",
              "      <td>NaN</td>\n",
              "      <td>NaN</td>\n",
              "    </tr>\n",
              "    <tr>\n",
              "      <th>5</th>\n",
              "      <td>5</td>\n",
              "      <td>Song of Myself (1892 version)</td>\n",
              "      <td>Walt Whitman</td>\n",
              "      <td>I lean and loafe at my ease observing a spear ...</td>\n",
              "      <td>grass</td>\n",
              "      <td>NaN</td>\n",
              "      <td>NaN</td>\n",
              "    </tr>\n",
              "    <tr>\n",
              "      <th>...</th>\n",
              "      <td>...</td>\n",
              "      <td>...</td>\n",
              "      <td>...</td>\n",
              "      <td>...</td>\n",
              "      <td>...</td>\n",
              "      <td>...</td>\n",
              "      <td>...</td>\n",
              "    </tr>\n",
              "    <tr>\n",
              "      <th>40422</th>\n",
              "      <td>46779</td>\n",
              "      <td>Ordinary Time</td>\n",
              "      <td>Tim Dlugos</td>\n",
              "      <td>other place, the undescribed</td>\n",
              "      <td>undescribed</td>\n",
              "      <td>NaN</td>\n",
              "      <td>NaN</td>\n",
              "    </tr>\n",
              "    <tr>\n",
              "      <th>40423</th>\n",
              "      <td>46781</td>\n",
              "      <td>Ordinary Time</td>\n",
              "      <td>Tim Dlugos</td>\n",
              "      <td>and indescribable, more various</td>\n",
              "      <td>various</td>\n",
              "      <td>NaN</td>\n",
              "      <td>NaN</td>\n",
              "    </tr>\n",
              "    <tr>\n",
              "      <th>40424</th>\n",
              "      <td>46783</td>\n",
              "      <td>Ordinary Time</td>\n",
              "      <td>Tim Dlugos</td>\n",
              "      <td>and cacophonous than voice</td>\n",
              "      <td>voice</td>\n",
              "      <td>NaN</td>\n",
              "      <td>NaN</td>\n",
              "    </tr>\n",
              "    <tr>\n",
              "      <th>40425</th>\n",
              "      <td>46785</td>\n",
              "      <td>Ordinary Time</td>\n",
              "      <td>Tim Dlugos</td>\n",
              "      <td>can tell or mind conceive,</td>\n",
              "      <td>conceive</td>\n",
              "      <td>NaN</td>\n",
              "      <td>NaN</td>\n",
              "    </tr>\n",
              "    <tr>\n",
              "      <th>40426</th>\n",
              "      <td>46787</td>\n",
              "      <td>Ordinary Time</td>\n",
              "      <td>Tim Dlugos</td>\n",
              "      <td>and for the sky’s vast depths</td>\n",
              "      <td>depths</td>\n",
              "      <td>NaN</td>\n",
              "      <td>NaN</td>\n",
              "    </tr>\n",
              "  </tbody>\n",
              "</table>\n",
              "<p>40248 rows × 7 columns</p>\n",
              "</div>"
            ],
            "text/plain": [
              "       Unnamed: 0                          Title  ... Rhymes rhymes\n",
              "0               0  Song of Myself (1892 version)  ...    NaN    NaN\n",
              "2               2  Song of Myself (1892 version)  ...    NaN    NaN\n",
              "3               3  Song of Myself (1892 version)  ...    NaN    NaN\n",
              "4               4  Song of Myself (1892 version)  ...    NaN    NaN\n",
              "5               5  Song of Myself (1892 version)  ...    NaN    NaN\n",
              "...           ...                            ...  ...    ...    ...\n",
              "40422       46779                  Ordinary Time  ...    NaN    NaN\n",
              "40423       46781                  Ordinary Time  ...    NaN    NaN\n",
              "40424       46783                  Ordinary Time  ...    NaN    NaN\n",
              "40425       46785                  Ordinary Time  ...    NaN    NaN\n",
              "40426       46787                  Ordinary Time  ...    NaN    NaN\n",
              "\n",
              "[40248 rows x 7 columns]"
            ]
          },
          "metadata": {
            "tags": []
          },
          "execution_count": 28
        }
      ]
    },
    {
      "cell_type": "code",
      "metadata": {
        "id": "VvMlDFQP52F6"
      },
      "source": [
        "number_of_words_left = df[df.Rhymes.isnull()].shape[0]\n",
        "category = 1\n",
        " \n",
        "while number_of_words_left > 0:\n",
        " current_word = df.Last_Word[df.Rhymes.isnull()].iloc[0]\n",
        "\n",
        "# get rhymes \n",
        " word_rhymes = pronouncing.rhymes(str(current_word))\n",
        " word_rhymes.append(current_word)\n",
        "# finished getting rhymes\n",
        " \n",
        "# assign rhyme category to all words rhyning with the current word\n",
        " df.Rhymes[df.Last_Word.isin(word_rhymes)] = category\n",
        " \n",
        "# get a new category\n",
        " category += 1\n",
        "\n",
        "# see how many more words we have left\n",
        " number_of_words_left = df[df.Rhymes.isnull()].shape[0]\n",
        "print(number_of_words_left)"
      ],
      "execution_count": null,
      "outputs": []
    }
  ]
}