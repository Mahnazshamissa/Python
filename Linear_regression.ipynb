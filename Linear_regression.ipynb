{
  "nbformat": 4,
  "nbformat_minor": 0,
  "metadata": {
    "colab": {
      "name": "Linear_regression.ipynb",
      "provenance": [],
      "authorship_tag": "ABX9TyMTKRpF5z96pq1Vq3TZIgKY",
      "include_colab_link": true
    },
    "kernelspec": {
      "name": "python3",
      "display_name": "Python 3"
    }
  },
  "cells": [
    {
      "cell_type": "markdown",
      "metadata": {
        "id": "view-in-github",
        "colab_type": "text"
      },
      "source": [
        "<a href=\"https://colab.research.google.com/github/Mahnazshamissa/Python/blob/main/Linear_regression.ipynb\" target=\"_parent\"><img src=\"https://colab.research.google.com/assets/colab-badge.svg\" alt=\"Open In Colab\"/></a>"
      ]
    },
    {
      "cell_type": "code",
      "metadata": {
        "id": "u-UFZGAliDj6",
        "outputId": "8e53e7c0-a17c-4f58-afb8-33c5b4302f8d",
        "colab": {
          "base_uri": "https://localhost:8080/"
        }
      },
      "source": [
        "import pandas as pd\n",
        "import numpy as np\n",
        "import matplotlib.pyplot as plt\n",
        "from sklearn.preprocessing import StandardScaler, LabelEncoder, PowerTransformer\n",
        "from sklearn.model_selection import train_test_split\n",
        "from sklearn.metrics import mean_squared_error\n",
        "import statsmodels.api as sm\n",
        "import statsmodels.formula.api as smf\n",
        "!pip install statsmodel"
      ],
      "execution_count": 2,
      "outputs": [
        {
          "output_type": "stream",
          "text": [
            "/usr/local/lib/python3.6/dist-packages/statsmodels/tools/_testing.py:19: FutureWarning: pandas.util.testing is deprecated. Use the functions in the public API at pandas.testing instead.\n",
            "  import pandas.util.testing as tm\n"
          ],
          "name": "stderr"
        },
        {
          "output_type": "stream",
          "text": [
            "\u001b[31mERROR: Could not find a version that satisfies the requirement statsmodel (from versions: none)\u001b[0m\n",
            "\u001b[31mERROR: No matching distribution found for statsmodel\u001b[0m\n"
          ],
          "name": "stdout"
        }
      ]
    },
    {
      "cell_type": "code",
      "metadata": {
        "id": "ZDIYxqIAik7w"
      },
      "source": [
        "data = sm.datasets.get_rdataset(\"dietox\", \"geepack\").data"
      ],
      "execution_count": 3,
      "outputs": []
    },
    {
      "cell_type": "code",
      "metadata": {
        "id": "j5jcGo4cirPY",
        "outputId": "146ffd73-223c-4205-f240-82df3ec7b685",
        "colab": {
          "base_uri": "https://localhost:8080/",
          "height": 204
        }
      },
      "source": [
        "data.head()"
      ],
      "execution_count": 4,
      "outputs": [
        {
          "output_type": "execute_result",
          "data": {
            "text/html": [
              "<div>\n",
              "<style scoped>\n",
              "    .dataframe tbody tr th:only-of-type {\n",
              "        vertical-align: middle;\n",
              "    }\n",
              "\n",
              "    .dataframe tbody tr th {\n",
              "        vertical-align: top;\n",
              "    }\n",
              "\n",
              "    .dataframe thead th {\n",
              "        text-align: right;\n",
              "    }\n",
              "</style>\n",
              "<table border=\"1\" class=\"dataframe\">\n",
              "  <thead>\n",
              "    <tr style=\"text-align: right;\">\n",
              "      <th></th>\n",
              "      <th>Pig</th>\n",
              "      <th>Evit</th>\n",
              "      <th>Cu</th>\n",
              "      <th>Litter</th>\n",
              "      <th>Start</th>\n",
              "      <th>Weight</th>\n",
              "      <th>Feed</th>\n",
              "      <th>Time</th>\n",
              "    </tr>\n",
              "  </thead>\n",
              "  <tbody>\n",
              "    <tr>\n",
              "      <th>0</th>\n",
              "      <td>4601</td>\n",
              "      <td>Evit000</td>\n",
              "      <td>Cu000</td>\n",
              "      <td>1</td>\n",
              "      <td>26.5</td>\n",
              "      <td>26.50000</td>\n",
              "      <td>NaN</td>\n",
              "      <td>1</td>\n",
              "    </tr>\n",
              "    <tr>\n",
              "      <th>1</th>\n",
              "      <td>4601</td>\n",
              "      <td>Evit000</td>\n",
              "      <td>Cu000</td>\n",
              "      <td>1</td>\n",
              "      <td>26.5</td>\n",
              "      <td>27.59999</td>\n",
              "      <td>5.200005</td>\n",
              "      <td>2</td>\n",
              "    </tr>\n",
              "    <tr>\n",
              "      <th>2</th>\n",
              "      <td>4601</td>\n",
              "      <td>Evit000</td>\n",
              "      <td>Cu000</td>\n",
              "      <td>1</td>\n",
              "      <td>26.5</td>\n",
              "      <td>36.50000</td>\n",
              "      <td>17.600000</td>\n",
              "      <td>3</td>\n",
              "    </tr>\n",
              "    <tr>\n",
              "      <th>3</th>\n",
              "      <td>4601</td>\n",
              "      <td>Evit000</td>\n",
              "      <td>Cu000</td>\n",
              "      <td>1</td>\n",
              "      <td>26.5</td>\n",
              "      <td>40.29999</td>\n",
              "      <td>28.500000</td>\n",
              "      <td>4</td>\n",
              "    </tr>\n",
              "    <tr>\n",
              "      <th>4</th>\n",
              "      <td>4601</td>\n",
              "      <td>Evit000</td>\n",
              "      <td>Cu000</td>\n",
              "      <td>1</td>\n",
              "      <td>26.5</td>\n",
              "      <td>49.09998</td>\n",
              "      <td>45.200001</td>\n",
              "      <td>5</td>\n",
              "    </tr>\n",
              "  </tbody>\n",
              "</table>\n",
              "</div>"
            ],
            "text/plain": [
              "    Pig     Evit     Cu  Litter  Start    Weight       Feed  Time\n",
              "0  4601  Evit000  Cu000       1   26.5  26.50000        NaN     1\n",
              "1  4601  Evit000  Cu000       1   26.5  27.59999   5.200005     2\n",
              "2  4601  Evit000  Cu000       1   26.5  36.50000  17.600000     3\n",
              "3  4601  Evit000  Cu000       1   26.5  40.29999  28.500000     4\n",
              "4  4601  Evit000  Cu000       1   26.5  49.09998  45.200001     5"
            ]
          },
          "metadata": {
            "tags": []
          },
          "execution_count": 4
        }
      ]
    },
    {
      "cell_type": "markdown",
      "metadata": {
        "id": "WFLR-bTFiwFP"
      },
      "source": [
        "# **Linear Mixed Model**"
      ]
    },
    {
      "cell_type": "code",
      "metadata": {
        "id": "P2OYp7Lii00p"
      },
      "source": [
        "df_X = data[['Weight','Time','Pig']]"
      ],
      "execution_count": 5,
      "outputs": []
    },
    {
      "cell_type": "code",
      "metadata": {
        "id": "8gD0uUsii4V5"
      },
      "source": [
        "md = smf.mixedlm(\"Weight ~ Time\", df_X, groups=data[\"Pig\"])"
      ],
      "execution_count": 6,
      "outputs": []
    },
    {
      "cell_type": "code",
      "metadata": {
        "id": "XZowU5rLi7jI",
        "outputId": "7e7d8a63-0d18-4de0-8c05-547b5a4be6d8",
        "colab": {
          "base_uri": "https://localhost:8080/"
        }
      },
      "source": [
        "mdf = md.fit()\n",
        "print(mdf.summary())"
      ],
      "execution_count": 7,
      "outputs": [
        {
          "output_type": "stream",
          "text": [
            "         Mixed Linear Model Regression Results\n",
            "========================================================\n",
            "Model:            MixedLM Dependent Variable: Weight    \n",
            "No. Observations: 861     Method:             REML      \n",
            "No. Groups:       72      Scale:              11.3669   \n",
            "Min. group size:  11      Likelihood:         -2404.7753\n",
            "Max. group size:  12      Converged:          Yes       \n",
            "Mean group size:  12.0                                  \n",
            "--------------------------------------------------------\n",
            "             Coef.  Std.Err.    z    P>|z| [0.025 0.975]\n",
            "--------------------------------------------------------\n",
            "Intercept    15.724    0.788  19.952 0.000 14.179 17.268\n",
            "Time          6.943    0.033 207.939 0.000  6.877  7.008\n",
            "Group Var    40.394    2.149                            \n",
            "========================================================\n",
            "\n"
          ],
          "name": "stdout"
        }
      ]
    },
    {
      "cell_type": "code",
      "metadata": {
        "id": "7h-yivH6jBiJ",
        "outputId": "8577fcee-1160-4609-aa83-10902dc5bca1",
        "colab": {
          "base_uri": "https://localhost:8080/",
          "height": 419
        }
      },
      "source": [
        "df_X"
      ],
      "execution_count": 8,
      "outputs": [
        {
          "output_type": "execute_result",
          "data": {
            "text/html": [
              "<div>\n",
              "<style scoped>\n",
              "    .dataframe tbody tr th:only-of-type {\n",
              "        vertical-align: middle;\n",
              "    }\n",
              "\n",
              "    .dataframe tbody tr th {\n",
              "        vertical-align: top;\n",
              "    }\n",
              "\n",
              "    .dataframe thead th {\n",
              "        text-align: right;\n",
              "    }\n",
              "</style>\n",
              "<table border=\"1\" class=\"dataframe\">\n",
              "  <thead>\n",
              "    <tr style=\"text-align: right;\">\n",
              "      <th></th>\n",
              "      <th>Weight</th>\n",
              "      <th>Time</th>\n",
              "      <th>Pig</th>\n",
              "    </tr>\n",
              "  </thead>\n",
              "  <tbody>\n",
              "    <tr>\n",
              "      <th>0</th>\n",
              "      <td>26.50000</td>\n",
              "      <td>1</td>\n",
              "      <td>4601</td>\n",
              "    </tr>\n",
              "    <tr>\n",
              "      <th>1</th>\n",
              "      <td>27.59999</td>\n",
              "      <td>2</td>\n",
              "      <td>4601</td>\n",
              "    </tr>\n",
              "    <tr>\n",
              "      <th>2</th>\n",
              "      <td>36.50000</td>\n",
              "      <td>3</td>\n",
              "      <td>4601</td>\n",
              "    </tr>\n",
              "    <tr>\n",
              "      <th>3</th>\n",
              "      <td>40.29999</td>\n",
              "      <td>4</td>\n",
              "      <td>4601</td>\n",
              "    </tr>\n",
              "    <tr>\n",
              "      <th>4</th>\n",
              "      <td>49.09998</td>\n",
              "      <td>5</td>\n",
              "      <td>4601</td>\n",
              "    </tr>\n",
              "    <tr>\n",
              "      <th>...</th>\n",
              "      <td>...</td>\n",
              "      <td>...</td>\n",
              "      <td>...</td>\n",
              "    </tr>\n",
              "    <tr>\n",
              "      <th>856</th>\n",
              "      <td>73.19995</td>\n",
              "      <td>8</td>\n",
              "      <td>8442</td>\n",
              "    </tr>\n",
              "    <tr>\n",
              "      <th>857</th>\n",
              "      <td>81.69995</td>\n",
              "      <td>9</td>\n",
              "      <td>8442</td>\n",
              "    </tr>\n",
              "    <tr>\n",
              "      <th>858</th>\n",
              "      <td>90.29999</td>\n",
              "      <td>10</td>\n",
              "      <td>8442</td>\n",
              "    </tr>\n",
              "    <tr>\n",
              "      <th>859</th>\n",
              "      <td>96.00000</td>\n",
              "      <td>11</td>\n",
              "      <td>8442</td>\n",
              "    </tr>\n",
              "    <tr>\n",
              "      <th>860</th>\n",
              "      <td>103.50000</td>\n",
              "      <td>12</td>\n",
              "      <td>8442</td>\n",
              "    </tr>\n",
              "  </tbody>\n",
              "</table>\n",
              "<p>861 rows × 3 columns</p>\n",
              "</div>"
            ],
            "text/plain": [
              "        Weight  Time   Pig\n",
              "0     26.50000     1  4601\n",
              "1     27.59999     2  4601\n",
              "2     36.50000     3  4601\n",
              "3     40.29999     4  4601\n",
              "4     49.09998     5  4601\n",
              "..         ...   ...   ...\n",
              "856   73.19995     8  8442\n",
              "857   81.69995     9  8442\n",
              "858   90.29999    10  8442\n",
              "859   96.00000    11  8442\n",
              "860  103.50000    12  8442\n",
              "\n",
              "[861 rows x 3 columns]"
            ]
          },
          "metadata": {
            "tags": []
          },
          "execution_count": 8
        }
      ]
    },
    {
      "cell_type": "code",
      "metadata": {
        "id": "LMb4xKErjFU6"
      },
      "source": [
        "predic = mdf.predict(df_X)"
      ],
      "execution_count": 9,
      "outputs": []
    },
    {
      "cell_type": "code",
      "metadata": {
        "id": "nkLrmT0MjI2F",
        "outputId": "e2f979db-cf9a-4b66-c9b8-7f0a2f877af8",
        "colab": {
          "base_uri": "https://localhost:8080/"
        }
      },
      "source": [
        "mean_squared_error(predic, df_X['Weight'])"
      ],
      "execution_count": 10,
      "outputs": [
        {
          "output_type": "execute_result",
          "data": {
            "text/plain": [
              "51.26223595860066"
            ]
          },
          "metadata": {
            "tags": []
          },
          "execution_count": 10
        }
      ]
    },
    {
      "cell_type": "code",
      "metadata": {
        "id": "vFsB_qkxoHN5",
        "outputId": "8059645a-afd7-4962-87a9-a5edb5649aa4",
        "colab": {
          "base_uri": "https://localhost:8080/",
          "height": 279
        }
      },
      "source": [
        "df_X.plot.scatter('Time','Weight');"
      ],
      "execution_count": 24,
      "outputs": [
        {
          "output_type": "display_data",
          "data": {
            "image/png": "[encoded data removed]",
            "text/plain": [
              "<Figure size 432x288 with 1 Axes>"
            ]
          },
          "metadata": {
            "tags": [],
            "needs_background": "light"
          }
        }
      ]
    },
    {
      "cell_type": "markdown",
      "metadata": {
        "id": "N45zAqRUjNJM"
      },
      "source": [
        "# **OLS**"
      ]
    },
    {
      "cell_type": "code",
      "metadata": {
        "id": "xLhbzdrSjSUI"
      },
      "source": [
        "from sklearn.linear_model import LinearRegression, Ridge, Lasso, ElasticNet\n",
        "X = data[['Time','Pig']]\n",
        "y = data['Weight']"
      ],
      "execution_count": 11,
      "outputs": []
    },
    {
      "cell_type": "code",
      "metadata": {
        "id": "ckSqGGOkjVf7"
      },
      "source": [
        "clf = LinearRegression().fit(X,y)\n",
        "ols_predict = clf.predict(X)"
      ],
      "execution_count": 12,
      "outputs": []
    },
    {
      "cell_type": "code",
      "metadata": {
        "id": "R4UHDjUwjY4R",
        "outputId": "7c66a1cf-47c5-4a84-eb4d-12c2f0a748c4",
        "colab": {
          "base_uri": "https://localhost:8080/"
        }
      },
      "source": [
        "mean_squared_error(ols_predict, y)"
      ],
      "execution_count": 13,
      "outputs": [
        {
          "output_type": "execute_result",
          "data": {
            "text/plain": [
              "51.25143564415134"
            ]
          },
          "metadata": {
            "tags": []
          },
          "execution_count": 13
        }
      ]
    },
    {
      "cell_type": "markdown",
      "metadata": {
        "id": "unQi5TGqjakS"
      },
      "source": [
        "# **Ridge Regression**"
      ]
    },
    {
      "cell_type": "code",
      "metadata": {
        "id": "p9o5dZe9jgzu"
      },
      "source": [
        "clf = Ridge(alpha=10000).fit(X,y)"
      ],
      "execution_count": 14,
      "outputs": []
    },
    {
      "cell_type": "code",
      "metadata": {
        "id": "udONOfa4jj7x"
      },
      "source": [
        "ridge_predict = clf.predict(X)"
      ],
      "execution_count": 15,
      "outputs": []
    },
    {
      "cell_type": "code",
      "metadata": {
        "id": "aB7s0PfFjmxa",
        "outputId": "cf8da044-9abd-43e5-85d5-5e0f0985f39e",
        "colab": {
          "base_uri": "https://localhost:8080/"
        }
      },
      "source": [
        "mean_squared_error(ridge_predict, y)"
      ],
      "execution_count": 16,
      "outputs": [
        {
          "output_type": "execute_result",
          "data": {
            "text/plain": [
              "191.35861348505773"
            ]
          },
          "metadata": {
            "tags": []
          },
          "execution_count": 16
        }
      ]
    },
    {
      "cell_type": "markdown",
      "metadata": {
        "id": "L83OJYiFjq0M"
      },
      "source": [
        "# **Lasso**"
      ]
    },
    {
      "cell_type": "code",
      "metadata": {
        "id": "-2mHuTe2jugv"
      },
      "source": [
        "clf = Lasso(alpha=0.001).fit(X,y)"
      ],
      "execution_count": 17,
      "outputs": []
    },
    {
      "cell_type": "code",
      "metadata": {
        "id": "cVntMGsgjx0J"
      },
      "source": [
        "lasso_predict = clf.predict(X)"
      ],
      "execution_count": 18,
      "outputs": []
    },
    {
      "cell_type": "code",
      "metadata": {
        "id": "8URNir2Wj0XP",
        "outputId": "f07b6c31-5aa5-466a-a1f4-595fa97bfd01",
        "colab": {
          "base_uri": "https://localhost:8080/"
        }
      },
      "source": [
        "mean_squared_error(lasso_predict, y)"
      ],
      "execution_count": 19,
      "outputs": [
        {
          "output_type": "execute_result",
          "data": {
            "text/plain": [
              "51.251435728526545"
            ]
          },
          "metadata": {
            "tags": []
          },
          "execution_count": 19
        }
      ]
    },
    {
      "cell_type": "markdown",
      "metadata": {
        "id": "tJ2BVGbXj3jp"
      },
      "source": [
        "# **Elastic**"
      ]
    },
    {
      "cell_type": "code",
      "metadata": {
        "id": "fX9ZDRbPj7Le"
      },
      "source": [
        "regr = ElasticNet(random_state=0, alpha=0.00001, l1_ratio=1).fit(X,y)"
      ],
      "execution_count": 20,
      "outputs": []
    },
    {
      "cell_type": "code",
      "metadata": {
        "id": "oWDWVXXaj-Cm"
      },
      "source": [
        "elastic_predict = regr.predict(X)"
      ],
      "execution_count": 21,
      "outputs": []
    },
    {
      "cell_type": "code",
      "metadata": {
        "id": "JHLh_-GqkBBF",
        "outputId": "01e76ec1-96d8-48d4-9517-55c0ddd7735c",
        "colab": {
          "base_uri": "https://localhost:8080/"
        }
      },
      "source": [
        "mean_squared_error(elastic_predict, y)"
      ],
      "execution_count": 22,
      "outputs": [
        {
          "output_type": "execute_result",
          "data": {
            "text/plain": [
              "51.2514356441598"
            ]
          },
          "metadata": {
            "tags": []
          },
          "execution_count": 22
        }
      ]
    }
  ]
}