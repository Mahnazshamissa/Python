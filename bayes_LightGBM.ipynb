{
  "nbformat": 4,
  "nbformat_minor": 0,
  "metadata": {
    "colab": {
      "name": "bayes_LightGBM.ipynb",
      "provenance": [],
      "authorship_tag": "ABX9TyNSjf76Mzh4+PuRMTtDKBia",
      "include_colab_link": true
    },
    "kernelspec": {
      "name": "python3",
      "display_name": "Python 3"
    }
  },
  "cells": [
    {
      "cell_type": "markdown",
      "metadata": {
        "id": "view-in-github",
        "colab_type": "text"
      },
      "source": [
        "<a href=\"https://colab.research.google.com/github/Mahnazshamissa/Python/blob/main/bayes_LightGBM.ipynb\" target=\"_parent\"><img src=\"https://colab.research.google.com/assets/colab-badge.svg\" alt=\"Open In Colab\"/></a>"
      ]
    },
    {
      "cell_type": "code",
      "metadata": {
        "id": "MmSlnStSJk1s",
        "outputId": "a1609a79-4c35-4706-840f-9a85f5f99a96",
        "colab": {
          "base_uri": "https://localhost:8080/"
        }
      },
      "source": [
        "pip install scikit-optimize"
      ],
      "execution_count": 1,
      "outputs": [
        {
          "output_type": "stream",
          "text": [
            "Collecting scikit-optimize\n",
            "\u001b[?25l  Downloading https://files.pythonhosted.org/packages/8b/03/be33e89f55866065a02e515c5b319304a801a9f1027a9b311a9b1d1f8dc7/scikit_optimize-0.8.1-py2.py3-none-any.whl (101kB)\n",
            "\r\u001b[K     |███▎                            | 10kB 17.0MB/s eta 0:00:01\r\u001b[K     |██████▌                         | 20kB 1.9MB/s eta 0:00:01\r\u001b[K     |█████████▊                      | 30kB 2.3MB/s eta 0:00:01\r\u001b[K     |█████████████                   | 40kB 2.6MB/s eta 0:00:01\r\u001b[K     |████████████████▏               | 51kB 2.1MB/s eta 0:00:01\r\u001b[K     |███████████████████▍            | 61kB 2.3MB/s eta 0:00:01\r\u001b[K     |██████████████████████▊         | 71kB 2.5MB/s eta 0:00:01\r\u001b[K     |██████████████████████████      | 81kB 2.6MB/s eta 0:00:01\r\u001b[K     |█████████████████████████████▏  | 92kB 2.8MB/s eta 0:00:01\r\u001b[K     |████████████████████████████████| 102kB 2.4MB/s \n",
            "\u001b[?25hRequirement already satisfied: numpy>=1.13.3 in /usr/local/lib/python3.6/dist-packages (from scikit-optimize) (1.18.5)\n",
            "Requirement already satisfied: scipy>=0.19.1 in /usr/local/lib/python3.6/dist-packages (from scikit-optimize) (1.4.1)\n",
            "Requirement already satisfied: joblib>=0.11 in /usr/local/lib/python3.6/dist-packages (from scikit-optimize) (0.17.0)\n",
            "Collecting pyaml>=16.9\n",
            "  Downloading https://files.pythonhosted.org/packages/15/c4/1310a054d33abc318426a956e7d6df0df76a6ddfa9c66f6310274fb75d42/pyaml-20.4.0-py2.py3-none-any.whl\n",
            "Requirement already satisfied: scikit-learn>=0.20.0 in /usr/local/lib/python3.6/dist-packages (from scikit-optimize) (0.22.2.post1)\n",
            "Requirement already satisfied: PyYAML in /usr/local/lib/python3.6/dist-packages (from pyaml>=16.9->scikit-optimize) (3.13)\n",
            "Installing collected packages: pyaml, scikit-optimize\n",
            "Successfully installed pyaml-20.4.0 scikit-optimize-0.8.1\n"
          ],
          "name": "stdout"
        }
      ]
    },
    {
      "cell_type": "code",
      "metadata": {
        "id": "vsR9j9FwLRmy"
      },
      "source": [
        "import pandas as pd\n",
        "import numpy as np\n",
        "import matplotlib.pyplot as plt\n",
        "import lightgbm as lgb\n",
        "from sklearn.preprocessing import StandardScaler, LabelEncoder, PowerTransformer\n",
        "from sklearn.utils.class_weight import compute_class_weight\n",
        "from sklearn.model_selection import StratifiedKFold\n",
        "from sklearn.metrics import accuracy_score, confusion_matrix, classification_report, roc_curve, auc, f1_score\n",
        "from sklearn.metrics import roc_auc_score, precision_recall_curve, average_precision_score, plot_precision_recall_curve\n",
        "from sklearn.model_selection import train_test_split"
      ],
      "execution_count": 2,
      "outputs": []
    },
    {
      "cell_type": "code",
      "metadata": {
        "id": "SK7Gjo5LLXBr"
      },
      "source": [
        "import skopt\n",
        "from skopt import BayesSearchCV\n",
        "from sklearn.model_selection import StratifiedKFold\n",
        "from skopt.space import Real, Integer, Categorical\n",
        "import joblib\n",
        "import gc\n",
        "\n",
        "from skopt.utils import use_named_args\n",
        "import itertools\n",
        "from skopt import gp_minimize\n",
        "\n",
        "import lightgbm as lgb\n",
        "from sklearn.ensemble import RandomForestClassifier as RFC\n",
        "from sklearn.preprocessing import MinMaxScaler, StandardScaler, LabelEncoder\n",
        "from sklearn.model_selection import cross_val_score, train_test_split\n",
        "from sklearn.metrics import accuracy_score, confusion_matrix, classification_report, roc_curve, auc, roc_auc_score, precision_recall_curve, average_precision_score, plot_precision_recall_curve\n",
        "from sklearn.utils import class_weight\n",
        "from sklearn.model_selection import KFold"
      ],
      "execution_count": 3,
      "outputs": []
    },
    {
      "cell_type": "code",
      "metadata": {
        "id": "XVMzn4hALcgz"
      },
      "source": [
        "abo_path = '/content/WA_Fn-UseC_-Telco-Customer-Churn.csv'\n",
        "p_df_raw = pd.read_csv(abo_path, sep=',', encoding=\"UTF-8\")"
      ],
      "execution_count": 4,
      "outputs": []
    },
    {
      "cell_type": "code",
      "metadata": {
        "id": "auWlWVskLsbI",
        "outputId": "b6465f09-4405-4e25-8eb6-7a348096cb0c",
        "colab": {
          "base_uri": "https://localhost:8080/",
          "height": 292
        }
      },
      "source": [
        "p_df_raw.tail()"
      ],
      "execution_count": 5,
      "outputs": [
        {
          "output_type": "execute_result",
          "data": {
            "text/html": [
              "<div>\n",
              "<style scoped>\n",
              "    .dataframe tbody tr th:only-of-type {\n",
              "        vertical-align: middle;\n",
              "    }\n",
              "\n",
              "    .dataframe tbody tr th {\n",
              "        vertical-align: top;\n",
              "    }\n",
              "\n",
              "    .dataframe thead th {\n",
              "        text-align: right;\n",
              "    }\n",
              "</style>\n",
              "<table border=\"1\" class=\"dataframe\">\n",
              "  <thead>\n",
              "    <tr style=\"text-align: right;\">\n",
              "      <th></th>\n",
              "      <th>customerID</th>\n",
              "      <th>gender</th>\n",
              "      <th>SeniorCitizen</th>\n",
              "      <th>Partner</th>\n",
              "      <th>Dependents</th>\n",
              "      <th>tenure</th>\n",
              "      <th>PhoneService</th>\n",
              "      <th>MultipleLines</th>\n",
              "      <th>InternetService</th>\n",
              "      <th>OnlineSecurity</th>\n",
              "      <th>OnlineBackup</th>\n",
              "      <th>DeviceProtection</th>\n",
              "      <th>TechSupport</th>\n",
              "      <th>StreamingTV</th>\n",
              "      <th>StreamingMovies</th>\n",
              "      <th>Contract</th>\n",
              "      <th>PaperlessBilling</th>\n",
              "      <th>PaymentMethod</th>\n",
              "      <th>MonthlyCharges</th>\n",
              "      <th>TotalCharges</th>\n",
              "      <th>Churn</th>\n",
              "    </tr>\n",
              "  </thead>\n",
              "  <tbody>\n",
              "    <tr>\n",
              "      <th>7038</th>\n",
              "      <td>6840-RESVB</td>\n",
              "      <td>Male</td>\n",
              "      <td>0</td>\n",
              "      <td>Yes</td>\n",
              "      <td>Yes</td>\n",
              "      <td>24</td>\n",
              "      <td>Yes</td>\n",
              "      <td>Yes</td>\n",
              "      <td>DSL</td>\n",
              "      <td>Yes</td>\n",
              "      <td>No</td>\n",
              "      <td>Yes</td>\n",
              "      <td>Yes</td>\n",
              "      <td>Yes</td>\n",
              "      <td>Yes</td>\n",
              "      <td>One year</td>\n",
              "      <td>Yes</td>\n",
              "      <td>Mailed check</td>\n",
              "      <td>84.80</td>\n",
              "      <td>1990.5</td>\n",
              "      <td>No</td>\n",
              "    </tr>\n",
              "    <tr>\n",
              "      <th>7039</th>\n",
              "      <td>2234-XADUH</td>\n",
              "      <td>Female</td>\n",
              "      <td>0</td>\n",
              "      <td>Yes</td>\n",
              "      <td>Yes</td>\n",
              "      <td>72</td>\n",
              "      <td>Yes</td>\n",
              "      <td>Yes</td>\n",
              "      <td>Fiber optic</td>\n",
              "      <td>No</td>\n",
              "      <td>Yes</td>\n",
              "      <td>Yes</td>\n",
              "      <td>No</td>\n",
              "      <td>Yes</td>\n",
              "      <td>Yes</td>\n",
              "      <td>One year</td>\n",
              "      <td>Yes</td>\n",
              "      <td>Credit card (automatic)</td>\n",
              "      <td>103.20</td>\n",
              "      <td>7362.9</td>\n",
              "      <td>No</td>\n",
              "    </tr>\n",
              "    <tr>\n",
              "      <th>7040</th>\n",
              "      <td>4801-JZAZL</td>\n",
              "      <td>Female</td>\n",
              "      <td>0</td>\n",
              "      <td>Yes</td>\n",
              "      <td>Yes</td>\n",
              "      <td>11</td>\n",
              "      <td>No</td>\n",
              "      <td>No phone service</td>\n",
              "      <td>DSL</td>\n",
              "      <td>Yes</td>\n",
              "      <td>No</td>\n",
              "      <td>No</td>\n",
              "      <td>No</td>\n",
              "      <td>No</td>\n",
              "      <td>No</td>\n",
              "      <td>Month-to-month</td>\n",
              "      <td>Yes</td>\n",
              "      <td>Electronic check</td>\n",
              "      <td>29.60</td>\n",
              "      <td>346.45</td>\n",
              "      <td>No</td>\n",
              "    </tr>\n",
              "    <tr>\n",
              "      <th>7041</th>\n",
              "      <td>8361-LTMKD</td>\n",
              "      <td>Male</td>\n",
              "      <td>1</td>\n",
              "      <td>Yes</td>\n",
              "      <td>No</td>\n",
              "      <td>4</td>\n",
              "      <td>Yes</td>\n",
              "      <td>Yes</td>\n",
              "      <td>Fiber optic</td>\n",
              "      <td>No</td>\n",
              "      <td>No</td>\n",
              "      <td>No</td>\n",
              "      <td>No</td>\n",
              "      <td>No</td>\n",
              "      <td>No</td>\n",
              "      <td>Month-to-month</td>\n",
              "      <td>Yes</td>\n",
              "      <td>Mailed check</td>\n",
              "      <td>74.40</td>\n",
              "      <td>306.6</td>\n",
              "      <td>Yes</td>\n",
              "    </tr>\n",
              "    <tr>\n",
              "      <th>7042</th>\n",
              "      <td>3186-AJIEK</td>\n",
              "      <td>Male</td>\n",
              "      <td>0</td>\n",
              "      <td>No</td>\n",
              "      <td>No</td>\n",
              "      <td>66</td>\n",
              "      <td>Yes</td>\n",
              "      <td>No</td>\n",
              "      <td>Fiber optic</td>\n",
              "      <td>Yes</td>\n",
              "      <td>No</td>\n",
              "      <td>Yes</td>\n",
              "      <td>Yes</td>\n",
              "      <td>Yes</td>\n",
              "      <td>Yes</td>\n",
              "      <td>Two year</td>\n",
              "      <td>Yes</td>\n",
              "      <td>Bank transfer (automatic)</td>\n",
              "      <td>105.65</td>\n",
              "      <td>6844.5</td>\n",
              "      <td>No</td>\n",
              "    </tr>\n",
              "  </tbody>\n",
              "</table>\n",
              "</div>"
            ],
            "text/plain": [
              "      customerID  gender  SeniorCitizen  ... MonthlyCharges TotalCharges  Churn\n",
              "7038  6840-RESVB    Male              0  ...          84.80       1990.5     No\n",
              "7039  2234-XADUH  Female              0  ...         103.20       7362.9     No\n",
              "7040  4801-JZAZL  Female              0  ...          29.60       346.45     No\n",
              "7041  8361-LTMKD    Male              1  ...          74.40        306.6    Yes\n",
              "7042  3186-AJIEK    Male              0  ...         105.65       6844.5     No\n",
              "\n",
              "[5 rows x 21 columns]"
            ]
          },
          "metadata": {
            "tags": []
          },
          "execution_count": 5
        }
      ]
    },
    {
      "cell_type": "code",
      "metadata": {
        "id": "kthWG53uLzSn",
        "outputId": "bd0d4b5a-2122-445a-96dd-6443e103529a",
        "colab": {
          "base_uri": "https://localhost:8080/"
        }
      },
      "source": [
        "p_df_raw.isna().sum()"
      ],
      "execution_count": 6,
      "outputs": [
        {
          "output_type": "execute_result",
          "data": {
            "text/plain": [
              "customerID          0\n",
              "gender              0\n",
              "SeniorCitizen       0\n",
              "Partner             0\n",
              "Dependents          0\n",
              "tenure              0\n",
              "PhoneService        0\n",
              "MultipleLines       0\n",
              "InternetService     0\n",
              "OnlineSecurity      0\n",
              "OnlineBackup        0\n",
              "DeviceProtection    0\n",
              "TechSupport         0\n",
              "StreamingTV         0\n",
              "StreamingMovies     0\n",
              "Contract            0\n",
              "PaperlessBilling    0\n",
              "PaymentMethod       0\n",
              "MonthlyCharges      0\n",
              "TotalCharges        0\n",
              "Churn               0\n",
              "dtype: int64"
            ]
          },
          "metadata": {
            "tags": []
          },
          "execution_count": 6
        }
      ]
    },
    {
      "cell_type": "markdown",
      "metadata": {
        "id": "1rRJmAJxL4IU"
      },
      "source": [
        "# **Transform the data: make every column into number and scale the values of each column**"
      ]
    },
    {
      "cell_type": "code",
      "metadata": {
        "id": "2L601-zPMAJT"
      },
      "source": [
        "df_y = p_df_raw['Churn']\n",
        "df_y = pd.DataFrame(LabelEncoder().fit_transform(df_y))\n",
        "df_y = df_y.reset_index(drop=True)\n",
        "\n",
        "df_X_raw = p_df_raw.drop(['customerID', 'Churn'], axis=1)\n",
        "#df_X_raw = p_df_raw_train.drop(['Name'], axis=1)\n",
        "\n",
        "columns=df_X_raw.columns\n",
        "for f in df_X_raw.columns:\n",
        "    if df_X_raw[f].dtype == 'object':\n",
        "        df_X_raw[f] = LabelEncoder().fit_transform(list(df_X_raw[f]))"
      ],
      "execution_count": 7,
      "outputs": []
    },
    {
      "cell_type": "code",
      "metadata": {
        "id": "jjOSJKrp5QY_",
        "outputId": "4bbf75eb-3ac1-486b-e71f-c6c666d3ce35",
        "colab": {
          "base_uri": "https://localhost:8080/",
          "height": 292
        }
      },
      "source": [
        "p_df_raw.tail()"
      ],
      "execution_count": 32,
      "outputs": [
        {
          "output_type": "execute_result",
          "data": {
            "text/html": [
              "<div>\n",
              "<style scoped>\n",
              "    .dataframe tbody tr th:only-of-type {\n",
              "        vertical-align: middle;\n",
              "    }\n",
              "\n",
              "    .dataframe tbody tr th {\n",
              "        vertical-align: top;\n",
              "    }\n",
              "\n",
              "    .dataframe thead th {\n",
              "        text-align: right;\n",
              "    }\n",
              "</style>\n",
              "<table border=\"1\" class=\"dataframe\">\n",
              "  <thead>\n",
              "    <tr style=\"text-align: right;\">\n",
              "      <th></th>\n",
              "      <th>customerID</th>\n",
              "      <th>gender</th>\n",
              "      <th>SeniorCitizen</th>\n",
              "      <th>Partner</th>\n",
              "      <th>Dependents</th>\n",
              "      <th>tenure</th>\n",
              "      <th>PhoneService</th>\n",
              "      <th>MultipleLines</th>\n",
              "      <th>InternetService</th>\n",
              "      <th>OnlineSecurity</th>\n",
              "      <th>OnlineBackup</th>\n",
              "      <th>DeviceProtection</th>\n",
              "      <th>TechSupport</th>\n",
              "      <th>StreamingTV</th>\n",
              "      <th>StreamingMovies</th>\n",
              "      <th>Contract</th>\n",
              "      <th>PaperlessBilling</th>\n",
              "      <th>PaymentMethod</th>\n",
              "      <th>MonthlyCharges</th>\n",
              "      <th>TotalCharges</th>\n",
              "      <th>Churn</th>\n",
              "    </tr>\n",
              "  </thead>\n",
              "  <tbody>\n",
              "    <tr>\n",
              "      <th>7038</th>\n",
              "      <td>6840-RESVB</td>\n",
              "      <td>Male</td>\n",
              "      <td>0</td>\n",
              "      <td>Yes</td>\n",
              "      <td>Yes</td>\n",
              "      <td>24</td>\n",
              "      <td>Yes</td>\n",
              "      <td>Yes</td>\n",
              "      <td>DSL</td>\n",
              "      <td>Yes</td>\n",
              "      <td>No</td>\n",
              "      <td>Yes</td>\n",
              "      <td>Yes</td>\n",
              "      <td>Yes</td>\n",
              "      <td>Yes</td>\n",
              "      <td>One year</td>\n",
              "      <td>Yes</td>\n",
              "      <td>Mailed check</td>\n",
              "      <td>84.80</td>\n",
              "      <td>1990.5</td>\n",
              "      <td>No</td>\n",
              "    </tr>\n",
              "    <tr>\n",
              "      <th>7039</th>\n",
              "      <td>2234-XADUH</td>\n",
              "      <td>Female</td>\n",
              "      <td>0</td>\n",
              "      <td>Yes</td>\n",
              "      <td>Yes</td>\n",
              "      <td>72</td>\n",
              "      <td>Yes</td>\n",
              "      <td>Yes</td>\n",
              "      <td>Fiber optic</td>\n",
              "      <td>No</td>\n",
              "      <td>Yes</td>\n",
              "      <td>Yes</td>\n",
              "      <td>No</td>\n",
              "      <td>Yes</td>\n",
              "      <td>Yes</td>\n",
              "      <td>One year</td>\n",
              "      <td>Yes</td>\n",
              "      <td>Credit card (automatic)</td>\n",
              "      <td>103.20</td>\n",
              "      <td>7362.9</td>\n",
              "      <td>No</td>\n",
              "    </tr>\n",
              "    <tr>\n",
              "      <th>7040</th>\n",
              "      <td>4801-JZAZL</td>\n",
              "      <td>Female</td>\n",
              "      <td>0</td>\n",
              "      <td>Yes</td>\n",
              "      <td>Yes</td>\n",
              "      <td>11</td>\n",
              "      <td>No</td>\n",
              "      <td>No phone service</td>\n",
              "      <td>DSL</td>\n",
              "      <td>Yes</td>\n",
              "      <td>No</td>\n",
              "      <td>No</td>\n",
              "      <td>No</td>\n",
              "      <td>No</td>\n",
              "      <td>No</td>\n",
              "      <td>Month-to-month</td>\n",
              "      <td>Yes</td>\n",
              "      <td>Electronic check</td>\n",
              "      <td>29.60</td>\n",
              "      <td>346.45</td>\n",
              "      <td>No</td>\n",
              "    </tr>\n",
              "    <tr>\n",
              "      <th>7041</th>\n",
              "      <td>8361-LTMKD</td>\n",
              "      <td>Male</td>\n",
              "      <td>1</td>\n",
              "      <td>Yes</td>\n",
              "      <td>No</td>\n",
              "      <td>4</td>\n",
              "      <td>Yes</td>\n",
              "      <td>Yes</td>\n",
              "      <td>Fiber optic</td>\n",
              "      <td>No</td>\n",
              "      <td>No</td>\n",
              "      <td>No</td>\n",
              "      <td>No</td>\n",
              "      <td>No</td>\n",
              "      <td>No</td>\n",
              "      <td>Month-to-month</td>\n",
              "      <td>Yes</td>\n",
              "      <td>Mailed check</td>\n",
              "      <td>74.40</td>\n",
              "      <td>306.6</td>\n",
              "      <td>Yes</td>\n",
              "    </tr>\n",
              "    <tr>\n",
              "      <th>7042</th>\n",
              "      <td>3186-AJIEK</td>\n",
              "      <td>Male</td>\n",
              "      <td>0</td>\n",
              "      <td>No</td>\n",
              "      <td>No</td>\n",
              "      <td>66</td>\n",
              "      <td>Yes</td>\n",
              "      <td>No</td>\n",
              "      <td>Fiber optic</td>\n",
              "      <td>Yes</td>\n",
              "      <td>No</td>\n",
              "      <td>Yes</td>\n",
              "      <td>Yes</td>\n",
              "      <td>Yes</td>\n",
              "      <td>Yes</td>\n",
              "      <td>Two year</td>\n",
              "      <td>Yes</td>\n",
              "      <td>Bank transfer (automatic)</td>\n",
              "      <td>105.65</td>\n",
              "      <td>6844.5</td>\n",
              "      <td>No</td>\n",
              "    </tr>\n",
              "  </tbody>\n",
              "</table>\n",
              "</div>"
            ],
            "text/plain": [
              "      customerID  gender  SeniorCitizen  ... MonthlyCharges TotalCharges  Churn\n",
              "7038  6840-RESVB    Male              0  ...          84.80       1990.5     No\n",
              "7039  2234-XADUH  Female              0  ...         103.20       7362.9     No\n",
              "7040  4801-JZAZL  Female              0  ...          29.60       346.45     No\n",
              "7041  8361-LTMKD    Male              1  ...          74.40        306.6    Yes\n",
              "7042  3186-AJIEK    Male              0  ...         105.65       6844.5     No\n",
              "\n",
              "[5 rows x 21 columns]"
            ]
          },
          "metadata": {
            "tags": []
          },
          "execution_count": 32
        }
      ]
    },
    {
      "cell_type": "code",
      "metadata": {
        "id": "M3tdt05ZMEi4"
      },
      "source": [
        "scaler = PowerTransformer()\n",
        "scaled_df = scaler.fit_transform(df_X_raw)\n",
        "df_X = pd.DataFrame(scaled_df, columns=columns)\n",
        "df_X = df_X.reset_index(drop=True)"
      ],
      "execution_count": 8,
      "outputs": []
    },
    {
      "cell_type": "code",
      "metadata": {
        "id": "SQNNCNTGMISG",
        "outputId": "1685b732-bbb2-43a8-c12a-c9acd0f8fcb8",
        "colab": {
          "base_uri": "https://localhost:8080/"
        }
      },
      "source": [
        "class_labels = np.unique(df_y)\n",
        "class_weights = compute_class_weight('balanced', class_labels, df_y)\n",
        "class_weights = dict(zip(class_labels, class_weights))"
      ],
      "execution_count": 9,
      "outputs": [
        {
          "output_type": "stream",
          "text": [
            "/usr/local/lib/python3.6/dist-packages/sklearn/preprocessing/_label.py:251: DataConversionWarning: A column-vector y was passed when a 1d array was expected. Please change the shape of y to (n_samples, ), for example using ravel().\n",
            "  y = column_or_1d(y, warn=True)\n"
          ],
          "name": "stderr"
        }
      ]
    },
    {
      "cell_type": "code",
      "metadata": {
        "id": "gfoWP9m0MMoW",
        "outputId": "8c17b084-42cc-40e5-9424-727d17c60415",
        "colab": {
          "base_uri": "https://localhost:8080/"
        }
      },
      "source": [
        "class_weights"
      ],
      "execution_count": 10,
      "outputs": [
        {
          "output_type": "execute_result",
          "data": {
            "text/plain": [
              "{0: 0.6806146115191342, 1: 1.8841626538255751}"
            ]
          },
          "metadata": {
            "tags": []
          },
          "execution_count": 10
        }
      ]
    },
    {
      "cell_type": "code",
      "metadata": {
        "id": "xoWZmiFGMQao",
        "outputId": "43db3324-b183-4871-a21c-e839c6839500",
        "colab": {
          "base_uri": "https://localhost:8080/"
        }
      },
      "source": [
        "df_X.isna().sum()"
      ],
      "execution_count": 11,
      "outputs": [
        {
          "output_type": "execute_result",
          "data": {
            "text/plain": [
              "gender              0\n",
              "SeniorCitizen       0\n",
              "Partner             0\n",
              "Dependents          0\n",
              "tenure              0\n",
              "PhoneService        0\n",
              "MultipleLines       0\n",
              "InternetService     0\n",
              "OnlineSecurity      0\n",
              "OnlineBackup        0\n",
              "DeviceProtection    0\n",
              "TechSupport         0\n",
              "StreamingTV         0\n",
              "StreamingMovies     0\n",
              "Contract            0\n",
              "PaperlessBilling    0\n",
              "PaymentMethod       0\n",
              "MonthlyCharges      0\n",
              "TotalCharges        0\n",
              "dtype: int64"
            ]
          },
          "metadata": {
            "tags": []
          },
          "execution_count": 11
        }
      ]
    },
    {
      "cell_type": "code",
      "metadata": {
        "id": "BZvB6gjMMbC-"
      },
      "source": [
        "df_X_sub, X_test, df_y_sub, y_test = train_test_split(df_X, df_y, test_size=0.33, random_state=42)"
      ],
      "execution_count": 12,
      "outputs": []
    },
    {
      "cell_type": "code",
      "metadata": {
        "id": "p-qiMkctMiY8"
      },
      "source": [
        "categorical_feature=['gender', 'SeniorCitizen', 'Partner',\n",
        "                     #'PhoneService', 'MultipleLines', 'InternetService','OnlineSecurity', 'DeviceProtection', 'TechSupport',\n",
        "                     'StreamingTV', 'StreamingMovies','Contract', 'PaperlessBilling', 'PaymentMethod' ]"
      ],
      "execution_count": 13,
      "outputs": []
    },
    {
      "cell_type": "code",
      "metadata": {
        "id": "jZwyZdobMnBr"
      },
      "source": [
        "space  = [ Integer(3, 30, name='max_depth')\n",
        "          ,Integer(6, 50, name='num_leaves')\n",
        "          ,Integer(50, 200, name='min_child_samples')\n",
        "          ,Real(1, 500,  name='scale_pos_weight')\n",
        "          ,Real(0.6, 0.9, name='subsample')\n",
        "          ,Real(0.6, 0.9, name='colsample_bytree')\n",
        "          ,Real(0.0001, 1,  name='learning_rate', prior='log-uniform')\n",
        "          ,Integer(2, 200, name='max_bin')\n",
        "          #,Integer(100, 1000, name='num_iterations')\n",
        "          ,Integer(20, 100, name='min_child_samples')\n",
        "          #,Real(0.0001, 1,  name='lambda_l2', prior='log-uniform')          \n",
        "          #,Real(0.0001, 1,  name='lambda_l1', prior='log-uniform')          \n",
        "         ]"
      ],
      "execution_count": 14,
      "outputs": []
    },
    {
      "cell_type": "code",
      "metadata": {
        "id": "riYoNbCVMrxP"
      },
      "source": [
        "def sigmoid(x):\n",
        "    return (1 / (1 + np.exp(-x)))\n",
        "\n",
        "### for unbalanced classes\n",
        "def focal_loss_lgb_eval_error(y_pred, dtrain, alpha, gamma):\n",
        "    a,g = alpha, gamma\n",
        "    y_true = dtrain.label\n",
        "    p = 1/(1+np.exp(-y_pred))\n",
        "    loss = -( a*y_true + (1-a)*(1-y_true) ) * (( 1 - ( y_true*p + (1-y_true)*(1-p)) )**g) * ( y_true*np.log(p)+(1-y_true)*np.log(1-p) )\n",
        "    # (eval_name, eval_result, is_higher_better)\n",
        "    return 'focal_loss', np.mean(loss), False\n",
        "\n",
        "def focal_loss_lgb_f1_score(preds, lgbDataset):\n",
        "    preds = sigmoid(preds)\n",
        "    binary_preds = [int(p>0.5) for p in preds]\n",
        "    y_true = lgbDataset.get_label()\n",
        "    return 'f1', f1_score(y_true, binary_preds), True\n",
        "\n",
        "\n",
        "focal_loss = lambda x,y: focal_loss_lgb(x, y, alpha=0.25, gamma=1.)\n",
        "focal_loss_eval = lambda x,y: focal_loss_lgb_eval_error(x, y, alpha=0.25, gamma=1.)"
      ],
      "execution_count": 15,
      "outputs": []
    },
    {
      "cell_type": "code",
      "metadata": {
        "id": "a-xjBdlAM3Fc"
      },
      "source": [
        "def objective(values):\n",
        "    \n",
        "    params = {\n",
        "              'max_depth': values[0]\n",
        "              ,'num_leaves': values[1]\n",
        "              ,'min_child_samples': values[2]\n",
        "              ,'scale_pos_weight': values[3]\n",
        "              ,'subsample': values[4]\n",
        "              ,'colsample_bytree': values[5]\n",
        "              ,'learning_rate': values[6]\n",
        "              ,'max_bin': values[7]              \n",
        "              #,'num_iterations': values[8]\n",
        "              ,'min_child_samples': values[8]\n",
        "              #,'lambda_l1': values[9]\n",
        "              #,'lambda_l2': values[10]\n",
        "              ,'metric':'auc'\n",
        "              ,'nthread': 8\n",
        "              ,'boosting_type': 'gbdt'\n",
        "              ,'objective': 'binary'                            \n",
        "              ,'min_child_weight': 0\n",
        "              ,'min_split_gain': 0\n",
        "              ,'subsample_freq': 1\n",
        "              }\n",
        "\n",
        "    #print('\\nNext set of params.....',params)\n",
        "            \n",
        "        # Fit model on feature_set and calculate validation AUROC\n",
        "    \n",
        "    train_auc_list = []\n",
        "    valid_auc_list = []\n",
        "    early_stopping_rounds = 50\n",
        "    num_boost_round       = 100\n",
        "    final_score = 0\n",
        "\n",
        "    \n",
        "    # Fit model on feature_set and calculate validation AUROC    \n",
        "    \n",
        "    cv = StratifiedKFold(n_splits=3, shuffle=True, random_state=42)\n",
        "    \n",
        "    for train_index, test_index in cv.split(df_X_sub, df_y_sub):\n",
        "        X_train, X_valid = df_X_sub.loc[df_X_sub.index[train_index]], df_X_sub.loc[df_X_sub.index[test_index]]\n",
        "        y_train, y_valid = df_y_sub.loc[df_y_sub.index[train_index]], df_y_sub.loc[df_y_sub.index[test_index]]\n",
        "        \n",
        "        train_data = lgb.Dataset(data=X_train, label=y_train, \n",
        "                                 categorical_feature=categorical_feature,\n",
        "                                 params={'verbose': -1}, \n",
        "                                 free_raw_data=False)\n",
        "        \n",
        "        valid_data = lgb.Dataset(X_valid, label=y_valid,\n",
        "                                 categorical_feature=categorical_feature,\n",
        "                                 params={'verbose': -1}, \n",
        "                                 free_raw_data=False)\n",
        "        \n",
        "        evals_results = {}\n",
        "        model_lgb     = lgb.train(params,\n",
        "                                  train_data,\n",
        "                                  valid_sets=valid_data, \n",
        "                                  evals_result=evals_results, \n",
        "                                  num_boost_round=num_boost_round,\n",
        "                                  #early_stopping_rounds=early_stopping_rounds,\n",
        "                                  verbose_eval=False,\n",
        "                                  #fobj=focal_loss, \n",
        "                                  feval=focal_loss_eval\n",
        "                                 )        \n",
        "        \n",
        "        #print(evals_results)\n",
        "        \n",
        "        #train_auc = -roc_auc_score(y_train, model_lgb.predict(X_train))\n",
        "        #valid_auc = -roc_auc_score(y_valid, model_lgb.predict(X_valid))\n",
        "        \n",
        "        train_preds = sigmoid(model_lgb.predict(X_train))\n",
        "        train_binary_preds = [int(p>0.5) for p in train_preds]\n",
        "        \n",
        "        valid_preds = sigmoid(model_lgb.predict(X_valid))\n",
        "        valid_binary_preds = [int(p>0.5) for p in valid_preds]\n",
        "        \n",
        "        train_auc = f1_score(y_train, train_binary_preds)\n",
        "        valid_auc = f1_score(y_valid, valid_binary_preds)\n",
        "        \n",
        "        #print('\\nAUROC.....', -train_auc,\".....iter.....\", model_lgb.current_iteration())\n",
        "        \n",
        "        train_auc_list.append(train_auc)\n",
        "        valid_auc_list.append(valid_auc)\n",
        "\n",
        "        \n",
        "    train_valid_diff = np.abs(np.mean(train_auc_list) - np.mean(valid_auc_list))       \n",
        "    \n",
        "    ### this is a good criteria to control over-fitting\n",
        "    if train_valid_diff > 0.10:\n",
        "            final_score = 0.05\n",
        "    else:\n",
        "        final_score = np.mean(train_auc_list)\n",
        "    \n",
        "    #final_score = np.mean(train_auc_list)\n",
        "    \n",
        "    print('TRAIN.....', np.mean(train_auc_list))\n",
        "    print('VALID.....', np.mean(valid_auc_list))\n",
        "    print('final score ..... ', final_score)\n",
        "    \n",
        "    gc.collect()\n",
        "    \n",
        "    #return  np.mean(train_auc_list)\n",
        "    return -final_score"
      ],
      "execution_count": 29,
      "outputs": []
    },
    {
      "cell_type": "code",
      "metadata": {
        "id": "ejQHo-GUNSbp",
        "outputId": "e9f72508-7b33-4805-e0ce-7a4cfb2b65e8",
        "colab": {
          "base_uri": "https://localhost:8080/",
          "height": 885
        }
      },
      "source": [
        "res_gp = gp_minimize(objective, space, acq_func=\"LCB\", n_calls=10, random_state=0, n_random_starts=10)\n",
        "\"Best score=%.4f\" % res_gp.fun"
      ],
      "execution_count": 31,
      "outputs": [
        {
          "output_type": "stream",
          "text": [
            "/usr/local/lib/python3.6/dist-packages/lightgbm/basic.py:1205: UserWarning: Using categorical_feature in Dataset.\n",
            "  warnings.warn('Using categorical_feature in Dataset.')\n"
          ],
          "name": "stderr"
        },
        {
          "output_type": "stream",
          "text": [
            "TRAIN..... 0.4165128048664084\n",
            "VALID..... 0.41651270622606984\n",
            "final score .....  0.4165128048664084\n"
          ],
          "name": "stdout"
        },
        {
          "output_type": "stream",
          "text": [
            "/usr/local/lib/python3.6/dist-packages/lightgbm/basic.py:1205: UserWarning: Using categorical_feature in Dataset.\n",
            "  warnings.warn('Using categorical_feature in Dataset.')\n"
          ],
          "name": "stderr"
        },
        {
          "output_type": "stream",
          "text": [
            "TRAIN..... 0.4165128048664084\n",
            "VALID..... 0.41651270622606984\n",
            "final score .....  0.4165128048664084\n"
          ],
          "name": "stdout"
        },
        {
          "output_type": "stream",
          "text": [
            "/usr/local/lib/python3.6/dist-packages/lightgbm/basic.py:1205: UserWarning: Using categorical_feature in Dataset.\n",
            "  warnings.warn('Using categorical_feature in Dataset.')\n"
          ],
          "name": "stderr"
        },
        {
          "output_type": "stream",
          "text": [
            "TRAIN..... 0.4165128048664084\n",
            "VALID..... 0.41651270622606984\n",
            "final score .....  0.4165128048664084\n"
          ],
          "name": "stdout"
        },
        {
          "output_type": "stream",
          "text": [
            "/usr/local/lib/python3.6/dist-packages/lightgbm/basic.py:1205: UserWarning: Using categorical_feature in Dataset.\n",
            "  warnings.warn('Using categorical_feature in Dataset.')\n"
          ],
          "name": "stderr"
        },
        {
          "output_type": "stream",
          "text": [
            "TRAIN..... 0.4165128048664084\n",
            "VALID..... 0.41651270622606984\n",
            "final score .....  0.4165128048664084\n"
          ],
          "name": "stdout"
        },
        {
          "output_type": "stream",
          "text": [
            "/usr/local/lib/python3.6/dist-packages/lightgbm/basic.py:1205: UserWarning: Using categorical_feature in Dataset.\n",
            "  warnings.warn('Using categorical_feature in Dataset.')\n"
          ],
          "name": "stderr"
        },
        {
          "output_type": "stream",
          "text": [
            "TRAIN..... 0.4165128048664084\n",
            "VALID..... 0.41651270622606984\n",
            "final score .....  0.4165128048664084\n"
          ],
          "name": "stdout"
        },
        {
          "output_type": "stream",
          "text": [
            "/usr/local/lib/python3.6/dist-packages/lightgbm/basic.py:1205: UserWarning: Using categorical_feature in Dataset.\n",
            "  warnings.warn('Using categorical_feature in Dataset.')\n"
          ],
          "name": "stderr"
        },
        {
          "output_type": "stream",
          "text": [
            "TRAIN..... 0.4165128048664084\n",
            "VALID..... 0.41651270622606984\n",
            "final score .....  0.4165128048664084\n"
          ],
          "name": "stdout"
        },
        {
          "output_type": "stream",
          "text": [
            "/usr/local/lib/python3.6/dist-packages/lightgbm/basic.py:1205: UserWarning: Using categorical_feature in Dataset.\n",
            "  warnings.warn('Using categorical_feature in Dataset.')\n"
          ],
          "name": "stderr"
        },
        {
          "output_type": "stream",
          "text": [
            "TRAIN..... 0.4165128048664084\n",
            "VALID..... 0.41651270622606984\n",
            "final score .....  0.4165128048664084\n"
          ],
          "name": "stdout"
        },
        {
          "output_type": "stream",
          "text": [
            "/usr/local/lib/python3.6/dist-packages/lightgbm/basic.py:1205: UserWarning: Using categorical_feature in Dataset.\n",
            "  warnings.warn('Using categorical_feature in Dataset.')\n"
          ],
          "name": "stderr"
        },
        {
          "output_type": "stream",
          "text": [
            "TRAIN..... 0.416582731802484\n",
            "VALID..... 0.4165826472475433\n",
            "final score .....  0.416582731802484\n"
          ],
          "name": "stdout"
        },
        {
          "output_type": "stream",
          "text": [
            "/usr/local/lib/python3.6/dist-packages/lightgbm/basic.py:1205: UserWarning: Using categorical_feature in Dataset.\n",
            "  warnings.warn('Using categorical_feature in Dataset.')\n"
          ],
          "name": "stderr"
        },
        {
          "output_type": "stream",
          "text": [
            "TRAIN..... 0.4165128048664084\n",
            "VALID..... 0.41651270622606984\n",
            "final score .....  0.4165128048664084\n"
          ],
          "name": "stdout"
        },
        {
          "output_type": "stream",
          "text": [
            "/usr/local/lib/python3.6/dist-packages/lightgbm/basic.py:1205: UserWarning: Using categorical_feature in Dataset.\n",
            "  warnings.warn('Using categorical_feature in Dataset.')\n"
          ],
          "name": "stderr"
        },
        {
          "output_type": "stream",
          "text": [
            "TRAIN..... 0.4235209347915801\n",
            "VALID..... 0.4203979246695287\n",
            "final score .....  0.4235209347915801\n"
          ],
          "name": "stdout"
        },
        {
          "output_type": "execute_result",
          "data": {
            "application/vnd.google.colaboratory.intrinsic+json": {
              "type": "string"
            },
            "text/plain": [
              "'Best score=-0.4235'"
            ]
          },
          "metadata": {
            "tags": []
          },
          "execution_count": 31
        }
      ]
    },
    {
      "cell_type": "code",
      "metadata": {
        "id": "SBTGd3r5NbVK",
        "outputId": "b81fc2c0-b770-4804-c160-03f716d67dbe",
        "colab": {
          "base_uri": "https://localhost:8080/"
        }
      },
      "source": [
        "res_gp.x"
      ],
      "execution_count": 18,
      "outputs": [
        {
          "output_type": "execute_result",
          "data": {
            "text/plain": [
              "[28,\n",
              " 16,\n",
              " 135,\n",
              " 432.6861780913872,\n",
              " 0.7526906882001043,\n",
              " 0.8750168862058383,\n",
              " 0.4837605406319893,\n",
              " 18,\n",
              " 42]"
            ]
          },
          "metadata": {
            "tags": []
          },
          "execution_count": 18
        }
      ]
    },
    {
      "cell_type": "code",
      "metadata": {
        "id": "yGk2AfWhNhQJ"
      },
      "source": [
        "params = {'max_depth': res_gp.x[0]\n",
        "              ,'num_leaves': res_gp.x[1]\n",
        "              ,'min_child_samples': res_gp.x[2]\n",
        "              ,'scale_pos_weight': res_gp.x[3]\n",
        "              ,'subsample': res_gp.x[4]\n",
        "              ,'colsample_bytree': res_gp.x[5]\n",
        "              ,'learning_rate': res_gp.x[6]\n",
        "              ,'max_bin':  res_gp.x[7]\n",
        "              #,'num_iterations': values[8]\n",
        "              ,'min_child_samples': res_gp.x[8]\n",
        "              #,'lambda_l1': values[9]\n",
        "              #,'lambda_l2': values[10]\n",
        "              ,'metric':'auc'\n",
        "              ,'nthread': 8\n",
        "              ,'boosting_type': 'gbdt'\n",
        "              ,'objective': 'binary'                            \n",
        "              ,'min_child_weight': 0\n",
        "              ,'min_split_gain': 0\n",
        "              ,'subsample_freq': 1\n",
        "              }"
      ],
      "execution_count": 19,
      "outputs": []
    },
    {
      "cell_type": "code",
      "metadata": {
        "id": "Jhpah8sjNlTI",
        "outputId": "668e179a-2aba-4a2f-8b93-c668eb366c21",
        "colab": {
          "base_uri": "https://localhost:8080/"
        }
      },
      "source": [
        "model_lgb = lgb.LGBMClassifier(**params, class_weight = class_weights).fit(df_X_sub, df_y_sub)"
      ],
      "execution_count": 20,
      "outputs": [
        {
          "output_type": "stream",
          "text": [
            "/usr/local/lib/python3.6/dist-packages/sklearn/preprocessing/_label.py:235: DataConversionWarning: A column-vector y was passed when a 1d array was expected. Please change the shape of y to (n_samples, ), for example using ravel().\n",
            "  y = column_or_1d(y, warn=True)\n",
            "/usr/local/lib/python3.6/dist-packages/sklearn/preprocessing/_label.py:268: DataConversionWarning: A column-vector y was passed when a 1d array was expected. Please change the shape of y to (n_samples, ), for example using ravel().\n",
            "  y = column_or_1d(y, warn=True)\n"
          ],
          "name": "stderr"
        }
      ]
    },
    {
      "cell_type": "code",
      "metadata": {
        "id": "6LhBgx33Nq6e"
      },
      "source": [
        "clf_train_pred = model_lgb.predict(df_X_sub)\n",
        "clf_test_pred = model_lgb.predict(X_test)"
      ],
      "execution_count": 21,
      "outputs": []
    },
    {
      "cell_type": "code",
      "metadata": {
        "id": "VOVFCDqEN9yD",
        "outputId": "6f756a98-6bc3-4b2a-c97e-ef373baa91b6",
        "colab": {
          "base_uri": "https://localhost:8080/"
        }
      },
      "source": [
        "auc_train = roc_auc_score(df_y_sub, clf_train_pred)\n",
        "print('\\nAUROC.....',auc_train)"
      ],
      "execution_count": 22,
      "outputs": [
        {
          "output_type": "stream",
          "text": [
            "\n",
            "AUROC..... 0.5188721463504735\n"
          ],
          "name": "stdout"
        }
      ]
    },
    {
      "cell_type": "code",
      "metadata": {
        "id": "z5GkpXZIOCs4",
        "outputId": "f9e7862a-42a5-4df6-956d-9d1ec5f3bc48",
        "colab": {
          "base_uri": "https://localhost:8080/"
        }
      },
      "source": [
        "auc_test = roc_auc_score(y_test, clf_test_pred)\n",
        "print('\\nTEST AUROC.....', auc_test)"
      ],
      "execution_count": 23,
      "outputs": [
        {
          "output_type": "stream",
          "text": [
            "\n",
            "TEST AUROC..... 0.5109813496278558\n"
          ],
          "name": "stdout"
        }
      ]
    },
    {
      "cell_type": "code",
      "metadata": {
        "id": "MXdZsb61OHTb"
      },
      "source": [
        "fpr, tpr, threshold = roc_curve(y_test, clf_test_pred)"
      ],
      "execution_count": 24,
      "outputs": []
    },
    {
      "cell_type": "code",
      "metadata": {
        "id": "iiRPQotOOMpr",
        "outputId": "d9dc4805-21ca-4d8d-deba-a97b812260c9",
        "colab": {
          "base_uri": "https://localhost:8080/",
          "height": 483
        }
      },
      "source": [
        "fig = plt.figure(figsize=(12,8)) \n",
        "ax = fig.add_subplot(1,1,1)\n",
        "plt.plot([0,1],[0,1], 'k--')\n",
        "plt.plot(fpr, tpr);"
      ],
      "execution_count": 25,
      "outputs": [
        {
          "output_type": "display_data",
          "data": {
            "image/png": "[encoded data removed]",
            "text/plain": [
              "<Figure size 864x576 with 1 Axes>"
            ]
          },
          "metadata": {
            "tags": [],
            "needs_background": "light"
          }
        }
      ]
    },
    {
      "cell_type": "code",
      "metadata": {
        "id": "Fm_mMmfaOVmy",
        "outputId": "8228135d-e5ac-46b2-e15b-938b6cacf48c",
        "colab": {
          "base_uri": "https://localhost:8080/"
        }
      },
      "source": [
        "print('Accuracy')\n",
        "print(accuracy_score(y_test, clf_test_pred))\n",
        "print('Confusion Matrix')\n",
        "print(confusion_matrix(y_test, clf_test_pred))\n",
        "print('Confusion Report')\n",
        "print(classification_report(y_test, clf_test_pred))"
      ],
      "execution_count": 26,
      "outputs": [
        {
          "output_type": "stream",
          "text": [
            "Accuracy\n",
            "0.3286021505376344\n",
            "Confusion Matrix\n",
            "[[ 194 1503]\n",
            " [  58  570]]\n",
            "Confusion Report\n",
            "              precision    recall  f1-score   support\n",
            "\n",
            "           0       0.77      0.11      0.20      1697\n",
            "           1       0.27      0.91      0.42       628\n",
            "\n",
            "    accuracy                           0.33      2325\n",
            "   macro avg       0.52      0.51      0.31      2325\n",
            "weighted avg       0.64      0.33      0.26      2325\n",
            "\n"
          ],
          "name": "stdout"
        }
      ]
    },
    {
      "cell_type": "code",
      "metadata": {
        "id": "7Vo-qHEUObVo",
        "outputId": "069b3912-a4dd-4e76-f4a6-ed1fb492749f",
        "colab": {
          "base_uri": "https://localhost:8080/",
          "height": 483
        }
      },
      "source": [
        "fpr, tpr, threshold = roc_curve(df_y_sub, clf_train_pred)\n",
        "fig = plt.figure(figsize=(12,8)) \n",
        "ax = fig.add_subplot(1,1,1)\n",
        "plt.plot([0,1],[0,1], 'k--')\n",
        "plt.plot(fpr, tpr);"
      ],
      "execution_count": 27,
      "outputs": [
        {
          "output_type": "display_data",
          "data": {
            "image/png": "[encoded data removed]",
            "text/plain": [
              "<Figure size 864x576 with 1 Axes>"
            ]
          },
          "metadata": {
            "tags": [],
            "needs_background": "light"
          }
        }
      ]
    },
    {
      "cell_type": "markdown",
      "metadata": {
        "id": "6_i_vp6yOomt"
      },
      "source": [
        "# **training with CV**"
      ]
    },
    {
      "cell_type": "code",
      "metadata": {
        "id": "MtebeR9MOuD6",
        "outputId": "29775fbe-4b2b-4889-8e0d-328fe84bd195",
        "colab": {
          "base_uri": "https://localhost:8080/",
          "height": 232
        }
      },
      "source": [
        "eval_hist = lgb.cv(\n",
        "    params = params, train_set = train_data,\n",
        "    num_boost_round=100, \n",
        "    nfold=3,\n",
        "    stratified=True,\n",
        "    shuffle=True,\n",
        "    #metrics='auc', \n",
        "    fobj=None, ### explore later in detail\n",
        "    feval=None, ### explore later in detail\n",
        "    init_model=None,\n",
        "    feature_name='auto',\n",
        "    #early_stopping_rounds=5,\n",
        "    fpreproc=None,\n",
        "    verbose_eval=20,\n",
        "    show_stdv=True,\n",
        "    seed=0,\n",
        "    callbacks=None, ### explore later in detail\n",
        "    eval_train_metric=False,\n",
        "    return_cvbooster=False\n",
        ")"
      ],
      "execution_count": 28,
      "outputs": [
        {
          "output_type": "error",
          "ename": "NameError",
          "evalue": "ignored",
          "traceback": [
            "\u001b[0;31m---------------------------------------------------------------------------\u001b[0m",
            "\u001b[0;31mNameError\u001b[0m                                 Traceback (most recent call last)",
            "\u001b[0;32m<ipython-input-28-73622cf55152>\u001b[0m in \u001b[0;36m<module>\u001b[0;34m()\u001b[0m\n\u001b[1;32m      1\u001b[0m eval_hist = lgb.cv(\n\u001b[0;32m----> 2\u001b[0;31m     \u001b[0mparams\u001b[0m \u001b[0;34m=\u001b[0m \u001b[0mparams\u001b[0m\u001b[0;34m,\u001b[0m \u001b[0mtrain_set\u001b[0m \u001b[0;34m=\u001b[0m \u001b[0mtrain_data\u001b[0m\u001b[0;34m,\u001b[0m\u001b[0;34m\u001b[0m\u001b[0;34m\u001b[0m\u001b[0m\n\u001b[0m\u001b[1;32m      3\u001b[0m     \u001b[0mnum_boost_round\u001b[0m\u001b[0;34m=\u001b[0m\u001b[0;36m100\u001b[0m\u001b[0;34m,\u001b[0m\u001b[0;34m\u001b[0m\u001b[0;34m\u001b[0m\u001b[0m\n\u001b[1;32m      4\u001b[0m     \u001b[0mnfold\u001b[0m\u001b[0;34m=\u001b[0m\u001b[0;36m3\u001b[0m\u001b[0;34m,\u001b[0m\u001b[0;34m\u001b[0m\u001b[0;34m\u001b[0m\u001b[0m\n\u001b[1;32m      5\u001b[0m     \u001b[0mstratified\u001b[0m\u001b[0;34m=\u001b[0m\u001b[0;32mTrue\u001b[0m\u001b[0;34m,\u001b[0m\u001b[0;34m\u001b[0m\u001b[0;34m\u001b[0m\u001b[0m\n",
            "\u001b[0;31mNameError\u001b[0m: name 'train_data' is not defined"
          ]
        }
      ]
    }
  ]
}