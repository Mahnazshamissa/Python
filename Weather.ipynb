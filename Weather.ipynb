{
  "nbformat": 4,
  "nbformat_minor": 0,
  "metadata": {
    "colab": {
      "name": "Weather.ipynb",
      "provenance": [],
      "authorship_tag": "ABX9TyMeec9xyqG+azzuHY3qZrar",
      "include_colab_link": true
    },
    "kernelspec": {
      "name": "python3",
      "display_name": "Python 3"
    }
  },
  "cells": [
    {
      "cell_type": "markdown",
      "metadata": {
        "id": "view-in-github",
        "colab_type": "text"
      },
      "source": [
        "<a href=\"https://colab.research.google.com/github/Mahnazshamissa/Python/blob/main/Weather.ipynb\" target=\"_parent\"><img src=\"https://colab.research.google.com/assets/colab-badge.svg\" alt=\"Open In Colab\"/></a>"
      ]
    },
    {
      "cell_type": "code",
      "metadata": {
        "id": "xhJqWmDg-tPj",
        "outputId": "d8e814f5-f59a-42aa-8561-2dfe3786f42d",
        "colab": {
          "base_uri": "https://localhost:8080/",
          "height": 34
        }
      },
      "source": [
        "columns = ['Mo', 'Tue', 'Wed', 'Thur', 'Fri'] # width of the array - different days of the week \n",
        "rows = ['Vienna', 'Bogota', 'Stockholm', 'Kampala'] # height of the array - different cities \n",
        "weather = [ [9, 7, 10, 12, 11], # Vienna weather\n",
        "           [19, 17, 20, 19, 19], # Bogota weather \n",
        "           [9, 10, 9, 8, 8], # Stockholm weather \n",
        "           [23, 24, 21, 23, 22] # Kampala weather  \n",
        "           ]\n",
        "weather[2][1:3] #hard-coded"
      ],
      "execution_count": 3,
      "outputs": [
        {
          "output_type": "execute_result",
          "data": {
            "text/plain": [
              "[10, 9]"
            ]
          },
          "metadata": {
            "tags": []
          },
          "execution_count": 3
        }
      ]
    },
    {
      "cell_type": "code",
      "metadata": {
        "id": "toQCGg42Ltiz",
        "outputId": "7535af77-d4e1-4de2-f1fb-4816b02671c6",
        "colab": {
          "base_uri": "https://localhost:8080/",
          "height": 34
        }
      },
      "source": [
        "weather[rows.index('Stockholm')][columns.index('Tue'):columns.index('Thur')+1] #dynamic solution"
      ],
      "execution_count": 4,
      "outputs": [
        {
          "output_type": "execute_result",
          "data": {
            "text/plain": [
              "[10, 9, 8]"
            ]
          },
          "metadata": {
            "tags": []
          },
          "execution_count": 4
        }
      ]
    },
    {
      "cell_type": "code",
      "metadata": {
        "id": "83q5XpRVNIkQ",
        "outputId": "1c916a90-a166-48cd-f33e-5a04c5262f20",
        "colab": {
          "base_uri": "https://localhost:8080/",
          "height": 34
        }
      },
      "source": [
        "weather[rows.index('Stockholm')][columns.index('Tue'):columns.index('Thur')+1:2] #Tue, Thu \n",
        "#weather[rows.index('Stockholm')][columns.index('Tue'):columns.index('Wed')+2]\n"
      ],
      "execution_count": 5,
      "outputs": [
        {
          "output_type": "execute_result",
          "data": {
            "text/plain": [
              "[10, 8]"
            ]
          },
          "metadata": {
            "tags": []
          },
          "execution_count": 5
        }
      ]
    },
    {
      "cell_type": "code",
      "metadata": {
        "id": "ZG5uHKmQNNs1",
        "outputId": "bad7f486-bcf0-41f2-db81-4dcc653910ce",
        "colab": {
          "base_uri": "https://localhost:8080/",
          "height": 34
        }
      },
      "source": [
        "import numpy as np\n",
        "weatherArray = np.array(weather)\n",
        "weatherArray[[rows.index('Stockholm'),rows.index('Stockholm')],\n",
        "             [columns.index('Tue'),columns.index('Thur')]]"
      ],
      "execution_count": 6,
      "outputs": [
        {
          "output_type": "execute_result",
          "data": {
            "text/plain": [
              "array([10,  8])"
            ]
          },
          "metadata": {
            "tags": []
          },
          "execution_count": 6
        }
      ]
    },
    {
      "cell_type": "code",
      "metadata": {
        "id": "7qzlA5jwNfKb",
        "outputId": "dd52b904-1e6d-44d4-855f-e7d961f94c01",
        "colab": {
          "base_uri": "https://localhost:8080/",
          "height": 85
        }
      },
      "source": [
        "np_weather[[rows.index('Stockholm')],[columns.index('Tue'),columns.index('Thur')]]= [30, 31]\n",
        "np_weather"
      ],
      "execution_count": 11,
      "outputs": [
        {
          "output_type": "execute_result",
          "data": {
            "text/plain": [
              "array([[ 9,  7, 10, 12, 11],\n",
              "       [19, 17, 20, 19, 19],\n",
              "       [ 9, 30,  9, 31,  8],\n",
              "       [23, 24, 21, 23, 22]])"
            ]
          },
          "metadata": {
            "tags": []
          },
          "execution_count": 11
        }
      ]
    }
  ]
}