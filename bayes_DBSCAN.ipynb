{
  "nbformat": 4,
  "nbformat_minor": 0,
  "metadata": {
    "colab": {
      "name": "bayes_DBSCAN.ipynb",
      "provenance": [],
      "authorship_tag": "ABX9TyM30I6ApiW2zPQi4iA2IAVe",
      "include_colab_link": true
    },
    "kernelspec": {
      "name": "python3",
      "display_name": "Python 3"
    }
  },
  "cells": [
    {
      "cell_type": "markdown",
      "metadata": {
        "id": "view-in-github",
        "colab_type": "text"
      },
      "source": [
        "<a href=\"https://colab.research.google.com/github/Mahnazshamissa/Python/blob/main/bayes_DBSCAN.ipynb\" target=\"_parent\"><img src=\"https://colab.research.google.com/assets/colab-badge.svg\" alt=\"Open In Colab\"/></a>"
      ]
    },
    {
      "cell_type": "code",
      "metadata": {
        "id": "yxIZpdvY1FT3",
        "outputId": "3ef0363d-2970-41fd-edc9-32290eb1ccf9",
        "colab": {
          "base_uri": "https://localhost:8080/"
        }
      },
      "source": [
        "pip install scikit-optimize"
      ],
      "execution_count": 7,
      "outputs": [
        {
          "output_type": "stream",
          "text": [
            "Collecting scikit-optimize\n",
            "\u001b[?25l  Downloading https://files.pythonhosted.org/packages/8b/03/be33e89f55866065a02e515c5b319304a801a9f1027a9b311a9b1d1f8dc7/scikit_optimize-0.8.1-py2.py3-none-any.whl (101kB)\n",
            "\r\u001b[K     |███▎                            | 10kB 18.1MB/s eta 0:00:01\r\u001b[K     |██████▌                         | 20kB 1.7MB/s eta 0:00:01\r\u001b[K     |█████████▊                      | 30kB 2.2MB/s eta 0:00:01\r\u001b[K     |█████████████                   | 40kB 2.5MB/s eta 0:00:01\r\u001b[K     |████████████████▏               | 51kB 2.0MB/s eta 0:00:01\r\u001b[K     |███████████████████▍            | 61kB 2.2MB/s eta 0:00:01\r\u001b[K     |██████████████████████▊         | 71kB 2.5MB/s eta 0:00:01\r\u001b[K     |██████████████████████████      | 81kB 2.8MB/s eta 0:00:01\r\u001b[K     |█████████████████████████████▏  | 92kB 2.9MB/s eta 0:00:01\r\u001b[K     |████████████████████████████████| 102kB 2.4MB/s \n",
            "\u001b[?25hCollecting pyaml>=16.9\n",
            "  Downloading https://files.pythonhosted.org/packages/15/c4/1310a054d33abc318426a956e7d6df0df76a6ddfa9c66f6310274fb75d42/pyaml-20.4.0-py2.py3-none-any.whl\n",
            "Requirement already satisfied: scikit-learn>=0.20.0 in /usr/local/lib/python3.6/dist-packages (from scikit-optimize) (0.22.2.post1)\n",
            "Requirement already satisfied: numpy>=1.13.3 in /usr/local/lib/python3.6/dist-packages (from scikit-optimize) (1.18.5)\n",
            "Requirement already satisfied: scipy>=0.19.1 in /usr/local/lib/python3.6/dist-packages (from scikit-optimize) (1.4.1)\n",
            "Requirement already satisfied: joblib>=0.11 in /usr/local/lib/python3.6/dist-packages (from scikit-optimize) (0.17.0)\n",
            "Requirement already satisfied: PyYAML in /usr/local/lib/python3.6/dist-packages (from pyaml>=16.9->scikit-optimize) (3.13)\n",
            "Installing collected packages: pyaml, scikit-optimize\n",
            "Successfully installed pyaml-20.4.0 scikit-optimize-0.8.1\n"
          ],
          "name": "stdout"
        }
      ]
    },
    {
      "cell_type": "code",
      "metadata": {
        "id": "AwDQgGNhmA-2"
      },
      "source": [
        "import pandas as pd\n",
        "import numpy as np\n",
        "import matplotlib.pyplot as plt\n",
        "from sklearn.cluster import DBSCAN\n",
        "from sklearn.preprocessing import LabelEncoder"
      ],
      "execution_count": 8,
      "outputs": []
    },
    {
      "cell_type": "code",
      "metadata": {
        "id": "bR1xTNyE0VXa"
      },
      "source": [
        "from skopt.space import Real, Integer, Categorical\n",
        "import joblib\n",
        "import gc\n",
        "import itertools\n",
        "from skopt import gp_minimize\n",
        "from sklearn import metrics"
      ],
      "execution_count": 9,
      "outputs": []
    },
    {
      "cell_type": "code",
      "metadata": {
        "id": "HaOfsRpK0fxh"
      },
      "source": [
        "column_names = ['sepal_length', 'sepal_width', 'petal_length', 'petal_width', 'class']\n",
        "abo_path = '/content/iris.data'\n",
        "p_df_raw = pd.read_csv(abo_path, sep=',', encoding=\"UTF-8\", names=column_names)"
      ],
      "execution_count": 11,
      "outputs": []
    },
    {
      "cell_type": "code",
      "metadata": {
        "id": "R9mqwHYT1X8_"
      },
      "source": [
        "df_X = p_df_raw.drop(\"class\", axis=1)\n",
        "df_y = LabelEncoder().fit_transform(list(p_df_raw[\"class\"]))"
      ],
      "execution_count": 12,
      "outputs": []
    },
    {
      "cell_type": "code",
      "metadata": {
        "id": "U7cgf9eZ1c1d",
        "outputId": "5932568b-2a52-4295-e719-4cdb96b63e94",
        "colab": {
          "base_uri": "https://localhost:8080/"
        }
      },
      "source": [
        "df_X.isna().sum()"
      ],
      "execution_count": 13,
      "outputs": [
        {
          "output_type": "execute_result",
          "data": {
            "text/plain": [
              "sepal_length    0\n",
              "sepal_width     0\n",
              "petal_length    0\n",
              "petal_width     0\n",
              "dtype: int64"
            ]
          },
          "metadata": {
            "tags": []
          },
          "execution_count": 13
        }
      ]
    },
    {
      "cell_type": "code",
      "metadata": {
        "id": "sNrMiEkL1iIq"
      },
      "source": [
        "space  = [ Real(0.2, 10, name='eps')          \n",
        "          ,Integer(5, 50, name='min_samples')\n",
        "          ,Categorical(['euclidean', 'l1', 'l2'])\n",
        "         ]"
      ],
      "execution_count": 14,
      "outputs": []
    },
    {
      "cell_type": "code",
      "metadata": {
        "id": "rickxSOv1nyu"
      },
      "source": [
        "def objective(values):\n",
        "    \n",
        "\n",
        "    #print('\\nNext set of params.....',params)\n",
        "            \n",
        "        # Fit model on feature_set and calculate validation AUROC\n",
        "    \n",
        "    \n",
        "    db = DBSCAN(eps=values[0], \n",
        "                min_samples=values[1],\n",
        "                metric=values[2],\n",
        "               ).fit(df_X)\n",
        "    \n",
        "    labels = db.labels_\n",
        "    \n",
        "    v_measure = metrics.homogeneity_completeness_v_measure(df_y, labels)[2]\n",
        "    \n",
        "    #sill = metrics.silhouette_score(df_X, db.labels_, metric='euclidean', sample_size=None)  ### best score is 1\n",
        "\n",
        "\n",
        "    \n",
        "    print('v_measure.....', v_measure)\n",
        "    #print('sill.....', sill)\n",
        "\n",
        "    \n",
        "    gc.collect()\n",
        "    \n",
        "    #return  np.mean(train_auc_list)\n",
        "    return -v_measure"
      ],
      "execution_count": 15,
      "outputs": []
    },
    {
      "cell_type": "code",
      "metadata": {
        "id": "w6pT65Yy11Ha",
        "outputId": "aec23c4e-fbfe-4086-b288-3d1e250b04ba",
        "colab": {
          "base_uri": "https://localhost:8080/",
          "height": 885
        }
      },
      "source": [
        "res_gp = gp_minimize(objective, space, n_calls=50, random_state=0, n_random_starts=10, acq_func='LCB')\n",
        "\"Best score=%.4f\" % res_gp.fun"
      ],
      "execution_count": 16,
      "outputs": [
        {
          "output_type": "stream",
          "text": [
            "v_measure..... -9.095116925863002e-16\n",
            "v_measure..... -9.095116925863002e-16\n",
            "v_measure..... -9.095116925863002e-16\n",
            "v_measure..... -9.095116925863002e-16\n",
            "v_measure..... -9.095116925863002e-16\n",
            "v_measure..... -9.095116925863002e-16\n",
            "v_measure..... 0.6301893568173853\n",
            "v_measure..... -9.095116925863002e-16\n",
            "v_measure..... -9.095116925863002e-16\n",
            "v_measure..... -9.095116925863002e-16\n",
            "v_measure..... -9.095116925863002e-16\n",
            "v_measure..... -9.095116925863002e-16\n",
            "v_measure..... -9.095116925863002e-16\n",
            "v_measure..... 0.7336804366512104\n",
            "v_measure..... 0.6889051517417055\n",
            "v_measure..... 0.7336804366512104\n",
            "v_measure..... 0.6537440954814795\n",
            "v_measure..... 0.7336804366512104\n",
            "v_measure..... 0.7336804366512104\n",
            "v_measure..... 0.7336804366512104\n",
            "v_measure..... 0.7336804366512104\n",
            "v_measure..... -9.095116925863002e-16\n",
            "v_measure..... 0.7336804366512104\n",
            "v_measure..... 0.7336804366512104\n",
            "v_measure..... -9.095116925863002e-16\n",
            "v_measure..... -9.095116925863002e-16\n",
            "v_measure..... -9.095116925863002e-16\n",
            "v_measure..... 0.7336804366512104\n",
            "v_measure..... -9.095116925863002e-16\n",
            "v_measure..... -9.095116925863002e-16\n",
            "v_measure..... 0.7336804366512104\n",
            "v_measure..... 0.7336804366512104\n",
            "v_measure..... -9.095116925863002e-16\n",
            "v_measure..... -9.095116925863002e-16\n",
            "v_measure..... 0.7336804366512104\n",
            "v_measure..... -9.095116925863002e-16\n",
            "v_measure..... 0.6506296806560345\n",
            "v_measure..... 0.7336804366512104\n",
            "v_measure..... 0.7336804366512104\n",
            "v_measure..... 0.7336804366512104\n",
            "v_measure..... 0.7336804366512104\n",
            "v_measure..... 0.7336804366512104\n",
            "v_measure..... 0.7336804366512104\n",
            "v_measure..... -9.095116925863002e-16\n",
            "v_measure..... 0.7336804366512104\n",
            "v_measure..... 0.7336804366512104\n",
            "v_measure..... 0.7336804366512104\n",
            "v_measure..... 0.7336804366512104\n",
            "v_measure..... 0.7336804366512104\n",
            "v_measure..... 0.7336804366512104\n"
          ],
          "name": "stdout"
        },
        {
          "output_type": "execute_result",
          "data": {
            "application/vnd.google.colaboratory.intrinsic+json": {
              "type": "string"
            },
            "text/plain": [
              "'Best score=-0.7337'"
            ]
          },
          "metadata": {
            "tags": []
          },
          "execution_count": 16
        }
      ]
    },
    {
      "cell_type": "code",
      "metadata": {
        "id": "SBeYCwSf1-Je",
        "outputId": "d9bd9909-5b1b-476d-d9e2-5833dd77a137",
        "colab": {
          "base_uri": "https://localhost:8080/"
        }
      },
      "source": [
        "res_gp.x"
      ],
      "execution_count": 17,
      "outputs": [
        {
          "output_type": "execute_result",
          "data": {
            "text/plain": [
              "[1.8784040961309993, 7, 'l1']"
            ]
          },
          "metadata": {
            "tags": []
          },
          "execution_count": 17
        }
      ]
    },
    {
      "cell_type": "code",
      "metadata": {
        "id": "1n-B9NyE2DlK"
      },
      "source": [
        "db = DBSCAN(eps=res_gp.x[0], min_samples=res_gp.x[1], metric=res_gp.x[2] ).fit(df_X)\n",
        "labels = db.labels_"
      ],
      "execution_count": 18,
      "outputs": []
    },
    {
      "cell_type": "code",
      "metadata": {
        "id": "KDBsCOBc2Nuw",
        "outputId": "51ca1023-c0d7-44f4-e096-b7b5e01d6298",
        "colab": {
          "base_uri": "https://localhost:8080/"
        }
      },
      "source": [
        "# Number of clusters in labels, ignoring noise if present.\n",
        "n_clusters_ = len(set(labels)) - (1 if -1 in labels else 0)\n",
        "n_noise_ = list(labels).count(-1)\n",
        "\n",
        "print('Estimated number of clusters: %d' % n_clusters_)\n",
        "print('Estimated number of noise points: %d' % n_noise_)"
      ],
      "execution_count": 19,
      "outputs": [
        {
          "output_type": "stream",
          "text": [
            "Estimated number of clusters: 2\n",
            "Estimated number of noise points: 0\n"
          ],
          "name": "stdout"
        }
      ]
    },
    {
      "cell_type": "code",
      "metadata": {
        "id": "4Mt8IsLf2Syr",
        "outputId": "f1289106-47ac-47b3-ffa3-d55dd7b8759e",
        "colab": {
          "base_uri": "https://localhost:8080/"
        }
      },
      "source": [
        "print('Accuracy')\n",
        "print(metrics.accuracy_score(df_y, labels))\n",
        "print('Confusion Matrix')\n",
        "print(metrics.confusion_matrix(df_y, labels))\n",
        "print('Confusion Report')\n",
        "print(metrics.classification_report(df_y, labels))\n",
        "print('f1 score')\n",
        "print(metrics.f1_score(df_y, labels, average='weighted'))"
      ],
      "execution_count": 20,
      "outputs": [
        {
          "output_type": "stream",
          "text": [
            "Accuracy\n",
            "0.6666666666666666\n",
            "Confusion Matrix\n",
            "[[50  0  0]\n",
            " [ 0 50  0]\n",
            " [ 0 50  0]]\n",
            "Confusion Report\n",
            "              precision    recall  f1-score   support\n",
            "\n",
            "           0       1.00      1.00      1.00        50\n",
            "           1       0.50      1.00      0.67        50\n",
            "           2       0.00      0.00      0.00        50\n",
            "\n",
            "    accuracy                           0.67       150\n",
            "   macro avg       0.50      0.67      0.56       150\n",
            "weighted avg       0.50      0.67      0.56       150\n",
            "\n",
            "f1 score\n",
            "0.5555555555555555\n"
          ],
          "name": "stdout"
        },
        {
          "output_type": "stream",
          "text": [
            "/usr/local/lib/python3.6/dist-packages/sklearn/metrics/_classification.py:1272: UndefinedMetricWarning: Precision and F-score are ill-defined and being set to 0.0 in labels with no predicted samples. Use `zero_division` parameter to control this behavior.\n",
            "  _warn_prf(average, modifier, msg_start, len(result))\n"
          ],
          "name": "stderr"
        }
      ]
    }
  ]
}