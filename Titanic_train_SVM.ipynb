{
  "nbformat": 4,
  "nbformat_minor": 0,
  "metadata": {
    "colab": {
      "name": "Titanic_train_SVM.ipynb",
      "provenance": [],
      "authorship_tag": "ABX9TyN60Fx39cVTx4bWS+sbQivN",
      "include_colab_link": true
    },
    "kernelspec": {
      "name": "python3",
      "display_name": "Python 3"
    }
  },
  "cells": [
    {
      "cell_type": "markdown",
      "metadata": {
        "id": "view-in-github",
        "colab_type": "text"
      },
      "source": [
        "<a href=\"https://colab.research.google.com/github/Mahnazshamissa/Python/blob/main/Titanic_train_SVM.ipynb\" target=\"_parent\"><img src=\"https://colab.research.google.com/assets/colab-badge.svg\" alt=\"Open In Colab\"/></a>"
      ]
    },
    {
      "cell_type": "code",
      "metadata": {
        "id": "7ItFf0X2Nuve"
      },
      "source": [
        "import pandas as pd\n",
        "import numpy as np\n",
        "import matplotlib.pyplot as plt\n",
        "from sklearn import svm\n",
        "from sklearn.preprocessing import StandardScaler, LabelEncoder\n",
        "from sklearn.utils.class_weight import compute_class_weight\n",
        "from sklearn.model_selection import StratifiedKFold\n",
        "from sklearn.metrics import accuracy_score, confusion_matrix, classification_report, roc_curve, auc, roc_auc_score, precision_recall_curve, average_precision_score, plot_precision_recall_curve"
      ],
      "execution_count": 2,
      "outputs": []
    },
    {
      "cell_type": "code",
      "metadata": {
        "id": "0FGzwtu8N_qa"
      },
      "source": [
        "abo_path = '/content/train.csv'\n",
        "p_df_raw_train = pd.read_csv(abo_path, sep=',', encoding=\"UTF-8\")"
      ],
      "execution_count": 3,
      "outputs": []
    },
    {
      "cell_type": "code",
      "metadata": {
        "id": "gKxkrN1dOeUX",
        "outputId": "fad1187e-6656-4b59-a37e-155274aadefd",
        "colab": {
          "base_uri": "https://localhost:8080/",
          "height": 496
        }
      },
      "source": [
        "p_df_raw_train.head()"
      ],
      "execution_count": 4,
      "outputs": [
        {
          "output_type": "execute_result",
          "data": {
            "text/html": [
              "<div>\n",
              "<style scoped>\n",
              "    .dataframe tbody tr th:only-of-type {\n",
              "        vertical-align: middle;\n",
              "    }\n",
              "\n",
              "    .dataframe tbody tr th {\n",
              "        vertical-align: top;\n",
              "    }\n",
              "\n",
              "    .dataframe thead th {\n",
              "        text-align: right;\n",
              "    }\n",
              "</style>\n",
              "<table border=\"1\" class=\"dataframe\">\n",
              "  <thead>\n",
              "    <tr style=\"text-align: right;\">\n",
              "      <th></th>\n",
              "      <th>PassengerId</th>\n",
              "      <th>Survived</th>\n",
              "      <th>Pclass</th>\n",
              "      <th>Name</th>\n",
              "      <th>Sex</th>\n",
              "      <th>Age</th>\n",
              "      <th>SibSp</th>\n",
              "      <th>Parch</th>\n",
              "      <th>Ticket</th>\n",
              "      <th>Fare</th>\n",
              "      <th>Cabin</th>\n",
              "      <th>Embarked</th>\n",
              "    </tr>\n",
              "  </thead>\n",
              "  <tbody>\n",
              "    <tr>\n",
              "      <th>0</th>\n",
              "      <td>1</td>\n",
              "      <td>0</td>\n",
              "      <td>3</td>\n",
              "      <td>Braund, Mr. Owen Harris</td>\n",
              "      <td>male</td>\n",
              "      <td>22.0</td>\n",
              "      <td>1</td>\n",
              "      <td>0</td>\n",
              "      <td>A/5 21171</td>\n",
              "      <td>7.2500</td>\n",
              "      <td>NaN</td>\n",
              "      <td>S</td>\n",
              "    </tr>\n",
              "    <tr>\n",
              "      <th>1</th>\n",
              "      <td>2</td>\n",
              "      <td>1</td>\n",
              "      <td>1</td>\n",
              "      <td>Cumings, Mrs. John Bradley (Florence Briggs Th...</td>\n",
              "      <td>female</td>\n",
              "      <td>38.0</td>\n",
              "      <td>1</td>\n",
              "      <td>0</td>\n",
              "      <td>PC 17599</td>\n",
              "      <td>71.2833</td>\n",
              "      <td>C85</td>\n",
              "      <td>C</td>\n",
              "    </tr>\n",
              "    <tr>\n",
              "      <th>2</th>\n",
              "      <td>3</td>\n",
              "      <td>1</td>\n",
              "      <td>3</td>\n",
              "      <td>Heikkinen, Miss. Laina</td>\n",
              "      <td>female</td>\n",
              "      <td>26.0</td>\n",
              "      <td>0</td>\n",
              "      <td>0</td>\n",
              "      <td>STON/O2. 3101282</td>\n",
              "      <td>7.9250</td>\n",
              "      <td>NaN</td>\n",
              "      <td>S</td>\n",
              "    </tr>\n",
              "    <tr>\n",
              "      <th>3</th>\n",
              "      <td>4</td>\n",
              "      <td>1</td>\n",
              "      <td>1</td>\n",
              "      <td>Futrelle, Mrs. Jacques Heath (Lily May Peel)</td>\n",
              "      <td>female</td>\n",
              "      <td>35.0</td>\n",
              "      <td>1</td>\n",
              "      <td>0</td>\n",
              "      <td>113803</td>\n",
              "      <td>53.1000</td>\n",
              "      <td>C123</td>\n",
              "      <td>S</td>\n",
              "    </tr>\n",
              "    <tr>\n",
              "      <th>4</th>\n",
              "      <td>5</td>\n",
              "      <td>0</td>\n",
              "      <td>3</td>\n",
              "      <td>Allen, Mr. William Henry</td>\n",
              "      <td>male</td>\n",
              "      <td>35.0</td>\n",
              "      <td>0</td>\n",
              "      <td>0</td>\n",
              "      <td>373450</td>\n",
              "      <td>8.0500</td>\n",
              "      <td>NaN</td>\n",
              "      <td>S</td>\n",
              "    </tr>\n",
              "  </tbody>\n",
              "</table>\n",
              "</div>"
            ],
            "text/plain": [
              "   PassengerId  Survived  Pclass  ...     Fare Cabin  Embarked\n",
              "0            1         0       3  ...   7.2500   NaN         S\n",
              "1            2         1       1  ...  71.2833   C85         C\n",
              "2            3         1       3  ...   7.9250   NaN         S\n",
              "3            4         1       1  ...  53.1000  C123         S\n",
              "4            5         0       3  ...   8.0500   NaN         S\n",
              "\n",
              "[5 rows x 12 columns]"
            ]
          },
          "metadata": {
            "tags": []
          },
          "execution_count": 4
        }
      ]
    },
    {
      "cell_type": "code",
      "metadata": {
        "id": "FTS0UsgHOjIj",
        "outputId": "bed51192-8461-4ec5-8177-72618300c7d9",
        "colab": {
          "base_uri": "https://localhost:8080/"
        }
      },
      "source": [
        "p_df_raw_train.isna().sum()"
      ],
      "execution_count": 5,
      "outputs": [
        {
          "output_type": "execute_result",
          "data": {
            "text/plain": [
              "PassengerId      0\n",
              "Survived         0\n",
              "Pclass           0\n",
              "Name             0\n",
              "Sex              0\n",
              "Age            177\n",
              "SibSp            0\n",
              "Parch            0\n",
              "Ticket           0\n",
              "Fare             0\n",
              "Cabin          687\n",
              "Embarked         2\n",
              "dtype: int64"
            ]
          },
          "metadata": {
            "tags": []
          },
          "execution_count": 5
        }
      ]
    },
    {
      "cell_type": "code",
      "metadata": {
        "id": "RrZAVZI7Op5t"
      },
      "source": [
        "p_df_raw_train.Age = p_df_raw_train.Age.fillna(-1)\n",
        "p_df_raw_train.Cabin = p_df_raw_train.Cabin.fillna('NA')\n",
        "p_df_raw_train.Embarked = p_df_raw_train.Embarked.fillna('NA')"
      ],
      "execution_count": 6,
      "outputs": []
    },
    {
      "cell_type": "markdown",
      "metadata": {
        "id": "nTkknorlOtmh"
      },
      "source": [
        "# **Check class frequencies**"
      ]
    },
    {
      "cell_type": "code",
      "metadata": {
        "id": "y-ugU1C8Oxec",
        "outputId": "b2554989-93fc-40b8-b319-85d3674a7907",
        "colab": {
          "base_uri": "https://localhost:8080/"
        }
      },
      "source": [
        "y = p_df_raw_train.Survived\n",
        "sum(y), sum(y)/len(y)*100"
      ],
      "execution_count": 7,
      "outputs": [
        {
          "output_type": "execute_result",
          "data": {
            "text/plain": [
              "(342, 38.38383838383838)"
            ]
          },
          "metadata": {
            "tags": []
          },
          "execution_count": 7
        }
      ]
    },
    {
      "cell_type": "markdown",
      "metadata": {
        "id": "eZKuDLSTJy7g"
      },
      "source": [
        "# **Transform the data: make every column into number and scale the values of each column**"
      ]
    },
    {
      "cell_type": "code",
      "metadata": {
        "id": "hN6TsVZdJ28e"
      },
      "source": [
        "df_y = p_df_raw_train['Survived']\n",
        "df_X_raw = p_df_raw_train.drop(['Name'], axis=1)\n",
        "\n",
        "columns=df_X_raw.columns\n",
        "for f in df_X_raw.columns:\n",
        "    if df_X_raw[f].dtype == 'object':\n",
        "        df_X_raw[f] = LabelEncoder().fit_transform(list(df_X_raw[f]))"
      ],
      "execution_count": 8,
      "outputs": []
    },
    {
      "cell_type": "markdown",
      "metadata": {
        "id": "6UYr8yxMJ-JZ"
      },
      "source": [
        "# **Also try out \"power transform\" from sklearn.preprocessing**"
      ]
    },
    {
      "cell_type": "code",
      "metadata": {
        "id": "F2D2YfDdKBNT"
      },
      "source": [
        "scaler = StandardScaler()\n",
        "scaled_df = scaler.fit_transform(df_X_raw)\n",
        "df_X = pd.DataFrame(scaled_df, columns=columns)"
      ],
      "execution_count": 9,
      "outputs": []
    },
    {
      "cell_type": "code",
      "metadata": {
        "id": "G4NHRhqAKH5T"
      },
      "source": [
        "class_labels = np.unique(df_y)\n",
        "class_weights = compute_class_weight('balanced', class_labels, df_y)\n",
        "class_weights = dict(zip(class_labels, class_weights))"
      ],
      "execution_count": 10,
      "outputs": []
    },
    {
      "cell_type": "code",
      "metadata": {
        "id": "AgCr-oB-KK30",
        "outputId": "b18219b6-ad20-4632-be1b-f4f8ff3f21f6",
        "colab": {
          "base_uri": "https://localhost:8080/"
        }
      },
      "source": [
        "class_weights"
      ],
      "execution_count": 11,
      "outputs": [
        {
          "output_type": "execute_result",
          "data": {
            "text/plain": [
              "{0: 0.8114754098360656, 1: 1.3026315789473684}"
            ]
          },
          "metadata": {
            "tags": []
          },
          "execution_count": 11
        }
      ]
    },
    {
      "cell_type": "code",
      "metadata": {
        "id": "Vw92QvnIKO4J"
      },
      "source": [
        "df_X = df_X.reset_index()"
      ],
      "execution_count": 12,
      "outputs": []
    },
    {
      "cell_type": "code",
      "metadata": {
        "id": "vKGkPo1GKSBB",
        "outputId": "79c94922-7d11-406b-a18d-bba1d2c5ec31",
        "colab": {
          "base_uri": "https://localhost:8080/"
        }
      },
      "source": [
        "np.any(np.isnan(df_X))"
      ],
      "execution_count": 13,
      "outputs": [
        {
          "output_type": "execute_result",
          "data": {
            "text/plain": [
              "False"
            ]
          },
          "metadata": {
            "tags": []
          },
          "execution_count": 13
        }
      ]
    },
    {
      "cell_type": "code",
      "metadata": {
        "id": "VsKKSf6oKTv-",
        "outputId": "f2e22dd3-4049-4004-efbc-f2e68601751e",
        "colab": {
          "base_uri": "https://localhost:8080/"
        }
      },
      "source": [
        "np.all(np.isfinite(df_X))"
      ],
      "execution_count": 14,
      "outputs": [
        {
          "output_type": "execute_result",
          "data": {
            "text/plain": [
              "True"
            ]
          },
          "metadata": {
            "tags": []
          },
          "execution_count": 14
        }
      ]
    },
    {
      "cell_type": "code",
      "metadata": {
        "id": "RRSXLf7hKZXH",
        "outputId": "0b9ffce8-7e50-4e59-a60b-87816eec2adb",
        "colab": {
          "base_uri": "https://localhost:8080/"
        }
      },
      "source": [
        "df_X.isna().sum()"
      ],
      "execution_count": 15,
      "outputs": [
        {
          "output_type": "execute_result",
          "data": {
            "text/plain": [
              "index          0\n",
              "PassengerId    0\n",
              "Survived       0\n",
              "Pclass         0\n",
              "Sex            0\n",
              "Age            0\n",
              "SibSp          0\n",
              "Parch          0\n",
              "Ticket         0\n",
              "Fare           0\n",
              "Cabin          0\n",
              "Embarked       0\n",
              "dtype: int64"
            ]
          },
          "metadata": {
            "tags": []
          },
          "execution_count": 15
        }
      ]
    },
    {
      "cell_type": "markdown",
      "metadata": {
        "id": "Sa1APspaKwU4"
      },
      "source": [
        "# **Default parameters**"
      ]
    },
    {
      "cell_type": "code",
      "metadata": {
        "id": "0GWrKZs-KnS4"
      },
      "source": [
        "C=1.0\n",
        "kernel='rbf',\n",
        "degree=3,\n",
        "gamma='scale',\n",
        "coef0=0.0,\n",
        "shrinking=True,\n",
        "probability=False,\n",
        "tol=0.001,\n",
        "cache_size=200,\n",
        "class_weight=None,\n",
        "verbose=False,\n",
        "max_iter=-1,\n",
        "decision_function_shape='ovr',\n",
        "break_ties=False,\n",
        "random_state=None"
      ],
      "execution_count": 16,
      "outputs": []
    },
    {
      "cell_type": "code",
      "metadata": {
        "id": "rXLy58zuK6xS"
      },
      "source": [
        "clf = svm.SVC(C=1.0, class_weight=class_weights)"
      ],
      "execution_count": 17,
      "outputs": []
    },
    {
      "cell_type": "code",
      "metadata": {
        "id": "SDvGIsLKK8Y2",
        "outputId": "439e0617-40c2-4851-fce9-5ca00503ecd4",
        "colab": {
          "base_uri": "https://localhost:8080/"
        }
      },
      "source": [
        "clf.fit(df_X, df_y)"
      ],
      "execution_count": 18,
      "outputs": [
        {
          "output_type": "execute_result",
          "data": {
            "text/plain": [
              "SVC(C=1.0, break_ties=False, cache_size=200,\n",
              "    class_weight={0: 0.8114754098360656, 1: 1.3026315789473684}, coef0=0.0,\n",
              "    decision_function_shape='ovr', degree=3, gamma='scale', kernel='rbf',\n",
              "    max_iter=-1, probability=False, random_state=None, shrinking=True,\n",
              "    tol=0.001, verbose=False)"
            ]
          },
          "metadata": {
            "tags": []
          },
          "execution_count": 18
        }
      ]
    },
    {
      "cell_type": "code",
      "metadata": {
        "id": "qviV8XoQK_tg"
      },
      "source": [
        "clf_train_pred = clf.predict(df_X)"
      ],
      "execution_count": 19,
      "outputs": []
    },
    {
      "cell_type": "code",
      "metadata": {
        "id": "fRDRYFL6LFh9",
        "outputId": "3e478fe3-5ada-4a55-8f14-73994fed0305",
        "colab": {
          "base_uri": "https://localhost:8080/"
        }
      },
      "source": [
        "auc_train = roc_auc_score(df_y, clf_train_pred)\n",
        "print('\\nAUROC.....', auc_train)"
      ],
      "execution_count": 20,
      "outputs": [
        {
          "output_type": "stream",
          "text": [
            "\n",
            "AUROC..... 0.5320918416259227\n"
          ],
          "name": "stdout"
        }
      ]
    },
    {
      "cell_type": "code",
      "metadata": {
        "id": "fyRHzkSFLHMq"
      },
      "source": [
        "fpr, tpr, threshold = roc_curve(df_y, clf_train_pred)"
      ],
      "execution_count": 21,
      "outputs": []
    },
    {
      "cell_type": "code",
      "metadata": {
        "id": "tkxHaa0wLKNk",
        "outputId": "2276e784-fa85-4263-81df-cf6ae89a29c3",
        "colab": {
          "base_uri": "https://localhost:8080/",
          "height": 483
        }
      },
      "source": [
        "fig = plt.figure(figsize=(12,8)) \n",
        "ax = fig.add_subplot(1,1,1)\n",
        "plt.plot([0,1],[0,1], 'k--')\n",
        "plt.plot(fpr, tpr);"
      ],
      "execution_count": 22,
      "outputs": [
        {
          "output_type": "display_data",
          "data": {
            "image/png": "[encoded data removed]",
            "text/plain": [
              "<Figure size 864x576 with 1 Axes>"
            ]
          },
          "metadata": {
            "tags": [],
            "needs_background": "light"
          }
        }
      ]
    },
    {
      "cell_type": "code",
      "metadata": {
        "id": "hRx8HVFLLSqW",
        "outputId": "583f629d-d824-413c-8498-d23ec153ada1",
        "colab": {
          "base_uri": "https://localhost:8080/"
        }
      },
      "source": [
        "print('Accuracy')\n",
        "print(accuracy_score(df_y, clf_train_pred))\n",
        "print('Confusion Matrix')\n",
        "print(confusion_matrix(df_y, clf_train_pred))\n",
        "print('Confusion Report')\n",
        "print(classification_report(df_y, clf_train_pred))"
      ],
      "execution_count": 23,
      "outputs": [
        {
          "output_type": "stream",
          "text": [
            "Accuracy\n",
            "0.5218855218855218\n",
            "Confusion Matrix\n",
            "[[268 281]\n",
            " [145 197]]\n",
            "Confusion Report\n",
            "              precision    recall  f1-score   support\n",
            "\n",
            "           0       0.65      0.49      0.56       549\n",
            "           1       0.41      0.58      0.48       342\n",
            "\n",
            "    accuracy                           0.52       891\n",
            "   macro avg       0.53      0.53      0.52       891\n",
            "weighted avg       0.56      0.52      0.53       891\n",
            "\n"
          ],
          "name": "stdout"
        }
      ]
    },
    {
      "cell_type": "code",
      "metadata": {
        "id": "8ByUCSVbP-Ai"
      },
      "source": [
        "clf = svm.SVC(C=50.0, kernel= 'poly', class_weight=class_weights)"
      ],
      "execution_count": 36,
      "outputs": []
    },
    {
      "cell_type": "code",
      "metadata": {
        "id": "v531FzV_QJXF",
        "outputId": "25ec5657-89b0-4ff3-83cb-7e718c1f5e68",
        "colab": {
          "base_uri": "https://localhost:8080/"
        }
      },
      "source": [
        "clf.fit(df_X, df_y)"
      ],
      "execution_count": 37,
      "outputs": [
        {
          "output_type": "execute_result",
          "data": {
            "text/plain": [
              "SVC(C=50.0, break_ties=False, cache_size=200,\n",
              "    class_weight={0: 0.8114754098360656, 1: 1.3026315789473684}, coef0=0.0,\n",
              "    decision_function_shape='ovr', degree=3, gamma='scale', kernel='poly',\n",
              "    max_iter=-1, probability=False, random_state=None, shrinking=True,\n",
              "    tol=0.001, verbose=False)"
            ]
          },
          "metadata": {
            "tags": []
          },
          "execution_count": 37
        }
      ]
    },
    {
      "cell_type": "code",
      "metadata": {
        "id": "-nmQzx0LQN3f"
      },
      "source": [
        "clf_train_pred = clf.predict(df_X)"
      ],
      "execution_count": 40,
      "outputs": []
    },
    {
      "cell_type": "code",
      "metadata": {
        "id": "1ZONeS5yQO4q",
        "outputId": "9dbf5f55-919e-4168-bf3f-94f26abc3e90",
        "colab": {
          "base_uri": "https://localhost:8080/"
        }
      },
      "source": [
        "auc_train = roc_auc_score(df_y, clf_train_pred)\n",
        "print('\\nAUROC.....', auc_train)"
      ],
      "execution_count": 41,
      "outputs": [
        {
          "output_type": "stream",
          "text": [
            "\n",
            "AUROC..... 0.8834244080145719\n"
          ],
          "name": "stdout"
        }
      ]
    },
    {
      "cell_type": "code",
      "metadata": {
        "id": "P8SR-zFxQZ0P"
      },
      "source": [
        "fpr, tpr, threshold = roc_curve(df_y, clf_train_pred)"
      ],
      "execution_count": 42,
      "outputs": []
    },
    {
      "cell_type": "code",
      "metadata": {
        "id": "VZ32BT8XQepa",
        "outputId": "75796586-f091-4a0a-bf98-665f53d87445",
        "colab": {
          "base_uri": "https://localhost:8080/",
          "height": 483
        }
      },
      "source": [
        "fig = plt.figure(figsize=(12,8)) \n",
        "ax = fig.add_subplot(1,1,1)\n",
        "plt.plot([0,1],[0,1], 'k--')\n",
        "plt.plot(fpr, tpr);"
      ],
      "execution_count": 43,
      "outputs": [
        {
          "output_type": "display_data",
          "data": {
            "image/png": "[encoded data removed]",
            "text/plain": [
              "<Figure size 864x576 with 1 Axes>"
            ]
          },
          "metadata": {
            "tags": [],
            "needs_background": "light"
          }
        }
      ]
    },
    {
      "cell_type": "code",
      "metadata": {
        "id": "bFQeajgMSFtR",
        "outputId": "65f471d3-6fd1-4284-a396-227ddfbbf713",
        "colab": {
          "base_uri": "https://localhost:8080/"
        }
      },
      "source": [
        "print('Accuracy')\n",
        "print(accuracy_score(df_y, clf_train_pred))\n",
        "print('Confusion Matrix')\n",
        "print(confusion_matrix(df_y, clf_train_pred))\n",
        "print('Confusion Report')\n",
        "print(classification_report(df_y, clf_train_pred))"
      ],
      "execution_count": 44,
      "outputs": [
        {
          "output_type": "stream",
          "text": [
            "Accuracy\n",
            "0.856341189674523\n",
            "Confusion Matrix\n",
            "[[421 128]\n",
            " [  0 342]]\n",
            "Confusion Report\n",
            "              precision    recall  f1-score   support\n",
            "\n",
            "           0       1.00      0.77      0.87       549\n",
            "           1       0.73      1.00      0.84       342\n",
            "\n",
            "    accuracy                           0.86       891\n",
            "   macro avg       0.86      0.88      0.86       891\n",
            "weighted avg       0.90      0.86      0.86       891\n",
            "\n"
          ],
          "name": "stdout"
        }
      ]
    }
  ]
}