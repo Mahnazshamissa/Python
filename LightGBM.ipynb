{
  "nbformat": 4,
  "nbformat_minor": 0,
  "metadata": {
    "colab": {
      "name": "LightGBM.ipynb",
      "provenance": [],
      "authorship_tag": "ABX9TyMtTdT877nz5HV9GskQinRu",
      "include_colab_link": true
    },
    "kernelspec": {
      "name": "python3",
      "display_name": "Python 3"
    }
  },
  "cells": [
    {
      "cell_type": "markdown",
      "metadata": {
        "id": "view-in-github",
        "colab_type": "text"
      },
      "source": [
        "<a href=\"https://colab.research.google.com/github/Mahnazshamissa/Python/blob/main/LightGBM.ipynb\" target=\"_parent\"><img src=\"https://colab.research.google.com/assets/colab-badge.svg\" alt=\"Open In Colab\"/></a>"
      ]
    },
    {
      "cell_type": "code",
      "metadata": {
        "id": "OhowCo3-YrWp"
      },
      "source": [
        "import pandas as pd\n",
        "import numpy as np\n",
        "import matplotlib.pyplot as plt\n",
        "import lightgbm as lgb\n",
        "from sklearn.preprocessing import StandardScaler, LabelEncoder, PowerTransformer\n",
        "from sklearn.utils.class_weight import compute_class_weight\n",
        "from sklearn.model_selection import StratifiedKFold\n",
        "from sklearn.metrics import accuracy_score, confusion_matrix, classification_report, roc_curve, auc, f1_score\n",
        "from sklearn.metrics import roc_auc_score, precision_recall_curve, average_precision_score, plot_precision_recall_curve\n",
        "from sklearn.model_selection import train_test_split"
      ],
      "execution_count": 1,
      "outputs": []
    },
    {
      "cell_type": "code",
      "metadata": {
        "id": "iOIvZe4uZCNF"
      },
      "source": [
        "abo_path = '/content/WA_Fn-UseC_-Telco-Customer-Churn.csv'\n",
        "p_df_raw = pd.read_csv(abo_path, sep=',', encoding=\"UTF-8\")"
      ],
      "execution_count": 2,
      "outputs": []
    },
    {
      "cell_type": "code",
      "metadata": {
        "id": "K-ZaV7ESZX5K",
        "outputId": "165a1548-5d50-4ee9-d848-f512976e0b5f",
        "colab": {
          "base_uri": "https://localhost:8080/",
          "height": 292
        }
      },
      "source": [
        "p_df_raw.tail()"
      ],
      "execution_count": 3,
      "outputs": [
        {
          "output_type": "execute_result",
          "data": {
            "text/html": [
              "<div>\n",
              "<style scoped>\n",
              "    .dataframe tbody tr th:only-of-type {\n",
              "        vertical-align: middle;\n",
              "    }\n",
              "\n",
              "    .dataframe tbody tr th {\n",
              "        vertical-align: top;\n",
              "    }\n",
              "\n",
              "    .dataframe thead th {\n",
              "        text-align: right;\n",
              "    }\n",
              "</style>\n",
              "<table border=\"1\" class=\"dataframe\">\n",
              "  <thead>\n",
              "    <tr style=\"text-align: right;\">\n",
              "      <th></th>\n",
              "      <th>customerID</th>\n",
              "      <th>gender</th>\n",
              "      <th>SeniorCitizen</th>\n",
              "      <th>Partner</th>\n",
              "      <th>Dependents</th>\n",
              "      <th>tenure</th>\n",
              "      <th>PhoneService</th>\n",
              "      <th>MultipleLines</th>\n",
              "      <th>InternetService</th>\n",
              "      <th>OnlineSecurity</th>\n",
              "      <th>OnlineBackup</th>\n",
              "      <th>DeviceProtection</th>\n",
              "      <th>TechSupport</th>\n",
              "      <th>StreamingTV</th>\n",
              "      <th>StreamingMovies</th>\n",
              "      <th>Contract</th>\n",
              "      <th>PaperlessBilling</th>\n",
              "      <th>PaymentMethod</th>\n",
              "      <th>MonthlyCharges</th>\n",
              "      <th>TotalCharges</th>\n",
              "      <th>Churn</th>\n",
              "    </tr>\n",
              "  </thead>\n",
              "  <tbody>\n",
              "    <tr>\n",
              "      <th>7038</th>\n",
              "      <td>6840-RESVB</td>\n",
              "      <td>Male</td>\n",
              "      <td>0</td>\n",
              "      <td>Yes</td>\n",
              "      <td>Yes</td>\n",
              "      <td>24</td>\n",
              "      <td>Yes</td>\n",
              "      <td>Yes</td>\n",
              "      <td>DSL</td>\n",
              "      <td>Yes</td>\n",
              "      <td>No</td>\n",
              "      <td>Yes</td>\n",
              "      <td>Yes</td>\n",
              "      <td>Yes</td>\n",
              "      <td>Yes</td>\n",
              "      <td>One year</td>\n",
              "      <td>Yes</td>\n",
              "      <td>Mailed check</td>\n",
              "      <td>84.80</td>\n",
              "      <td>1990.5</td>\n",
              "      <td>No</td>\n",
              "    </tr>\n",
              "    <tr>\n",
              "      <th>7039</th>\n",
              "      <td>2234-XADUH</td>\n",
              "      <td>Female</td>\n",
              "      <td>0</td>\n",
              "      <td>Yes</td>\n",
              "      <td>Yes</td>\n",
              "      <td>72</td>\n",
              "      <td>Yes</td>\n",
              "      <td>Yes</td>\n",
              "      <td>Fiber optic</td>\n",
              "      <td>No</td>\n",
              "      <td>Yes</td>\n",
              "      <td>Yes</td>\n",
              "      <td>No</td>\n",
              "      <td>Yes</td>\n",
              "      <td>Yes</td>\n",
              "      <td>One year</td>\n",
              "      <td>Yes</td>\n",
              "      <td>Credit card (automatic)</td>\n",
              "      <td>103.20</td>\n",
              "      <td>7362.9</td>\n",
              "      <td>No</td>\n",
              "    </tr>\n",
              "    <tr>\n",
              "      <th>7040</th>\n",
              "      <td>4801-JZAZL</td>\n",
              "      <td>Female</td>\n",
              "      <td>0</td>\n",
              "      <td>Yes</td>\n",
              "      <td>Yes</td>\n",
              "      <td>11</td>\n",
              "      <td>No</td>\n",
              "      <td>No phone service</td>\n",
              "      <td>DSL</td>\n",
              "      <td>Yes</td>\n",
              "      <td>No</td>\n",
              "      <td>No</td>\n",
              "      <td>No</td>\n",
              "      <td>No</td>\n",
              "      <td>No</td>\n",
              "      <td>Month-to-month</td>\n",
              "      <td>Yes</td>\n",
              "      <td>Electronic check</td>\n",
              "      <td>29.60</td>\n",
              "      <td>346.45</td>\n",
              "      <td>No</td>\n",
              "    </tr>\n",
              "    <tr>\n",
              "      <th>7041</th>\n",
              "      <td>8361-LTMKD</td>\n",
              "      <td>Male</td>\n",
              "      <td>1</td>\n",
              "      <td>Yes</td>\n",
              "      <td>No</td>\n",
              "      <td>4</td>\n",
              "      <td>Yes</td>\n",
              "      <td>Yes</td>\n",
              "      <td>Fiber optic</td>\n",
              "      <td>No</td>\n",
              "      <td>No</td>\n",
              "      <td>No</td>\n",
              "      <td>No</td>\n",
              "      <td>No</td>\n",
              "      <td>No</td>\n",
              "      <td>Month-to-month</td>\n",
              "      <td>Yes</td>\n",
              "      <td>Mailed check</td>\n",
              "      <td>74.40</td>\n",
              "      <td>306.6</td>\n",
              "      <td>Yes</td>\n",
              "    </tr>\n",
              "    <tr>\n",
              "      <th>7042</th>\n",
              "      <td>3186-AJIEK</td>\n",
              "      <td>Male</td>\n",
              "      <td>0</td>\n",
              "      <td>No</td>\n",
              "      <td>No</td>\n",
              "      <td>66</td>\n",
              "      <td>Yes</td>\n",
              "      <td>No</td>\n",
              "      <td>Fiber optic</td>\n",
              "      <td>Yes</td>\n",
              "      <td>No</td>\n",
              "      <td>Yes</td>\n",
              "      <td>Yes</td>\n",
              "      <td>Yes</td>\n",
              "      <td>Yes</td>\n",
              "      <td>Two year</td>\n",
              "      <td>Yes</td>\n",
              "      <td>Bank transfer (automatic)</td>\n",
              "      <td>105.65</td>\n",
              "      <td>6844.5</td>\n",
              "      <td>No</td>\n",
              "    </tr>\n",
              "  </tbody>\n",
              "</table>\n",
              "</div>"
            ],
            "text/plain": [
              "      customerID  gender  SeniorCitizen  ... MonthlyCharges TotalCharges  Churn\n",
              "7038  6840-RESVB    Male              0  ...          84.80       1990.5     No\n",
              "7039  2234-XADUH  Female              0  ...         103.20       7362.9     No\n",
              "7040  4801-JZAZL  Female              0  ...          29.60       346.45     No\n",
              "7041  8361-LTMKD    Male              1  ...          74.40        306.6    Yes\n",
              "7042  3186-AJIEK    Male              0  ...         105.65       6844.5     No\n",
              "\n",
              "[5 rows x 21 columns]"
            ]
          },
          "metadata": {
            "tags": []
          },
          "execution_count": 3
        }
      ]
    },
    {
      "cell_type": "code",
      "metadata": {
        "id": "89FHTMeWZeCr",
        "outputId": "c0da59c5-9483-4c90-9ec1-5e07bfafc9b8",
        "colab": {
          "base_uri": "https://localhost:8080/"
        }
      },
      "source": [
        "p_df_raw.isna().sum()"
      ],
      "execution_count": 4,
      "outputs": [
        {
          "output_type": "execute_result",
          "data": {
            "text/plain": [
              "customerID          0\n",
              "gender              0\n",
              "SeniorCitizen       0\n",
              "Partner             0\n",
              "Dependents          0\n",
              "tenure              0\n",
              "PhoneService        0\n",
              "MultipleLines       0\n",
              "InternetService     0\n",
              "OnlineSecurity      0\n",
              "OnlineBackup        0\n",
              "DeviceProtection    0\n",
              "TechSupport         0\n",
              "StreamingTV         0\n",
              "StreamingMovies     0\n",
              "Contract            0\n",
              "PaperlessBilling    0\n",
              "PaymentMethod       0\n",
              "MonthlyCharges      0\n",
              "TotalCharges        0\n",
              "Churn               0\n",
              "dtype: int64"
            ]
          },
          "metadata": {
            "tags": []
          },
          "execution_count": 4
        }
      ]
    },
    {
      "cell_type": "markdown",
      "metadata": {
        "id": "dTAfEFA9Zimm"
      },
      "source": [
        "# **Transform the data: make every column into number and scale the values of each column**"
      ]
    },
    {
      "cell_type": "code",
      "metadata": {
        "id": "BNZbg0LjZpEs"
      },
      "source": [
        "df_y = p_df_raw['Churn']\n",
        "df_y = pd.DataFrame(LabelEncoder().fit_transform(df_y))\n",
        "df_y = df_y.reset_index(drop=True)\n",
        "\n",
        "df_X_raw = p_df_raw.drop(['customerID', 'Churn'], axis=1)\n",
        "#df_X_raw = p_df_raw_train.drop(['Name'], axis=1)\n",
        "\n",
        "columns=df_X_raw.columns\n",
        "for f in df_X_raw.columns:\n",
        "    if df_X_raw[f].dtype == 'object':\n",
        "        df_X_raw[f] = LabelEncoder().fit_transform(list(df_X_raw[f]))"
      ],
      "execution_count": 5,
      "outputs": []
    },
    {
      "cell_type": "code",
      "metadata": {
        "id": "dJOthGlOeGxW"
      },
      "source": [
        "scaler = PowerTransformer()\n",
        "scaled_df = scaler.fit_transform(df_X_raw)\n",
        "df_X = pd.DataFrame(scaled_df, columns=columns)\n",
        "df_X = df_X.reset_index(drop=True)"
      ],
      "execution_count": 6,
      "outputs": []
    },
    {
      "cell_type": "code",
      "metadata": {
        "id": "lRs1vdJdeNPZ",
        "outputId": "5d2d528a-465e-43f0-9d99-ef784e47fb85",
        "colab": {
          "base_uri": "https://localhost:8080/"
        }
      },
      "source": [
        "class_labels = np.unique(df_y)\n",
        "class_weights = compute_class_weight('balanced', class_labels, df_y)\n",
        "class_weights = dict(zip(class_labels, class_weights))"
      ],
      "execution_count": 7,
      "outputs": [
        {
          "output_type": "stream",
          "text": [
            "/usr/local/lib/python3.6/dist-packages/sklearn/preprocessing/_label.py:251: DataConversionWarning: A column-vector y was passed when a 1d array was expected. Please change the shape of y to (n_samples, ), for example using ravel().\n",
            "  y = column_or_1d(y, warn=True)\n"
          ],
          "name": "stderr"
        }
      ]
    },
    {
      "cell_type": "code",
      "metadata": {
        "id": "g1P5TkeueX7s",
        "outputId": "c2573c7f-dddb-46fe-fe5b-6bb1f7c50443",
        "colab": {
          "base_uri": "https://localhost:8080/"
        }
      },
      "source": [
        "class_weights"
      ],
      "execution_count": 8,
      "outputs": [
        {
          "output_type": "execute_result",
          "data": {
            "text/plain": [
              "{0: 0.6806146115191342, 1: 1.8841626538255751}"
            ]
          },
          "metadata": {
            "tags": []
          },
          "execution_count": 8
        }
      ]
    },
    {
      "cell_type": "code",
      "metadata": {
        "id": "74V_H_clebzi",
        "outputId": "62fc92dc-353f-4d02-de04-69df3150e235",
        "colab": {
          "base_uri": "https://localhost:8080/"
        }
      },
      "source": [
        "df_X.isna().sum()"
      ],
      "execution_count": 9,
      "outputs": [
        {
          "output_type": "execute_result",
          "data": {
            "text/plain": [
              "gender              0\n",
              "SeniorCitizen       0\n",
              "Partner             0\n",
              "Dependents          0\n",
              "tenure              0\n",
              "PhoneService        0\n",
              "MultipleLines       0\n",
              "InternetService     0\n",
              "OnlineSecurity      0\n",
              "OnlineBackup        0\n",
              "DeviceProtection    0\n",
              "TechSupport         0\n",
              "StreamingTV         0\n",
              "StreamingMovies     0\n",
              "Contract            0\n",
              "PaperlessBilling    0\n",
              "PaymentMethod       0\n",
              "MonthlyCharges      0\n",
              "TotalCharges        0\n",
              "dtype: int64"
            ]
          },
          "metadata": {
            "tags": []
          },
          "execution_count": 9
        }
      ]
    },
    {
      "cell_type": "code",
      "metadata": {
        "id": "35yuXBOGe0QZ"
      },
      "source": [
        "X_train, X_test, y_train, y_test = train_test_split(df_X, df_y)"
      ],
      "execution_count": 10,
      "outputs": []
    },
    {
      "cell_type": "code",
      "metadata": {
        "id": "Qwnkzn-ke3-6"
      },
      "source": [
        "categorical_feature=['gender', 'SeniorCitizen', 'Partner', 'Dependent',\n",
        "                     'PhoneService', 'MultipleLines', 'InternetService','OnlineSecurity', 'DeviceProtection', 'TechSupport',\n",
        "                     'StreamingTV', 'StreamingMovies','Contract', 'PaperlessBilling', 'PaymentMethod' ]\n",
        "\n",
        "train_data = lgb.Dataset(X_train, label=y_train) #categorical_feature=categorical_feature)"
      ],
      "execution_count": 11,
      "outputs": []
    },
    {
      "cell_type": "markdown",
      "metadata": {
        "id": "UxPYtT-kfBiI"
      },
      "source": [
        "# **LightGM parameters**"
      ]
    },
    {
      "cell_type": "code",
      "metadata": {
        "id": "it3lA9cVfFJQ"
      },
      "source": [
        "params = {}\n",
        "#params['max_bin'] = 10\n",
        "params['learning_rate'] = 0.1 # shrinkage_rate\n",
        "params['metric'] = 'auc'          # or 'mae'\n",
        "params['sub_feature'] = 0.50      # feature_fraction \n",
        "params['bagging_fraction'] = 0.85 # sub_row\n",
        "params['bagging_freq'] = 40\n",
        "params['verbose'] = 0"
      ],
      "execution_count": 12,
      "outputs": []
    },
    {
      "cell_type": "markdown",
      "metadata": {
        "id": "aX8R2lTvfLNK"
      },
      "source": [
        "# **training with CV**"
      ]
    },
    {
      "cell_type": "code",
      "metadata": {
        "id": "Ruj1civ5kMUR"
      },
      "source": [
        "eval_hist = lgb.cv(\n",
        "    params = params, train_set = train_data,\n",
        "    num_boost_round=100, \n",
        "    nfold=3,\n",
        "    stratified=True,\n",
        "    shuffle=True,\n",
        "    #metrics='auc', \n",
        "    fobj=None, ### explore later in detail\n",
        "    feval=None, ### explore later in detail\n",
        "    init_model=None,\n",
        "    feature_name='auto',\n",
        "    #early_stopping_rounds=5,\n",
        "    fpreproc=None,\n",
        "    verbose_eval=20,\n",
        "    show_stdv=True,\n",
        "    seed=0,\n",
        "    callbacks=None, ### explore later in detail\n",
        "    eval_train_metric=False,\n",
        "    return_cvbooster=False\n",
        ")"
      ],
      "execution_count": null,
      "outputs": []
    },
    {
      "cell_type": "code",
      "metadata": {
        "id": "wcfJr8mVkWFt"
      },
      "source": [
        "# Display results\n",
        "print('Current parameters:\\n', params)\n",
        "print('\\nBest num_boost_round:', len(eval_hist['auc-mean']))\n",
        "print('Best CV score:', eval_hist['auc-mean'][-1])"
      ],
      "execution_count": null,
      "outputs": []
    },
    {
      "cell_type": "code",
      "metadata": {
        "id": "SWfT8ubBkZZw"
      },
      "source": [
        "bst = lgb.train(params, train_data, 100)"
      ],
      "execution_count": null,
      "outputs": []
    },
    {
      "cell_type": "markdown",
      "metadata": {
        "id": "3tSBmOSYkceC"
      },
      "source": [
        "# **Predicting on test data**"
      ]
    },
    {
      "cell_type": "code",
      "metadata": {
        "id": "ayi91WEJkhM5"
      },
      "source": [
        "clf_test_pred = bst.predict(X_test)"
      ],
      "execution_count": null,
      "outputs": []
    },
    {
      "cell_type": "markdown",
      "metadata": {
        "id": "hqSxxCVckifm"
      },
      "source": [
        "# **convert prob to binary classes**"
      ]
    },
    {
      "cell_type": "code",
      "metadata": {
        "id": "jxwFlpAekpXc"
      },
      "source": [
        "clf_test_pred_class = np.where(clf_test_pred > 0.5, 1, 0)"
      ],
      "execution_count": null,
      "outputs": []
    },
    {
      "cell_type": "code",
      "metadata": {
        "id": "S0n9Wgtskqeq"
      },
      "source": [
        "auc_test = roc_auc_score(y_test, clf_test_pred_class)\n",
        "test_f1 = round(f1_score(y_test, clf_test_pred_class), 8)*100\n",
        "print('\\nAUROC:',auc_test, \", F1 score:\", test_f1)"
      ],
      "execution_count": null,
      "outputs": []
    },
    {
      "cell_type": "code",
      "metadata": {
        "id": "JTjVv6wEktYE"
      },
      "source": [
        "fpr, tpr, threshold = roc_curve(y_test, clf_test_pred_class)"
      ],
      "execution_count": null,
      "outputs": []
    },
    {
      "cell_type": "code",
      "metadata": {
        "id": "3Z7l1HhSkwfg"
      },
      "source": [
        "fig = plt.figure(figsize=(12,8)) \n",
        "ax = fig.add_subplot(1,1,1)\n",
        "plt.plot([0,1],[0,1], 'k--')\n",
        "plt.plot(fpr, tpr);"
      ],
      "execution_count": null,
      "outputs": []
    },
    {
      "cell_type": "code",
      "metadata": {
        "id": "JbmTvAMAk2s7"
      },
      "source": [
        "print('Accuracy')\n",
        "print(accuracy_score(y_test, clf_test_pred_class))\n",
        "print('Confusion Matrix')\n",
        "print(confusion_matrix(y_test, clf_test_pred_class))\n",
        "print('Confusion Report')\n",
        "print(classification_report(y_test, clf_test_pred_class))"
      ],
      "execution_count": null,
      "outputs": []
    },
    {
      "cell_type": "markdown",
      "metadata": {
        "id": "7IIYnbtak8wk"
      },
      "source": [
        "# **Rpeat the above stats for test data**\n",
        "\n",
        "# **saving/loading the model**"
      ]
    },
    {
      "cell_type": "code",
      "metadata": {
        "id": "Z75HBb8PlLjo"
      },
      "source": [
        "joblib.dump(clf, 'Lgbm_F1_.pkl')"
      ],
      "execution_count": null,
      "outputs": []
    },
    {
      "cell_type": "code",
      "metadata": {
        "id": "eNLp0HGOlOXL"
      },
      "source": [
        "clf_pickle = joblib.load('Lgbm_F1.pkl')"
      ],
      "execution_count": null,
      "outputs": []
    }
  ]
}