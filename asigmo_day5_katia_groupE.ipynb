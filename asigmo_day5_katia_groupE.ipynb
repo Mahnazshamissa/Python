{
  "nbformat": 4,
  "nbformat_minor": 0,
  "metadata": {
    "colab": {
      "name": "asigmo_day5_katia_groupE.ipynb",
      "provenance": [],
      "collapsed_sections": [],
      "include_colab_link": true
    },
    "kernelspec": {
      "name": "python3",
      "display_name": "Python 3"
    }
  },
  "cells": [
    {
      "cell_type": "markdown",
      "metadata": {
        "id": "view-in-github",
        "colab_type": "text"
      },
      "source": [
        "<a href=\"https://colab.research.google.com/github/Mahnazshamissa/Python/blob/main/asigmo_day5_katia_groupE.ipynb\" target=\"_parent\"><img src=\"https://colab.research.google.com/assets/colab-badge.svg\" alt=\"Open In Colab\"/></a>"
      ]
    },
    {
      "cell_type": "markdown",
      "metadata": {
        "id": "Ch4Vqm6amLYh"
      },
      "source": [
        "day 5 with Katia - basic python commmands\n"
      ]
    },
    {
      "cell_type": "code",
      "metadata": {
        "id": "qfiZzZZFMe8k"
      },
      "source": [
        "import pandas as pd"
      ],
      "execution_count": null,
      "outputs": []
    },
    {
      "cell_type": "code",
      "metadata": {
        "id": "v84OT-n-Isly",
        "outputId": "6662b32d-ff1d-419a-fdf0-6d1b9e956d48",
        "colab": {
          "base_uri": "https://localhost:8080/",
          "height": 218
        }
      },
      "source": [
        "titanic = pd.read_csv('/content/train.csv')\n",
        "titanic.Fare.value_counts"
      ],
      "execution_count": null,
      "outputs": [
        {
          "output_type": "execute_result",
          "data": {
            "text/plain": [
              "<bound method IndexOpsMixin.value_counts of 0       7.2500\n",
              "1      71.2833\n",
              "2       7.9250\n",
              "3      53.1000\n",
              "4       8.0500\n",
              "        ...   \n",
              "886    13.0000\n",
              "887    30.0000\n",
              "888    23.4500\n",
              "889    30.0000\n",
              "890     7.7500\n",
              "Name: Fare, Length: 891, dtype: float64>"
            ]
          },
          "metadata": {
            "tags": []
          },
          "execution_count": 27
        }
      ]
    },
    {
      "cell_type": "code",
      "metadata": {
        "id": "vtwdYfYjKRgA",
        "outputId": "c5f9ccfb-e639-44cb-d282-b5930fbf9685",
        "colab": {
          "base_uri": "https://localhost:8080/",
          "height": 229
        }
      },
      "source": [
        "titanic.head()"
      ],
      "execution_count": null,
      "outputs": [
        {
          "output_type": "execute_result",
          "data": {
            "text/html": [
              "<div>\n",
              "<style scoped>\n",
              "    .dataframe tbody tr th:only-of-type {\n",
              "        vertical-align: middle;\n",
              "    }\n",
              "\n",
              "    .dataframe tbody tr th {\n",
              "        vertical-align: top;\n",
              "    }\n",
              "\n",
              "    .dataframe thead th {\n",
              "        text-align: right;\n",
              "    }\n",
              "</style>\n",
              "<table border=\"1\" class=\"dataframe\">\n",
              "  <thead>\n",
              "    <tr style=\"text-align: right;\">\n",
              "      <th></th>\n",
              "      <th>PassengerId</th>\n",
              "      <th>Survived</th>\n",
              "      <th>Pclass</th>\n",
              "      <th>Name</th>\n",
              "      <th>Sex</th>\n",
              "      <th>Age</th>\n",
              "      <th>SibSp</th>\n",
              "      <th>Parch</th>\n",
              "      <th>Ticket</th>\n",
              "      <th>Fare</th>\n",
              "      <th>Cabin</th>\n",
              "      <th>Embarked</th>\n",
              "    </tr>\n",
              "  </thead>\n",
              "  <tbody>\n",
              "    <tr>\n",
              "      <th>0</th>\n",
              "      <td>1</td>\n",
              "      <td>0</td>\n",
              "      <td>3</td>\n",
              "      <td>Braund, Mr. Owen Harris</td>\n",
              "      <td>male</td>\n",
              "      <td>22.0</td>\n",
              "      <td>1</td>\n",
              "      <td>0</td>\n",
              "      <td>A/5 21171</td>\n",
              "      <td>7.2500</td>\n",
              "      <td>NaN</td>\n",
              "      <td>S</td>\n",
              "    </tr>\n",
              "    <tr>\n",
              "      <th>1</th>\n",
              "      <td>2</td>\n",
              "      <td>1</td>\n",
              "      <td>1</td>\n",
              "      <td>Cumings, Mrs. John Bradley (Florence Briggs Th...</td>\n",
              "      <td>female</td>\n",
              "      <td>38.0</td>\n",
              "      <td>1</td>\n",
              "      <td>0</td>\n",
              "      <td>PC 17599</td>\n",
              "      <td>71.2833</td>\n",
              "      <td>C85</td>\n",
              "      <td>C</td>\n",
              "    </tr>\n",
              "    <tr>\n",
              "      <th>2</th>\n",
              "      <td>3</td>\n",
              "      <td>1</td>\n",
              "      <td>3</td>\n",
              "      <td>Heikkinen, Miss. Laina</td>\n",
              "      <td>female</td>\n",
              "      <td>26.0</td>\n",
              "      <td>0</td>\n",
              "      <td>0</td>\n",
              "      <td>STON/O2. 3101282</td>\n",
              "      <td>7.9250</td>\n",
              "      <td>NaN</td>\n",
              "      <td>S</td>\n",
              "    </tr>\n",
              "    <tr>\n",
              "      <th>3</th>\n",
              "      <td>4</td>\n",
              "      <td>1</td>\n",
              "      <td>1</td>\n",
              "      <td>Futrelle, Mrs. Jacques Heath (Lily May Peel)</td>\n",
              "      <td>female</td>\n",
              "      <td>35.0</td>\n",
              "      <td>1</td>\n",
              "      <td>0</td>\n",
              "      <td>113803</td>\n",
              "      <td>53.1000</td>\n",
              "      <td>C123</td>\n",
              "      <td>S</td>\n",
              "    </tr>\n",
              "    <tr>\n",
              "      <th>4</th>\n",
              "      <td>5</td>\n",
              "      <td>0</td>\n",
              "      <td>3</td>\n",
              "      <td>Allen, Mr. William Henry</td>\n",
              "      <td>male</td>\n",
              "      <td>35.0</td>\n",
              "      <td>0</td>\n",
              "      <td>0</td>\n",
              "      <td>373450</td>\n",
              "      <td>8.0500</td>\n",
              "      <td>NaN</td>\n",
              "      <td>S</td>\n",
              "    </tr>\n",
              "  </tbody>\n",
              "</table>\n",
              "</div>"
            ],
            "text/plain": [
              "   PassengerId  Survived  Pclass  ...     Fare Cabin  Embarked\n",
              "0            1         0       3  ...   7.2500   NaN         S\n",
              "1            2         1       1  ...  71.2833   C85         C\n",
              "2            3         1       3  ...   7.9250   NaN         S\n",
              "3            4         1       1  ...  53.1000  C123         S\n",
              "4            5         0       3  ...   8.0500   NaN         S\n",
              "\n",
              "[5 rows x 12 columns]"
            ]
          },
          "metadata": {
            "tags": []
          },
          "execution_count": 28
        }
      ]
    },
    {
      "cell_type": "code",
      "metadata": {
        "id": "r8OJjtdqcU7F",
        "outputId": "05da51a4-c48a-47be-a683-1de48a85af20",
        "colab": {
          "base_uri": "https://localhost:8080/",
          "height": 279
        }
      },
      "source": [
        "import seaborn as sns\n",
        "import matplotlib.pyplot as plt\n",
        "titanic.Survived.value_counts().plot(kind=\"bar\",alpha=0.5)"
      ],
      "execution_count": null,
      "outputs": [
        {
          "output_type": "execute_result",
          "data": {
            "text/plain": [
              "<matplotlib.axes._subplots.AxesSubplot at 0x7f1417b4fa58>"
            ]
          },
          "metadata": {
            "tags": []
          },
          "execution_count": 30
        },
        {
          "output_type": "display_data",
          "data": {
            "image/png": "[encoded data removed]",
            "text/plain": [
              "<Figure size 432x288 with 1 Axes>"
            ]
          },
          "metadata": {
            "tags": [],
            "needs_background": "light"
          }
        }
      ]
    },
    {
      "cell_type": "code",
      "metadata": {
        "id": "YILx0gNidprN",
        "outputId": "e4af3a3e-66b4-4a2f-8a0b-7249f8f42b99",
        "colab": {
          "base_uri": "https://localhost:8080/",
          "height": 296
        }
      },
      "source": [
        "#titanic.plot(kind='scatter',  x=\"Age\", y=\"Survived\")\n",
        "sns.violinplot(y=titanic.Age, x=titanic.Survived)"
      ],
      "execution_count": null,
      "outputs": [
        {
          "output_type": "execute_result",
          "data": {
            "text/plain": [
              "<matplotlib.axes._subplots.AxesSubplot at 0x7f14145c4e10>"
            ]
          },
          "metadata": {
            "tags": []
          },
          "execution_count": 37
        },
        {
          "output_type": "display_data",
          "data": {
            "image/png": "[encoded data removed]",
            "text/plain": [
              "<Figure size 432x288 with 1 Axes>"
            ]
          },
          "metadata": {
            "tags": [],
            "needs_background": "light"
          }
        }
      ]
    },
    {
      "cell_type": "code",
      "metadata": {
        "id": "ThVdL9Bpfif2",
        "outputId": "dc8ad365-a9e5-4c8a-8831-3e86d9b7f3ce",
        "colab": {
          "base_uri": "https://localhost:8080/",
          "height": 279
        }
      },
      "source": [
        "titanic.plot(x=\"Pclass\", y=\"Fare\", kind=\"scatter\");"
      ],
      "execution_count": null,
      "outputs": [
        {
          "output_type": "display_data",
          "data": {
            "image/png": "[encoded data removed]",
            "text/plain": [
              "<Figure size 432x288 with 1 Axes>"
            ]
          },
          "metadata": {
            "tags": [],
            "needs_background": "light"
          }
        }
      ]
    },
    {
      "cell_type": "code",
      "metadata": {
        "id": "ilWqblEYfiaz",
        "outputId": "dc2c89d4-2194-431c-e3cd-65e146f9fe16",
        "colab": {
          "base_uri": "https://localhost:8080/",
          "height": 265
        }
      },
      "source": [
        "df=titanic.groupby('Survived').count()\n",
        "df.plot.pie(y='Age')\n"
      ],
      "execution_count": null,
      "outputs": [
        {
          "output_type": "execute_result",
          "data": {
            "text/plain": [
              "<matplotlib.axes._subplots.AxesSubplot at 0x7f14139388d0>"
            ]
          },
          "metadata": {
            "tags": []
          },
          "execution_count": 75
        },
        {
          "output_type": "display_data",
          "data": {
            "image/png": "[encoded data removed]",
            "text/plain": [
              "<Figure size 432x288 with 1 Axes>"
            ]
          },
          "metadata": {
            "tags": []
          }
        }
      ]
    },
    {
      "cell_type": "code",
      "metadata": {
        "id": "rDmpc4wDnya8",
        "outputId": "4d849d38-7ad2-4ec9-c4fd-a95e60b0b5f0",
        "colab": {
          "base_uri": "https://localhost:8080/",
          "height": 265
        }
      },
      "source": [
        "df.plot.pie(y='Embarked')"
      ],
      "execution_count": null,
      "outputs": [
        {
          "output_type": "execute_result",
          "data": {
            "text/plain": [
              "<matplotlib.axes._subplots.AxesSubplot at 0x7f140e13f160>"
            ]
          },
          "metadata": {
            "tags": []
          },
          "execution_count": 78
        },
        {
          "output_type": "display_data",
          "data": {
            "image/png": "[encoded data removed]",
            "text/plain": [
              "<Figure size 432x288 with 1 Axes>"
            ]
          },
          "metadata": {
            "tags": []
          }
        }
      ]
    },
    {
      "cell_type": "code",
      "metadata": {
        "id": "nqBbUiYfnlrW",
        "outputId": "920dfc75-940a-45d6-ff6f-a48b8d523ee5",
        "colab": {
          "base_uri": "https://localhost:8080/",
          "height": 265
        }
      },
      "source": [
        "df.plot.pie(y='Cabin')"
      ],
      "execution_count": null,
      "outputs": [
        {
          "output_type": "execute_result",
          "data": {
            "text/plain": [
              "<matplotlib.axes._subplots.AxesSubplot at 0x7f140dff3b38>"
            ]
          },
          "metadata": {
            "tags": []
          },
          "execution_count": 76
        },
        {
          "output_type": "display_data",
          "data": {
            "image/png": "[encoded data removed]",
            "text/plain": [
              "<Figure size 432x288 with 1 Axes>"
            ]
          },
          "metadata": {
            "tags": []
          }
        }
      ]
    },
    {
      "cell_type": "code",
      "metadata": {
        "id": "NmO68415nsey",
        "outputId": "cb62c7d2-c792-4f9a-aee7-25e9618e38c1",
        "colab": {
          "base_uri": "https://localhost:8080/",
          "height": 136
        }
      },
      "source": [
        "df"
      ],
      "execution_count": null,
      "outputs": [
        {
          "output_type": "execute_result",
          "data": {
            "text/html": [
              "<div>\n",
              "<style scoped>\n",
              "    .dataframe tbody tr th:only-of-type {\n",
              "        vertical-align: middle;\n",
              "    }\n",
              "\n",
              "    .dataframe tbody tr th {\n",
              "        vertical-align: top;\n",
              "    }\n",
              "\n",
              "    .dataframe thead th {\n",
              "        text-align: right;\n",
              "    }\n",
              "</style>\n",
              "<table border=\"1\" class=\"dataframe\">\n",
              "  <thead>\n",
              "    <tr style=\"text-align: right;\">\n",
              "      <th></th>\n",
              "      <th>PassengerId</th>\n",
              "      <th>Pclass</th>\n",
              "      <th>Name</th>\n",
              "      <th>Sex</th>\n",
              "      <th>Age</th>\n",
              "      <th>SibSp</th>\n",
              "      <th>Parch</th>\n",
              "      <th>Ticket</th>\n",
              "      <th>Fare</th>\n",
              "      <th>Cabin</th>\n",
              "      <th>Embarked</th>\n",
              "    </tr>\n",
              "    <tr>\n",
              "      <th>Survived</th>\n",
              "      <th></th>\n",
              "      <th></th>\n",
              "      <th></th>\n",
              "      <th></th>\n",
              "      <th></th>\n",
              "      <th></th>\n",
              "      <th></th>\n",
              "      <th></th>\n",
              "      <th></th>\n",
              "      <th></th>\n",
              "      <th></th>\n",
              "    </tr>\n",
              "  </thead>\n",
              "  <tbody>\n",
              "    <tr>\n",
              "      <th>0</th>\n",
              "      <td>549</td>\n",
              "      <td>549</td>\n",
              "      <td>549</td>\n",
              "      <td>549</td>\n",
              "      <td>424</td>\n",
              "      <td>549</td>\n",
              "      <td>549</td>\n",
              "      <td>549</td>\n",
              "      <td>549</td>\n",
              "      <td>68</td>\n",
              "      <td>549</td>\n",
              "    </tr>\n",
              "    <tr>\n",
              "      <th>1</th>\n",
              "      <td>342</td>\n",
              "      <td>342</td>\n",
              "      <td>342</td>\n",
              "      <td>342</td>\n",
              "      <td>290</td>\n",
              "      <td>342</td>\n",
              "      <td>342</td>\n",
              "      <td>342</td>\n",
              "      <td>342</td>\n",
              "      <td>136</td>\n",
              "      <td>340</td>\n",
              "    </tr>\n",
              "  </tbody>\n",
              "</table>\n",
              "</div>"
            ],
            "text/plain": [
              "          PassengerId  Pclass  Name  Sex  ...  Ticket  Fare  Cabin  Embarked\n",
              "Survived                                  ...                               \n",
              "0                 549     549   549  549  ...     549   549     68       549\n",
              "1                 342     342   342  342  ...     342   342    136       340\n",
              "\n",
              "[2 rows x 11 columns]"
            ]
          },
          "metadata": {
            "tags": []
          },
          "execution_count": 77
        }
      ]
    },
    {
      "cell_type": "code",
      "metadata": {
        "id": "DrzzhDBBivnL",
        "outputId": "d5a8e956-14bf-4ba1-e5da-010beca5c450",
        "colab": {
          "base_uri": "https://localhost:8080/",
          "height": 579
        }
      },
      "source": [
        "corr=titanic.corr()#[\"Survived\"]\n",
        "plt.figure(figsize=(10, 10))\n",
        "\n",
        "sns.heatmap(corr, square=True,annot=True,cmap='YlGnBu',linecolor=\"white\")\n",
        "plt.title('Correlation between features');"
      ],
      "execution_count": null,
      "outputs": [
        {
          "output_type": "display_data",
          "data": {
            "image/png": "[encoded data removed]",
            "text/plain": [
              "<Figure size 720x720 with 2 Axes>"
            ]
          },
          "metadata": {
            "tags": [],
            "needs_background": "light"
          }
        }
      ]
    },
    {
      "cell_type": "code",
      "metadata": {
        "id": "lUn4S0ywjsRP",
        "outputId": "855831b6-0e19-4854-8c1c-136193280478",
        "colab": {
          "base_uri": "https://localhost:8080/",
          "height": 293
        }
      },
      "source": [
        "titanic.plot(kind=\"bar\", x='Pclass', y='Fare')"
      ],
      "execution_count": null,
      "outputs": [
        {
          "output_type": "execute_result",
          "data": {
            "text/plain": [
              "<matplotlib.axes._subplots.AxesSubplot at 0x7f1413e4b828>"
            ]
          },
          "metadata": {
            "tags": []
          },
          "execution_count": 64
        },
        {
          "output_type": "display_data",
          "data": {
            "image/png": "[encoded data removed]",
            "text/plain": [
              "<Figure size 432x288 with 1 Axes>"
            ]
          },
          "metadata": {
            "tags": [],
            "needs_background": "light"
          }
        }
      ]
    },
    {
      "cell_type": "code",
      "metadata": {
        "id": "8Kor0Kcs-kso"
      },
      "source": [
        "cols = ['Name', 'Ticket', 'Cabin']\n",
        "titanic = titanic.drop(cols, axis=1)"
      ],
      "execution_count": null,
      "outputs": []
    },
    {
      "cell_type": "code",
      "metadata": {
        "id": "gn55sAtY2rrn",
        "outputId": "c8296eab-a970-49d0-ed31-b937fed34256",
        "colab": {
          "base_uri": "https://localhost:8080/",
          "height": 185
        }
      },
      "source": [
        " titanic.isnull().values.sum()\n",
        "titanic.isnull().sum()"
      ],
      "execution_count": null,
      "outputs": [
        {
          "output_type": "execute_result",
          "data": {
            "text/plain": [
              "PassengerId      0\n",
              "Survived         0\n",
              "Pclass           0\n",
              "Sex              0\n",
              "Age            177\n",
              "SibSp            0\n",
              "Parch            0\n",
              "Fare             0\n",
              "Embarked         2\n",
              "dtype: int64"
            ]
          },
          "metadata": {
            "tags": []
          },
          "execution_count": 48
        }
      ]
    },
    {
      "cell_type": "code",
      "metadata": {
        "id": "ff4vcg2V55vQ"
      },
      "source": [
        "dummies = []\n",
        "cols = ['Pclass', 'Sex', 'Embarked']\n",
        "for col in cols:\n",
        "    dummies.append(pd.get_dummies(titanic[col]))\n",
        "    titanic_dummies = pd.concat(dummies, axis=1)"
      ],
      "execution_count": null,
      "outputs": []
    },
    {
      "cell_type": "code",
      "metadata": {
        "id": "bVPmsYt38T4E"
      },
      "source": [
        "    titanic_dummies\n",
        "    titanic = pd.concat((titanic,titanic_dummies), axis=1)"
      ],
      "execution_count": null,
      "outputs": []
    },
    {
      "cell_type": "code",
      "metadata": {
        "id": "zK6SUIc18uhq",
        "outputId": "bd6db542-a7e2-49ac-9b77-f8d260484b75",
        "colab": {
          "base_uri": "https://localhost:8080/",
          "height": 402
        }
      },
      "source": [
        "titanic"
      ],
      "execution_count": null,
      "outputs": [
        {
          "output_type": "execute_result",
          "data": {
            "text/html": [
              "<div>\n",
              "<style scoped>\n",
              "    .dataframe tbody tr th:only-of-type {\n",
              "        vertical-align: middle;\n",
              "    }\n",
              "\n",
              "    .dataframe tbody tr th {\n",
              "        vertical-align: top;\n",
              "    }\n",
              "\n",
              "    .dataframe thead th {\n",
              "        text-align: right;\n",
              "    }\n",
              "</style>\n",
              "<table border=\"1\" class=\"dataframe\">\n",
              "  <thead>\n",
              "    <tr style=\"text-align: right;\">\n",
              "      <th></th>\n",
              "      <th>PassengerId</th>\n",
              "      <th>Survived</th>\n",
              "      <th>Pclass</th>\n",
              "      <th>Sex</th>\n",
              "      <th>Age</th>\n",
              "      <th>SibSp</th>\n",
              "      <th>Parch</th>\n",
              "      <th>Fare</th>\n",
              "      <th>Embarked</th>\n",
              "      <th>1</th>\n",
              "      <th>2</th>\n",
              "      <th>3</th>\n",
              "      <th>female</th>\n",
              "      <th>male</th>\n",
              "      <th>C</th>\n",
              "      <th>Q</th>\n",
              "      <th>S</th>\n",
              "    </tr>\n",
              "  </thead>\n",
              "  <tbody>\n",
              "    <tr>\n",
              "      <th>0</th>\n",
              "      <td>1</td>\n",
              "      <td>0</td>\n",
              "      <td>3</td>\n",
              "      <td>male</td>\n",
              "      <td>22.0</td>\n",
              "      <td>1</td>\n",
              "      <td>0</td>\n",
              "      <td>7.2500</td>\n",
              "      <td>S</td>\n",
              "      <td>0</td>\n",
              "      <td>0</td>\n",
              "      <td>1</td>\n",
              "      <td>0</td>\n",
              "      <td>1</td>\n",
              "      <td>0</td>\n",
              "      <td>0</td>\n",
              "      <td>1</td>\n",
              "    </tr>\n",
              "    <tr>\n",
              "      <th>1</th>\n",
              "      <td>2</td>\n",
              "      <td>1</td>\n",
              "      <td>1</td>\n",
              "      <td>female</td>\n",
              "      <td>38.0</td>\n",
              "      <td>1</td>\n",
              "      <td>0</td>\n",
              "      <td>71.2833</td>\n",
              "      <td>C</td>\n",
              "      <td>1</td>\n",
              "      <td>0</td>\n",
              "      <td>0</td>\n",
              "      <td>1</td>\n",
              "      <td>0</td>\n",
              "      <td>1</td>\n",
              "      <td>0</td>\n",
              "      <td>0</td>\n",
              "    </tr>\n",
              "    <tr>\n",
              "      <th>2</th>\n",
              "      <td>3</td>\n",
              "      <td>1</td>\n",
              "      <td>3</td>\n",
              "      <td>female</td>\n",
              "      <td>26.0</td>\n",
              "      <td>0</td>\n",
              "      <td>0</td>\n",
              "      <td>7.9250</td>\n",
              "      <td>S</td>\n",
              "      <td>0</td>\n",
              "      <td>0</td>\n",
              "      <td>1</td>\n",
              "      <td>1</td>\n",
              "      <td>0</td>\n",
              "      <td>0</td>\n",
              "      <td>0</td>\n",
              "      <td>1</td>\n",
              "    </tr>\n",
              "    <tr>\n",
              "      <th>3</th>\n",
              "      <td>4</td>\n",
              "      <td>1</td>\n",
              "      <td>1</td>\n",
              "      <td>female</td>\n",
              "      <td>35.0</td>\n",
              "      <td>1</td>\n",
              "      <td>0</td>\n",
              "      <td>53.1000</td>\n",
              "      <td>S</td>\n",
              "      <td>1</td>\n",
              "      <td>0</td>\n",
              "      <td>0</td>\n",
              "      <td>1</td>\n",
              "      <td>0</td>\n",
              "      <td>0</td>\n",
              "      <td>0</td>\n",
              "      <td>1</td>\n",
              "    </tr>\n",
              "    <tr>\n",
              "      <th>4</th>\n",
              "      <td>5</td>\n",
              "      <td>0</td>\n",
              "      <td>3</td>\n",
              "      <td>male</td>\n",
              "      <td>35.0</td>\n",
              "      <td>0</td>\n",
              "      <td>0</td>\n",
              "      <td>8.0500</td>\n",
              "      <td>S</td>\n",
              "      <td>0</td>\n",
              "      <td>0</td>\n",
              "      <td>1</td>\n",
              "      <td>0</td>\n",
              "      <td>1</td>\n",
              "      <td>0</td>\n",
              "      <td>0</td>\n",
              "      <td>1</td>\n",
              "    </tr>\n",
              "    <tr>\n",
              "      <th>...</th>\n",
              "      <td>...</td>\n",
              "      <td>...</td>\n",
              "      <td>...</td>\n",
              "      <td>...</td>\n",
              "      <td>...</td>\n",
              "      <td>...</td>\n",
              "      <td>...</td>\n",
              "      <td>...</td>\n",
              "      <td>...</td>\n",
              "      <td>...</td>\n",
              "      <td>...</td>\n",
              "      <td>...</td>\n",
              "      <td>...</td>\n",
              "      <td>...</td>\n",
              "      <td>...</td>\n",
              "      <td>...</td>\n",
              "      <td>...</td>\n",
              "    </tr>\n",
              "    <tr>\n",
              "      <th>886</th>\n",
              "      <td>887</td>\n",
              "      <td>0</td>\n",
              "      <td>2</td>\n",
              "      <td>male</td>\n",
              "      <td>27.0</td>\n",
              "      <td>0</td>\n",
              "      <td>0</td>\n",
              "      <td>13.0000</td>\n",
              "      <td>S</td>\n",
              "      <td>0</td>\n",
              "      <td>1</td>\n",
              "      <td>0</td>\n",
              "      <td>0</td>\n",
              "      <td>1</td>\n",
              "      <td>0</td>\n",
              "      <td>0</td>\n",
              "      <td>1</td>\n",
              "    </tr>\n",
              "    <tr>\n",
              "      <th>887</th>\n",
              "      <td>888</td>\n",
              "      <td>1</td>\n",
              "      <td>1</td>\n",
              "      <td>female</td>\n",
              "      <td>19.0</td>\n",
              "      <td>0</td>\n",
              "      <td>0</td>\n",
              "      <td>30.0000</td>\n",
              "      <td>S</td>\n",
              "      <td>1</td>\n",
              "      <td>0</td>\n",
              "      <td>0</td>\n",
              "      <td>1</td>\n",
              "      <td>0</td>\n",
              "      <td>0</td>\n",
              "      <td>0</td>\n",
              "      <td>1</td>\n",
              "    </tr>\n",
              "    <tr>\n",
              "      <th>888</th>\n",
              "      <td>889</td>\n",
              "      <td>0</td>\n",
              "      <td>3</td>\n",
              "      <td>female</td>\n",
              "      <td>NaN</td>\n",
              "      <td>1</td>\n",
              "      <td>2</td>\n",
              "      <td>23.4500</td>\n",
              "      <td>S</td>\n",
              "      <td>0</td>\n",
              "      <td>0</td>\n",
              "      <td>1</td>\n",
              "      <td>1</td>\n",
              "      <td>0</td>\n",
              "      <td>0</td>\n",
              "      <td>0</td>\n",
              "      <td>1</td>\n",
              "    </tr>\n",
              "    <tr>\n",
              "      <th>889</th>\n",
              "      <td>890</td>\n",
              "      <td>1</td>\n",
              "      <td>1</td>\n",
              "      <td>male</td>\n",
              "      <td>26.0</td>\n",
              "      <td>0</td>\n",
              "      <td>0</td>\n",
              "      <td>30.0000</td>\n",
              "      <td>C</td>\n",
              "      <td>1</td>\n",
              "      <td>0</td>\n",
              "      <td>0</td>\n",
              "      <td>0</td>\n",
              "      <td>1</td>\n",
              "      <td>1</td>\n",
              "      <td>0</td>\n",
              "      <td>0</td>\n",
              "    </tr>\n",
              "    <tr>\n",
              "      <th>890</th>\n",
              "      <td>891</td>\n",
              "      <td>0</td>\n",
              "      <td>3</td>\n",
              "      <td>male</td>\n",
              "      <td>32.0</td>\n",
              "      <td>0</td>\n",
              "      <td>0</td>\n",
              "      <td>7.7500</td>\n",
              "      <td>Q</td>\n",
              "      <td>0</td>\n",
              "      <td>0</td>\n",
              "      <td>1</td>\n",
              "      <td>0</td>\n",
              "      <td>1</td>\n",
              "      <td>0</td>\n",
              "      <td>1</td>\n",
              "      <td>0</td>\n",
              "    </tr>\n",
              "  </tbody>\n",
              "</table>\n",
              "<p>891 rows × 17 columns</p>\n",
              "</div>"
            ],
            "text/plain": [
              "     PassengerId  Survived  Pclass     Sex   Age  ...  female  male  C  Q  S\n",
              "0              1         0       3    male  22.0  ...       0     1  0  0  1\n",
              "1              2         1       1  female  38.0  ...       1     0  1  0  0\n",
              "2              3         1       3  female  26.0  ...       1     0  0  0  1\n",
              "3              4         1       1  female  35.0  ...       1     0  0  0  1\n",
              "4              5         0       3    male  35.0  ...       0     1  0  0  1\n",
              "..           ...       ...     ...     ...   ...  ...     ...   ... .. .. ..\n",
              "886          887         0       2    male  27.0  ...       0     1  0  0  1\n",
              "887          888         1       1  female  19.0  ...       1     0  0  0  1\n",
              "888          889         0       3  female   NaN  ...       1     0  0  0  1\n",
              "889          890         1       1    male  26.0  ...       0     1  1  0  0\n",
              "890          891         0       3    male  32.0  ...       0     1  0  1  0\n",
              "\n",
              "[891 rows x 17 columns]"
            ]
          },
          "metadata": {
            "tags": []
          },
          "execution_count": 51
        }
      ]
    },
    {
      "cell_type": "code",
      "metadata": {
        "id": "ii6AJIbi8-4g"
      },
      "source": [
        "titanic = titanic.drop(['Pclass', 'Sex', 'Embarked'], axis=1)"
      ],
      "execution_count": null,
      "outputs": []
    },
    {
      "cell_type": "code",
      "metadata": {
        "id": "DFG5WGwJ9FzO",
        "outputId": "86b35334-ea41-4f1e-e350-52db634e074d",
        "colab": {
          "base_uri": "https://localhost:8080/",
          "height": 469
        }
      },
      "source": [
        "titanic"
      ],
      "execution_count": null,
      "outputs": [
        {
          "output_type": "execute_result",
          "data": {
            "text/html": [
              "<div>\n",
              "<style scoped>\n",
              "    .dataframe tbody tr th:only-of-type {\n",
              "        vertical-align: middle;\n",
              "    }\n",
              "\n",
              "    .dataframe tbody tr th {\n",
              "        vertical-align: top;\n",
              "    }\n",
              "\n",
              "    .dataframe thead th {\n",
              "        text-align: right;\n",
              "    }\n",
              "</style>\n",
              "<table border=\"1\" class=\"dataframe\">\n",
              "  <thead>\n",
              "    <tr style=\"text-align: right;\">\n",
              "      <th></th>\n",
              "      <th>PassengerId</th>\n",
              "      <th>Survived</th>\n",
              "      <th>Name</th>\n",
              "      <th>Age</th>\n",
              "      <th>SibSp</th>\n",
              "      <th>Parch</th>\n",
              "      <th>Ticket</th>\n",
              "      <th>Fare</th>\n",
              "      <th>Cabin</th>\n",
              "      <th>1</th>\n",
              "      <th>2</th>\n",
              "      <th>3</th>\n",
              "      <th>female</th>\n",
              "      <th>male</th>\n",
              "      <th>C</th>\n",
              "      <th>Q</th>\n",
              "      <th>S</th>\n",
              "    </tr>\n",
              "  </thead>\n",
              "  <tbody>\n",
              "    <tr>\n",
              "      <th>0</th>\n",
              "      <td>1</td>\n",
              "      <td>0</td>\n",
              "      <td>Braund, Mr. Owen Harris</td>\n",
              "      <td>22.0</td>\n",
              "      <td>1</td>\n",
              "      <td>0</td>\n",
              "      <td>A/5 21171</td>\n",
              "      <td>7.2500</td>\n",
              "      <td>NaN</td>\n",
              "      <td>0</td>\n",
              "      <td>0</td>\n",
              "      <td>1</td>\n",
              "      <td>0</td>\n",
              "      <td>1</td>\n",
              "      <td>0</td>\n",
              "      <td>0</td>\n",
              "      <td>1</td>\n",
              "    </tr>\n",
              "    <tr>\n",
              "      <th>1</th>\n",
              "      <td>2</td>\n",
              "      <td>1</td>\n",
              "      <td>Cumings, Mrs. John Bradley (Florence Briggs Th...</td>\n",
              "      <td>38.0</td>\n",
              "      <td>1</td>\n",
              "      <td>0</td>\n",
              "      <td>PC 17599</td>\n",
              "      <td>71.2833</td>\n",
              "      <td>C85</td>\n",
              "      <td>1</td>\n",
              "      <td>0</td>\n",
              "      <td>0</td>\n",
              "      <td>1</td>\n",
              "      <td>0</td>\n",
              "      <td>1</td>\n",
              "      <td>0</td>\n",
              "      <td>0</td>\n",
              "    </tr>\n",
              "    <tr>\n",
              "      <th>2</th>\n",
              "      <td>3</td>\n",
              "      <td>1</td>\n",
              "      <td>Heikkinen, Miss. Laina</td>\n",
              "      <td>26.0</td>\n",
              "      <td>0</td>\n",
              "      <td>0</td>\n",
              "      <td>STON/O2. 3101282</td>\n",
              "      <td>7.9250</td>\n",
              "      <td>NaN</td>\n",
              "      <td>0</td>\n",
              "      <td>0</td>\n",
              "      <td>1</td>\n",
              "      <td>1</td>\n",
              "      <td>0</td>\n",
              "      <td>0</td>\n",
              "      <td>0</td>\n",
              "      <td>1</td>\n",
              "    </tr>\n",
              "    <tr>\n",
              "      <th>3</th>\n",
              "      <td>4</td>\n",
              "      <td>1</td>\n",
              "      <td>Futrelle, Mrs. Jacques Heath (Lily May Peel)</td>\n",
              "      <td>35.0</td>\n",
              "      <td>1</td>\n",
              "      <td>0</td>\n",
              "      <td>113803</td>\n",
              "      <td>53.1000</td>\n",
              "      <td>C123</td>\n",
              "      <td>1</td>\n",
              "      <td>0</td>\n",
              "      <td>0</td>\n",
              "      <td>1</td>\n",
              "      <td>0</td>\n",
              "      <td>0</td>\n",
              "      <td>0</td>\n",
              "      <td>1</td>\n",
              "    </tr>\n",
              "    <tr>\n",
              "      <th>4</th>\n",
              "      <td>5</td>\n",
              "      <td>0</td>\n",
              "      <td>Allen, Mr. William Henry</td>\n",
              "      <td>35.0</td>\n",
              "      <td>0</td>\n",
              "      <td>0</td>\n",
              "      <td>373450</td>\n",
              "      <td>8.0500</td>\n",
              "      <td>NaN</td>\n",
              "      <td>0</td>\n",
              "      <td>0</td>\n",
              "      <td>1</td>\n",
              "      <td>0</td>\n",
              "      <td>1</td>\n",
              "      <td>0</td>\n",
              "      <td>0</td>\n",
              "      <td>1</td>\n",
              "    </tr>\n",
              "    <tr>\n",
              "      <th>...</th>\n",
              "      <td>...</td>\n",
              "      <td>...</td>\n",
              "      <td>...</td>\n",
              "      <td>...</td>\n",
              "      <td>...</td>\n",
              "      <td>...</td>\n",
              "      <td>...</td>\n",
              "      <td>...</td>\n",
              "      <td>...</td>\n",
              "      <td>...</td>\n",
              "      <td>...</td>\n",
              "      <td>...</td>\n",
              "      <td>...</td>\n",
              "      <td>...</td>\n",
              "      <td>...</td>\n",
              "      <td>...</td>\n",
              "      <td>...</td>\n",
              "    </tr>\n",
              "    <tr>\n",
              "      <th>886</th>\n",
              "      <td>887</td>\n",
              "      <td>0</td>\n",
              "      <td>Montvila, Rev. Juozas</td>\n",
              "      <td>27.0</td>\n",
              "      <td>0</td>\n",
              "      <td>0</td>\n",
              "      <td>211536</td>\n",
              "      <td>13.0000</td>\n",
              "      <td>NaN</td>\n",
              "      <td>0</td>\n",
              "      <td>1</td>\n",
              "      <td>0</td>\n",
              "      <td>0</td>\n",
              "      <td>1</td>\n",
              "      <td>0</td>\n",
              "      <td>0</td>\n",
              "      <td>1</td>\n",
              "    </tr>\n",
              "    <tr>\n",
              "      <th>887</th>\n",
              "      <td>888</td>\n",
              "      <td>1</td>\n",
              "      <td>Graham, Miss. Margaret Edith</td>\n",
              "      <td>19.0</td>\n",
              "      <td>0</td>\n",
              "      <td>0</td>\n",
              "      <td>112053</td>\n",
              "      <td>30.0000</td>\n",
              "      <td>B42</td>\n",
              "      <td>1</td>\n",
              "      <td>0</td>\n",
              "      <td>0</td>\n",
              "      <td>1</td>\n",
              "      <td>0</td>\n",
              "      <td>0</td>\n",
              "      <td>0</td>\n",
              "      <td>1</td>\n",
              "    </tr>\n",
              "    <tr>\n",
              "      <th>888</th>\n",
              "      <td>889</td>\n",
              "      <td>0</td>\n",
              "      <td>Johnston, Miss. Catherine Helen \"Carrie\"</td>\n",
              "      <td>NaN</td>\n",
              "      <td>1</td>\n",
              "      <td>2</td>\n",
              "      <td>W./C. 6607</td>\n",
              "      <td>23.4500</td>\n",
              "      <td>NaN</td>\n",
              "      <td>0</td>\n",
              "      <td>0</td>\n",
              "      <td>1</td>\n",
              "      <td>1</td>\n",
              "      <td>0</td>\n",
              "      <td>0</td>\n",
              "      <td>0</td>\n",
              "      <td>1</td>\n",
              "    </tr>\n",
              "    <tr>\n",
              "      <th>889</th>\n",
              "      <td>890</td>\n",
              "      <td>1</td>\n",
              "      <td>Behr, Mr. Karl Howell</td>\n",
              "      <td>26.0</td>\n",
              "      <td>0</td>\n",
              "      <td>0</td>\n",
              "      <td>111369</td>\n",
              "      <td>30.0000</td>\n",
              "      <td>C148</td>\n",
              "      <td>1</td>\n",
              "      <td>0</td>\n",
              "      <td>0</td>\n",
              "      <td>0</td>\n",
              "      <td>1</td>\n",
              "      <td>1</td>\n",
              "      <td>0</td>\n",
              "      <td>0</td>\n",
              "    </tr>\n",
              "    <tr>\n",
              "      <th>890</th>\n",
              "      <td>891</td>\n",
              "      <td>0</td>\n",
              "      <td>Dooley, Mr. Patrick</td>\n",
              "      <td>32.0</td>\n",
              "      <td>0</td>\n",
              "      <td>0</td>\n",
              "      <td>370376</td>\n",
              "      <td>7.7500</td>\n",
              "      <td>NaN</td>\n",
              "      <td>0</td>\n",
              "      <td>0</td>\n",
              "      <td>1</td>\n",
              "      <td>0</td>\n",
              "      <td>1</td>\n",
              "      <td>0</td>\n",
              "      <td>1</td>\n",
              "      <td>0</td>\n",
              "    </tr>\n",
              "  </tbody>\n",
              "</table>\n",
              "<p>891 rows × 17 columns</p>\n",
              "</div>"
            ],
            "text/plain": [
              "     PassengerId  Survived  ...  Q  S\n",
              "0              1         0  ...  0  1\n",
              "1              2         1  ...  0  0\n",
              "2              3         1  ...  0  1\n",
              "3              4         1  ...  0  1\n",
              "4              5         0  ...  0  1\n",
              "..           ...       ...  ... .. ..\n",
              "886          887         0  ...  0  1\n",
              "887          888         1  ...  0  1\n",
              "888          889         0  ...  0  1\n",
              "889          890         1  ...  0  0\n",
              "890          891         0  ...  1  0\n",
              "\n",
              "[891 rows x 17 columns]"
            ]
          },
          "metadata": {
            "tags": []
          },
          "execution_count": 37
        }
      ]
    },
    {
      "cell_type": "code",
      "metadata": {
        "id": "tNn7KlNE9QFP",
        "outputId": "0838f135-7964-4f75-e078-761c4f23e441",
        "colab": {
          "base_uri": "https://localhost:8080/",
          "height": 269
        }
      },
      "source": [
        "titanic.isnull().sum()"
      ],
      "execution_count": null,
      "outputs": [
        {
          "output_type": "execute_result",
          "data": {
            "text/plain": [
              "PassengerId    0\n",
              "Survived       0\n",
              "Age            0\n",
              "SibSp          0\n",
              "Parch          0\n",
              "Fare           0\n",
              "1              0\n",
              "2              0\n",
              "3              0\n",
              "female         0\n",
              "male           0\n",
              "C              0\n",
              "Q              0\n",
              "S              0\n",
              "dtype: int64"
            ]
          },
          "metadata": {
            "tags": []
          },
          "execution_count": 56
        }
      ]
    },
    {
      "cell_type": "code",
      "metadata": {
        "id": "YiyWPez--MRp"
      },
      "source": [
        "titanic['Age'] = titanic['Age'].interpolate()\n"
      ],
      "execution_count": null,
      "outputs": []
    },
    {
      "cell_type": "code",
      "metadata": {
        "id": "_rdbz5OJYKHC"
      },
      "source": [
        ""
      ],
      "execution_count": null,
      "outputs": []
    },
    {
      "cell_type": "code",
      "metadata": {
        "id": "zuRkkH0wAhBr",
        "outputId": "bd9711a1-2774-45f2-c83f-b81c660101c8",
        "colab": {
          "base_uri": "https://localhost:8080/",
          "height": 162
        }
      },
      "source": [
        "titanic.isnull().sum()"
      ],
      "execution_count": null,
      "outputs": [
        {
          "output_type": "error",
          "ename": "NameError",
          "evalue": "ignored",
          "traceback": [
            "\u001b[0;31m---------------------------------------------------------------------------\u001b[0m",
            "\u001b[0;31mNameError\u001b[0m                                 Traceback (most recent call last)",
            "\u001b[0;32m<ipython-input-25-9b3d1cf19997>\u001b[0m in \u001b[0;36m<module>\u001b[0;34m()\u001b[0m\n\u001b[0;32m----> 1\u001b[0;31m \u001b[0mtitanic\u001b[0m\u001b[0;34m.\u001b[0m\u001b[0misnull\u001b[0m\u001b[0;34m(\u001b[0m\u001b[0;34m)\u001b[0m\u001b[0;34m.\u001b[0m\u001b[0msum\u001b[0m\u001b[0;34m(\u001b[0m\u001b[0;34m)\u001b[0m\u001b[0;34m\u001b[0m\u001b[0;34m\u001b[0m\u001b[0m\n\u001b[0m",
            "\u001b[0;31mNameError\u001b[0m: name 'titanic' is not defined"
          ]
        }
      ]
    },
    {
      "cell_type": "code",
      "metadata": {
        "id": "1ycWrxXSBUA_",
        "outputId": "a0db43a3-cb53-4e98-b03e-c485509a809f",
        "colab": {
          "base_uri": "https://localhost:8080/",
          "height": 218
        }
      },
      "source": [
        " titanic['Age'] > 120"
      ],
      "execution_count": null,
      "outputs": [
        {
          "output_type": "execute_result",
          "data": {
            "text/plain": [
              "0      False\n",
              "1      False\n",
              "2      False\n",
              "3      False\n",
              "4      False\n",
              "       ...  \n",
              "886    False\n",
              "887    False\n",
              "888    False\n",
              "889    False\n",
              "890    False\n",
              "Name: Age, Length: 891, dtype: bool"
            ]
          },
          "metadata": {
            "tags": []
          },
          "execution_count": 66
        }
      ]
    },
    {
      "cell_type": "markdown",
      "metadata": {
        "id": "7_gCL_CgJVJr"
      },
      "source": [
        "# New section"
      ]
    },
    {
      "cell_type": "code",
      "metadata": {
        "id": "jDT3RmlnPFDo",
        "outputId": "2e785f2d-8cd8-4948-d4e7-e2e62f4b5f70",
        "colab": {
          "base_uri": "https://localhost:8080/",
          "height": 229
        }
      },
      "source": [
        "mask = titanic['Age'] > 25\n",
        "titanic[mask].head()"
      ],
      "execution_count": null,
      "outputs": [
        {
          "output_type": "execute_result",
          "data": {
            "text/html": [
              "<div>\n",
              "<style scoped>\n",
              "    .dataframe tbody tr th:only-of-type {\n",
              "        vertical-align: middle;\n",
              "    }\n",
              "\n",
              "    .dataframe tbody tr th {\n",
              "        vertical-align: top;\n",
              "    }\n",
              "\n",
              "    .dataframe thead th {\n",
              "        text-align: right;\n",
              "    }\n",
              "</style>\n",
              "<table border=\"1\" class=\"dataframe\">\n",
              "  <thead>\n",
              "    <tr style=\"text-align: right;\">\n",
              "      <th></th>\n",
              "      <th>PassengerId</th>\n",
              "      <th>Survived</th>\n",
              "      <th>Pclass</th>\n",
              "      <th>Name</th>\n",
              "      <th>Sex</th>\n",
              "      <th>Age</th>\n",
              "      <th>SibSp</th>\n",
              "      <th>Parch</th>\n",
              "      <th>Ticket</th>\n",
              "      <th>Fare</th>\n",
              "      <th>Cabin</th>\n",
              "      <th>Embarked</th>\n",
              "    </tr>\n",
              "  </thead>\n",
              "  <tbody>\n",
              "    <tr>\n",
              "      <th>1</th>\n",
              "      <td>2</td>\n",
              "      <td>1</td>\n",
              "      <td>1</td>\n",
              "      <td>Cumings, Mrs. John Bradley (Florence Briggs Th...</td>\n",
              "      <td>female</td>\n",
              "      <td>38.0</td>\n",
              "      <td>1</td>\n",
              "      <td>0</td>\n",
              "      <td>PC 17599</td>\n",
              "      <td>71.2833</td>\n",
              "      <td>C85</td>\n",
              "      <td>C</td>\n",
              "    </tr>\n",
              "    <tr>\n",
              "      <th>2</th>\n",
              "      <td>3</td>\n",
              "      <td>1</td>\n",
              "      <td>3</td>\n",
              "      <td>Heikkinen, Miss. Laina</td>\n",
              "      <td>female</td>\n",
              "      <td>26.0</td>\n",
              "      <td>0</td>\n",
              "      <td>0</td>\n",
              "      <td>STON/O2. 3101282</td>\n",
              "      <td>7.9250</td>\n",
              "      <td>NaN</td>\n",
              "      <td>S</td>\n",
              "    </tr>\n",
              "    <tr>\n",
              "      <th>3</th>\n",
              "      <td>4</td>\n",
              "      <td>1</td>\n",
              "      <td>1</td>\n",
              "      <td>Futrelle, Mrs. Jacques Heath (Lily May Peel)</td>\n",
              "      <td>female</td>\n",
              "      <td>35.0</td>\n",
              "      <td>1</td>\n",
              "      <td>0</td>\n",
              "      <td>113803</td>\n",
              "      <td>53.1000</td>\n",
              "      <td>C123</td>\n",
              "      <td>S</td>\n",
              "    </tr>\n",
              "    <tr>\n",
              "      <th>4</th>\n",
              "      <td>5</td>\n",
              "      <td>0</td>\n",
              "      <td>3</td>\n",
              "      <td>Allen, Mr. William Henry</td>\n",
              "      <td>male</td>\n",
              "      <td>35.0</td>\n",
              "      <td>0</td>\n",
              "      <td>0</td>\n",
              "      <td>373450</td>\n",
              "      <td>8.0500</td>\n",
              "      <td>NaN</td>\n",
              "      <td>S</td>\n",
              "    </tr>\n",
              "    <tr>\n",
              "      <th>6</th>\n",
              "      <td>7</td>\n",
              "      <td>0</td>\n",
              "      <td>1</td>\n",
              "      <td>McCarthy, Mr. Timothy J</td>\n",
              "      <td>male</td>\n",
              "      <td>54.0</td>\n",
              "      <td>0</td>\n",
              "      <td>0</td>\n",
              "      <td>17463</td>\n",
              "      <td>51.8625</td>\n",
              "      <td>E46</td>\n",
              "      <td>S</td>\n",
              "    </tr>\n",
              "  </tbody>\n",
              "</table>\n",
              "</div>"
            ],
            "text/plain": [
              "   PassengerId  Survived  Pclass  ...     Fare Cabin  Embarked\n",
              "1            2         1       1  ...  71.2833   C85         C\n",
              "2            3         1       3  ...   7.9250   NaN         S\n",
              "3            4         1       1  ...  53.1000  C123         S\n",
              "4            5         0       3  ...   8.0500   NaN         S\n",
              "6            7         0       1  ...  51.8625   E46         S\n",
              "\n",
              "[5 rows x 12 columns]"
            ]
          },
          "metadata": {
            "tags": []
          },
          "execution_count": 12
        }
      ]
    },
    {
      "cell_type": "code",
      "metadata": {
        "id": "j7Xu_De5Y2DT",
        "outputId": "a18cdf7d-6c48-46f5-e4f0-6340c6eaa144",
        "colab": {
          "base_uri": "https://localhost:8080/",
          "height": 402
        }
      },
      "source": [
        "titanic['relatives'] = titanic.SibSp+titanic.Parch\n",
        "titanic['has_relative']=titanic['relatives']>0\n",
        "titanic.has_relative\n",
        "titanic.drop(['relatives','relatives1'], axis=1)"
      ],
      "execution_count": null,
      "outputs": [
        {
          "output_type": "execute_result",
          "data": {
            "text/html": [
              "<div>\n",
              "<style scoped>\n",
              "    .dataframe tbody tr th:only-of-type {\n",
              "        vertical-align: middle;\n",
              "    }\n",
              "\n",
              "    .dataframe tbody tr th {\n",
              "        vertical-align: top;\n",
              "    }\n",
              "\n",
              "    .dataframe thead th {\n",
              "        text-align: right;\n",
              "    }\n",
              "</style>\n",
              "<table border=\"1\" class=\"dataframe\">\n",
              "  <thead>\n",
              "    <tr style=\"text-align: right;\">\n",
              "      <th></th>\n",
              "      <th>PassengerId</th>\n",
              "      <th>Survived</th>\n",
              "      <th>Age</th>\n",
              "      <th>SibSp</th>\n",
              "      <th>Parch</th>\n",
              "      <th>Fare</th>\n",
              "      <th>1</th>\n",
              "      <th>2</th>\n",
              "      <th>3</th>\n",
              "      <th>female</th>\n",
              "      <th>male</th>\n",
              "      <th>C</th>\n",
              "      <th>Q</th>\n",
              "      <th>S</th>\n",
              "      <th>has_relative</th>\n",
              "    </tr>\n",
              "  </thead>\n",
              "  <tbody>\n",
              "    <tr>\n",
              "      <th>0</th>\n",
              "      <td>1</td>\n",
              "      <td>0</td>\n",
              "      <td>22.0</td>\n",
              "      <td>1</td>\n",
              "      <td>0</td>\n",
              "      <td>7.2500</td>\n",
              "      <td>0</td>\n",
              "      <td>0</td>\n",
              "      <td>1</td>\n",
              "      <td>0</td>\n",
              "      <td>1</td>\n",
              "      <td>0</td>\n",
              "      <td>0</td>\n",
              "      <td>1</td>\n",
              "      <td>True</td>\n",
              "    </tr>\n",
              "    <tr>\n",
              "      <th>1</th>\n",
              "      <td>2</td>\n",
              "      <td>1</td>\n",
              "      <td>38.0</td>\n",
              "      <td>1</td>\n",
              "      <td>0</td>\n",
              "      <td>71.2833</td>\n",
              "      <td>1</td>\n",
              "      <td>0</td>\n",
              "      <td>0</td>\n",
              "      <td>1</td>\n",
              "      <td>0</td>\n",
              "      <td>1</td>\n",
              "      <td>0</td>\n",
              "      <td>0</td>\n",
              "      <td>True</td>\n",
              "    </tr>\n",
              "    <tr>\n",
              "      <th>2</th>\n",
              "      <td>3</td>\n",
              "      <td>1</td>\n",
              "      <td>26.0</td>\n",
              "      <td>0</td>\n",
              "      <td>0</td>\n",
              "      <td>7.9250</td>\n",
              "      <td>0</td>\n",
              "      <td>0</td>\n",
              "      <td>1</td>\n",
              "      <td>1</td>\n",
              "      <td>0</td>\n",
              "      <td>0</td>\n",
              "      <td>0</td>\n",
              "      <td>1</td>\n",
              "      <td>False</td>\n",
              "    </tr>\n",
              "    <tr>\n",
              "      <th>3</th>\n",
              "      <td>4</td>\n",
              "      <td>1</td>\n",
              "      <td>35.0</td>\n",
              "      <td>1</td>\n",
              "      <td>0</td>\n",
              "      <td>53.1000</td>\n",
              "      <td>1</td>\n",
              "      <td>0</td>\n",
              "      <td>0</td>\n",
              "      <td>1</td>\n",
              "      <td>0</td>\n",
              "      <td>0</td>\n",
              "      <td>0</td>\n",
              "      <td>1</td>\n",
              "      <td>True</td>\n",
              "    </tr>\n",
              "    <tr>\n",
              "      <th>4</th>\n",
              "      <td>5</td>\n",
              "      <td>0</td>\n",
              "      <td>35.0</td>\n",
              "      <td>0</td>\n",
              "      <td>0</td>\n",
              "      <td>8.0500</td>\n",
              "      <td>0</td>\n",
              "      <td>0</td>\n",
              "      <td>1</td>\n",
              "      <td>0</td>\n",
              "      <td>1</td>\n",
              "      <td>0</td>\n",
              "      <td>0</td>\n",
              "      <td>1</td>\n",
              "      <td>False</td>\n",
              "    </tr>\n",
              "    <tr>\n",
              "      <th>...</th>\n",
              "      <td>...</td>\n",
              "      <td>...</td>\n",
              "      <td>...</td>\n",
              "      <td>...</td>\n",
              "      <td>...</td>\n",
              "      <td>...</td>\n",
              "      <td>...</td>\n",
              "      <td>...</td>\n",
              "      <td>...</td>\n",
              "      <td>...</td>\n",
              "      <td>...</td>\n",
              "      <td>...</td>\n",
              "      <td>...</td>\n",
              "      <td>...</td>\n",
              "      <td>...</td>\n",
              "    </tr>\n",
              "    <tr>\n",
              "      <th>886</th>\n",
              "      <td>887</td>\n",
              "      <td>0</td>\n",
              "      <td>27.0</td>\n",
              "      <td>0</td>\n",
              "      <td>0</td>\n",
              "      <td>13.0000</td>\n",
              "      <td>0</td>\n",
              "      <td>1</td>\n",
              "      <td>0</td>\n",
              "      <td>0</td>\n",
              "      <td>1</td>\n",
              "      <td>0</td>\n",
              "      <td>0</td>\n",
              "      <td>1</td>\n",
              "      <td>False</td>\n",
              "    </tr>\n",
              "    <tr>\n",
              "      <th>887</th>\n",
              "      <td>888</td>\n",
              "      <td>1</td>\n",
              "      <td>19.0</td>\n",
              "      <td>0</td>\n",
              "      <td>0</td>\n",
              "      <td>30.0000</td>\n",
              "      <td>1</td>\n",
              "      <td>0</td>\n",
              "      <td>0</td>\n",
              "      <td>1</td>\n",
              "      <td>0</td>\n",
              "      <td>0</td>\n",
              "      <td>0</td>\n",
              "      <td>1</td>\n",
              "      <td>False</td>\n",
              "    </tr>\n",
              "    <tr>\n",
              "      <th>888</th>\n",
              "      <td>889</td>\n",
              "      <td>0</td>\n",
              "      <td>22.5</td>\n",
              "      <td>1</td>\n",
              "      <td>2</td>\n",
              "      <td>23.4500</td>\n",
              "      <td>0</td>\n",
              "      <td>0</td>\n",
              "      <td>1</td>\n",
              "      <td>1</td>\n",
              "      <td>0</td>\n",
              "      <td>0</td>\n",
              "      <td>0</td>\n",
              "      <td>1</td>\n",
              "      <td>True</td>\n",
              "    </tr>\n",
              "    <tr>\n",
              "      <th>889</th>\n",
              "      <td>890</td>\n",
              "      <td>1</td>\n",
              "      <td>26.0</td>\n",
              "      <td>0</td>\n",
              "      <td>0</td>\n",
              "      <td>30.0000</td>\n",
              "      <td>1</td>\n",
              "      <td>0</td>\n",
              "      <td>0</td>\n",
              "      <td>0</td>\n",
              "      <td>1</td>\n",
              "      <td>1</td>\n",
              "      <td>0</td>\n",
              "      <td>0</td>\n",
              "      <td>False</td>\n",
              "    </tr>\n",
              "    <tr>\n",
              "      <th>890</th>\n",
              "      <td>891</td>\n",
              "      <td>0</td>\n",
              "      <td>32.0</td>\n",
              "      <td>0</td>\n",
              "      <td>0</td>\n",
              "      <td>7.7500</td>\n",
              "      <td>0</td>\n",
              "      <td>0</td>\n",
              "      <td>1</td>\n",
              "      <td>0</td>\n",
              "      <td>1</td>\n",
              "      <td>0</td>\n",
              "      <td>1</td>\n",
              "      <td>0</td>\n",
              "      <td>False</td>\n",
              "    </tr>\n",
              "  </tbody>\n",
              "</table>\n",
              "<p>891 rows × 15 columns</p>\n",
              "</div>"
            ],
            "text/plain": [
              "     PassengerId  Survived   Age  SibSp  Parch  ...  male  C  Q  S  has_relative\n",
              "0              1         0  22.0      1      0  ...     1  0  0  1          True\n",
              "1              2         1  38.0      1      0  ...     0  1  0  0          True\n",
              "2              3         1  26.0      0      0  ...     0  0  0  1         False\n",
              "3              4         1  35.0      1      0  ...     0  0  0  1          True\n",
              "4              5         0  35.0      0      0  ...     1  0  0  1         False\n",
              "..           ...       ...   ...    ...    ...  ...   ... .. .. ..           ...\n",
              "886          887         0  27.0      0      0  ...     1  0  0  1         False\n",
              "887          888         1  19.0      0      0  ...     0  0  0  1         False\n",
              "888          889         0  22.5      1      2  ...     0  0  0  1          True\n",
              "889          890         1  26.0      0      0  ...     1  1  0  0         False\n",
              "890          891         0  32.0      0      0  ...     1  0  1  0         False\n",
              "\n",
              "[891 rows x 15 columns]"
            ]
          },
          "metadata": {
            "tags": []
          },
          "execution_count": 84
        }
      ]
    },
    {
      "cell_type": "code",
      "metadata": {
        "id": "raJiZYtybGAZ"
      },
      "source": [
        "titanic['relatives'] = titanic.SibSp+titanic.Parch\n",
        "titanic['has_relative']=titanic['Age']<1\n",
        "titanic.has_relative\n",
        "titanic.drop(['relatives','relatives1'], axis=1)"
      ],
      "execution_count": null,
      "outputs": []
    },
    {
      "cell_type": "code",
      "metadata": {
        "id": "Vt6er3d_pgbe"
      },
      "source": [
        "import numpy as np\n",
        "import pandas as pd\n",
        "Rhyms = pd.DataFrame({np.NAN})\n"
      ],
      "execution_count": null,
      "outputs": []
    },
    {
      "cell_type": "code",
      "metadata": {
        "id": "IiVIsxlIpiea"
      },
      "source": [
        ""
      ],
      "execution_count": null,
      "outputs": []
    },
    {
      "cell_type": "code",
      "metadata": {
        "id": "PGnlfN9JLGIV",
        "outputId": "6efef4cd-3bbd-4bd8-a32d-a0580dc87655",
        "colab": {
          "base_uri": "https://localhost:8080/",
          "height": 285
        }
      },
      "source": [
        "ax_hist=titanic.Age[titanic.Pclass==1].plot(kind='hist')\n",
        "titanic.Age[titanic.Pclass==1].plot(kind='kde',ax=ax_hist,secondary_y=True)"
      ],
      "execution_count": null,
      "outputs": [
        {
          "output_type": "execute_result",
          "data": {
            "text/plain": [
              "<matplotlib.axes._subplots.AxesSubplot at 0x7f3b0a36ce48>"
            ]
          },
          "metadata": {
            "tags": []
          },
          "execution_count": 10
        },
        {
          "output_type": "display_data",
          "data": {
            "image/png": "[encoded data removed]",
            "text/plain": [
              "<Figure size 432x288 with 2 Axes>"
            ]
          },
          "metadata": {
            "tags": [],
            "needs_background": "light"
          }
        }
      ]
    },
    {
      "cell_type": "code",
      "metadata": {
        "id": "-xssb7MjLOKf"
      },
      "source": [
        ""
      ],
      "execution_count": null,
      "outputs": []
    },
    {
      "cell_type": "code",
      "metadata": {
        "id": "UL-jn9HBtJVz"
      },
      "source": [
        "fruits = ['bananas', 'mangoes', 'oranges', 'others'] \n",
        "quantities = [400, 300, 500, 200]"
      ],
      "execution_count": null,
      "outputs": []
    },
    {
      "cell_type": "code",
      "metadata": {
        "id": "0m5xsSfyMghM"
      },
      "source": [
        "import numpy as np"
      ],
      "execution_count": null,
      "outputs": []
    },
    {
      "cell_type": "code",
      "metadata": {
        "id": "uiqUqRoxMk3D"
      },
      "source": [
        ""
      ],
      "execution_count": null,
      "outputs": []
    },
    {
      "cell_type": "markdown",
      "metadata": {
        "id": "hv-Y0Xc7mKX3"
      },
      "source": [
        "set exercise, from [pynative](https://pynative.com/python-set-exercise-with-solutions/)"
      ]
    },
    {
      "cell_type": "code",
      "metadata": {
        "id": "0VGA7jnPmJ-B"
      },
      "source": [
        "sampleSet = {\"Yellow\",\"Orange\",\"Black\"}\n",
        "sampleList = [\"Blue\",\"Green\",\"Red\"]"
      ],
      "execution_count": null,
      "outputs": []
    },
    {
      "cell_type": "code",
      "metadata": {
        "id": "nUMBKtzvlCWE",
        "outputId": "80c5c73a-c2c2-4ad6-de68-39dc62edc73c",
        "colab": {
          "base_uri": "https://localhost:8080/",
          "height": 34
        }
      },
      "source": [
        "sampleSet.update(sampleList)\n",
        "print(sampleSet)"
      ],
      "execution_count": null,
      "outputs": [
        {
          "output_type": "stream",
          "text": [
            "{'Red', 'Yellow', 'Green', 'Black', 'Orange', 'Blue'}\n"
          ],
          "name": "stdout"
        }
      ]
    },
    {
      "cell_type": "markdown",
      "metadata": {
        "id": "gBd2omYgpfwf"
      },
      "source": [
        "question 2"
      ]
    },
    {
      "cell_type": "code",
      "metadata": {
        "id": "r34ijgaLop36"
      },
      "source": [
        "set1 = {10, 20, 30, 40, 50}\n",
        "set2 = {30, 40, 50, 60, 70}"
      ],
      "execution_count": null,
      "outputs": []
    },
    {
      "cell_type": "code",
      "metadata": {
        "id": "gAB-LrLGoteS",
        "outputId": "acb027e3-61b6-4414-993a-fbeac53d7c99",
        "colab": {
          "base_uri": "https://localhost:8080/",
          "height": 34
        }
      },
      "source": [
        "setFinal = set1.intersection(set2)\n",
        "print(setFinal)"
      ],
      "execution_count": null,
      "outputs": [
        {
          "output_type": "stream",
          "text": [
            "{40, 50, 30}\n"
          ],
          "name": "stdout"
        }
      ]
    },
    {
      "cell_type": "markdown",
      "metadata": {
        "id": "X-rnOuKTqJvv"
      },
      "source": [
        "question 3\n"
      ]
    },
    {
      "cell_type": "code",
      "metadata": {
        "id": "XvoBZEFMqG92",
        "outputId": "2441d9d0-6f9d-4602-a865-d71212b97077",
        "colab": {
          "base_uri": "https://localhost:8080/",
          "height": 34
        }
      },
      "source": [
        "setCombined = set1.copy()\n",
        "setCombined.update(set2)\n",
        "print(setCombined)"
      ],
      "execution_count": null,
      "outputs": [
        {
          "output_type": "stream",
          "text": [
            "{70, 40, 10, 50, 20, 60, 30}\n"
          ],
          "name": "stdout"
        }
      ]
    },
    {
      "cell_type": "code",
      "metadata": {
        "id": "xEvSeZU9CAGG"
      },
      "source": [
        ""
      ],
      "execution_count": null,
      "outputs": []
    },
    {
      "cell_type": "code",
      "metadata": {
        "id": "0GZPyAoVtj4F"
      },
      "source": [
        ""
      ],
      "execution_count": null,
      "outputs": []
    },
    {
      "cell_type": "code",
      "metadata": {
        "id": "SDwdYf7hqYRB",
        "outputId": "991dc589-7ace-45bf-fbb2-ba79086240c3",
        "colab": {
          "base_uri": "https://localhost:8080/",
          "height": 34
        }
      },
      "source": [
        "print(set1):2"
      ],
      "execution_count": null,
      "outputs": [
        {
          "output_type": "stream",
          "text": [
            "{40, 10, 50, 20, 30}\n"
          ],
          "name": "stdout"
        }
      ]
    },
    {
      "cell_type": "code",
      "metadata": {
        "id": "pHc42qXh6l2v"
      },
      "source": [
        ""
      ],
      "execution_count": null,
      "outputs": []
    },
    {
      "cell_type": "markdown",
      "metadata": {
        "id": "njJizl2trU4y"
      },
      "source": [
        "question 4\n"
      ]
    },
    {
      "cell_type": "code",
      "metadata": {
        "id": "b2rF0h3LrUDu"
      },
      "source": [
        "set1 = {10, 20, 30}\n",
        "set2 = {20, 40, 50}"
      ],
      "execution_count": null,
      "outputs": []
    },
    {
      "cell_type": "code",
      "metadata": {
        "id": "g7yg5DUjqscZ",
        "outputId": "0df89ea2-c5d1-4dab-f4d4-ca24dba5f9a4",
        "colab": {
          "base_uri": "https://localhost:8080/",
          "height": 34
        }
      },
      "source": [
        "set1.difference_update(set2)\n",
        "print(set1)"
      ],
      "execution_count": null,
      "outputs": [
        {
          "output_type": "stream",
          "text": [
            "{10, 30}\n"
          ],
          "name": "stdout"
        }
      ]
    },
    {
      "cell_type": "markdown",
      "metadata": {
        "id": "_KWBgeWjr-M5"
      },
      "source": [
        "question 5"
      ]
    },
    {
      "cell_type": "code",
      "metadata": {
        "id": "DRcve-8Br5es"
      },
      "source": [
        "set1 = {10, 20, 30, 40, 50}"
      ],
      "execution_count": null,
      "outputs": []
    },
    {
      "cell_type": "code",
      "metadata": {
        "id": "Lln3zO8IsF_e",
        "outputId": "1386532c-1ca7-49a5-ae72-73c915932da7",
        "colab": {
          "base_uri": "https://localhost:8080/",
          "height": 34
        }
      },
      "source": [
        "set1.difference_update({10,20,30})\n",
        "print(set1)"
      ],
      "execution_count": null,
      "outputs": [
        {
          "output_type": "stream",
          "text": [
            "{40, 50}\n"
          ],
          "name": "stdout"
        }
      ]
    },
    {
      "cell_type": "markdown",
      "metadata": {
        "id": "5NRp1RrYsoH0"
      },
      "source": [
        "queiestion 6\n"
      ]
    },
    {
      "cell_type": "code",
      "metadata": {
        "id": "XxqMDWP_sbVw"
      },
      "source": [
        "set1 = {10, 20, 30, 40, 50}\n",
        "set2 = {30, 40, 50, 60, 70}"
      ],
      "execution_count": null,
      "outputs": []
    },
    {
      "cell_type": "code",
      "metadata": {
        "id": "pqjy2NWIssjL",
        "outputId": "08cb6d18-76bd-4f49-80a8-8f823bada8bb",
        "colab": {
          "base_uri": "https://localhost:8080/",
          "height": 34
        }
      },
      "source": [
        "set1.symmetric_difference(set2)\n",
        "print(set1)"
      ],
      "execution_count": null,
      "outputs": [
        {
          "output_type": "stream",
          "text": [
            "{40, 10, 50, 20, 30}\n"
          ],
          "name": "stdout"
        }
      ]
    },
    {
      "cell_type": "markdown",
      "metadata": {
        "id": "EFWfyQGktG9V"
      },
      "source": [
        "question 7\n",
        "\n"
      ]
    },
    {
      "cell_type": "code",
      "metadata": {
        "id": "nf-xKX6us0qJ"
      },
      "source": [
        "set1 = {10, 20, 30, 40, 50}\n",
        "set2 = {60, 70, 80, 90, 10}"
      ],
      "execution_count": null,
      "outputs": []
    },
    {
      "cell_type": "code",
      "metadata": {
        "id": "GrD4fjiBtVeV",
        "outputId": "8e981684-36e8-4868-9838-57c2bba9025c",
        "colab": {
          "base_uri": "https://localhost:8080/",
          "height": 52
        }
      },
      "source": [
        "setIntersect = set1.intersection(set2)\n",
        "if len(setIntersect) > 0: \n",
        "  print(\"sets have items in common\")\n",
        "  print(setIntersect)\n",
        "else:\n",
        "  print(\"no eleements in comoon\")"
      ],
      "execution_count": null,
      "outputs": [
        {
          "output_type": "stream",
          "text": [
            "sets have items in common\n",
            "{10}\n"
          ],
          "name": "stdout"
        }
      ]
    },
    {
      "cell_type": "markdown",
      "metadata": {
        "id": "NdQubsKCvKzn"
      },
      "source": [
        "# Exercise 2: lists [pynative](https://pynative.com/python-list-exercise-with-solutions/)\n"
      ]
    },
    {
      "cell_type": "markdown",
      "metadata": {
        "id": "7hlbkB9NvWgT"
      },
      "source": [
        "question 1\n"
      ]
    },
    {
      "cell_type": "code",
      "metadata": {
        "id": "-2Dbl4hmt62v"
      },
      "source": [
        "aList = [100,200,300,400,500]"
      ],
      "execution_count": null,
      "outputs": []
    },
    {
      "cell_type": "code",
      "metadata": {
        "id": "KUE2OXGAvg_A",
        "outputId": "12eb0cc0-1dc0-4057-8e63-afa395b13e33",
        "colab": {
          "base_uri": "https://localhost:8080/",
          "height": 34
        }
      },
      "source": [
        "aList = aList[::-1]\n",
        "print(aList)"
      ],
      "execution_count": null,
      "outputs": [
        {
          "output_type": "stream",
          "text": [
            "[500, 400, 300, 200, 100]\n"
          ],
          "name": "stdout"
        }
      ]
    },
    {
      "cell_type": "markdown",
      "metadata": {
        "id": "3WP0-c42w34A"
      },
      "source": [
        "print(aList.reverse())"
      ]
    },
    {
      "cell_type": "code",
      "metadata": {
        "id": "e2Pc3UUlvvG9",
        "outputId": "6b0e6f21-c3e3-4198-a9b3-fd663e5b6ff6",
        "colab": {
          "base_uri": "https://localhost:8080/",
          "height": 34
        }
      },
      "source": [
        "print(aList.reverse())"
      ],
      "execution_count": null,
      "outputs": [
        {
          "output_type": "stream",
          "text": [
            "None\n"
          ],
          "name": "stdout"
        }
      ]
    },
    {
      "cell_type": "code",
      "metadata": {
        "id": "V8UulYdaxEHM"
      },
      "source": [
        ""
      ],
      "execution_count": null,
      "outputs": []
    },
    {
      "cell_type": "markdown",
      "metadata": {
        "id": "JT46nj5exWT8"
      },
      "source": [
        "Exercise 3: maps\n"
      ]
    },
    {
      "cell_type": "markdown",
      "metadata": {
        "id": "Nwx-lHyGx9Kb"
      },
      "source": [
        "question 1\n"
      ]
    },
    {
      "cell_type": "code",
      "metadata": {
        "id": "vPK1UN_qxdWo"
      },
      "source": [
        "keys = ['Ten', 'Twenty', 'Thirty']\n",
        "values = [10, 20, 30]"
      ],
      "execution_count": null,
      "outputs": []
    },
    {
      "cell_type": "code",
      "metadata": {
        "id": "eLWnXkbByLJs",
        "outputId": "1d7c6194-2bfa-4745-d62b-e76e4287e0e7",
        "colab": {
          "base_uri": "https://localhost:8080/",
          "height": 34
        }
      },
      "source": [
        "sampleDict = dict(zip(keys,values))\n",
        "print(sampleDict)"
      ],
      "execution_count": null,
      "outputs": [
        {
          "output_type": "stream",
          "text": [
            "{'Ten': 10, 'Twenty': 20, 'Thirty': 30}\n"
          ],
          "name": "stdout"
        }
      ]
    },
    {
      "cell_type": "code",
      "metadata": {
        "id": "M1FcNwDiyebR"
      },
      "source": [
        "dict1 = {'Ten': 10, 'Twenty': 20, 'Thirty': 30}\n",
        "dict2 = {'Thirty': 30, 'Fourty': 40, 'Fifty': 50}"
      ],
      "execution_count": null,
      "outputs": []
    },
    {
      "cell_type": "code",
      "metadata": {
        "id": "cY2zS7YbyzAq",
        "outputId": "386b9fc8-a2a6-40b7-c12e-f7e477250c62",
        "colab": {
          "base_uri": "https://localhost:8080/",
          "height": 34
        }
      },
      "source": [
        "dict3 = dict1.copy()\n",
        "dict3.update(dict2)\n",
        "print(dict3)"
      ],
      "execution_count": null,
      "outputs": [
        {
          "output_type": "stream",
          "text": [
            "{'Ten': 10, 'Twenty': 20, 'Thirty': 30, 'Fourty': 40, 'Fifty': 50}\n"
          ],
          "name": "stdout"
        }
      ]
    },
    {
      "cell_type": "markdown",
      "metadata": {
        "id": "VXBtruykz4Ol"
      },
      "source": [
        "question 3\n"
      ]
    },
    {
      "cell_type": "code",
      "metadata": {
        "id": "OKrVQTeczHVY"
      },
      "source": [
        "sampleDict = { \n",
        "   \"class\":{ \n",
        "      \"student\":{ \n",
        "         \"name\":\"Mike\",\n",
        "         \"marks\":{ \n",
        "            \"physics\":70,\n",
        "            \"history\":80\n",
        "         }\n",
        "      }\n",
        "   }\n",
        "}"
      ],
      "execution_count": null,
      "outputs": []
    },
    {
      "cell_type": "code",
      "metadata": {
        "id": "PpxWeoZT0A2N",
        "outputId": "34940ed7-87ed-4203-a521-1c735396acc3",
        "colab": {
          "base_uri": "https://localhost:8080/",
          "height": 34
        }
      },
      "source": [
        "print(sampleDict[\"class\"][\"student\"][\"marks\"][\"history\"])"
      ],
      "execution_count": null,
      "outputs": [
        {
          "output_type": "stream",
          "text": [
            "80\n"
          ],
          "name": "stdout"
        }
      ]
    },
    {
      "cell_type": "markdown",
      "metadata": {
        "id": "jO_37Ghp0oKi"
      },
      "source": [
        "question 4\n"
      ]
    },
    {
      "cell_type": "code",
      "metadata": {
        "id": "MSAVxoHP0MhR"
      },
      "source": [
        "employees = ['Kelly', 'Emma', 'John']\n",
        "defaults = {\"designation\": 'Application Developer', \"salary\": 8000}"
      ],
      "execution_count": null,
      "outputs": []
    },
    {
      "cell_type": "code",
      "metadata": {
        "id": "mDYFiNti0nMu",
        "outputId": "5062c8d2-0163-4fb2-e5b9-faae2b0a8ea8",
        "colab": {
          "base_uri": "https://localhost:8080/",
          "height": 72
        }
      },
      "source": [
        "resDict = dict.fromkeys(employees, defaults)\n",
        "print(resDict)\n",
        "print(resDict[\"Kelly\"])"
      ],
      "execution_count": null,
      "outputs": [
        {
          "output_type": "stream",
          "text": [
            "{'Kelly': {'designation': 'Application Developer', 'salary': 8000}, 'Emma': {'designation': 'Application Developer', 'salary': 8000}, 'John': {'designation': 'Application Developer', 'salary': 8000}}\n",
            "{'designation': 'Application Developer', 'salary': 8000}\n"
          ],
          "name": "stdout"
        }
      ]
    },
    {
      "cell_type": "code",
      "metadata": {
        "id": "7W7V0RVF02-I"
      },
      "source": [
        "sampleDict = {\n",
        "  \"name\": \"Kelly\",\n",
        "  \"age\":25,\n",
        "  \"salary\": 8000,\n",
        "  \"city\": \"New york\"\n",
        "}\n",
        "keys = [\"name\",\"salary\"]"
      ],
      "execution_count": null,
      "outputs": []
    },
    {
      "cell_type": "code",
      "metadata": {
        "id": "Er7RL1Qt1Idc",
        "outputId": "5f9d87d9-d218-4189-f31e-489b14c34a88",
        "colab": {
          "base_uri": "https://localhost:8080/",
          "height": 34
        }
      },
      "source": [
        "newDict = {k: sampleDict[k] for k in keys} # comprehensive dictionary\n",
        "print(newDict)"
      ],
      "execution_count": null,
      "outputs": [
        {
          "output_type": "stream",
          "text": [
            "{'name': 'Kelly', 'salary': 8000}\n"
          ],
          "name": "stdout"
        }
      ]
    },
    {
      "cell_type": "code",
      "metadata": {
        "id": "04HL751YE3bP"
      },
      "source": [
        "def suitable(var):\n",
        "  if var > 30:\n",
        "    if var > 50:\n",
        "      print(\"MAYBE\")\n",
        "    else:\n",
        "      print(\"NO\")\n",
        "  else:\n",
        "    print(\"YES\")"
      ],
      "execution_count": null,
      "outputs": []
    },
    {
      "cell_type": "code",
      "metadata": {
        "id": "_WUevsM5Fs_J",
        "outputId": "69a32bd4-94b4-4a46-cb25-ea312ae90212",
        "colab": {
          "base_uri": "https://localhost:8080/",
          "height": 34
        }
      },
      "source": [
        "suitable(31)"
      ],
      "execution_count": null,
      "outputs": [
        {
          "output_type": "stream",
          "text": [
            "NO\n"
          ],
          "name": "stdout"
        }
      ]
    },
    {
      "cell_type": "code",
      "metadata": {
        "id": "MikQZLkPFwK-",
        "outputId": "50a2c6e0-48b6-4f82-df11-4f60e1c01aa4",
        "colab": {
          "base_uri": "https://localhost:8080/",
          "height": 128
        }
      },
      "source": [
        "def fun(var):\n",
        "  if var >= 10:\n",
        "    print(''Yes'')\n",
        "  elif var >= 30:\n",
        "      print(''No'')\n",
        "  elif var>= 51:\n",
        "    print(''MAYBE'')\n",
        "  else:\n",
        "    print(\"\")\n"
      ],
      "execution_count": null,
      "outputs": [
        {
          "output_type": "error",
          "ename": "IndentationError",
          "evalue": "ignored",
          "traceback": [
            "\u001b[0;36m  File \u001b[0;32m\"<ipython-input-18-94c54c394982>\"\u001b[0;36m, line \u001b[0;32m2\u001b[0m\n\u001b[0;31m    if var >= 10:\u001b[0m\n\u001b[0m     ^\u001b[0m\n\u001b[0;31mIndentationError\u001b[0m\u001b[0;31m:\u001b[0m expected an indented block\n"
          ]
        }
      ]
    },
    {
      "cell_type": "code",
      "metadata": {
        "id": "DC0Ujo-pgm-x"
      },
      "source": [
        "import random \n",
        "list1=[0,1,2,3,4,5,6,7,8,9]\n",
        "list2= random.shuffle(list1)\n",
        "k=3\n",
        "len1 = int(len(list1)/k)\n",
        "rem= len(list1)%k\n",
        "fall1=list1[:len1]\n",
        "fa"
      ],
      "execution_count": null,
      "outputs": []
    },
    {
      "cell_type": "markdown",
      "metadata": {
        "id": "ptUfJAfHJsbV"
      },
      "source": [
        "indentation is the way Python knows it is still inside a block, it is not just aesthetic\n",
        ":)\n"
      ]
    },
    {
      "cell_type": "code",
      "metadata": {
        "id": "X1OKmgtGKhRD",
        "outputId": "eca6ecaf-4d7f-46e7-f501-bb29ff678724",
        "colab": {
          "base_uri": "https://localhost:8080/",
          "height": 121
        }
      },
      "source": [
        "list1 = [12,15,32,44,56]\n",
        "[print(el) for el in list1]"
      ],
      "execution_count": null,
      "outputs": [
        {
          "output_type": "stream",
          "text": [
            "12\n",
            "15\n",
            "32\n",
            "44\n",
            "56\n"
          ],
          "name": "stdout"
        },
        {
          "output_type": "execute_result",
          "data": {
            "text/plain": [
              "[None, None, None, None, None]"
            ]
          },
          "metadata": {
            "tags": []
          },
          "execution_count": 69
        }
      ]
    },
    {
      "cell_type": "code",
      "metadata": {
        "id": "wy9t6Yk3LuyJ"
      },
      "source": [
        "list1 = [12, 15, 32, 42, 55, 75, 122, 132, 150, 180, 200]"
      ],
      "execution_count": null,
      "outputs": []
    },
    {
      "cell_type": "code",
      "metadata": {
        "id": "eJXlqKU4K4lv"
      },
      "source": [
        "def multiplesOfFive(varList):\n",
        "  try:\n",
        "    for el in varList:\n",
        "      if el > 150:\n",
        "        break\n",
        "      if el % 5 == 0:\n",
        "        print(el)\n",
        "  except:\n",
        "    print(\"something went wrong...\")"
      ],
      "execution_count": null,
      "outputs": []
    },
    {
      "cell_type": "code",
      "metadata": {
        "id": "cpBN9XfmL1E5",
        "outputId": "6e7d62f1-7251-4962-a471-48435f05bec6",
        "colab": {
          "base_uri": "https://localhost:8080/",
          "height": 86
        }
      },
      "source": [
        "multiplesOfFive(list1)"
      ],
      "execution_count": null,
      "outputs": [
        {
          "output_type": "stream",
          "text": [
            "15\n",
            "55\n",
            "75\n",
            "150\n"
          ],
          "name": "stdout"
        }
      ]
    },
    {
      "cell_type": "markdown",
      "metadata": {
        "id": "mJfh81aDu-tl"
      },
      "source": [
        "**problem 2: k-fold cross-validation**\n",
        "\n",
        "split datasets into k subgroups, and run one experiment for each of the subgroups, where the experiment test is the chosen subgroup, and the experiment training group is the other elements not included in the test subgroup.\n",
        "\n",
        "*approach*\n",
        "\n",
        "creat a list for the k subgroups. leap the original data with python slicing \n",
        "```\n",
        "list[::leap]\n",
        "```\n",
        "once the list of subgroups, create a dictionary with each key is the experiment, value is a dictionary with \"test\" and \"training\" as keys, whose values are the subset of elements distributed\n",
        " "
      ]
    },
    {
      "cell_type": "code",
      "metadata": {
        "id": "65Y1ngq9MHsI"
      },
      "source": [
        "allData = [0,1,2,3,4,5,6,7,8,9]\n",
        "k = 3"
      ],
      "execution_count": null,
      "outputs": []
    },
    {
      "cell_type": "code",
      "metadata": {
        "id": "7o9dQYq7ezUV",
        "outputId": "1b9862e6-ba09-474f-c23d-32f3cf06582d",
        "colab": {
          "base_uri": "https://localhost:8080/",
          "height": 104
        }
      },
      "source": [
        "def kfoldDistro(allData,k):\n",
        "  foldList = []\n",
        "  for i in range(0,k):\n",
        "    foldList.append(allData[i::k])\n",
        "  print(\"folds list: \",foldList,\"\\n\")\n",
        "  experiments = {}\n",
        "  for i in range(0,k):\n",
        "    training = foldList.copy()\n",
        "    training.pop(i)\n",
        "    trainingFlat = []\n",
        "    [[trainingFlat.append(elem) for elem in el] for el in training]\n",
        "    group = {'test':foldList[i],'training':trainingFlat}\n",
        "    experiments[i] = group\n",
        "  return experiments\n",
        "\n",
        "dd = kfoldDistro(allData,k)\n",
        "for el in dd.keys():\n",
        "  print(\"experiment \",el,\" --> test: \",dd[el][\"test\"],\"  training: \",dd[el][\"training\"])"
      ],
      "execution_count": null,
      "outputs": [
        {
          "output_type": "stream",
          "text": [
            "folds list:  [[0, 3, 6, 9], [1, 4, 7], [2, 5, 8]] \n",
            "\n",
            "experiment  0  --> test:  [0, 3, 6, 9]   training:  [1, 4, 7, 2, 5, 8]\n",
            "experiment  1  --> test:  [1, 4, 7]   training:  [0, 3, 6, 9, 2, 5, 8]\n",
            "experiment  2  --> test:  [2, 5, 8]   training:  [0, 3, 6, 9, 1, 4, 7]\n"
          ],
          "name": "stdout"
        }
      ]
    },
    {
      "cell_type": "code",
      "metadata": {
        "id": "K_8h_SoC32yB"
      },
      "source": [
        ""
      ],
      "execution_count": null,
      "outputs": []
    },
    {
      "cell_type": "markdown",
      "metadata": {
        "id": "Nw4l_Au733W4"
      },
      "source": [
        "DAY 11\n",
        "A+0=A, A.A=A,A+1=1,A.\\BAR(A)=0"
      ]
    },
    {
      "cell_type": "code",
      "metadata": {
        "id": "7KExDrE7kdVG",
        "outputId": "14c027a0-e8b1-4cff-bd26-42882b74f439",
        "colab": {
          "base_uri": "https://localhost:8080/",
          "height": 34
        }
      },
      "source": [
        "a=True\n",
        "b=False\n",
        "c=1\n",
        "d=0\n",
        "f=a+bool(d)\n",
        "f==a"
      ],
      "execution_count": null,
      "outputs": [
        {
          "output_type": "execute_result",
          "data": {
            "text/plain": [
              "True"
            ]
          },
          "metadata": {
            "tags": []
          },
          "execution_count": 1
        }
      ]
    },
    {
      "cell_type": "code",
      "metadata": {
        "id": "Ciy3EgFr4npL",
        "outputId": "f279fcca-e067-432c-92bb-0575ad8909be",
        "colab": {
          "base_uri": "https://localhost:8080/",
          "height": 34
        }
      },
      "source": [
        "a=True\n",
        "b=False\n",
        "c=1\n",
        "d=0\n",
        "f=a*a\n",
        "f==a"
      ],
      "execution_count": null,
      "outputs": [
        {
          "output_type": "execute_result",
          "data": {
            "text/plain": [
              "True"
            ]
          },
          "metadata": {
            "tags": []
          },
          "execution_count": 2
        }
      ]
    },
    {
      "cell_type": "code",
      "metadata": {
        "id": "CGZ9Mz6e5OIF",
        "outputId": "3fe3c0c4-e73f-45b2-b348-248f893bd3b0",
        "colab": {
          "base_uri": "https://localhost:8080/",
          "height": 34
        }
      },
      "source": [
        "a=True\n",
        "b=False\n",
        "c=1\n",
        "d=0\n",
        "f=bool(a+bool(c))\n",
        "f==a\n",
        "f"
      ],
      "execution_count": null,
      "outputs": [
        {
          "output_type": "execute_result",
          "data": {
            "text/plain": [
              "True"
            ]
          },
          "metadata": {
            "tags": []
          },
          "execution_count": 5
        }
      ]
    },
    {
      "cell_type": "code",
      "metadata": {
        "id": "zxG5AMXT5xPo",
        "outputId": "ef437f97-4494-47e6-ddcf-b76a494127f1",
        "colab": {
          "base_uri": "https://localhost:8080/",
          "height": 34
        }
      },
      "source": [
        "a=True\n",
        "b=False\n",
        "c=1\n",
        "d=0\n",
        "f=bool(a+bool(a*b))\n",
        "f==a"
      ],
      "execution_count": null,
      "outputs": [
        {
          "output_type": "execute_result",
          "data": {
            "text/plain": [
              "True"
            ]
          },
          "metadata": {
            "tags": []
          },
          "execution_count": 6
        }
      ]
    },
    {
      "cell_type": "code",
      "metadata": {
        "id": "5SwAVpTW84Wn"
      },
      "source": [
        ""
      ],
      "execution_count": null,
      "outputs": []
    },
    {
      "cell_type": "code",
      "metadata": {
        "id": "5NmlfX3F9HxF"
      },
      "source": [
        ""
      ],
      "execution_count": null,
      "outputs": []
    },
    {
      "cell_type": "code",
      "metadata": {
        "id": "p3LYvWLX8dWm",
        "outputId": "2991e510-efbf-4d2a-e4a9-5ff85a696e55",
        "colab": {
          "base_uri": "https://localhost:8080/",
          "height": 34
        }
      },
      "source": [
        "columns = ['Mo', 'Tue', 'Wed', 'Thur', 'Fri'] # width of the array - different days of the week \n",
        "rows = ['Vienna', 'Bogota', 'Stockholm', 'Kampala'] # height of the array - different cities \n",
        "weather = [ [9, 7, 10, 12, 11], # Vienna weather\n",
        "           [19, 17, 20, 19, 19], # Bogota weather \n",
        "           [9, 10, 9, 8, 8], # Stockholm weather \n",
        "           [23, 24, 21, 23, 22] # Kampala weather  \n",
        "           ]\n",
        "weather[2][1:3]\n",
        "rows.index('Sto')"
      ],
      "execution_count": null,
      "outputs": [
        {
          "output_type": "execute_result",
          "data": {
            "text/plain": [
              "[10, 9]"
            ]
          },
          "metadata": {
            "tags": []
          },
          "execution_count": 12
        }
      ]
    },
    {
      "cell_type": "code",
      "metadata": {
        "id": "84bYq05g-t-a"
      },
      "source": [
        ""
      ],
      "execution_count": null,
      "outputs": []
    },
    {
      "cell_type": "code",
      "metadata": {
        "id": "xhJqWmDg-tPj",
        "outputId": "65792cc9-43d2-4cb0-98b2-bbc6f0bf45dc",
        "colab": {
          "base_uri": "https://localhost:8080/",
          "height": 34
        }
      },
      "source": [
        "columns = ['Mo', 'Tue', 'Wed', 'Thur', 'Fri'] # width of the array - different days of the week \n",
        "rows = ['Vienna', 'Bogota', 'Stockholm', 'Kampala'] # height of the array - different cities \n",
        "weather = [ [9, 7, 10, 12, 11], # Vienna weather\n",
        "           [19, 17, 20, 19, 19], # Bogota weather \n",
        "           [9, 10, 9, 8, 8], # Stockholm weather \n",
        "           [23, 24, 21, 23, 22] # Kampala weather  \n",
        "           ]\n",
        "weather[2][1:3] #hard-coded\n",
        "weather[rows.index('Stockholm')][columns.index('Tue'):columns.index('Thur')+1] #dynamic solution\n",
        "weather[rows.index('Stockholm')][columns.index('Tue'):columns.index('Thur')+1:2] #Tue, Thu \n",
        "#weather[rows.index('Stockholm')][columns.index('Tue'):columns.index('Wed')+2]\n"
      ],
      "execution_count": null,
      "outputs": [
        {
          "output_type": "execute_result",
          "data": {
            "text/plain": [
              "[10, 8]"
            ]
          },
          "metadata": {
            "tags": []
          },
          "execution_count": 19
        }
      ]
    },
    {
      "cell_type": "code",
      "metadata": {
        "id": "cUR3fhuiIVIm",
        "outputId": "2afdc055-0583-47fe-d6d4-5fa536aa47b6",
        "colab": {
          "base_uri": "https://localhost:8080/",
          "height": 34
        }
      },
      "source": [
        "import numpy as np\n",
        "weatherArray = np.array(weather)\n",
        "weatherArray[[rows.index('Stockholm'),rows.index('Stockholm')],\n",
        "             [columns.index('Tue'),columns.index('Thur')]]"
      ],
      "execution_count": null,
      "outputs": [
        {
          "output_type": "execute_result",
          "data": {
            "text/plain": [
              "array([10,  8])"
            ]
          },
          "metadata": {
            "tags": []
          },
          "execution_count": 15
        }
      ]
    },
    {
      "cell_type": "code",
      "metadata": {
        "id": "tZ48XFe7Leoz",
        "outputId": "d0c4f82c-4cbf-46bd-e169-457472854bf3",
        "colab": {
          "base_uri": "https://localhost:8080/",
          "height": 128
        }
      },
      "source": [
        "import numpy as np\n",
        "\n",
        "np_weather = np.array(weather)\n",
        "np_weather[[rows.index('Stockholm')],[columns.index('Tue'),columns.index('Thur')]]\n",
        "\n",
        "a[2:3, 1:3] = [30, 31]\n",
        "\n"
      ],
      "execution_count": null,
      "outputs": [
        {
          "output_type": "error",
          "ename": "SyntaxError",
          "evalue": "ignored",
          "traceback": [
            "\u001b[0;36m  File \u001b[0;32m\"<ipython-input-28-89e4d0273cc0>\"\u001b[0;36m, line \u001b[0;32m5\u001b[0m\n\u001b[0;31m    [rows.index('Stockholm')],[columns.index('Tue'),columns.index('Thur')]=[rows.index('Stockholm')],[30,32]\u001b[0m\n\u001b[0m                                                                                                            ^\u001b[0m\n\u001b[0;31mSyntaxError\u001b[0m\u001b[0;31m:\u001b[0m can't assign to function call\n"
          ]
        }
      ]
    },
    {
      "cell_type": "code",
      "metadata": {
        "id": "fr-tEK9rSPMC",
        "outputId": "d35029d4-5ff1-43be-a25a-803dabafdc1b",
        "colab": {
          "base_uri": "https://localhost:8080/",
          "height": 84
        }
      },
      "source": [
        "np_weather[[rows.index('Stockholm')],[columns.index('Tue'),columns.index('Thur')]]=[30,31]\n",
        "np_weather"
      ],
      "execution_count": null,
      "outputs": [
        {
          "output_type": "execute_result",
          "data": {
            "text/plain": [
              "array([[ 9,  7, 10, 12, 11],\n",
              "       [19, 17, 20, 19, 19],\n",
              "       [ 9, 30,  9, 31,  8],\n",
              "       [23, 24, 21, 23, 22]])"
            ]
          },
          "metadata": {
            "tags": []
          },
          "execution_count": 26
        }
      ]
    },
    {
      "cell_type": "code",
      "metadata": {
        "id": "e4aO-7WMtqgG",
        "outputId": "c41bb0bc-610c-4aef-8e93-7a28c98e17ec",
        "colab": {
          "base_uri": "https://localhost:8080/",
          "height": 34
        }
      },
      "source": [
        "fruits = ['bananas', 'mangoes', 'oranges', 'others'] \n",
        "quantities = [400, 300, 500, 200]\n",
        "arrFruits = np.array(quantities)\n",
        "probs = arrFruits/np.sum(arrFruits)"
      ],
      "execution_count": null,
      "outputs": [
        {
          "output_type": "execute_result",
          "data": {
            "text/plain": [
              "0.21428571428571427"
            ]
          },
          "metadata": {
            "tags": []
          },
          "execution_count": 18
        }
      ]
    },
    {
      "cell_type": "code",
      "metadata": {
        "id": "gMv4jm3KtqIQ"
      },
      "source": [
        "import wget, pickle\n",
        "filename = wget.download(\"\")"
      ],
      "execution_count": null,
      "outputs": []
    },
    {
      "cell_type": "code",
      "metadata": {
        "id": "Oh-3qY246zdM"
      },
      "source": [
        "import pickle\n",
        "with open('/fruit_data (1).pkl','rb') as fin: \n",
        "  data = pickle.load(fin)"
      ],
      "execution_count": null,
      "outputs": []
    },
    {
      "cell_type": "code",
      "metadata": {
        "id": "WA1GBo4Y-Mf4",
        "outputId": "67d81cea-6fcf-4f64-d065-1f3fc215d60c",
        "colab": {
          "base_uri": "https://localhost:8080/",
          "height": 134
        }
      },
      "source": [
        "data"
      ],
      "execution_count": null,
      "outputs": [
        {
          "output_type": "execute_result",
          "data": {
            "text/plain": [
              "array([['others', '0', '1', '0', '1', '0'],\n",
              "       ['bananas', '1', '0', '1', '0', '0'],\n",
              "       ['bananas', '1', '0', '1', '0', '0'],\n",
              "       ...,\n",
              "       ['bananas', '1', '1', '1', '0', '0'],\n",
              "       ['oranges', '0', '1', '0', '1', '0'],\n",
              "       ['oranges', '0', '1', '0', '1', '0']], dtype='<U21')"
            ]
          },
          "metadata": {
            "tags": []
          },
          "execution_count": 65
        }
      ]
    },
    {
      "cell_type": "code",
      "metadata": {
        "id": "ULzb_5DGANkZ",
        "outputId": "b04d16bc-a65d-4b92-d30a-6473579b94bd",
        "colab": {
          "base_uri": "https://localhost:8080/",
          "height": 34
        }
      },
      "source": [
        "data.size"
      ],
      "execution_count": null,
      "outputs": [
        {
          "output_type": "execute_result",
          "data": {
            "text/plain": [
              "8400"
            ]
          },
          "metadata": {
            "tags": []
          },
          "execution_count": 66
        }
      ]
    },
    {
      "cell_type": "code",
      "metadata": {
        "id": "ZQCALL5QB_jU"
      },
      "source": [
        "def this_fruit_data(fruit_name, fruit_quantity, long_count, sweet_count, yellow_count, seed_count, br_count):\n",
        "\n",
        "\n",
        "    longg = np.concatenate((np.ones((long_count,), dtype=int), np.zeros((fruit_quantity - long_count,), dtype=int))) \n",
        "    np.random.shuffle(longg)\n",
        "\n",
        "    sweet = np.concatenate((np.ones((sweet_count,), dtype=int), np.zeros((fruit_quantity - sweet_count,), dtype=int))) \n",
        "    np.random.shuffle(sweet)\n",
        "\n",
        "    yellow = np.concatenate((np.ones((yellow_count,), dtype=int), np.zeros((fruit_quantity - yellow_count,), dtype=int))) \n",
        "    np.random.shuffle(yellow)\n",
        "\n",
        "    seeds = np.concatenate((np.ones((seed_count,), dtype=int), np.zeros((fruit_quantity - seed_count,), dtype=int))) \n",
        "    np.random.shuffle(seeds)\n",
        "\n",
        "    brazil = np.concatenate((np.ones((br_count,), dtype=int), np.zeros((fruit_quantity - br_count,), dtype=int))) \n",
        "    np.random.shuffle(brazil)\n",
        "\n",
        "    fruits = np.full((fruit_quantity,1), fruit_name)\n",
        "    this_fruit_data = np.column_stack((fruits, longg, sweet, yellow, seeds, brazil,))\n",
        "    return this_fruit_data"
      ],
      "execution_count": null,
      "outputs": []
    },
    {
      "cell_type": "code",
      "metadata": {
        "id": "EZi-SXPGCN1I"
      },
      "source": [
        "bananas = this_fruit_data('bananas', quantities[0], 360, 250, 390, 0, 65)"
      ],
      "execution_count": null,
      "outputs": []
    },
    {
      "cell_type": "code",
      "metadata": {
        "id": "Ta3CiUVYCQPq",
        "outputId": "a2c5fbf3-f6b5-491d-df60-12629acd72ed",
        "colab": {
          "base_uri": "https://localhost:8080/",
          "height": 134
        }
      },
      "source": [
        "bananas"
      ],
      "execution_count": null,
      "outputs": [
        {
          "output_type": "execute_result",
          "data": {
            "text/plain": [
              "array([['bananas', '1', '1', '1', '0', '0'],\n",
              "       ['bananas', '1', '1', '1', '0', '0'],\n",
              "       ['bananas', '1', '1', '1', '0', '0'],\n",
              "       ...,\n",
              "       ['bananas', '1', '1', '1', '0', '0'],\n",
              "       ['bananas', '1', '1', '1', '0', '0'],\n",
              "       ['bananas', '1', '1', '1', '0', '0']], dtype='<U21')"
            ]
          },
          "metadata": {
            "tags": []
          },
          "execution_count": 76
        }
      ]
    },
    {
      "cell_type": "code",
      "metadata": {
        "id": "iPWKPnZuCV_h"
      },
      "source": [
        "mangoes = this_fruit_data('mangoes', quantities[1], 110, 200, 120, 0, 300)"
      ],
      "execution_count": null,
      "outputs": []
    },
    {
      "cell_type": "code",
      "metadata": {
        "id": "cqxsChL8CfYN"
      },
      "source": [
        "oranges = this_fruit_data('oranges', quantities[2], 3, 460, 30, 470, 10)"
      ],
      "execution_count": null,
      "outputs": []
    },
    {
      "cell_type": "code",
      "metadata": {
        "id": "YUnBDktjCgJZ"
      },
      "source": [
        "others = this_fruit_data('others', quantities[3], 45, 200, 100, 190, 0)"
      ],
      "execution_count": null,
      "outputs": []
    },
    {
      "cell_type": "code",
      "metadata": {
        "id": "8FajkW9hCbtc"
      },
      "source": [
        "\n",
        "total_fruit_data = np.vstack((bananas, mangoes, oranges, others))"
      ],
      "execution_count": null,
      "outputs": []
    },
    {
      "cell_type": "code",
      "metadata": {
        "id": "3N823AARC0Ci",
        "outputId": "96ecc4f0-d339-4ca1-f435-ee4c08f9d4f2",
        "colab": {
          "base_uri": "https://localhost:8080/",
          "height": 134
        }
      },
      "source": [
        "total_fruit_data"
      ],
      "execution_count": null,
      "outputs": [
        {
          "output_type": "execute_result",
          "data": {
            "text/plain": [
              "array([['bananas', '1', '1', '1', '0', '0'],\n",
              "       ['bananas', '1', '1', '1', '0', '0'],\n",
              "       ['bananas', '1', '1', '1', '0', '0'],\n",
              "       ...,\n",
              "       ['others', '0', '1', '1', '1', '0'],\n",
              "       ['others', '0', '1', '0', '1', '0'],\n",
              "       ['others', '0', '1', '0', '1', '0']], dtype='<U21')"
            ]
          },
          "metadata": {
            "tags": []
          },
          "execution_count": 81
        }
      ]
    },
    {
      "cell_type": "code",
      "metadata": {
        "id": "3yLOvBnhDCHr"
      },
      "source": [
        "mangoes_indices = np.where(total_fruit_data[:,0] == 'mangoes')[0]\n",
        "oranges_indices = np.where(total_fruit_data[:,0] == 'oranges')[0]\n",
        "bananas_indices = np.where(total_fruit_data[:,0] == 'bananas')[0]\n",
        "others_indices = np.where(total_fruit_data[:,0] == 'others')[0]"
      ],
      "execution_count": null,
      "outputs": []
    },
    {
      "cell_type": "code",
      "metadata": {
        "id": "i-gJypfnFBrW",
        "outputId": "c4286dc2-9e0f-4c32-ff4c-975378c76848",
        "colab": {
          "base_uri": "https://localhost:8080/",
          "height": 790
        }
      },
      "source": [
        "mangoes_indices\n",
        "oranges_indices"
      ],
      "execution_count": null,
      "outputs": [
        {
          "output_type": "execute_result",
          "data": {
            "text/plain": [
              "array([   2,    3,    7,    9,   10,   11,   12,   18,   24,   25,   26,\n",
              "         28,   29,   30,   31,   48,   50,   55,   58,   63,   65,   66,\n",
              "         71,   77,   78,   81,   82,   83,   85,   89,   91,   92,   95,\n",
              "         96,  113,  116,  121,  122,  123,  124,  126,  131,  141,  144,\n",
              "        146,  148,  149,  152,  161,  163,  165,  166,  168,  169,  170,\n",
              "        173,  174,  179,  180,  181,  185,  186,  188,  191,  196,  201,\n",
              "        204,  211,  219,  221,  222,  224,  226,  230,  231,  237,  240,\n",
              "        242,  245,  246,  247,  251,  255,  259,  263,  267,  272,  274,\n",
              "        275,  277,  282,  298,  301,  302,  303,  305,  308,  309,  310,\n",
              "        311,  313,  315,  316,  320,  321,  326,  327,  328,  329,  330,\n",
              "        332,  342,  346,  347,  348,  350,  351,  353,  355,  358,  363,\n",
              "        364,  368,  369,  370,  374,  377,  378,  379,  384,  386,  387,\n",
              "        394,  396,  399,  402,  405,  407,  408,  410,  418,  420,  421,\n",
              "        424,  426,  429,  432,  437,  439,  447,  448,  449,  450,  451,\n",
              "        454,  456,  458,  466,  468,  473,  475,  477,  482,  483,  484,\n",
              "        487,  490,  497,  499,  500,  501,  506,  507,  509,  512,  514,\n",
              "        515,  518,  519,  523,  524,  532,  535,  537,  540,  545,  546,\n",
              "        547,  548,  551,  553,  554,  556,  558,  562,  564,  565,  567,\n",
              "        572,  575,  577,  578,  581,  582,  583,  585,  587,  589,  591,\n",
              "        592,  598,  599,  603,  608,  611,  613,  616,  617,  620,  631,\n",
              "        636,  638,  642,  643,  645,  647,  648,  652,  653,  657,  660,\n",
              "        664,  665,  666,  668,  670,  676,  679,  680,  687,  690,  694,\n",
              "        696,  697,  699,  701,  707,  708,  712,  716,  717,  720,  722,\n",
              "        726,  731,  733,  735,  736,  737,  738,  740,  741,  753,  757,\n",
              "        760,  761,  764,  771,  772,  774,  777,  785,  786,  794,  795,\n",
              "        796,  808,  813,  817,  820,  821,  822,  823,  824,  826,  827,\n",
              "        831,  833,  835,  836,  837,  840,  841,  842,  844,  847,  848,\n",
              "        851,  856,  857,  864,  865,  866,  871,  875,  877,  879,  883,\n",
              "        884,  886,  888,  889,  891,  895,  897,  900,  901,  903,  916,\n",
              "        917,  919,  920,  921,  929,  931,  932,  935,  936,  937,  938,\n",
              "        944,  952,  953,  955,  956,  960,  961,  963,  969,  971,  976,\n",
              "        980,  981,  983,  984,  986,  987,  989,  990,  996,  998, 1000,\n",
              "       1002, 1005, 1006, 1007, 1012, 1015, 1018, 1028, 1030, 1039, 1040,\n",
              "       1043, 1044, 1045, 1047, 1051, 1054, 1059, 1061, 1062, 1063, 1065,\n",
              "       1069, 1071, 1075, 1077, 1079, 1081, 1082, 1084, 1087, 1089, 1090,\n",
              "       1091, 1092, 1096, 1098, 1100, 1106, 1112, 1114, 1117, 1123, 1124,\n",
              "       1125, 1128, 1129, 1130, 1133, 1134, 1135, 1138, 1139, 1141, 1142,\n",
              "       1145, 1146, 1148, 1152, 1157, 1162, 1166, 1167, 1168, 1172, 1176,\n",
              "       1177, 1179, 1180, 1181, 1182, 1184, 1186, 1189, 1192, 1194, 1196,\n",
              "       1200, 1201, 1205, 1206, 1212, 1213, 1214, 1216, 1219, 1220, 1221,\n",
              "       1222, 1223, 1227, 1229, 1232, 1234, 1239, 1241, 1244, 1245, 1247,\n",
              "       1248, 1251, 1256, 1260, 1261, 1262, 1266, 1267, 1274, 1276, 1277,\n",
              "       1278, 1280, 1281, 1283, 1290, 1292, 1295, 1297, 1307, 1308, 1310,\n",
              "       1311, 1315, 1318, 1320, 1322, 1325, 1328, 1339, 1343, 1344, 1352,\n",
              "       1357, 1361, 1365, 1368, 1369, 1371, 1372, 1376, 1377, 1379, 1384,\n",
              "       1386, 1387, 1388, 1390, 1393])"
            ]
          },
          "metadata": {
            "tags": []
          },
          "execution_count": 90
        }
      ]
    },
    {
      "cell_type": "code",
      "metadata": {
        "id": "FX3eIFogDMVL",
        "outputId": "f89b1766-5270-418f-8f7f-0c194dcc3263",
        "colab": {
          "base_uri": "https://localhost:8080/",
          "height": 34
        }
      },
      "source": [
        "sum(total_fruit_data[mangoes_indices][:,3] == '1')\n",
        "sum(total_fruit_data[bananas_indices][:,3] == '1')\n",
        "sum(total_fruit_data[others_indices][:,3] == '1')\n",
        "sum(total_fruit_data[oranges_indices][:,3] == '1')"
      ],
      "execution_count": null,
      "outputs": [
        {
          "output_type": "execute_result",
          "data": {
            "text/plain": [
              "30"
            ]
          },
          "metadata": {
            "tags": []
          },
          "execution_count": 93
        }
      ]
    },
    {
      "cell_type": "code",
      "metadata": {
        "id": "9T6yQ_sKF5VL",
        "outputId": "f3b3e689-2d54-432f-ca6c-5da4d6df9929",
        "colab": {
          "base_uri": "https://localhost:8080/",
          "height": 84
        }
      },
      "source": [
        "np.zeros([4,10])"
      ],
      "execution_count": null,
      "outputs": [
        {
          "output_type": "execute_result",
          "data": {
            "text/plain": [
              "array([[0., 0., 0., 0., 0., 0., 0., 0., 0., 0.],\n",
              "       [0., 0., 0., 0., 0., 0., 0., 0., 0., 0.],\n",
              "       [0., 0., 0., 0., 0., 0., 0., 0., 0., 0.],\n",
              "       [0., 0., 0., 0., 0., 0., 0., 0., 0., 0.]])"
            ]
          },
          "metadata": {
            "tags": []
          },
          "execution_count": 97
        }
      ]
    },
    {
      "cell_type": "code",
      "metadata": {
        "id": "Y6OG5hHeDZRK"
      },
      "source": [
        ""
      ],
      "execution_count": null,
      "outputs": []
    },
    {
      "cell_type": "markdown",
      "metadata": {
        "id": "9E-3gG_0991C"
      },
      "source": [
        "# New section"
      ]
    },
    {
      "cell_type": "code",
      "metadata": {
        "id": "Ir6NBxWdp12o",
        "outputId": "47cbee53-e6c8-44d0-9a9c-47340d20dba1",
        "colab": {
          "base_uri": "https://localhost:8080/",
          "height": 402
        }
      },
      "source": [
        "poem = pd.read_csv('/content/poem_line_data.csv')\n",
        "import numpy as np\n",
        "import pandas as pd\n",
        "import pronouncing\n",
        "poem[\"Rhym\"] = np.nan\n",
        "poem"
      ],
      "execution_count": null,
      "outputs": [
        {
          "output_type": "execute_result",
          "data": {
            "text/html": [
              "<div>\n",
              "<style scoped>\n",
              "    .dataframe tbody tr th:only-of-type {\n",
              "        vertical-align: middle;\n",
              "    }\n",
              "\n",
              "    .dataframe tbody tr th {\n",
              "        vertical-align: top;\n",
              "    }\n",
              "\n",
              "    .dataframe thead th {\n",
              "        text-align: right;\n",
              "    }\n",
              "</style>\n",
              "<table border=\"1\" class=\"dataframe\">\n",
              "  <thead>\n",
              "    <tr style=\"text-align: right;\">\n",
              "      <th></th>\n",
              "      <th>Unnamed: 0</th>\n",
              "      <th>Title</th>\n",
              "      <th>Poet</th>\n",
              "      <th>Lines</th>\n",
              "      <th>Last_Word</th>\n",
              "      <th>Rhym</th>\n",
              "    </tr>\n",
              "  </thead>\n",
              "  <tbody>\n",
              "    <tr>\n",
              "      <th>0</th>\n",
              "      <td>0</td>\n",
              "      <td>Song of Myself (1892 version)</td>\n",
              "      <td>Walt Whitman</td>\n",
              "      <td>1</td>\n",
              "      <td>1</td>\n",
              "      <td>NaN</td>\n",
              "    </tr>\n",
              "    <tr>\n",
              "      <th>1</th>\n",
              "      <td>1</td>\n",
              "      <td>Song of Myself (1892 version)</td>\n",
              "      <td>Walt Whitman</td>\n",
              "      <td>I celebrate myself, and sing myself,</td>\n",
              "      <td>myself</td>\n",
              "      <td>NaN</td>\n",
              "    </tr>\n",
              "    <tr>\n",
              "      <th>2</th>\n",
              "      <td>2</td>\n",
              "      <td>Song of Myself (1892 version)</td>\n",
              "      <td>Walt Whitman</td>\n",
              "      <td>And what I assume you shall assume,</td>\n",
              "      <td>assume</td>\n",
              "      <td>NaN</td>\n",
              "    </tr>\n",
              "    <tr>\n",
              "      <th>3</th>\n",
              "      <td>3</td>\n",
              "      <td>Song of Myself (1892 version)</td>\n",
              "      <td>Walt Whitman</td>\n",
              "      <td>For every atom belonging to me as good belongs...</td>\n",
              "      <td>you</td>\n",
              "      <td>NaN</td>\n",
              "    </tr>\n",
              "    <tr>\n",
              "      <th>4</th>\n",
              "      <td>4</td>\n",
              "      <td>Song of Myself (1892 version)</td>\n",
              "      <td>Walt Whitman</td>\n",
              "      <td>I loafe and invite my soul,</td>\n",
              "      <td>soul</td>\n",
              "      <td>NaN</td>\n",
              "    </tr>\n",
              "    <tr>\n",
              "      <th>...</th>\n",
              "      <td>...</td>\n",
              "      <td>...</td>\n",
              "      <td>...</td>\n",
              "      <td>...</td>\n",
              "      <td>...</td>\n",
              "      <td>...</td>\n",
              "    </tr>\n",
              "    <tr>\n",
              "      <th>40422</th>\n",
              "      <td>46779</td>\n",
              "      <td>Ordinary Time</td>\n",
              "      <td>Tim Dlugos</td>\n",
              "      <td>other place, the undescribed</td>\n",
              "      <td>undescribed</td>\n",
              "      <td>NaN</td>\n",
              "    </tr>\n",
              "    <tr>\n",
              "      <th>40423</th>\n",
              "      <td>46781</td>\n",
              "      <td>Ordinary Time</td>\n",
              "      <td>Tim Dlugos</td>\n",
              "      <td>and indescribable, more various</td>\n",
              "      <td>various</td>\n",
              "      <td>NaN</td>\n",
              "    </tr>\n",
              "    <tr>\n",
              "      <th>40424</th>\n",
              "      <td>46783</td>\n",
              "      <td>Ordinary Time</td>\n",
              "      <td>Tim Dlugos</td>\n",
              "      <td>and cacophonous than voice</td>\n",
              "      <td>voice</td>\n",
              "      <td>NaN</td>\n",
              "    </tr>\n",
              "    <tr>\n",
              "      <th>40425</th>\n",
              "      <td>46785</td>\n",
              "      <td>Ordinary Time</td>\n",
              "      <td>Tim Dlugos</td>\n",
              "      <td>can tell or mind conceive,</td>\n",
              "      <td>conceive</td>\n",
              "      <td>NaN</td>\n",
              "    </tr>\n",
              "    <tr>\n",
              "      <th>40426</th>\n",
              "      <td>46787</td>\n",
              "      <td>Ordinary Time</td>\n",
              "      <td>Tim Dlugos</td>\n",
              "      <td>and for the sky’s vast depths</td>\n",
              "      <td>depths</td>\n",
              "      <td>NaN</td>\n",
              "    </tr>\n",
              "  </tbody>\n",
              "</table>\n",
              "<p>40427 rows × 6 columns</p>\n",
              "</div>"
            ],
            "text/plain": [
              "       Unnamed: 0                          Title  ...    Last_Word Rhym\n",
              "0               0  Song of Myself (1892 version)  ...            1  NaN\n",
              "1               1  Song of Myself (1892 version)  ...       myself  NaN\n",
              "2               2  Song of Myself (1892 version)  ...       assume  NaN\n",
              "3               3  Song of Myself (1892 version)  ...          you  NaN\n",
              "4               4  Song of Myself (1892 version)  ...         soul  NaN\n",
              "...           ...                            ...  ...          ...  ...\n",
              "40422       46779                  Ordinary Time  ...  undescribed  NaN\n",
              "40423       46781                  Ordinary Time  ...      various  NaN\n",
              "40424       46783                  Ordinary Time  ...        voice  NaN\n",
              "40425       46785                  Ordinary Time  ...     conceive  NaN\n",
              "40426       46787                  Ordinary Time  ...       depths  NaN\n",
              "\n",
              "[40427 rows x 6 columns]"
            ]
          },
          "metadata": {
            "tags": []
          },
          "execution_count": 9
        }
      ]
    },
    {
      "cell_type": "code",
      "metadata": {
        "id": "3ryiHH2QrRwi"
      },
      "source": [
        "def get_rhymes(myself):\n",
        "    rhymes = []\n",
        "    for sonnet in sonnets:\n",
        "        lines = sonnet.split('\\n')\n",
        "        if len(lines) != 14:\n",
        "            continue\n",
        "        # since we know sonnets have the same rhyme scheme\n",
        "        # (abab cdcd efef gg) we can \"hard code\" it here\n",
        "        for index in xrange(12):\n",
        "            if index % 4 in [0, 1]:\n",
        "                pair = (last_word(lines[index]), last_word(lines[index + 2]))\n",
        "                rhymes.append(pair)\n",
        "        rhymes.append((last_word(lines[12]), last_word(lines[13])))\n",
        "    return rhymes"
      ],
      "execution_count": null,
      "outputs": []
    },
    {
      "cell_type": "code",
      "metadata": {
        "id": "cru_SvKpsaEm",
        "outputId": "4e868cd3-0dbd-406e-83cd-78f69adb8847",
        "colab": {
          "base_uri": "https://localhost:8080/",
          "height": 238
        }
      },
      "source": [
        "pip install pronouncing\n",
        "import pronouncing"
      ],
      "execution_count": null,
      "outputs": [
        {
          "output_type": "stream",
          "text": [
            "Collecting pronouncing\n",
            "  Downloading https://files.pythonhosted.org/packages/7f/c6/9dc74a3ddca71c492e224116b6654592bfe5717b4a78582e4d9c3345d153/pronouncing-0.2.0.tar.gz\n",
            "Collecting cmudict>=0.4.0\n",
            "\u001b[?25l  Downloading https://files.pythonhosted.org/packages/a2/77/f009abf803286876fa99cb7bd9d1132c7b64a0b34a0360666275ce1bc733/cmudict-0.4.5-py2.py3-none-any.whl (939kB)\n",
            "\u001b[K     |████████████████████████████████| 942kB 3.5MB/s \n",
            "\u001b[?25hBuilding wheels for collected packages: pronouncing\n",
            "  Building wheel for pronouncing (setup.py) ... \u001b[?25l\u001b[?25hdone\n",
            "  Created wheel for pronouncing: filename=pronouncing-0.2.0-py2.py3-none-any.whl size=6225 sha256=db2613798d1a9c711bd6c155b14f80cd1d4ae8ed30f0a287e38743a9e27350b4\n",
            "  Stored in directory: /root/.cache/pip/wheels/81/fd/e8/fb1a226f707c7e20dbed4c43f81b819d279ffd3b0e2f06ee13\n",
            "Successfully built pronouncing\n",
            "Installing collected packages: cmudict, pronouncing\n",
            "Successfully installed cmudict-0.4.5 pronouncing-0.2.0\n"
          ],
          "name": "stdout"
        }
      ]
    },
    {
      "cell_type": "code",
      "metadata": {
        "id": "2vLlcSXCssU5",
        "outputId": "c4ce1ae1-3794-44c4-fd0c-62dda4551ecd",
        "colab": {
          "base_uri": "https://localhost:8080/",
          "height": 403
        }
      },
      "source": [
        "word='myself'\n",
        "word_rhymes=pronouncing.rhymes(word)\n",
        "word_rhymes.append(word)\n",
        "word_rhymes"
      ],
      "execution_count": null,
      "outputs": [
        {
          "output_type": "execute_result",
          "data": {
            "text/plain": [
              "['chelf',\n",
              " 'delph',\n",
              " 'elf',\n",
              " 'helf',\n",
              " 'herself',\n",
              " 'himself',\n",
              " 'hisself',\n",
              " 'itself',\n",
              " 'oneself',\n",
              " 'ourself',\n",
              " 'ourself',\n",
              " 'relf',\n",
              " 'relph',\n",
              " 'self',\n",
              " 'selph',\n",
              " 'shelf',\n",
              " 'theirself',\n",
              " 'themself',\n",
              " 'themself',\n",
              " 'thyself',\n",
              " 'yourself',\n",
              " 'yourself',\n",
              " 'myself']"
            ]
          },
          "metadata": {
            "tags": []
          },
          "execution_count": 13
        }
      ]
    },
    {
      "cell_type": "code",
      "metadata": {
        "id": "nzhKtEVTuJh2",
        "outputId": "ae6c0c66-54f4-473b-fee9-e2d5e09f3c07",
        "colab": {
          "base_uri": "https://localhost:8080/",
          "height": 218
        }
      },
      "source": [
        "poem.Last_Word.isin(word_rhymes)"
      ],
      "execution_count": null,
      "outputs": [
        {
          "output_type": "execute_result",
          "data": {
            "text/plain": [
              "0        False\n",
              "1         True\n",
              "2        False\n",
              "3        False\n",
              "4        False\n",
              "         ...  \n",
              "40422    False\n",
              "40423    False\n",
              "40424    False\n",
              "40425    False\n",
              "40426    False\n",
              "Name: Last_Word, Length: 40427, dtype: bool"
            ]
          },
          "metadata": {
            "tags": []
          },
          "execution_count": 15
        }
      ]
    },
    {
      "cell_type": "code",
      "metadata": {
        "id": "CRDbeVMKvwaD"
      },
      "source": [
        ""
      ],
      "execution_count": null,
      "outputs": []
    },
    {
      "cell_type": "code",
      "metadata": {
        "id": "hxcs2R6GutuP",
        "outputId": "e1fbea8f-2848-44dd-8165-eb7e62261618",
        "colab": {
          "base_uri": "https://localhost:8080/",
          "height": 101
        }
      },
      "source": [
        "poem.Rhym[poem.Last_Word.isin(word_rhymes)]=0j"
      ],
      "execution_count": null,
      "outputs": [
        {
          "output_type": "stream",
          "text": [
            "/usr/local/lib/python3.6/dist-packages/ipykernel_launcher.py:1: SettingWithCopyWarning: \n",
            "A value is trying to be set on a copy of a slice from a DataFrame\n",
            "\n",
            "See the caveats in the documentation: https://pandas.pydata.org/pandas-docs/stable/user_guide/indexing.html#returning-a-view-versus-a-copy\n",
            "  \"\"\"Entry point for launching an IPython kernel.\n"
          ],
          "name": "stderr"
        }
      ]
    },
    {
      "cell_type": "code",
      "metadata": {
        "id": "2cx7cmdmu8vQ",
        "outputId": "1fafecf2-de82-4bb7-ebf3-2456f5ca0f95",
        "colab": {
          "base_uri": "https://localhost:8080/",
          "height": 402
        }
      },
      "source": [
        "poem[poem.Rhym.isnull()]"
      ],
      "execution_count": null,
      "outputs": [
        {
          "output_type": "execute_result",
          "data": {
            "text/html": [
              "<div>\n",
              "<style scoped>\n",
              "    .dataframe tbody tr th:only-of-type {\n",
              "        vertical-align: middle;\n",
              "    }\n",
              "\n",
              "    .dataframe tbody tr th {\n",
              "        vertical-align: top;\n",
              "    }\n",
              "\n",
              "    .dataframe thead th {\n",
              "        text-align: right;\n",
              "    }\n",
              "</style>\n",
              "<table border=\"1\" class=\"dataframe\">\n",
              "  <thead>\n",
              "    <tr style=\"text-align: right;\">\n",
              "      <th></th>\n",
              "      <th>Unnamed: 0</th>\n",
              "      <th>Title</th>\n",
              "      <th>Poet</th>\n",
              "      <th>Lines</th>\n",
              "      <th>Last_Word</th>\n",
              "      <th>Rhym</th>\n",
              "    </tr>\n",
              "  </thead>\n",
              "  <tbody>\n",
              "    <tr>\n",
              "      <th>0</th>\n",
              "      <td>0</td>\n",
              "      <td>Song of Myself (1892 version)</td>\n",
              "      <td>Walt Whitman</td>\n",
              "      <td>1</td>\n",
              "      <td>1</td>\n",
              "      <td>NaN</td>\n",
              "    </tr>\n",
              "    <tr>\n",
              "      <th>2</th>\n",
              "      <td>2</td>\n",
              "      <td>Song of Myself (1892 version)</td>\n",
              "      <td>Walt Whitman</td>\n",
              "      <td>And what I assume you shall assume,</td>\n",
              "      <td>assume</td>\n",
              "      <td>NaN</td>\n",
              "    </tr>\n",
              "    <tr>\n",
              "      <th>3</th>\n",
              "      <td>3</td>\n",
              "      <td>Song of Myself (1892 version)</td>\n",
              "      <td>Walt Whitman</td>\n",
              "      <td>For every atom belonging to me as good belongs...</td>\n",
              "      <td>you</td>\n",
              "      <td>NaN</td>\n",
              "    </tr>\n",
              "    <tr>\n",
              "      <th>4</th>\n",
              "      <td>4</td>\n",
              "      <td>Song of Myself (1892 version)</td>\n",
              "      <td>Walt Whitman</td>\n",
              "      <td>I loafe and invite my soul,</td>\n",
              "      <td>soul</td>\n",
              "      <td>NaN</td>\n",
              "    </tr>\n",
              "    <tr>\n",
              "      <th>5</th>\n",
              "      <td>5</td>\n",
              "      <td>Song of Myself (1892 version)</td>\n",
              "      <td>Walt Whitman</td>\n",
              "      <td>I lean and loafe at my ease observing a spear ...</td>\n",
              "      <td>grass</td>\n",
              "      <td>NaN</td>\n",
              "    </tr>\n",
              "    <tr>\n",
              "      <th>...</th>\n",
              "      <td>...</td>\n",
              "      <td>...</td>\n",
              "      <td>...</td>\n",
              "      <td>...</td>\n",
              "      <td>...</td>\n",
              "      <td>...</td>\n",
              "    </tr>\n",
              "    <tr>\n",
              "      <th>40422</th>\n",
              "      <td>46779</td>\n",
              "      <td>Ordinary Time</td>\n",
              "      <td>Tim Dlugos</td>\n",
              "      <td>other place, the undescribed</td>\n",
              "      <td>undescribed</td>\n",
              "      <td>NaN</td>\n",
              "    </tr>\n",
              "    <tr>\n",
              "      <th>40423</th>\n",
              "      <td>46781</td>\n",
              "      <td>Ordinary Time</td>\n",
              "      <td>Tim Dlugos</td>\n",
              "      <td>and indescribable, more various</td>\n",
              "      <td>various</td>\n",
              "      <td>NaN</td>\n",
              "    </tr>\n",
              "    <tr>\n",
              "      <th>40424</th>\n",
              "      <td>46783</td>\n",
              "      <td>Ordinary Time</td>\n",
              "      <td>Tim Dlugos</td>\n",
              "      <td>and cacophonous than voice</td>\n",
              "      <td>voice</td>\n",
              "      <td>NaN</td>\n",
              "    </tr>\n",
              "    <tr>\n",
              "      <th>40425</th>\n",
              "      <td>46785</td>\n",
              "      <td>Ordinary Time</td>\n",
              "      <td>Tim Dlugos</td>\n",
              "      <td>can tell or mind conceive,</td>\n",
              "      <td>conceive</td>\n",
              "      <td>NaN</td>\n",
              "    </tr>\n",
              "    <tr>\n",
              "      <th>40426</th>\n",
              "      <td>46787</td>\n",
              "      <td>Ordinary Time</td>\n",
              "      <td>Tim Dlugos</td>\n",
              "      <td>and for the sky’s vast depths</td>\n",
              "      <td>depths</td>\n",
              "      <td>NaN</td>\n",
              "    </tr>\n",
              "  </tbody>\n",
              "</table>\n",
              "<p>40248 rows × 6 columns</p>\n",
              "</div>"
            ],
            "text/plain": [
              "       Unnamed: 0                          Title  ...    Last_Word Rhym\n",
              "0               0  Song of Myself (1892 version)  ...            1  NaN\n",
              "2               2  Song of Myself (1892 version)  ...       assume  NaN\n",
              "3               3  Song of Myself (1892 version)  ...          you  NaN\n",
              "4               4  Song of Myself (1892 version)  ...         soul  NaN\n",
              "5               5  Song of Myself (1892 version)  ...        grass  NaN\n",
              "...           ...                            ...  ...          ...  ...\n",
              "40422       46779                  Ordinary Time  ...  undescribed  NaN\n",
              "40423       46781                  Ordinary Time  ...      various  NaN\n",
              "40424       46783                  Ordinary Time  ...        voice  NaN\n",
              "40425       46785                  Ordinary Time  ...     conceive  NaN\n",
              "40426       46787                  Ordinary Time  ...       depths  NaN\n",
              "\n",
              "[40248 rows x 6 columns]"
            ]
          },
          "metadata": {
            "tags": []
          },
          "execution_count": 19
        }
      ]
    },
    {
      "cell_type": "code",
      "metadata": {
        "id": "Nx3_8idtvYFm",
        "outputId": "58397702-633d-4ef4-8def-c35dde051814",
        "colab": {
          "base_uri": "https://localhost:8080/",
          "height": 806
        }
      },
      "source": [
        "word='assume'\n",
        "word_rhymes=pronouncing.rhymes(word)\n",
        "word_rhymes.append(word)\n",
        "word_rhymes"
      ],
      "execution_count": null,
      "outputs": [
        {
          "output_type": "execute_result",
          "data": {
            "text/plain": [
              "['abloom',\n",
              " 'bloom',\n",
              " 'blum',\n",
              " 'blume',\n",
              " 'boom',\n",
              " 'broom',\n",
              " 'broome',\n",
              " 'consume',\n",
              " 'coombe',\n",
              " 'costume',\n",
              " 'croom',\n",
              " 'crume',\n",
              " 'deblum',\n",
              " 'doom',\n",
              " 'entomb',\n",
              " 'exhume',\n",
              " 'flume',\n",
              " 'fume',\n",
              " 'gloom',\n",
              " 'groom',\n",
              " 'groome',\n",
              " 'hume',\n",
              " 'kaboom',\n",
              " 'khartoum',\n",
              " 'kume',\n",
              " 'laplume',\n",
              " 'legroom',\n",
              " 'loom',\n",
              " 'maktoum',\n",
              " 'mcbroom',\n",
              " 'perfume',\n",
              " 'plume',\n",
              " 'presume',\n",
              " 'reassume',\n",
              " 'reaume',\n",
              " 'resume',\n",
              " 'resume',\n",
              " 'rheaume',\n",
              " 'room',\n",
              " 'roome',\n",
              " 'suhm',\n",
              " 'tomb',\n",
              " 'vroom',\n",
              " 'whom',\n",
              " 'womb',\n",
              " 'zoom',\n",
              " 'assume']"
            ]
          },
          "metadata": {
            "tags": []
          },
          "execution_count": 20
        }
      ]
    },
    {
      "cell_type": "code",
      "metadata": {
        "id": "yVJpLXWhvzIk",
        "outputId": "46f6ee04-df08-4617-ae1c-1dabef707354",
        "colab": {
          "base_uri": "https://localhost:8080/",
          "height": 218
        }
      },
      "source": [
        "poem[poem.Rhym.isnull()].Last_Word.isin(word_rhymes)"
      ],
      "execution_count": null,
      "outputs": [
        {
          "output_type": "execute_result",
          "data": {
            "text/plain": [
              "0        False\n",
              "2         True\n",
              "3        False\n",
              "4        False\n",
              "5        False\n",
              "         ...  \n",
              "40422    False\n",
              "40423    False\n",
              "40424    False\n",
              "40425    False\n",
              "40426    False\n",
              "Name: Last_Word, Length: 40248, dtype: bool"
            ]
          },
          "metadata": {
            "tags": []
          },
          "execution_count": 22
        }
      ]
    },
    {
      "cell_type": "code",
      "metadata": {
        "id": "ghtW7abExBpV",
        "outputId": "6d5db89d-ba74-4828-c06c-fdcddbeb269b",
        "colab": {
          "base_uri": "https://localhost:8080/",
          "height": 101
        }
      },
      "source": [
        "poem.Rhym[poem.Last_Word.isin(word_rhymes)]=1"
      ],
      "execution_count": null,
      "outputs": [
        {
          "output_type": "stream",
          "text": [
            "/usr/local/lib/python3.6/dist-packages/ipykernel_launcher.py:1: SettingWithCopyWarning: \n",
            "A value is trying to be set on a copy of a slice from a DataFrame\n",
            "\n",
            "See the caveats in the documentation: https://pandas.pydata.org/pandas-docs/stable/user_guide/indexing.html#returning-a-view-versus-a-copy\n",
            "  \"\"\"Entry point for launching an IPython kernel.\n"
          ],
          "name": "stderr"
        }
      ]
    }
  ]
}