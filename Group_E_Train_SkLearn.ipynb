{
  "nbformat": 4,
  "nbformat_minor": 0,
  "metadata": {
    "colab": {
      "name": "Group E_Train-SkLearn.ipynb",
      "provenance": [],
      "collapsed_sections": [],
      "include_colab_link": true
    },
    "kernelspec": {
      "name": "python3",
      "display_name": "Python 3"
    }
  },
  "cells": [
    {
      "cell_type": "markdown",
      "metadata": {
        "id": "view-in-github",
        "colab_type": "text"
      },
      "source": [
        "<a href=\"https://colab.research.google.com/github/Mahnazshamissa/Python/blob/main/Group_E_Train_SkLearn.ipynb\" target=\"_parent\"><img src=\"https://colab.research.google.com/assets/colab-badge.svg\" alt=\"Open In Colab\"/></a>"
      ]
    },
    {
      "cell_type": "code",
      "metadata": {
        "id": "dKi1p6bQIfH3"
      },
      "source": [
        "import pandas as pd\n",
        "import seaborn as sns\n",
        "import matplotlib.pyplot as plt"
      ],
      "execution_count": null,
      "outputs": []
    },
    {
      "cell_type": "code",
      "metadata": {
        "id": "z20z8bOxObuI",
        "outputId": "1612d296-fd8b-4245-9b26-691f7a931dd2",
        "colab": {
          "base_uri": "https://localhost:8080/",
          "height": 202
        }
      },
      "source": [
        "!pip install yellowbrick # machine learning visualization library https://www.scikit-yb.org/en/latest/"
      ],
      "execution_count": null,
      "outputs": [
        {
          "output_type": "stream",
          "text": [
            "Requirement already satisfied: yellowbrick in /usr/local/lib/python3.6/dist-packages (0.9.1)\n",
            "Requirement already satisfied: numpy>=1.13.0 in /usr/local/lib/python3.6/dist-packages (from yellowbrick) (1.18.5)\n",
            "Requirement already satisfied: matplotlib!=3.0.0,>=1.5.1 in /usr/local/lib/python3.6/dist-packages (from yellowbrick) (3.2.2)\n",
            "Requirement already satisfied: cycler>=0.10.0 in /usr/local/lib/python3.6/dist-packages (from yellowbrick) (0.10.0)\n",
            "Requirement already satisfied: scipy>=1.0.0 in /usr/local/lib/python3.6/dist-packages (from yellowbrick) (1.4.1)\n",
            "Requirement already satisfied: scikit-learn>=0.20 in /usr/local/lib/python3.6/dist-packages (from yellowbrick) (0.22.2.post1)\n",
            "Requirement already satisfied: pyparsing!=2.0.4,!=2.1.2,!=2.1.6,>=2.0.1 in /usr/local/lib/python3.6/dist-packages (from matplotlib!=3.0.0,>=1.5.1->yellowbrick) (2.4.7)\n",
            "Requirement already satisfied: python-dateutil>=2.1 in /usr/local/lib/python3.6/dist-packages (from matplotlib!=3.0.0,>=1.5.1->yellowbrick) (2.8.1)\n",
            "Requirement already satisfied: kiwisolver>=1.0.1 in /usr/local/lib/python3.6/dist-packages (from matplotlib!=3.0.0,>=1.5.1->yellowbrick) (1.2.0)\n",
            "Requirement already satisfied: six in /usr/local/lib/python3.6/dist-packages (from cycler>=0.10.0->yellowbrick) (1.15.0)\n",
            "Requirement already satisfied: joblib>=0.11 in /usr/local/lib/python3.6/dist-packages (from scikit-learn>=0.20->yellowbrick) (0.16.0)\n"
          ],
          "name": "stdout"
        }
      ]
    },
    {
      "cell_type": "code",
      "metadata": {
        "id": "qAeyGpN7KJFM"
      },
      "source": [
        "# set the background colour of the plot to white\n",
        "sns.set(style=\"whitegrid\", color_codes=True)\n",
        "# setting the plot size for all plots\n",
        "sns.set(rc={'figure.figsize':(11.7,8.27)})"
      ],
      "execution_count": null,
      "outputs": []
    },
    {
      "cell_type": "markdown",
      "metadata": {
        "id": "PORCimPIJn6w"
      },
      "source": [
        "## **Data** - sales campaign data of an automotive parts wholesale supplier\n",
        "\n",
        "## Prediction - build a predictive model to tell us which sales campaign will result in a loss and which will result in a win"
      ]
    },
    {
      "cell_type": "code",
      "metadata": {
        "id": "BU85Aguwy1G9"
      },
      "source": [
        ""
      ],
      "execution_count": null,
      "outputs": []
    },
    {
      "cell_type": "code",
      "metadata": {
        "id": "ShiZXBIyIjp0",
        "outputId": "f7955dab-8b58-4d18-c622-b6a246a1b298",
        "colab": {
          "base_uri": "https://localhost:8080/",
          "height": 383
        }
      },
      "source": [
        "# tutorial https://www.dataquest.io/blog/sci-kit-learn-tutorial/\n",
        "data_url = \"https://raw.githubusercontent.com/vkrit/data-science-class/master/WA_Fn-UseC_-Sales-Win-Loss.csv\" # Kaggle Data again https://www.kaggle.com/thatbrock/ibm-watson-saleswinloss\n",
        "sales_data = pd.read_csv(data_url)\n",
        "sales_data.head()"
      ],
      "execution_count": null,
      "outputs": [
        {
          "output_type": "execute_result",
          "data": {
            "text/html": [
              "<div>\n",
              "<style scoped>\n",
              "    .dataframe tbody tr th:only-of-type {\n",
              "        vertical-align: middle;\n",
              "    }\n",
              "\n",
              "    .dataframe tbody tr th {\n",
              "        vertical-align: top;\n",
              "    }\n",
              "\n",
              "    .dataframe thead th {\n",
              "        text-align: right;\n",
              "    }\n",
              "</style>\n",
              "<table border=\"1\" class=\"dataframe\">\n",
              "  <thead>\n",
              "    <tr style=\"text-align: right;\">\n",
              "      <th></th>\n",
              "      <th>Opportunity Number</th>\n",
              "      <th>Supplies Subgroup</th>\n",
              "      <th>Supplies Group</th>\n",
              "      <th>Region</th>\n",
              "      <th>Route To Market</th>\n",
              "      <th>Elapsed Days In Sales Stage</th>\n",
              "      <th>Opportunity Result</th>\n",
              "      <th>Sales Stage Change Count</th>\n",
              "      <th>Total Days Identified Through Closing</th>\n",
              "      <th>Total Days Identified Through Qualified</th>\n",
              "      <th>Opportunity Amount USD</th>\n",
              "      <th>Client Size By Revenue</th>\n",
              "      <th>Client Size By Employee Count</th>\n",
              "      <th>Revenue From Client Past Two Years</th>\n",
              "      <th>Competitor Type</th>\n",
              "      <th>Ratio Days Identified To Total Days</th>\n",
              "      <th>Ratio Days Validated To Total Days</th>\n",
              "      <th>Ratio Days Qualified To Total Days</th>\n",
              "      <th>Deal Size Category</th>\n",
              "    </tr>\n",
              "  </thead>\n",
              "  <tbody>\n",
              "    <tr>\n",
              "      <th>0</th>\n",
              "      <td>1641984</td>\n",
              "      <td>Exterior Accessories</td>\n",
              "      <td>Car Accessories</td>\n",
              "      <td>Northwest</td>\n",
              "      <td>Fields Sales</td>\n",
              "      <td>76</td>\n",
              "      <td>Won</td>\n",
              "      <td>13</td>\n",
              "      <td>104</td>\n",
              "      <td>101</td>\n",
              "      <td>0</td>\n",
              "      <td>5</td>\n",
              "      <td>5</td>\n",
              "      <td>0</td>\n",
              "      <td>Unknown</td>\n",
              "      <td>0.69636</td>\n",
              "      <td>0.113985</td>\n",
              "      <td>0.154215</td>\n",
              "      <td>1</td>\n",
              "    </tr>\n",
              "    <tr>\n",
              "      <th>1</th>\n",
              "      <td>1658010</td>\n",
              "      <td>Exterior Accessories</td>\n",
              "      <td>Car Accessories</td>\n",
              "      <td>Pacific</td>\n",
              "      <td>Reseller</td>\n",
              "      <td>63</td>\n",
              "      <td>Loss</td>\n",
              "      <td>2</td>\n",
              "      <td>163</td>\n",
              "      <td>163</td>\n",
              "      <td>0</td>\n",
              "      <td>3</td>\n",
              "      <td>5</td>\n",
              "      <td>0</td>\n",
              "      <td>Unknown</td>\n",
              "      <td>0.00000</td>\n",
              "      <td>1.000000</td>\n",
              "      <td>0.000000</td>\n",
              "      <td>1</td>\n",
              "    </tr>\n",
              "    <tr>\n",
              "      <th>2</th>\n",
              "      <td>1674737</td>\n",
              "      <td>Motorcycle Parts</td>\n",
              "      <td>Performance &amp; Non-auto</td>\n",
              "      <td>Pacific</td>\n",
              "      <td>Reseller</td>\n",
              "      <td>24</td>\n",
              "      <td>Won</td>\n",
              "      <td>7</td>\n",
              "      <td>82</td>\n",
              "      <td>82</td>\n",
              "      <td>7750</td>\n",
              "      <td>1</td>\n",
              "      <td>1</td>\n",
              "      <td>0</td>\n",
              "      <td>Unknown</td>\n",
              "      <td>1.00000</td>\n",
              "      <td>0.000000</td>\n",
              "      <td>0.000000</td>\n",
              "      <td>1</td>\n",
              "    </tr>\n",
              "    <tr>\n",
              "      <th>3</th>\n",
              "      <td>1675224</td>\n",
              "      <td>Shelters &amp; RV</td>\n",
              "      <td>Performance &amp; Non-auto</td>\n",
              "      <td>Midwest</td>\n",
              "      <td>Reseller</td>\n",
              "      <td>16</td>\n",
              "      <td>Loss</td>\n",
              "      <td>5</td>\n",
              "      <td>124</td>\n",
              "      <td>124</td>\n",
              "      <td>0</td>\n",
              "      <td>1</td>\n",
              "      <td>1</td>\n",
              "      <td>0</td>\n",
              "      <td>Known</td>\n",
              "      <td>1.00000</td>\n",
              "      <td>0.000000</td>\n",
              "      <td>0.000000</td>\n",
              "      <td>1</td>\n",
              "    </tr>\n",
              "    <tr>\n",
              "      <th>4</th>\n",
              "      <td>1689785</td>\n",
              "      <td>Exterior Accessories</td>\n",
              "      <td>Car Accessories</td>\n",
              "      <td>Pacific</td>\n",
              "      <td>Reseller</td>\n",
              "      <td>69</td>\n",
              "      <td>Loss</td>\n",
              "      <td>11</td>\n",
              "      <td>91</td>\n",
              "      <td>13</td>\n",
              "      <td>69756</td>\n",
              "      <td>1</td>\n",
              "      <td>1</td>\n",
              "      <td>0</td>\n",
              "      <td>Unknown</td>\n",
              "      <td>0.00000</td>\n",
              "      <td>0.141125</td>\n",
              "      <td>0.000000</td>\n",
              "      <td>4</td>\n",
              "    </tr>\n",
              "  </tbody>\n",
              "</table>\n",
              "</div>"
            ],
            "text/plain": [
              "   Opportunity Number  ... Deal Size Category\n",
              "0             1641984  ...                  1\n",
              "1             1658010  ...                  1\n",
              "2             1674737  ...                  1\n",
              "3             1675224  ...                  1\n",
              "4             1689785  ...                  4\n",
              "\n",
              "[5 rows x 19 columns]"
            ]
          },
          "metadata": {
            "tags": []
          },
          "execution_count": 5
        }
      ]
    },
    {
      "cell_type": "code",
      "metadata": {
        "id": "0xR4xsLNIpYj",
        "outputId": "8da0adb2-dac3-4fc0-e3d2-388056be38f5",
        "colab": {
          "base_uri": "https://localhost:8080/",
          "height": 364
        }
      },
      "source": [
        "sales_data.dtypes"
      ],
      "execution_count": null,
      "outputs": [
        {
          "output_type": "execute_result",
          "data": {
            "text/plain": [
              "Opportunity Number                           int64\n",
              "Supplies Subgroup                           object\n",
              "Supplies Group                              object\n",
              "Region                                      object\n",
              "Route To Market                             object\n",
              "Elapsed Days In Sales Stage                  int64\n",
              "Opportunity Result                          object\n",
              "Sales Stage Change Count                     int64\n",
              "Total Days Identified Through Closing        int64\n",
              "Total Days Identified Through Qualified      int64\n",
              "Opportunity Amount USD                       int64\n",
              "Client Size By Revenue                       int64\n",
              "Client Size By Employee Count                int64\n",
              "Revenue From Client Past Two Years           int64\n",
              "Competitor Type                             object\n",
              "Ratio Days Identified To Total Days        float64\n",
              "Ratio Days Validated To Total Days         float64\n",
              "Ratio Days Qualified To Total Days         float64\n",
              "Deal Size Category                           int64\n",
              "dtype: object"
            ]
          },
          "metadata": {
            "tags": []
          },
          "execution_count": 6
        }
      ]
    },
    {
      "cell_type": "code",
      "metadata": {
        "id": "j3ly7oPOJ9qZ",
        "outputId": "64b0f180-82ec-4c8c-a31d-6140be4ab146",
        "colab": {
          "base_uri": "https://localhost:8080/",
          "height": 517
        }
      },
      "source": [
        "sns.countplot(x = 'Route To Market',data=sales_data,hue = 'Opportunity Result');"
      ],
      "execution_count": null,
      "outputs": [
        {
          "output_type": "display_data",
          "data": {
            "image/png": "[encoded data removed]",
            "text/plain": [
              "<Figure size 842.4x595.44 with 1 Axes>"
            ]
          },
          "metadata": {
            "tags": []
          }
        }
      ]
    },
    {
      "cell_type": "code",
      "metadata": {
        "id": "2DwdbdxxKMrm"
      },
      "source": [
        "from sklearn import preprocessing"
      ],
      "execution_count": null,
      "outputs": []
    },
    {
      "cell_type": "code",
      "metadata": {
        "id": "TomxnIPOKlyB"
      },
      "source": [
        "# LabelEncoder\n",
        "le = preprocessing.LabelEncoder()"
      ],
      "execution_count": null,
      "outputs": []
    },
    {
      "cell_type": "code",
      "metadata": {
        "id": "F2SnW2h7K0YX",
        "outputId": "c76afaa5-769d-4c30-d541-c153cae16e80",
        "colab": {
          "base_uri": "https://localhost:8080/",
          "height": 34
        }
      },
      "source": [
        "#convert the categorical columns into numeric\n",
        "encoded_value = le.fit_transform([\"paris\", \"paris\", \"tokyo\", \"amsterdam\"])\n",
        "print(encoded_value)"
      ],
      "execution_count": null,
      "outputs": [
        {
          "output_type": "stream",
          "text": [
            "[1 1 2 0]\n"
          ],
          "name": "stdout"
        }
      ]
    },
    {
      "cell_type": "code",
      "metadata": {
        "id": "8KN2JY87K1f2",
        "outputId": "00a3c5bc-21da-427c-fa76-349e23724948",
        "colab": {
          "base_uri": "https://localhost:8080/",
          "height": 202
        }
      },
      "source": [
        "sales_data['Supplies Subgroup'] = le.fit_transform(sales_data['Supplies Subgroup'])\n",
        "print(le.classes_)\n",
        "sales_data['Region'] = le.fit_transform(sales_data['Region'])\n",
        "print(le.classes_)\n",
        "sales_data['Route To Market'] = le.fit_transform(sales_data['Route To Market'])\n",
        "print(le.classes_)\n",
        "sales_data['Opportunity Result'] = le.fit_transform(sales_data['Opportunity Result'])\n",
        "print(le.classes_)\n",
        "sales_data['Competitor Type'] = le.fit_transform(sales_data['Competitor Type'])\n",
        "print(le.classes_)\n",
        "sales_data['Supplies Group'] = le.fit_transform(sales_data['Supplies Group'])\n",
        "print(le.classes_)\n"
      ],
      "execution_count": null,
      "outputs": [
        {
          "output_type": "stream",
          "text": [
            "['Batteries & Accessories' 'Car Electronics' 'Exterior Accessories'\n",
            " 'Garage & Car Care' 'Interior Accessories' 'Motorcycle Parts'\n",
            " 'Performance Parts' 'Replacement Parts' 'Shelters & RV' 'Tires & Wheels'\n",
            " 'Towing & Hitches']\n",
            "['Mid-Atlantic' 'Midwest' 'Northeast' 'Northwest' 'Pacific' 'Southeast'\n",
            " 'Southwest']\n",
            "['Fields Sales' 'Other' 'Reseller' 'Telecoverage' 'Telesales']\n",
            "['Loss' 'Won']\n",
            "['Known' 'None' 'Unknown']\n",
            "['Car Accessories' 'Car Electronics' 'Performance & Non-auto'\n",
            " 'Tires & Wheels']\n"
          ],
          "name": "stdout"
        }
      ]
    },
    {
      "cell_type": "code",
      "metadata": {
        "id": "tA7Y0PC5dSlW",
        "outputId": "c79b00d3-5a0d-45dd-94a5-130975c11c40",
        "colab": {
          "base_uri": "https://localhost:8080/",
          "height": 299
        }
      },
      "source": [
        "sales_data.head()"
      ],
      "execution_count": null,
      "outputs": [
        {
          "output_type": "execute_result",
          "data": {
            "text/html": [
              "<div>\n",
              "<style scoped>\n",
              "    .dataframe tbody tr th:only-of-type {\n",
              "        vertical-align: middle;\n",
              "    }\n",
              "\n",
              "    .dataframe tbody tr th {\n",
              "        vertical-align: top;\n",
              "    }\n",
              "\n",
              "    .dataframe thead th {\n",
              "        text-align: right;\n",
              "    }\n",
              "</style>\n",
              "<table border=\"1\" class=\"dataframe\">\n",
              "  <thead>\n",
              "    <tr style=\"text-align: right;\">\n",
              "      <th></th>\n",
              "      <th>Opportunity Number</th>\n",
              "      <th>Supplies Subgroup</th>\n",
              "      <th>Supplies Group</th>\n",
              "      <th>Region</th>\n",
              "      <th>Route To Market</th>\n",
              "      <th>Elapsed Days In Sales Stage</th>\n",
              "      <th>Opportunity Result</th>\n",
              "      <th>Sales Stage Change Count</th>\n",
              "      <th>Total Days Identified Through Closing</th>\n",
              "      <th>Total Days Identified Through Qualified</th>\n",
              "      <th>Opportunity Amount USD</th>\n",
              "      <th>Client Size By Revenue</th>\n",
              "      <th>Client Size By Employee Count</th>\n",
              "      <th>Revenue From Client Past Two Years</th>\n",
              "      <th>Competitor Type</th>\n",
              "      <th>Ratio Days Identified To Total Days</th>\n",
              "      <th>Ratio Days Validated To Total Days</th>\n",
              "      <th>Ratio Days Qualified To Total Days</th>\n",
              "      <th>Deal Size Category</th>\n",
              "    </tr>\n",
              "  </thead>\n",
              "  <tbody>\n",
              "    <tr>\n",
              "      <th>0</th>\n",
              "      <td>1641984</td>\n",
              "      <td>2</td>\n",
              "      <td>0</td>\n",
              "      <td>3</td>\n",
              "      <td>0</td>\n",
              "      <td>76</td>\n",
              "      <td>1</td>\n",
              "      <td>13</td>\n",
              "      <td>104</td>\n",
              "      <td>101</td>\n",
              "      <td>0</td>\n",
              "      <td>5</td>\n",
              "      <td>5</td>\n",
              "      <td>0</td>\n",
              "      <td>2</td>\n",
              "      <td>0.69636</td>\n",
              "      <td>0.113985</td>\n",
              "      <td>0.154215</td>\n",
              "      <td>1</td>\n",
              "    </tr>\n",
              "    <tr>\n",
              "      <th>1</th>\n",
              "      <td>1658010</td>\n",
              "      <td>2</td>\n",
              "      <td>0</td>\n",
              "      <td>4</td>\n",
              "      <td>2</td>\n",
              "      <td>63</td>\n",
              "      <td>0</td>\n",
              "      <td>2</td>\n",
              "      <td>163</td>\n",
              "      <td>163</td>\n",
              "      <td>0</td>\n",
              "      <td>3</td>\n",
              "      <td>5</td>\n",
              "      <td>0</td>\n",
              "      <td>2</td>\n",
              "      <td>0.00000</td>\n",
              "      <td>1.000000</td>\n",
              "      <td>0.000000</td>\n",
              "      <td>1</td>\n",
              "    </tr>\n",
              "    <tr>\n",
              "      <th>2</th>\n",
              "      <td>1674737</td>\n",
              "      <td>5</td>\n",
              "      <td>2</td>\n",
              "      <td>4</td>\n",
              "      <td>2</td>\n",
              "      <td>24</td>\n",
              "      <td>1</td>\n",
              "      <td>7</td>\n",
              "      <td>82</td>\n",
              "      <td>82</td>\n",
              "      <td>7750</td>\n",
              "      <td>1</td>\n",
              "      <td>1</td>\n",
              "      <td>0</td>\n",
              "      <td>2</td>\n",
              "      <td>1.00000</td>\n",
              "      <td>0.000000</td>\n",
              "      <td>0.000000</td>\n",
              "      <td>1</td>\n",
              "    </tr>\n",
              "    <tr>\n",
              "      <th>3</th>\n",
              "      <td>1675224</td>\n",
              "      <td>8</td>\n",
              "      <td>2</td>\n",
              "      <td>1</td>\n",
              "      <td>2</td>\n",
              "      <td>16</td>\n",
              "      <td>0</td>\n",
              "      <td>5</td>\n",
              "      <td>124</td>\n",
              "      <td>124</td>\n",
              "      <td>0</td>\n",
              "      <td>1</td>\n",
              "      <td>1</td>\n",
              "      <td>0</td>\n",
              "      <td>0</td>\n",
              "      <td>1.00000</td>\n",
              "      <td>0.000000</td>\n",
              "      <td>0.000000</td>\n",
              "      <td>1</td>\n",
              "    </tr>\n",
              "    <tr>\n",
              "      <th>4</th>\n",
              "      <td>1689785</td>\n",
              "      <td>2</td>\n",
              "      <td>0</td>\n",
              "      <td>4</td>\n",
              "      <td>2</td>\n",
              "      <td>69</td>\n",
              "      <td>0</td>\n",
              "      <td>11</td>\n",
              "      <td>91</td>\n",
              "      <td>13</td>\n",
              "      <td>69756</td>\n",
              "      <td>1</td>\n",
              "      <td>1</td>\n",
              "      <td>0</td>\n",
              "      <td>2</td>\n",
              "      <td>0.00000</td>\n",
              "      <td>0.141125</td>\n",
              "      <td>0.000000</td>\n",
              "      <td>4</td>\n",
              "    </tr>\n",
              "  </tbody>\n",
              "</table>\n",
              "</div>"
            ],
            "text/plain": [
              "   Opportunity Number  ...  Deal Size Category\n",
              "0             1641984  ...                   1\n",
              "1             1658010  ...                   1\n",
              "2             1674737  ...                   1\n",
              "3             1675224  ...                   1\n",
              "4             1689785  ...                   4\n",
              "\n",
              "[5 rows x 19 columns]"
            ]
          },
          "metadata": {
            "tags": []
          },
          "execution_count": 21
        }
      ]
    },
    {
      "cell_type": "code",
      "metadata": {
        "id": "0n7xCRrZK8OA",
        "outputId": "358cfcc9-b930-4aca-9dd2-8a5828d43f82",
        "colab": {
          "base_uri": "https://localhost:8080/",
          "height": 34
        }
      },
      "source": [
        "le.classes_"
      ],
      "execution_count": null,
      "outputs": [
        {
          "output_type": "execute_result",
          "data": {
            "text/plain": [
              "array(['amsterdam', 'paris', 'tokyo'], dtype='<U9')"
            ]
          },
          "metadata": {
            "tags": []
          },
          "execution_count": 15
        }
      ]
    },
    {
      "cell_type": "markdown",
      "metadata": {
        "id": "IfhXtWzQLji8"
      },
      "source": [
        "# Split Intro Training and Testing Data"
      ]
    },
    {
      "cell_type": "code",
      "metadata": {
        "id": "wQRGhNqOLGOf",
        "outputId": "9d249f36-2da9-4166-a522-827d9c431638",
        "colab": {
          "base_uri": "https://localhost:8080/",
          "height": 302
        }
      },
      "source": [
        "cols = [col for col in sales_data.columns if col not in ['Opportunity Number','Opportunity Result']]\n",
        "cols"
      ],
      "execution_count": null,
      "outputs": [
        {
          "output_type": "execute_result",
          "data": {
            "text/plain": [
              "['Supplies Subgroup',\n",
              " 'Supplies Group',\n",
              " 'Region',\n",
              " 'Route To Market',\n",
              " 'Elapsed Days In Sales Stage',\n",
              " 'Sales Stage Change Count',\n",
              " 'Total Days Identified Through Closing',\n",
              " 'Total Days Identified Through Qualified',\n",
              " 'Opportunity Amount USD',\n",
              " 'Client Size By Revenue',\n",
              " 'Client Size By Employee Count',\n",
              " 'Revenue From Client Past Two Years',\n",
              " 'Competitor Type',\n",
              " 'Ratio Days Identified To Total Days',\n",
              " 'Ratio Days Validated To Total Days',\n",
              " 'Ratio Days Qualified To Total Days',\n",
              " 'Deal Size Category']"
            ]
          },
          "metadata": {
            "tags": []
          },
          "execution_count": 22
        }
      ]
    },
    {
      "cell_type": "code",
      "metadata": {
        "id": "l3TKdiNYLl6W",
        "outputId": "b2fd4781-3bfb-41ad-b7ab-8339de61bda3",
        "colab": {
          "base_uri": "https://localhost:8080/",
          "height": 262
        }
      },
      "source": [
        "X = sales_data[cols]\n",
        "y = sales_data['Opportunity Result']\n",
        "\n",
        "X.head()"
      ],
      "execution_count": null,
      "outputs": [
        {
          "output_type": "execute_result",
          "data": {
            "text/html": [
              "<div>\n",
              "<style scoped>\n",
              "    .dataframe tbody tr th:only-of-type {\n",
              "        vertical-align: middle;\n",
              "    }\n",
              "\n",
              "    .dataframe tbody tr th {\n",
              "        vertical-align: top;\n",
              "    }\n",
              "\n",
              "    .dataframe thead th {\n",
              "        text-align: right;\n",
              "    }\n",
              "</style>\n",
              "<table border=\"1\" class=\"dataframe\">\n",
              "  <thead>\n",
              "    <tr style=\"text-align: right;\">\n",
              "      <th></th>\n",
              "      <th>Supplies Subgroup</th>\n",
              "      <th>Supplies Group</th>\n",
              "      <th>Region</th>\n",
              "      <th>Route To Market</th>\n",
              "      <th>Elapsed Days In Sales Stage</th>\n",
              "      <th>Sales Stage Change Count</th>\n",
              "      <th>Total Days Identified Through Closing</th>\n",
              "      <th>Total Days Identified Through Qualified</th>\n",
              "      <th>Opportunity Amount USD</th>\n",
              "      <th>Client Size By Revenue</th>\n",
              "      <th>Client Size By Employee Count</th>\n",
              "      <th>Revenue From Client Past Two Years</th>\n",
              "      <th>Competitor Type</th>\n",
              "      <th>Ratio Days Identified To Total Days</th>\n",
              "      <th>Ratio Days Validated To Total Days</th>\n",
              "      <th>Ratio Days Qualified To Total Days</th>\n",
              "      <th>Deal Size Category</th>\n",
              "    </tr>\n",
              "  </thead>\n",
              "  <tbody>\n",
              "    <tr>\n",
              "      <th>0</th>\n",
              "      <td>2</td>\n",
              "      <td>0</td>\n",
              "      <td>3</td>\n",
              "      <td>0</td>\n",
              "      <td>76</td>\n",
              "      <td>13</td>\n",
              "      <td>104</td>\n",
              "      <td>101</td>\n",
              "      <td>0</td>\n",
              "      <td>5</td>\n",
              "      <td>5</td>\n",
              "      <td>0</td>\n",
              "      <td>2</td>\n",
              "      <td>0.69636</td>\n",
              "      <td>0.113985</td>\n",
              "      <td>0.154215</td>\n",
              "      <td>1</td>\n",
              "    </tr>\n",
              "    <tr>\n",
              "      <th>1</th>\n",
              "      <td>2</td>\n",
              "      <td>0</td>\n",
              "      <td>4</td>\n",
              "      <td>2</td>\n",
              "      <td>63</td>\n",
              "      <td>2</td>\n",
              "      <td>163</td>\n",
              "      <td>163</td>\n",
              "      <td>0</td>\n",
              "      <td>3</td>\n",
              "      <td>5</td>\n",
              "      <td>0</td>\n",
              "      <td>2</td>\n",
              "      <td>0.00000</td>\n",
              "      <td>1.000000</td>\n",
              "      <td>0.000000</td>\n",
              "      <td>1</td>\n",
              "    </tr>\n",
              "    <tr>\n",
              "      <th>2</th>\n",
              "      <td>5</td>\n",
              "      <td>2</td>\n",
              "      <td>4</td>\n",
              "      <td>2</td>\n",
              "      <td>24</td>\n",
              "      <td>7</td>\n",
              "      <td>82</td>\n",
              "      <td>82</td>\n",
              "      <td>7750</td>\n",
              "      <td>1</td>\n",
              "      <td>1</td>\n",
              "      <td>0</td>\n",
              "      <td>2</td>\n",
              "      <td>1.00000</td>\n",
              "      <td>0.000000</td>\n",
              "      <td>0.000000</td>\n",
              "      <td>1</td>\n",
              "    </tr>\n",
              "    <tr>\n",
              "      <th>3</th>\n",
              "      <td>8</td>\n",
              "      <td>2</td>\n",
              "      <td>1</td>\n",
              "      <td>2</td>\n",
              "      <td>16</td>\n",
              "      <td>5</td>\n",
              "      <td>124</td>\n",
              "      <td>124</td>\n",
              "      <td>0</td>\n",
              "      <td>1</td>\n",
              "      <td>1</td>\n",
              "      <td>0</td>\n",
              "      <td>0</td>\n",
              "      <td>1.00000</td>\n",
              "      <td>0.000000</td>\n",
              "      <td>0.000000</td>\n",
              "      <td>1</td>\n",
              "    </tr>\n",
              "    <tr>\n",
              "      <th>4</th>\n",
              "      <td>2</td>\n",
              "      <td>0</td>\n",
              "      <td>4</td>\n",
              "      <td>2</td>\n",
              "      <td>69</td>\n",
              "      <td>11</td>\n",
              "      <td>91</td>\n",
              "      <td>13</td>\n",
              "      <td>69756</td>\n",
              "      <td>1</td>\n",
              "      <td>1</td>\n",
              "      <td>0</td>\n",
              "      <td>2</td>\n",
              "      <td>0.00000</td>\n",
              "      <td>0.141125</td>\n",
              "      <td>0.000000</td>\n",
              "      <td>4</td>\n",
              "    </tr>\n",
              "  </tbody>\n",
              "</table>\n",
              "</div>"
            ],
            "text/plain": [
              "   Supplies Subgroup  ...  Deal Size Category\n",
              "0                  2  ...                   1\n",
              "1                  2  ...                   1\n",
              "2                  5  ...                   1\n",
              "3                  8  ...                   1\n",
              "4                  2  ...                   4\n",
              "\n",
              "[5 rows x 17 columns]"
            ]
          },
          "metadata": {
            "tags": []
          },
          "execution_count": 23
        }
      ]
    },
    {
      "cell_type": "code",
      "metadata": {
        "id": "5akjOkkN1zx1",
        "outputId": "151a3c88-5a3e-4cff-f449-27cddcd4eeea",
        "colab": {
          "base_uri": "https://localhost:8080/",
          "height": 34
        }
      },
      "source": [
        "from sklearn.model_selection import KFold\n",
        "X = sales_data[cols] # create an array\n",
        "y = sales_data['Opportunity Result'] # Create another array\n",
        "kf = KFold(n_splits=4) # Define the split - into 4 folds \n",
        "kf.get_n_splits(X) # returns the number of splitting iterations in the cross-validator"
      ],
      "execution_count": null,
      "outputs": [
        {
          "output_type": "execute_result",
          "data": {
            "text/plain": [
              "4"
            ]
          },
          "metadata": {
            "tags": []
          },
          "execution_count": 24
        }
      ]
    },
    {
      "cell_type": "code",
      "metadata": {
        "id": "6YHcXHkE2Wxb"
      },
      "source": [
        "kf=KFold(n_splits=4, random_state=1, shuffle=True)"
      ],
      "execution_count": null,
      "outputs": []
    },
    {
      "cell_type": "code",
      "metadata": {
        "id": "nSyJZCfe9tYn"
      },
      "source": [
        ""
      ],
      "execution_count": null,
      "outputs": []
    },
    {
      "cell_type": "code",
      "metadata": {
        "id": "znihtEj-6GAK",
        "outputId": "af84a5cc-6d8f-411f-d0b2-74a6ece31035",
        "colab": {
          "base_uri": "https://localhost:8080/",
          "height": 34
        }
      },
      "source": [
        "sales_CV = kf.split(X,y)\n",
        "sales_CV"
      ],
      "execution_count": null,
      "outputs": [
        {
          "output_type": "execute_result",
          "data": {
            "text/plain": [
              "<generator object _BaseKFold.split at 0x7fe935d98620>"
            ]
          },
          "metadata": {
            "tags": []
          },
          "execution_count": 33
        }
      ]
    },
    {
      "cell_type": "code",
      "metadata": {
        "id": "HskLOD906Ngi"
      },
      "source": [
        ""
      ],
      "execution_count": null,
      "outputs": []
    },
    {
      "cell_type": "code",
      "metadata": {
        "id": "o9Pjvbw_6rcS"
      },
      "source": [
        " from sklearn.model_selection import ShuffleSplit, cross_val_score\n",
        " from sklearn import svm\n",
        " clf = svm.SVC(kernel='linear', C=1)\n",
        " n_samples = X.shape[0]\n",
        " cv = ShuffleSplit(n_splits=4, test_size=0.3, random_state=0)\n",
        " cross_val_score(clf, X, y, cv=cv)"
      ],
      "execution_count": null,
      "outputs": []
    },
    {
      "cell_type": "code",
      "metadata": {
        "id": "X9s4Vq_53FX2",
        "outputId": "587f8256-bfcb-4f73-d43c-167666fd222c",
        "colab": {
          "base_uri": "https://localhost:8080/",
          "height": 354
        }
      },
      "source": [
        "for train_index, test_index in skf.split(X, y):\n",
        "    X_train, X_test = X[train_index], X[test_index]\n",
        "    y_train, y_test = y[train_index], y[test_index]"
      ],
      "execution_count": null,
      "outputs": [
        {
          "output_type": "error",
          "ename": "KeyError",
          "evalue": "ignored",
          "traceback": [
            "\u001b[0;31m---------------------------------------------------------------------------\u001b[0m",
            "\u001b[0;31mKeyError\u001b[0m                                  Traceback (most recent call last)",
            "\u001b[0;32m<ipython-input-27-d46ee88600eb>\u001b[0m in \u001b[0;36m<module>\u001b[0;34m()\u001b[0m\n\u001b[1;32m      1\u001b[0m \u001b[0;32mfor\u001b[0m \u001b[0mtrain_index\u001b[0m\u001b[0;34m,\u001b[0m \u001b[0mtest_index\u001b[0m \u001b[0;32min\u001b[0m \u001b[0mskf\u001b[0m\u001b[0;34m.\u001b[0m\u001b[0msplit\u001b[0m\u001b[0;34m(\u001b[0m\u001b[0mX\u001b[0m\u001b[0;34m,\u001b[0m \u001b[0my\u001b[0m\u001b[0;34m)\u001b[0m\u001b[0;34m:\u001b[0m\u001b[0;34m\u001b[0m\u001b[0;34m\u001b[0m\u001b[0m\n\u001b[0;32m----> 2\u001b[0;31m     \u001b[0mX_train\u001b[0m\u001b[0;34m,\u001b[0m \u001b[0mX_test\u001b[0m \u001b[0;34m=\u001b[0m \u001b[0mX\u001b[0m\u001b[0;34m[\u001b[0m\u001b[0mtrain_index\u001b[0m\u001b[0;34m]\u001b[0m\u001b[0;34m,\u001b[0m \u001b[0mX\u001b[0m\u001b[0;34m[\u001b[0m\u001b[0mtest_index\u001b[0m\u001b[0;34m]\u001b[0m\u001b[0;34m\u001b[0m\u001b[0;34m\u001b[0m\u001b[0m\n\u001b[0m\u001b[1;32m      3\u001b[0m     \u001b[0my_train\u001b[0m\u001b[0;34m,\u001b[0m \u001b[0my_test\u001b[0m \u001b[0;34m=\u001b[0m \u001b[0my\u001b[0m\u001b[0;34m[\u001b[0m\u001b[0mtrain_index\u001b[0m\u001b[0;34m]\u001b[0m\u001b[0;34m,\u001b[0m \u001b[0my\u001b[0m\u001b[0;34m[\u001b[0m\u001b[0mtest_index\u001b[0m\u001b[0;34m]\u001b[0m\u001b[0;34m\u001b[0m\u001b[0;34m\u001b[0m\u001b[0m\n",
            "\u001b[0;32m/usr/local/lib/python3.6/dist-packages/pandas/core/frame.py\u001b[0m in \u001b[0;36m__getitem__\u001b[0;34m(self, key)\u001b[0m\n\u001b[1;32m   2906\u001b[0m             \u001b[0;32mif\u001b[0m \u001b[0mis_iterator\u001b[0m\u001b[0;34m(\u001b[0m\u001b[0mkey\u001b[0m\u001b[0;34m)\u001b[0m\u001b[0;34m:\u001b[0m\u001b[0;34m\u001b[0m\u001b[0;34m\u001b[0m\u001b[0m\n\u001b[1;32m   2907\u001b[0m                 \u001b[0mkey\u001b[0m \u001b[0;34m=\u001b[0m \u001b[0mlist\u001b[0m\u001b[0;34m(\u001b[0m\u001b[0mkey\u001b[0m\u001b[0;34m)\u001b[0m\u001b[0;34m\u001b[0m\u001b[0;34m\u001b[0m\u001b[0m\n\u001b[0;32m-> 2908\u001b[0;31m             \u001b[0mindexer\u001b[0m \u001b[0;34m=\u001b[0m \u001b[0mself\u001b[0m\u001b[0;34m.\u001b[0m\u001b[0mloc\u001b[0m\u001b[0;34m.\u001b[0m\u001b[0m_get_listlike_indexer\u001b[0m\u001b[0;34m(\u001b[0m\u001b[0mkey\u001b[0m\u001b[0;34m,\u001b[0m \u001b[0maxis\u001b[0m\u001b[0;34m=\u001b[0m\u001b[0;36m1\u001b[0m\u001b[0;34m,\u001b[0m \u001b[0mraise_missing\u001b[0m\u001b[0;34m=\u001b[0m\u001b[0;32mTrue\u001b[0m\u001b[0;34m)\u001b[0m\u001b[0;34m[\u001b[0m\u001b[0;36m1\u001b[0m\u001b[0;34m]\u001b[0m\u001b[0;34m\u001b[0m\u001b[0;34m\u001b[0m\u001b[0m\n\u001b[0m\u001b[1;32m   2909\u001b[0m \u001b[0;34m\u001b[0m\u001b[0m\n\u001b[1;32m   2910\u001b[0m         \u001b[0;31m# take() does not accept boolean indexers\u001b[0m\u001b[0;34m\u001b[0m\u001b[0;34m\u001b[0m\u001b[0;34m\u001b[0m\u001b[0m\n",
            "\u001b[0;32m/usr/local/lib/python3.6/dist-packages/pandas/core/indexing.py\u001b[0m in \u001b[0;36m_get_listlike_indexer\u001b[0;34m(self, key, axis, raise_missing)\u001b[0m\n\u001b[1;32m   1252\u001b[0m             \u001b[0mkeyarr\u001b[0m\u001b[0;34m,\u001b[0m \u001b[0mindexer\u001b[0m\u001b[0;34m,\u001b[0m \u001b[0mnew_indexer\u001b[0m \u001b[0;34m=\u001b[0m \u001b[0max\u001b[0m\u001b[0;34m.\u001b[0m\u001b[0m_reindex_non_unique\u001b[0m\u001b[0;34m(\u001b[0m\u001b[0mkeyarr\u001b[0m\u001b[0;34m)\u001b[0m\u001b[0;34m\u001b[0m\u001b[0;34m\u001b[0m\u001b[0m\n\u001b[1;32m   1253\u001b[0m \u001b[0;34m\u001b[0m\u001b[0m\n\u001b[0;32m-> 1254\u001b[0;31m         \u001b[0mself\u001b[0m\u001b[0;34m.\u001b[0m\u001b[0m_validate_read_indexer\u001b[0m\u001b[0;34m(\u001b[0m\u001b[0mkeyarr\u001b[0m\u001b[0;34m,\u001b[0m \u001b[0mindexer\u001b[0m\u001b[0;34m,\u001b[0m \u001b[0maxis\u001b[0m\u001b[0;34m,\u001b[0m \u001b[0mraise_missing\u001b[0m\u001b[0;34m=\u001b[0m\u001b[0mraise_missing\u001b[0m\u001b[0;34m)\u001b[0m\u001b[0;34m\u001b[0m\u001b[0;34m\u001b[0m\u001b[0m\n\u001b[0m\u001b[1;32m   1255\u001b[0m         \u001b[0;32mreturn\u001b[0m \u001b[0mkeyarr\u001b[0m\u001b[0;34m,\u001b[0m \u001b[0mindexer\u001b[0m\u001b[0;34m\u001b[0m\u001b[0;34m\u001b[0m\u001b[0m\n\u001b[1;32m   1256\u001b[0m \u001b[0;34m\u001b[0m\u001b[0m\n",
            "\u001b[0;32m/usr/local/lib/python3.6/dist-packages/pandas/core/indexing.py\u001b[0m in \u001b[0;36m_validate_read_indexer\u001b[0;34m(self, key, indexer, axis, raise_missing)\u001b[0m\n\u001b[1;32m   1296\u001b[0m             \u001b[0;32mif\u001b[0m \u001b[0mmissing\u001b[0m \u001b[0;34m==\u001b[0m \u001b[0mlen\u001b[0m\u001b[0;34m(\u001b[0m\u001b[0mindexer\u001b[0m\u001b[0;34m)\u001b[0m\u001b[0;34m:\u001b[0m\u001b[0;34m\u001b[0m\u001b[0;34m\u001b[0m\u001b[0m\n\u001b[1;32m   1297\u001b[0m                 \u001b[0maxis_name\u001b[0m \u001b[0;34m=\u001b[0m \u001b[0mself\u001b[0m\u001b[0;34m.\u001b[0m\u001b[0mobj\u001b[0m\u001b[0;34m.\u001b[0m\u001b[0m_get_axis_name\u001b[0m\u001b[0;34m(\u001b[0m\u001b[0maxis\u001b[0m\u001b[0;34m)\u001b[0m\u001b[0;34m\u001b[0m\u001b[0;34m\u001b[0m\u001b[0m\n\u001b[0;32m-> 1298\u001b[0;31m                 \u001b[0;32mraise\u001b[0m \u001b[0mKeyError\u001b[0m\u001b[0;34m(\u001b[0m\u001b[0;34mf\"None of [{key}] are in the [{axis_name}]\"\u001b[0m\u001b[0;34m)\u001b[0m\u001b[0;34m\u001b[0m\u001b[0;34m\u001b[0m\u001b[0m\n\u001b[0m\u001b[1;32m   1299\u001b[0m \u001b[0;34m\u001b[0m\u001b[0m\n\u001b[1;32m   1300\u001b[0m             \u001b[0;31m# We (temporarily) allow for some missing keys with .loc, except in\u001b[0m\u001b[0;34m\u001b[0m\u001b[0;34m\u001b[0m\u001b[0;34m\u001b[0m\u001b[0m\n",
            "\u001b[0;31mKeyError\u001b[0m: \"None of [Int64Index([19116, 19117, 19121, 19129, 19133, 19134, 19147, 19148, 19151,\\n            19157,\\n            ...\\n            78015, 78016, 78017, 78018, 78019, 78020, 78021, 78022, 78023,\\n            78024],\\n           dtype='int64', length=58518)] are in the [columns]\""
          ]
        }
      ]
    },
    {
      "cell_type": "code",
      "metadata": {
        "id": "KKxF-IUQ5Ocb",
        "outputId": "2662e1ca-f3d0-4e81-bd9c-f08e57a4b22b",
        "colab": {
          "base_uri": "https://localhost:8080/",
          "height": 178
        }
      },
      "source": [
        "scores = cross_val_score(model, X, y, scoring='accuracy', cv=cv, n_jobs=-1)"
      ],
      "execution_count": null,
      "outputs": [
        {
          "output_type": "error",
          "ename": "TypeError",
          "evalue": "ignored",
          "traceback": [
            "\u001b[0;31m---------------------------------------------------------------------------\u001b[0m",
            "\u001b[0;31mTypeError\u001b[0m                                 Traceback (most recent call last)",
            "\u001b[0;32m<ipython-input-30-d4e3e9fda4cc>\u001b[0m in \u001b[0;36m<module>\u001b[0;34m()\u001b[0m\n\u001b[1;32m      1\u001b[0m \u001b[0;34m\u001b[0m\u001b[0m\n\u001b[0;32m----> 2\u001b[0;31m \u001b[0mcv\u001b[0m \u001b[0;34m=\u001b[0m \u001b[0mKFold\u001b[0m\u001b[0;34m(\u001b[0m\u001b[0mn_splits\u001b[0m\u001b[0;34m=\u001b[0m\u001b[0;36m4\u001b[0m\u001b[0;34m,\u001b[0m \u001b[0mn_repeats\u001b[0m\u001b[0;34m=\u001b[0m\u001b[0;36m3\u001b[0m\u001b[0;34m,\u001b[0m \u001b[0mrandom_state\u001b[0m\u001b[0;34m=\u001b[0m\u001b[0;36m1\u001b[0m\u001b[0;34m)\u001b[0m\u001b[0;34m\u001b[0m\u001b[0;34m\u001b[0m\u001b[0m\n\u001b[0m",
            "\u001b[0;31mTypeError\u001b[0m: __init__() got an unexpected keyword argument 'n_repeats'"
          ]
        }
      ]
    },
    {
      "cell_type": "code",
      "metadata": {
        "id": "C1BktXXq2dP-"
      },
      "source": [
        ""
      ],
      "execution_count": null,
      "outputs": []
    },
    {
      "cell_type": "code",
      "metadata": {
        "id": "3RhWeuazLvJj"
      },
      "source": [
        "from sklearn.model_selection import train_test_split"
      ],
      "execution_count": null,
      "outputs": []
    },
    {
      "cell_type": "code",
      "metadata": {
        "id": "QR8a-TbdMSX2"
      },
      "source": [
        "X_train, X_test, y_train, y_test = train_test_split(X, y, test_size = 0.30, shuffle=True)"
      ],
      "execution_count": null,
      "outputs": []
    },
    {
      "cell_type": "code",
      "metadata": {
        "id": "YMCTRrfoNANo",
        "outputId": "72a40eae-237a-4cdb-a42f-5ab4988be0ac",
        "colab": {
          "base_uri": "https://localhost:8080/",
          "height": 34
        }
      },
      "source": [
        "X.shape[0], X_train.shape[0]"
      ],
      "execution_count": null,
      "outputs": [
        {
          "output_type": "execute_result",
          "data": {
            "text/plain": [
              "(78025, 54617)"
            ]
          },
          "metadata": {
            "tags": []
          },
          "execution_count": 27
        }
      ]
    },
    {
      "cell_type": "markdown",
      "metadata": {
        "id": "xSARLkV6MI3f"
      },
      "source": [
        "## **But** **First**\n",
        "\n",
        "- look here when deciding which alrogithm to use https://scikit-learn.org/stable/tutorial/machine_learning_map/"
      ]
    },
    {
      "cell_type": "code",
      "metadata": {
        "id": "gCA2xqzsMJv1"
      },
      "source": [
        "from sklearn.naive_bayes import GaussianNB"
      ],
      "execution_count": null,
      "outputs": []
    },
    {
      "cell_type": "code",
      "metadata": {
        "id": "7AaYmkgsNI4L"
      },
      "source": [
        "gnb = GaussianNB()"
      ],
      "execution_count": null,
      "outputs": []
    },
    {
      "cell_type": "code",
      "metadata": {
        "id": "pPSWWEKTNKIt"
      },
      "source": [
        "fitted_model = gnb.fit(X_train, y_train) # Train"
      ],
      "execution_count": null,
      "outputs": []
    },
    {
      "cell_type": "markdown",
      "metadata": {
        "id": "eeKzh44KPjtc"
      },
      "source": [
        "## Check which features helped the classifier more, e.g. Feature Importance"
      ]
    },
    {
      "cell_type": "code",
      "metadata": {
        "id": "radCAin4Pojt"
      },
      "source": [
        "from sklearn.inspection import permutation_importance"
      ],
      "execution_count": null,
      "outputs": []
    },
    {
      "cell_type": "code",
      "metadata": {
        "id": "sz81qMMXQJKh",
        "outputId": "2216ab60-c8ce-47cf-f2b3-b5e56a522efa",
        "colab": {
          "base_uri": "https://localhost:8080/",
          "height": 34
        }
      },
      "source": [
        "gnb.get_params()"
      ],
      "execution_count": null,
      "outputs": [
        {
          "output_type": "execute_result",
          "data": {
            "text/plain": [
              "{'priors': None, 'var_smoothing': 1e-09}"
            ]
          },
          "metadata": {
            "tags": []
          },
          "execution_count": 49
        }
      ]
    },
    {
      "cell_type": "code",
      "metadata": {
        "id": "sPNfwZx_PyZj",
        "outputId": "b174c238-3b75-4db1-890c-cc4fdc3e5361",
        "colab": {
          "base_uri": "https://localhost:8080/",
          "height": 104
        }
      },
      "source": [
        "imps = permutation_importance(gnb, X_test, y_test) # doc https://scikit-learn.org/stable/modules/permutation_importance.html#permutation-importance\n",
        "print(imps.importances_mean)"
      ],
      "execution_count": null,
      "outputs": [
        {
          "output_type": "stream",
          "text": [
            "[ 1.27306904e-03  2.99043062e-04  6.49350649e-04  1.32433356e-03\n",
            "  1.87969925e-04  5.14354067e-03 -1.10133288e-02 -6.92925496e-03\n",
            "  9.10799727e-03  2.47778537e-04  2.99043062e-04  6.00649351e-03\n",
            "  3.41763500e-05  1.79425837e-04  4.10116200e-04  7.17703349e-04\n",
            "  4.05844156e-03]\n"
          ],
          "name": "stdout"
        }
      ]
    },
    {
      "cell_type": "code",
      "metadata": {
        "id": "l_16BGEeQlag",
        "outputId": "28855a34-cf53-4ead-ce60-295ae31805e2",
        "colab": {
          "base_uri": "https://localhost:8080/",
          "height": 173
        }
      },
      "source": [
        "for i in imps.importances_mean.argsort()[::-1]:\n",
        "  if imps.importances_mean[i] - 2 * imps.importances_std[i] > 0:\n",
        "    print(f\"{X_test.columns[i]:<8}\", \n",
        "          f\"{imps.importances_mean[i]:.3f}\", \n",
        "          f\" +/- {imps.importances_std[i]:.3f}\")\n",
        "    \n",
        "# argsort -> returns the indices that would sort an array"
      ],
      "execution_count": null,
      "outputs": [
        {
          "output_type": "stream",
          "text": [
            "Opportunity Amount USD 0.009  +/- 0.002\n",
            "Revenue From Client Past Two Years 0.006  +/- 0.000\n",
            "Sales Stage Change Count 0.005  +/- 0.001\n",
            "Deal Size Category 0.004  +/- 0.001\n",
            "Route To Market 0.001  +/- 0.000\n",
            "Supplies Subgroup 0.001  +/- 0.000\n",
            "Ratio Days Qualified To Total Days 0.001  +/- 0.000\n",
            "Supplies Group 0.000  +/- 0.000\n",
            "Ratio Days Identified To Total Days 0.000  +/- 0.000\n"
          ],
          "name": "stdout"
        }
      ]
    },
    {
      "cell_type": "markdown",
      "metadata": {
        "id": "W8wiuV1NPzRk"
      },
      "source": [
        "## Now let's do the prediction"
      ]
    },
    {
      "cell_type": "code",
      "metadata": {
        "id": "D750Xv9vNXwW"
      },
      "source": [
        "y_pred = fitted_model.predict(X_test) # Predict\n",
        "# y_pred <> y_test"
      ],
      "execution_count": null,
      "outputs": []
    },
    {
      "cell_type": "markdown",
      "metadata": {
        "id": "uLsh5Ka1NlTn"
      },
      "source": [
        "# Evaluate the performance of the trained model"
      ]
    },
    {
      "cell_type": "code",
      "metadata": {
        "id": "qSP-noLwN64n"
      },
      "source": [
        "from sklearn.metrics import accuracy_score"
      ],
      "execution_count": null,
      "outputs": []
    },
    {
      "cell_type": "code",
      "metadata": {
        "id": "Xh5aZ3eHNYmi",
        "outputId": "e04aff96-e518-4bf5-b574-64f2a4e303eb",
        "colab": {
          "base_uri": "https://localhost:8080/",
          "height": 34
        }
      },
      "source": [
        "print(\"Naive-Bayes accuracy : \",accuracy_score(y_test, y_pred, normalize = True))"
      ],
      "execution_count": null,
      "outputs": [
        {
          "output_type": "stream",
          "text": [
            "Naive-Bayes accuracy :  0.7553827751196173\n"
          ],
          "name": "stdout"
        }
      ]
    },
    {
      "cell_type": "markdown",
      "metadata": {
        "id": "zVVBzbT_ODxW"
      },
      "source": [
        "## ! Important accuracy Fallacy[link text]"
      ]
    },
    {
      "cell_type": "code",
      "metadata": {
        "id": "WysaboB3N9F3",
        "outputId": "d748ae8e-fa18-4fc5-a13e-6c48e9f6c7ab",
        "colab": {
          "base_uri": "https://localhost:8080/",
          "height": 72
        }
      },
      "source": [
        "from yellowbrick.classifier import ClassificationReport # doc here https://www.scikit-yb.org/en/latest/api/classifier/classification_report.html"
      ],
      "execution_count": null,
      "outputs": [
        {
          "output_type": "stream",
          "text": [
            "/usr/local/lib/python3.6/dist-packages/sklearn/utils/deprecation.py:144: FutureWarning: The sklearn.metrics.classification module is  deprecated in version 0.22 and will be removed in version 0.24. The corresponding classes / functions should instead be imported from sklearn.metrics. Anything that cannot be imported from sklearn.metrics is now part of the private API.\n",
            "  warnings.warn(message, FutureWarning)\n"
          ],
          "name": "stderr"
        }
      ]
    },
    {
      "cell_type": "code",
      "metadata": {
        "id": "Cs9Uge3pOiZx",
        "outputId": "0175811c-f3cc-4917-e6cf-a98ec244c4cf",
        "colab": {
          "base_uri": "https://localhost:8080/",
          "height": 401
        }
      },
      "source": [
        "visualizer = ClassificationReport(gnb, classes=['Won','Loss'])\n",
        "visualizer.fit(X_train, y_train) # Fit the training data to the visualizer\n",
        "visualizer.score(X_test, y_test) # Evaluate the model on the test data\n",
        "g = visualizer.poof() # Draw/show/poof the data\n",
        "\n",
        "# choose models that are “redder”, e.g. have stronger classification metrics or that are more balanced"
      ],
      "execution_count": null,
      "outputs": [
        {
          "output_type": "display_data",
          "data": {
            "image/png": "[encoded data removed]",
            "text/plain": [
              "<Figure size 576x396 with 2 Axes>"
            ]
          },
          "metadata": {
            "tags": []
          }
        }
      ]
    },
    {
      "cell_type": "code",
      "metadata": {
        "id": "hnNY7bJdOn98"
      },
      "source": [
        ""
      ],
      "execution_count": null,
      "outputs": []
    }
  ]
}