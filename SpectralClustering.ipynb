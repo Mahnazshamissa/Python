{
  "nbformat": 4,
  "nbformat_minor": 0,
  "metadata": {
    "colab": {
      "name": "SpectralClustering.ipynb",
      "provenance": [],
      "authorship_tag": "ABX9TyOAJMxkhhSk6Gw531G7AT7n",
      "include_colab_link": true
    },
    "kernelspec": {
      "name": "python3",
      "display_name": "Python 3"
    }
  },
  "cells": [
    {
      "cell_type": "markdown",
      "metadata": {
        "id": "view-in-github",
        "colab_type": "text"
      },
      "source": [
        "<a href=\"https://colab.research.google.com/github/Mahnazshamissa/Python/blob/main/SpectralClustering.ipynb\" target=\"_parent\"><img src=\"https://colab.research.google.com/assets/colab-badge.svg\" alt=\"Open In Colab\"/></a>"
      ]
    },
    {
      "cell_type": "code",
      "metadata": {
        "id": "Rd3Etqq6xDd3"
      },
      "source": [
        "import pandas as pd\n",
        "import numpy as np\n",
        "import matplotlib.pyplot as plt\n",
        "from sklearn.cluster import SpectralClustering\n",
        "from sklearn.preprocessing import LabelEncoder"
      ],
      "execution_count": 17,
      "outputs": []
    },
    {
      "cell_type": "code",
      "metadata": {
        "id": "ytE0xkhuxowi"
      },
      "source": [
        "column_names = ['sepal_length', 'sepal_width', 'petal_length', 'petal_width', 'class']"
      ],
      "execution_count": 18,
      "outputs": []
    },
    {
      "cell_type": "code",
      "metadata": {
        "id": "ISjm30GExxzQ"
      },
      "source": [
        "abo_path = '/content/iris.data'\n",
        "p_df_raw = pd.read_csv(abo_path , names=column_names)"
      ],
      "execution_count": 23,
      "outputs": []
    },
    {
      "cell_type": "code",
      "metadata": {
        "id": "ydRsoUX-yhxF",
        "outputId": "6ad02d02-914d-471c-8598-3ecada887575",
        "colab": {
          "base_uri": "https://localhost:8080/",
          "height": 204
        }
      },
      "source": [
        "p_df_raw.head()"
      ],
      "execution_count": 24,
      "outputs": [
        {
          "output_type": "execute_result",
          "data": {
            "text/html": [
              "<div>\n",
              "<style scoped>\n",
              "    .dataframe tbody tr th:only-of-type {\n",
              "        vertical-align: middle;\n",
              "    }\n",
              "\n",
              "    .dataframe tbody tr th {\n",
              "        vertical-align: top;\n",
              "    }\n",
              "\n",
              "    .dataframe thead th {\n",
              "        text-align: right;\n",
              "    }\n",
              "</style>\n",
              "<table border=\"1\" class=\"dataframe\">\n",
              "  <thead>\n",
              "    <tr style=\"text-align: right;\">\n",
              "      <th></th>\n",
              "      <th>sepal_length</th>\n",
              "      <th>sepal_width</th>\n",
              "      <th>petal_length</th>\n",
              "      <th>petal_width</th>\n",
              "      <th>class</th>\n",
              "    </tr>\n",
              "  </thead>\n",
              "  <tbody>\n",
              "    <tr>\n",
              "      <th>0</th>\n",
              "      <td>5.1</td>\n",
              "      <td>3.5</td>\n",
              "      <td>1.4</td>\n",
              "      <td>0.2</td>\n",
              "      <td>Iris-setosa</td>\n",
              "    </tr>\n",
              "    <tr>\n",
              "      <th>1</th>\n",
              "      <td>4.9</td>\n",
              "      <td>3.0</td>\n",
              "      <td>1.4</td>\n",
              "      <td>0.2</td>\n",
              "      <td>Iris-setosa</td>\n",
              "    </tr>\n",
              "    <tr>\n",
              "      <th>2</th>\n",
              "      <td>4.7</td>\n",
              "      <td>3.2</td>\n",
              "      <td>1.3</td>\n",
              "      <td>0.2</td>\n",
              "      <td>Iris-setosa</td>\n",
              "    </tr>\n",
              "    <tr>\n",
              "      <th>3</th>\n",
              "      <td>4.6</td>\n",
              "      <td>3.1</td>\n",
              "      <td>1.5</td>\n",
              "      <td>0.2</td>\n",
              "      <td>Iris-setosa</td>\n",
              "    </tr>\n",
              "    <tr>\n",
              "      <th>4</th>\n",
              "      <td>5.0</td>\n",
              "      <td>3.6</td>\n",
              "      <td>1.4</td>\n",
              "      <td>0.2</td>\n",
              "      <td>Iris-setosa</td>\n",
              "    </tr>\n",
              "  </tbody>\n",
              "</table>\n",
              "</div>"
            ],
            "text/plain": [
              "   sepal_length  sepal_width  petal_length  petal_width        class\n",
              "0           5.1          3.5           1.4          0.2  Iris-setosa\n",
              "1           4.9          3.0           1.4          0.2  Iris-setosa\n",
              "2           4.7          3.2           1.3          0.2  Iris-setosa\n",
              "3           4.6          3.1           1.5          0.2  Iris-setosa\n",
              "4           5.0          3.6           1.4          0.2  Iris-setosa"
            ]
          },
          "metadata": {
            "tags": []
          },
          "execution_count": 24
        }
      ]
    },
    {
      "cell_type": "code",
      "metadata": {
        "id": "wKqiUK26yqfi",
        "outputId": "66761fe7-a0d7-4f69-e67e-bb155aca6ac5",
        "colab": {
          "base_uri": "https://localhost:8080/"
        }
      },
      "source": [
        "p_df_raw.isna().sum()"
      ],
      "execution_count": 25,
      "outputs": [
        {
          "output_type": "execute_result",
          "data": {
            "text/plain": [
              "sepal_length    0\n",
              "sepal_width     0\n",
              "petal_length    0\n",
              "petal_width     0\n",
              "class           0\n",
              "dtype: int64"
            ]
          },
          "metadata": {
            "tags": []
          },
          "execution_count": 25
        }
      ]
    },
    {
      "cell_type": "code",
      "metadata": {
        "id": "oqtZsNmCywj1"
      },
      "source": [
        "df_X = p_df_raw.drop(['class'],axis=1)\n",
        "df_y = LabelEncoder().fit_transform(list(p_df_raw[\"class\"]))"
      ],
      "execution_count": 26,
      "outputs": []
    },
    {
      "cell_type": "code",
      "metadata": {
        "id": "BdEAyRg5y7ji",
        "outputId": "985eb347-54bf-4d3e-b44e-c58a48d9e76d",
        "colab": {
          "base_uri": "https://localhost:8080/"
        }
      },
      "source": [
        "df_y"
      ],
      "execution_count": 27,
      "outputs": [
        {
          "output_type": "execute_result",
          "data": {
            "text/plain": [
              "array([0, 0, 0, 0, 0, 0, 0, 0, 0, 0, 0, 0, 0, 0, 0, 0, 0, 0, 0, 0, 0, 0,\n",
              "       0, 0, 0, 0, 0, 0, 0, 0, 0, 0, 0, 0, 0, 0, 0, 0, 0, 0, 0, 0, 0, 0,\n",
              "       0, 0, 0, 0, 0, 0, 1, 1, 1, 1, 1, 1, 1, 1, 1, 1, 1, 1, 1, 1, 1, 1,\n",
              "       1, 1, 1, 1, 1, 1, 1, 1, 1, 1, 1, 1, 1, 1, 1, 1, 1, 1, 1, 1, 1, 1,\n",
              "       1, 1, 1, 1, 1, 1, 1, 1, 1, 1, 1, 1, 2, 2, 2, 2, 2, 2, 2, 2, 2, 2,\n",
              "       2, 2, 2, 2, 2, 2, 2, 2, 2, 2, 2, 2, 2, 2, 2, 2, 2, 2, 2, 2, 2, 2,\n",
              "       2, 2, 2, 2, 2, 2, 2, 2, 2, 2, 2, 2, 2, 2, 2, 2, 2, 2])"
            ]
          },
          "metadata": {
            "tags": []
          },
          "execution_count": 27
        }
      ]
    },
    {
      "cell_type": "code",
      "metadata": {
        "id": "B1kn_BNtzG_a"
      },
      "source": [
        "clustering = SpectralClustering(n_clusters=2, assign_labels=\"discretize\", random_state=0, n_init=20).fit(df_X)"
      ],
      "execution_count": 28,
      "outputs": []
    },
    {
      "cell_type": "code",
      "metadata": {
        "id": "l4RxxpH_zMIb",
        "outputId": "55c2b16b-2195-4bb8-9910-d053f82484bf",
        "colab": {
          "base_uri": "https://localhost:8080/"
        }
      },
      "source": [
        "clustering.labels_"
      ],
      "execution_count": 29,
      "outputs": [
        {
          "output_type": "execute_result",
          "data": {
            "text/plain": [
              "array([1, 1, 1, 1, 1, 1, 1, 1, 1, 1, 1, 1, 1, 1, 1, 1, 1, 1, 1, 1, 1, 1,\n",
              "       1, 1, 1, 1, 1, 1, 1, 1, 1, 1, 1, 1, 1, 1, 1, 1, 1, 1, 1, 1, 1, 1,\n",
              "       1, 1, 1, 1, 1, 1, 0, 0, 0, 0, 0, 0, 0, 0, 0, 0, 0, 0, 0, 0, 0, 0,\n",
              "       0, 0, 0, 0, 0, 0, 0, 0, 0, 0, 0, 0, 0, 0, 0, 0, 0, 0, 0, 0, 0, 0,\n",
              "       0, 0, 0, 0, 0, 0, 0, 0, 0, 0, 0, 0, 0, 0, 0, 0, 0, 0, 0, 0, 0, 0,\n",
              "       0, 0, 0, 0, 0, 0, 0, 0, 0, 0, 0, 0, 0, 0, 0, 0, 0, 0, 0, 0, 0, 0,\n",
              "       0, 0, 0, 0, 0, 0, 0, 0, 0, 0, 0, 0, 0, 0, 0, 0, 0, 0])"
            ]
          },
          "metadata": {
            "tags": []
          },
          "execution_count": 29
        }
      ]
    },
    {
      "cell_type": "code",
      "metadata": {
        "id": "jcMMWsvs4obs",
        "outputId": "4bdd619a-dc4c-4d9c-c546-5d3fded2033b",
        "colab": {
          "base_uri": "https://localhost:8080/"
        }
      },
      "source": [
        "clustering.affinity_matrix_"
      ],
      "execution_count": 30,
      "outputs": [
        {
          "output_type": "execute_result",
          "data": {
            "text/plain": [
              "array([[1.00000000e+00, 7.48263568e-01, 7.71051586e-01, ...,\n",
              "        2.30082059e-09, 4.03840951e-10, 3.59908895e-08],\n",
              "       [7.48263568e-01, 1.00000000e+00, 9.13931185e-01, ...,\n",
              "        1.62136087e-09, 2.15082380e-10, 3.22418674e-08],\n",
              "       [7.71051586e-01, 9.13931185e-01, 1.00000000e+00, ...,\n",
              "        3.65410404e-10, 6.16221335e-11, 9.42405852e-09],\n",
              "       ...,\n",
              "       [2.30082059e-09, 1.62136087e-09, 3.65410404e-10, ...,\n",
              "        1.00000000e+00, 6.83861409e-01, 6.63650250e-01],\n",
              "       [4.03840951e-10, 2.15082380e-10, 6.16221335e-11, ...,\n",
              "        6.83861409e-01, 1.00000000e+00, 5.54327285e-01],\n",
              "       [3.59908895e-08, 3.22418674e-08, 9.42405852e-09, ...,\n",
              "        6.63650250e-01, 5.54327285e-01, 1.00000000e+00]])"
            ]
          },
          "metadata": {
            "tags": []
          },
          "execution_count": 30
        }
      ]
    },
    {
      "cell_type": "markdown",
      "metadata": {
        "id": "V4RkIUZ26fTO"
      },
      "source": [
        "# **Internal Measures**"
      ]
    },
    {
      "cell_type": "code",
      "metadata": {
        "id": "6s2oGgaY6p23"
      },
      "source": [
        "from sklearn import metrics"
      ],
      "execution_count": 31,
      "outputs": []
    },
    {
      "cell_type": "code",
      "metadata": {
        "id": "_9G-AYLc6u9q",
        "outputId": "cc03e091-93ba-4778-d8cc-a24c7b029f85",
        "colab": {
          "base_uri": "https://localhost:8080/"
        }
      },
      "source": [
        "# Perfect labelings are both homogeneous and complete, hence have score 1.0:\n",
        "# Labelings that assign all classes members to the same clusters are complete be not homogeneous\n",
        "# Labelings that have pure clusters with members coming from the same classes are homogeneous but un-necessary splits harms completeness\n",
        "# If classes members are completely split across different clusters, the assignment is totally incomplete\n",
        "\n",
        "sill = metrics.silhouette_score(df_X, clustering.labels_, metric='euclidean', sample_size=None)  ### best score is 1\n",
        "db = metrics.davies_bouldin_score(df_X, clustering.labels_) ### best score is 0\n",
        "sill, db"
      ],
      "execution_count": 32,
      "outputs": [
        {
          "output_type": "execute_result",
          "data": {
            "text/plain": [
              "(0.6863930543445408, 0.3835952094491398)"
            ]
          },
          "metadata": {
            "tags": []
          },
          "execution_count": 32
        }
      ]
    },
    {
      "cell_type": "markdown",
      "metadata": {
        "id": "EQjXG9H660PL"
      },
      "source": [
        "# **External Measures**"
      ]
    },
    {
      "cell_type": "code",
      "metadata": {
        "id": "w-7F66-L67Un"
      },
      "source": [
        "# A clustering result satisfies homogeneity if all of its clusters contain only data points which are members of a single class.\n",
        "# A clustering result satisfies completeness if all the data points that are members of a given class are elements of the same cluster.\n",
        "# Both scores have positive values between 0.0 and 1.0, larger values being desirable.\n",
        "# The V-measure is the harmonic mean between homogeneity and completeness:"
      ],
      "execution_count": 33,
      "outputs": []
    },
    {
      "cell_type": "code",
      "metadata": {
        "id": "waawEAPm6__A",
        "outputId": "8dfc61c3-91c7-42fa-e1e3-7cb9b16fbcbb",
        "colab": {
          "base_uri": "https://localhost:8080/"
        }
      },
      "source": [
        "print('V_score')\n",
        "print(metrics.homogeneity_completeness_v_measure(df_y, clustering.labels_))\n",
        "print('Accuracy')\n",
        "print(metrics.accuracy_score(df_y, clustering.labels_))\n",
        "print('Confusion Matrix')\n",
        "print(metrics.confusion_matrix(df_y, clustering.labels_))\n",
        "print('Confusion Report')\n",
        "print(metrics.classification_report(df_y, clustering.labels_))\n",
        "print('f1 score')\n",
        "print(metrics.f1_score(df_y, clustering.labels_, average='weighted'))"
      ],
      "execution_count": 34,
      "outputs": [
        {
          "output_type": "stream",
          "text": [
            "V_score\n",
            "(0.5793801642856945, 0.9999999999999997, 0.7336804366512104)\n",
            "Accuracy\n",
            "0.0\n",
            "Confusion Matrix\n",
            "[[ 0 50  0]\n",
            " [50  0  0]\n",
            " [50  0  0]]\n",
            "Confusion Report\n",
            "              precision    recall  f1-score   support\n",
            "\n",
            "           0       0.00      0.00      0.00      50.0\n",
            "           1       0.00      0.00      0.00      50.0\n",
            "           2       0.00      0.00      0.00      50.0\n",
            "\n",
            "    accuracy                           0.00     150.0\n",
            "   macro avg       0.00      0.00      0.00     150.0\n",
            "weighted avg       0.00      0.00      0.00     150.0\n",
            "\n",
            "f1 score\n",
            "0.0\n"
          ],
          "name": "stdout"
        },
        {
          "output_type": "stream",
          "text": [
            "/usr/local/lib/python3.6/dist-packages/sklearn/metrics/_classification.py:1272: UndefinedMetricWarning: Precision and F-score are ill-defined and being set to 0.0 in labels with no predicted samples. Use `zero_division` parameter to control this behavior.\n",
            "  _warn_prf(average, modifier, msg_start, len(result))\n"
          ],
          "name": "stderr"
        }
      ]
    },
    {
      "cell_type": "markdown",
      "metadata": {
        "id": "Mfpo26Pq7Hew"
      },
      "source": [
        "# **Grid Parameter Search**"
      ]
    },
    {
      "cell_type": "code",
      "metadata": {
        "id": "DThgJ5uV7OXX"
      },
      "source": [
        "internal_measures = []\n",
        "for k in range(2, 35):\n",
        "    clustering = SpectralClustering(n_clusters=k, assign_labels=\"discretize\", random_state=0, n_init=20).fit(df_X)\n",
        "    v_measure = metrics.homogeneity_completeness_v_measure(df_y, clustering.labels_)[2]\n",
        "    silhouette = metrics.silhouette_score(df_X, clustering.labels_, metric='euclidean', sample_size=None)\n",
        "    internal_measures.append([k,v_measure,silhouette])"
      ],
      "execution_count": 35,
      "outputs": []
    },
    {
      "cell_type": "code",
      "metadata": {
        "id": "Hsp_php-7Std",
        "outputId": "87152ee6-1c01-4b6b-d216-b47f3a834032",
        "colab": {
          "base_uri": "https://localhost:8080/"
        }
      },
      "source": [
        "internal_measures"
      ],
      "execution_count": 36,
      "outputs": [
        {
          "output_type": "execute_result",
          "data": {
            "text/plain": [
              "[[2, 0.7336804366512104, 0.6863930543445408],\n",
              " [3, 0.7660355440487252, 0.5509296349732906],\n",
              " [4, 0.6924615173878584, 0.4996636428548515],\n",
              " [5, 0.6939910028645424, 0.4794165195023188],\n",
              " [6, 0.636835549420609, 0.348964988694922],\n",
              " [7, 0.6234775202002705, 0.3299227793501307],\n",
              " [8, 0.6576810642193917, 0.3453464363967509],\n",
              " [9, 0.6352591349436703, 0.34578931440110533],\n",
              " [10, 0.6168057548200682, 0.33834722297210473],\n",
              " [11, 0.5736386908866958, 0.25643206047972517],\n",
              " [12, 0.5965101989376439, 0.3073868680464209],\n",
              " [13, 0.5530818524717108, 0.2601607439287929],\n",
              " [14, 0.5315213011413568, 0.29115540610886353],\n",
              " [15, 0.515277067299817, 0.2447288708644159],\n",
              " [16, 0.5135299594018452, 0.24039682401597826],\n",
              " [17, 0.49927062463674154, 0.23512643218503418],\n",
              " [18, 0.5110443590974424, 0.19832586685219544],\n",
              " [19, 0.4962968212499585, 0.24092544415415665],\n",
              " [20, 0.47327759652986257, 0.21787514662741414],\n",
              " [21, 0.49719572014961194, 0.23513462173633215],\n",
              " [22, 0.4721159897967986, 0.23206861442516621],\n",
              " [23, 0.4753404051281797, 0.20894307218384048],\n",
              " [24, 0.4710512286750451, 0.2111565918410376],\n",
              " [25, 0.4514172391045493, 0.1916233332601637],\n",
              " [26, 0.4767006712092236, 0.23404840630162568],\n",
              " [27, 0.48385862088864134, 0.19105775434555908],\n",
              " [28, 0.46514563135020004, 0.19354334708885787],\n",
              " [29, 0.46859134030830774, 0.22444945180564937],\n",
              " [30, 0.45739073740031805, 0.22894964877439639],\n",
              " [31, 0.4554526886419763, 0.17340073139260856],\n",
              " [32, 0.44642033888312255, 0.15123214611040425],\n",
              " [33, 0.4531626450290715, 0.1801089867718448],\n",
              " [34, 0.4662836817779669, 0.13945848485851242]]"
            ]
          },
          "metadata": {
            "tags": []
          },
          "execution_count": 36
        }
      ]
    },
    {
      "cell_type": "code",
      "metadata": {
        "id": "TaB2b5297X_R",
        "outputId": "aec552ea-951c-43d2-ee0e-6be9dacc5e6b",
        "colab": {
          "base_uri": "https://localhost:8080/"
        }
      },
      "source": [
        "max(internal_measures[:1])"
      ],
      "execution_count": 37,
      "outputs": [
        {
          "output_type": "execute_result",
          "data": {
            "text/plain": [
              "[2, 0.7336804366512104, 0.6863930543445408]"
            ]
          },
          "metadata": {
            "tags": []
          },
          "execution_count": 37
        }
      ]
    },
    {
      "cell_type": "code",
      "metadata": {
        "id": "O7H27n-r7dPo"
      },
      "source": [
        "max_v_measure =np.argmax(internal_measures[:1])\n",
        "optimum_clusters = internal_measures[max_v_measure][0]\n",
        "optimum_clusters\n",
        "clustering = SpectralClustering(n_clusters=2, assign_labels=\"discretize\", random_state=0, n_init=20).fit(df_X)"
      ],
      "execution_count": 38,
      "outputs": []
    },
    {
      "cell_type": "code",
      "metadata": {
        "id": "yfLl6D4O7iy6",
        "outputId": "45d34057-7b67-4644-976d-c953d6eac025",
        "colab": {
          "base_uri": "https://localhost:8080/"
        }
      },
      "source": [
        "print('V_score')\n",
        "print(metrics.homogeneity_completeness_v_measure(df_y, clustering.labels_))\n",
        "print('Accuracy')\n",
        "print(metrics.accuracy_score(df_y, clustering.labels_))\n",
        "print('Confusion Matrix')\n",
        "print(metrics.confusion_matrix(df_y, clustering.labels_))\n",
        "print('Confusion Report')\n",
        "print(metrics.classification_report(df_y, clustering.labels_))\n",
        "print('f1 score')\n",
        "print(metrics.f1_score(df_y, clustering.labels_, average='weighted'))"
      ],
      "execution_count": 39,
      "outputs": [
        {
          "output_type": "stream",
          "text": [
            "V_score\n",
            "(0.5793801642856945, 0.9999999999999997, 0.7336804366512104)\n",
            "Accuracy\n",
            "0.0\n",
            "Confusion Matrix\n",
            "[[ 0 50  0]\n",
            " [50  0  0]\n",
            " [50  0  0]]\n",
            "Confusion Report\n",
            "              precision    recall  f1-score   support\n",
            "\n",
            "           0       0.00      0.00      0.00      50.0\n",
            "           1       0.00      0.00      0.00      50.0\n",
            "           2       0.00      0.00      0.00      50.0\n",
            "\n",
            "    accuracy                           0.00     150.0\n",
            "   macro avg       0.00      0.00      0.00     150.0\n",
            "weighted avg       0.00      0.00      0.00     150.0\n",
            "\n",
            "f1 score\n",
            "0.0\n"
          ],
          "name": "stdout"
        },
        {
          "output_type": "stream",
          "text": [
            "/usr/local/lib/python3.6/dist-packages/sklearn/metrics/_classification.py:1272: UndefinedMetricWarning: Precision and F-score are ill-defined and being set to 0.0 in labels with no predicted samples. Use `zero_division` parameter to control this behavior.\n",
            "  _warn_prf(average, modifier, msg_start, len(result))\n"
          ],
          "name": "stderr"
        }
      ]
    }
  ]
}