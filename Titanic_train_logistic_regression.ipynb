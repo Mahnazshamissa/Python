{
  "nbformat": 4,
  "nbformat_minor": 0,
  "metadata": {
    "colab": {
      "name": "Titanic_train_logistic_regression.ipynb",
      "provenance": [],
      "authorship_tag": "ABX9TyPG5bd3V5CksQLd7Amzb+cc",
      "include_colab_link": true
    },
    "kernelspec": {
      "name": "python3",
      "display_name": "Python 3"
    }
  },
  "cells": [
    {
      "cell_type": "markdown",
      "metadata": {
        "id": "view-in-github",
        "colab_type": "text"
      },
      "source": [
        "<a href=\"https://colab.research.google.com/github/Mahnazshamissa/Python/blob/main/Titanic_train_logistic_regression.ipynb\" target=\"_parent\"><img src=\"https://colab.research.google.com/assets/colab-badge.svg\" alt=\"Open In Colab\"/></a>"
      ]
    },
    {
      "cell_type": "code",
      "metadata": {
        "id": "7ItFf0X2Nuve"
      },
      "source": [
        "import pandas as pd\n",
        "import numpy as np\n",
        "import matplotlib.pyplot as plt\n",
        "from sklearn.linear_model import LogisticRegression\n",
        "from sklearn.utils.class_weight import compute_class_weight\n",
        "from sklearn.model_selection import train_test_split\n",
        "from sklearn.preprocessing import StandardScaler, LabelEncoder\n",
        "import sklearn.metrics"
      ],
      "execution_count": 37,
      "outputs": []
    },
    {
      "cell_type": "code",
      "metadata": {
        "id": "0FGzwtu8N_qa"
      },
      "source": [
        "abo_path = '/content/train.csv'\n",
        "p_df_raw_train = pd.read_csv(abo_path, sep=',', encoding=\"UTF-8\")"
      ],
      "execution_count": 38,
      "outputs": []
    },
    {
      "cell_type": "code",
      "metadata": {
        "id": "gKxkrN1dOeUX",
        "outputId": "485f2ae4-1496-405b-9c03-6795aac54e53",
        "colab": {
          "base_uri": "https://localhost:8080/",
          "height": 238
        }
      },
      "source": [
        "p_df_raw_train.head()"
      ],
      "execution_count": 40,
      "outputs": [
        {
          "output_type": "execute_result",
          "data": {
            "text/html": [
              "<div>\n",
              "<style scoped>\n",
              "    .dataframe tbody tr th:only-of-type {\n",
              "        vertical-align: middle;\n",
              "    }\n",
              "\n",
              "    .dataframe tbody tr th {\n",
              "        vertical-align: top;\n",
              "    }\n",
              "\n",
              "    .dataframe thead th {\n",
              "        text-align: right;\n",
              "    }\n",
              "</style>\n",
              "<table border=\"1\" class=\"dataframe\">\n",
              "  <thead>\n",
              "    <tr style=\"text-align: right;\">\n",
              "      <th></th>\n",
              "      <th>PassengerId</th>\n",
              "      <th>Survived</th>\n",
              "      <th>Pclass</th>\n",
              "      <th>Name</th>\n",
              "      <th>Sex</th>\n",
              "      <th>Age</th>\n",
              "      <th>SibSp</th>\n",
              "      <th>Parch</th>\n",
              "      <th>Ticket</th>\n",
              "      <th>Fare</th>\n",
              "      <th>Cabin</th>\n",
              "      <th>Embarked</th>\n",
              "    </tr>\n",
              "  </thead>\n",
              "  <tbody>\n",
              "    <tr>\n",
              "      <th>0</th>\n",
              "      <td>1</td>\n",
              "      <td>0</td>\n",
              "      <td>3</td>\n",
              "      <td>Braund, Mr. Owen Harris</td>\n",
              "      <td>male</td>\n",
              "      <td>22.0</td>\n",
              "      <td>1</td>\n",
              "      <td>0</td>\n",
              "      <td>A/5 21171</td>\n",
              "      <td>7.2500</td>\n",
              "      <td>NaN</td>\n",
              "      <td>S</td>\n",
              "    </tr>\n",
              "    <tr>\n",
              "      <th>1</th>\n",
              "      <td>2</td>\n",
              "      <td>1</td>\n",
              "      <td>1</td>\n",
              "      <td>Cumings, Mrs. John Bradley (Florence Briggs Th...</td>\n",
              "      <td>female</td>\n",
              "      <td>38.0</td>\n",
              "      <td>1</td>\n",
              "      <td>0</td>\n",
              "      <td>PC 17599</td>\n",
              "      <td>71.2833</td>\n",
              "      <td>C85</td>\n",
              "      <td>C</td>\n",
              "    </tr>\n",
              "    <tr>\n",
              "      <th>2</th>\n",
              "      <td>3</td>\n",
              "      <td>1</td>\n",
              "      <td>3</td>\n",
              "      <td>Heikkinen, Miss. Laina</td>\n",
              "      <td>female</td>\n",
              "      <td>26.0</td>\n",
              "      <td>0</td>\n",
              "      <td>0</td>\n",
              "      <td>STON/O2. 3101282</td>\n",
              "      <td>7.9250</td>\n",
              "      <td>NaN</td>\n",
              "      <td>S</td>\n",
              "    </tr>\n",
              "    <tr>\n",
              "      <th>3</th>\n",
              "      <td>4</td>\n",
              "      <td>1</td>\n",
              "      <td>1</td>\n",
              "      <td>Futrelle, Mrs. Jacques Heath (Lily May Peel)</td>\n",
              "      <td>female</td>\n",
              "      <td>35.0</td>\n",
              "      <td>1</td>\n",
              "      <td>0</td>\n",
              "      <td>113803</td>\n",
              "      <td>53.1000</td>\n",
              "      <td>C123</td>\n",
              "      <td>S</td>\n",
              "    </tr>\n",
              "    <tr>\n",
              "      <th>4</th>\n",
              "      <td>5</td>\n",
              "      <td>0</td>\n",
              "      <td>3</td>\n",
              "      <td>Allen, Mr. William Henry</td>\n",
              "      <td>male</td>\n",
              "      <td>35.0</td>\n",
              "      <td>0</td>\n",
              "      <td>0</td>\n",
              "      <td>373450</td>\n",
              "      <td>8.0500</td>\n",
              "      <td>NaN</td>\n",
              "      <td>S</td>\n",
              "    </tr>\n",
              "  </tbody>\n",
              "</table>\n",
              "</div>"
            ],
            "text/plain": [
              "   PassengerId  Survived  Pclass  ...     Fare Cabin  Embarked\n",
              "0            1         0       3  ...   7.2500   NaN         S\n",
              "1            2         1       1  ...  71.2833   C85         C\n",
              "2            3         1       3  ...   7.9250   NaN         S\n",
              "3            4         1       1  ...  53.1000  C123         S\n",
              "4            5         0       3  ...   8.0500   NaN         S\n",
              "\n",
              "[5 rows x 12 columns]"
            ]
          },
          "metadata": {
            "tags": []
          },
          "execution_count": 40
        }
      ]
    },
    {
      "cell_type": "code",
      "metadata": {
        "id": "FTS0UsgHOjIj",
        "outputId": "50328f98-bbaf-4971-aafd-fdee03fc6254",
        "colab": {
          "base_uri": "https://localhost:8080/"
        }
      },
      "source": [
        "p_df_raw_train.isna().sum()"
      ],
      "execution_count": 41,
      "outputs": [
        {
          "output_type": "execute_result",
          "data": {
            "text/plain": [
              "PassengerId      0\n",
              "Survived         0\n",
              "Pclass           0\n",
              "Name             0\n",
              "Sex              0\n",
              "Age            177\n",
              "SibSp            0\n",
              "Parch            0\n",
              "Ticket           0\n",
              "Fare             0\n",
              "Cabin          687\n",
              "Embarked         2\n",
              "dtype: int64"
            ]
          },
          "metadata": {
            "tags": []
          },
          "execution_count": 41
        }
      ]
    },
    {
      "cell_type": "code",
      "metadata": {
        "id": "RrZAVZI7Op5t"
      },
      "source": [
        "p_df_raw_train.Age = p_df_raw_train.Age.fillna(-1)\n",
        "p_df_raw_train.Cabin = p_df_raw_train.Cabin.fillna('NA')\n",
        "p_df_raw_train.Embarked = p_df_raw_train.Embarked.fillna('NA')"
      ],
      "execution_count": 42,
      "outputs": []
    },
    {
      "cell_type": "markdown",
      "metadata": {
        "id": "nTkknorlOtmh"
      },
      "source": [
        "# **Check class frequencies**"
      ]
    },
    {
      "cell_type": "code",
      "metadata": {
        "id": "y-ugU1C8Oxec",
        "outputId": "de24fb29-6fb8-4234-939e-f75b07068a1d",
        "colab": {
          "base_uri": "https://localhost:8080/"
        }
      },
      "source": [
        "y = p_df_raw_train.Survived\n",
        "sum(y), sum(y)/len(y)*100"
      ],
      "execution_count": 43,
      "outputs": [
        {
          "output_type": "execute_result",
          "data": {
            "text/plain": [
              "(342, 38.38383838383838)"
            ]
          },
          "metadata": {
            "tags": []
          },
          "execution_count": 43
        }
      ]
    },
    {
      "cell_type": "markdown",
      "metadata": {
        "id": "q7IBPvPCO7J3"
      },
      "source": [
        "# **Preprocessing**"
      ]
    },
    {
      "cell_type": "code",
      "metadata": {
        "id": "EDGckEmMO-z2"
      },
      "source": [
        "df_y = p_df_raw_train['Survived']\n",
        "#df_X_raw = p_df_raw_train.drop(['Name'], axis=1)\n",
        "#df_X_raw = p_df_raw_train.drop(['Name', 'Survived'], axis=1)\n",
        "df_X_raw = p_df_raw_train.drop(['Name', 'Survived','PassengerId'], axis=1)\n",
        "\n",
        "\n",
        "columns=df_X_raw.columns\n",
        "for f in df_X_raw.columns:\n",
        "    if df_X_raw[f].dtype == 'object':\n",
        "        df_X_raw[f] = LabelEncoder().fit_transform(list(df_X_raw[f]))"
      ],
      "execution_count": 44,
      "outputs": []
    },
    {
      "cell_type": "code",
      "metadata": {
        "id": "akkXFlahRENj",
        "outputId": "8a2be106-9b63-401c-fc66-dff0c12a9c2c",
        "colab": {
          "base_uri": "https://localhost:8080/",
          "height": 204
        }
      },
      "source": [
        "df_X_raw.head()"
      ],
      "execution_count": 45,
      "outputs": [
        {
          "output_type": "execute_result",
          "data": {
            "text/html": [
              "<div>\n",
              "<style scoped>\n",
              "    .dataframe tbody tr th:only-of-type {\n",
              "        vertical-align: middle;\n",
              "    }\n",
              "\n",
              "    .dataframe tbody tr th {\n",
              "        vertical-align: top;\n",
              "    }\n",
              "\n",
              "    .dataframe thead th {\n",
              "        text-align: right;\n",
              "    }\n",
              "</style>\n",
              "<table border=\"1\" class=\"dataframe\">\n",
              "  <thead>\n",
              "    <tr style=\"text-align: right;\">\n",
              "      <th></th>\n",
              "      <th>Pclass</th>\n",
              "      <th>Sex</th>\n",
              "      <th>Age</th>\n",
              "      <th>SibSp</th>\n",
              "      <th>Parch</th>\n",
              "      <th>Ticket</th>\n",
              "      <th>Fare</th>\n",
              "      <th>Cabin</th>\n",
              "      <th>Embarked</th>\n",
              "    </tr>\n",
              "  </thead>\n",
              "  <tbody>\n",
              "    <tr>\n",
              "      <th>0</th>\n",
              "      <td>3</td>\n",
              "      <td>1</td>\n",
              "      <td>22.0</td>\n",
              "      <td>1</td>\n",
              "      <td>0</td>\n",
              "      <td>523</td>\n",
              "      <td>7.2500</td>\n",
              "      <td>146</td>\n",
              "      <td>3</td>\n",
              "    </tr>\n",
              "    <tr>\n",
              "      <th>1</th>\n",
              "      <td>1</td>\n",
              "      <td>0</td>\n",
              "      <td>38.0</td>\n",
              "      <td>1</td>\n",
              "      <td>0</td>\n",
              "      <td>596</td>\n",
              "      <td>71.2833</td>\n",
              "      <td>81</td>\n",
              "      <td>0</td>\n",
              "    </tr>\n",
              "    <tr>\n",
              "      <th>2</th>\n",
              "      <td>3</td>\n",
              "      <td>0</td>\n",
              "      <td>26.0</td>\n",
              "      <td>0</td>\n",
              "      <td>0</td>\n",
              "      <td>669</td>\n",
              "      <td>7.9250</td>\n",
              "      <td>146</td>\n",
              "      <td>3</td>\n",
              "    </tr>\n",
              "    <tr>\n",
              "      <th>3</th>\n",
              "      <td>1</td>\n",
              "      <td>0</td>\n",
              "      <td>35.0</td>\n",
              "      <td>1</td>\n",
              "      <td>0</td>\n",
              "      <td>49</td>\n",
              "      <td>53.1000</td>\n",
              "      <td>55</td>\n",
              "      <td>3</td>\n",
              "    </tr>\n",
              "    <tr>\n",
              "      <th>4</th>\n",
              "      <td>3</td>\n",
              "      <td>1</td>\n",
              "      <td>35.0</td>\n",
              "      <td>0</td>\n",
              "      <td>0</td>\n",
              "      <td>472</td>\n",
              "      <td>8.0500</td>\n",
              "      <td>146</td>\n",
              "      <td>3</td>\n",
              "    </tr>\n",
              "  </tbody>\n",
              "</table>\n",
              "</div>"
            ],
            "text/plain": [
              "   Pclass  Sex   Age  SibSp  Parch  Ticket     Fare  Cabin  Embarked\n",
              "0       3    1  22.0      1      0     523   7.2500    146         3\n",
              "1       1    0  38.0      1      0     596  71.2833     81         0\n",
              "2       3    0  26.0      0      0     669   7.9250    146         3\n",
              "3       1    0  35.0      1      0      49  53.1000     55         3\n",
              "4       3    1  35.0      0      0     472   8.0500    146         3"
            ]
          },
          "metadata": {
            "tags": []
          },
          "execution_count": 45
        }
      ]
    },
    {
      "cell_type": "code",
      "metadata": {
        "id": "gnHwE9ofQM5S"
      },
      "source": [
        "scaler = StandardScaler()\n",
        "scaled_df = scaler.fit_transform(df_X_raw)\n",
        "df_X = pd.DataFrame(scaled_df, columns=columns)"
      ],
      "execution_count": 46,
      "outputs": []
    },
    {
      "cell_type": "code",
      "metadata": {
        "id": "hyW3eOpoRTTO",
        "outputId": "7b964844-cc03-46ac-f0a3-fd53945012ef",
        "colab": {
          "base_uri": "https://localhost:8080/",
          "height": 204
        }
      },
      "source": [
        "df_X.head()"
      ],
      "execution_count": 47,
      "outputs": [
        {
          "output_type": "execute_result",
          "data": {
            "text/html": [
              "<div>\n",
              "<style scoped>\n",
              "    .dataframe tbody tr th:only-of-type {\n",
              "        vertical-align: middle;\n",
              "    }\n",
              "\n",
              "    .dataframe tbody tr th {\n",
              "        vertical-align: top;\n",
              "    }\n",
              "\n",
              "    .dataframe thead th {\n",
              "        text-align: right;\n",
              "    }\n",
              "</style>\n",
              "<table border=\"1\" class=\"dataframe\">\n",
              "  <thead>\n",
              "    <tr style=\"text-align: right;\">\n",
              "      <th></th>\n",
              "      <th>Pclass</th>\n",
              "      <th>Sex</th>\n",
              "      <th>Age</th>\n",
              "      <th>SibSp</th>\n",
              "      <th>Parch</th>\n",
              "      <th>Ticket</th>\n",
              "      <th>Fare</th>\n",
              "      <th>Cabin</th>\n",
              "      <th>Embarked</th>\n",
              "    </tr>\n",
              "  </thead>\n",
              "  <tbody>\n",
              "    <tr>\n",
              "      <th>0</th>\n",
              "      <td>0.827377</td>\n",
              "      <td>0.737695</td>\n",
              "      <td>-0.089634</td>\n",
              "      <td>0.432793</td>\n",
              "      <td>-0.473674</td>\n",
              "      <td>0.918966</td>\n",
              "      <td>-0.502445</td>\n",
              "      <td>0.449441</td>\n",
              "      <td>0.562734</td>\n",
              "    </tr>\n",
              "    <tr>\n",
              "      <th>1</th>\n",
              "      <td>-1.566107</td>\n",
              "      <td>-1.355574</td>\n",
              "      <td>0.806350</td>\n",
              "      <td>0.432793</td>\n",
              "      <td>-0.473674</td>\n",
              "      <td>1.282625</td>\n",
              "      <td>0.786845</td>\n",
              "      <td>-1.373473</td>\n",
              "      <td>-2.008526</td>\n",
              "    </tr>\n",
              "    <tr>\n",
              "      <th>2</th>\n",
              "      <td>0.827377</td>\n",
              "      <td>-1.355574</td>\n",
              "      <td>0.134362</td>\n",
              "      <td>-0.474545</td>\n",
              "      <td>-0.473674</td>\n",
              "      <td>1.646283</td>\n",
              "      <td>-0.488854</td>\n",
              "      <td>0.449441</td>\n",
              "      <td>0.562734</td>\n",
              "    </tr>\n",
              "    <tr>\n",
              "      <th>3</th>\n",
              "      <td>-1.566107</td>\n",
              "      <td>-1.355574</td>\n",
              "      <td>0.638353</td>\n",
              "      <td>0.432793</td>\n",
              "      <td>-0.473674</td>\n",
              "      <td>-1.442322</td>\n",
              "      <td>0.420730</td>\n",
              "      <td>-2.102639</td>\n",
              "      <td>0.562734</td>\n",
              "    </tr>\n",
              "    <tr>\n",
              "      <th>4</th>\n",
              "      <td>0.827377</td>\n",
              "      <td>0.737695</td>\n",
              "      <td>0.638353</td>\n",
              "      <td>-0.474545</td>\n",
              "      <td>-0.473674</td>\n",
              "      <td>0.664904</td>\n",
              "      <td>-0.486337</td>\n",
              "      <td>0.449441</td>\n",
              "      <td>0.562734</td>\n",
              "    </tr>\n",
              "  </tbody>\n",
              "</table>\n",
              "</div>"
            ],
            "text/plain": [
              "     Pclass       Sex       Age  ...      Fare     Cabin  Embarked\n",
              "0  0.827377  0.737695 -0.089634  ... -0.502445  0.449441  0.562734\n",
              "1 -1.566107 -1.355574  0.806350  ...  0.786845 -1.373473 -2.008526\n",
              "2  0.827377 -1.355574  0.134362  ... -0.488854  0.449441  0.562734\n",
              "3 -1.566107 -1.355574  0.638353  ...  0.420730 -2.102639  0.562734\n",
              "4  0.827377  0.737695  0.638353  ... -0.486337  0.449441  0.562734\n",
              "\n",
              "[5 rows x 9 columns]"
            ]
          },
          "metadata": {
            "tags": []
          },
          "execution_count": 47
        }
      ]
    },
    {
      "cell_type": "code",
      "metadata": {
        "id": "FWtkUOIBQVAO"
      },
      "source": [
        "class_labels = np.unique(y)\n",
        "class_weights = compute_class_weight('balanced', class_labels, y)\n",
        "class_weights = dict(zip(class_labels, class_weights))"
      ],
      "execution_count": 48,
      "outputs": []
    },
    {
      "cell_type": "code",
      "metadata": {
        "id": "dVisxZJRQada"
      },
      "source": [
        "X_train, X_test, y_train, y_test = train_test_split(df_X, df_y)"
      ],
      "execution_count": 49,
      "outputs": []
    },
    {
      "cell_type": "code",
      "metadata": {
        "id": "pbQB529jRd_5",
        "outputId": "65222cc7-116e-43d6-a985-dfcdaa6ac4a2",
        "colab": {
          "base_uri": "https://localhost:8080/"
        }
      },
      "source": [
        "class_weights"
      ],
      "execution_count": 50,
      "outputs": [
        {
          "output_type": "execute_result",
          "data": {
            "text/plain": [
              "{0: 0.8114754098360656, 1: 1.3026315789473684}"
            ]
          },
          "metadata": {
            "tags": []
          },
          "execution_count": 50
        }
      ]
    },
    {
      "cell_type": "markdown",
      "metadata": {
        "id": "-ymc539-Rj40"
      },
      "source": [
        "# **Default parameters**"
      ]
    },
    {
      "cell_type": "code",
      "metadata": {
        "id": "3iQwW5TzRqKp"
      },
      "source": [
        "penalty='l2', ### 'elastic'\n",
        "dual=False,\n",
        "tol=0.0001,\n",
        "C=1.0,\n",
        "fit_intercept=True,\n",
        "intercept_scaling=1,\n",
        "class_weight=None,\n",
        "random_state=None,\n",
        "solver='lbfgs',\n",
        "max_iter=100,\n",
        "multi_class='auto',\n",
        "verbose=0,\n",
        "warm_start=False,\n",
        "n_jobs=None,\n",
        "l1_ratio=None"
      ],
      "execution_count": 27,
      "outputs": []
    },
    {
      "cell_type": "code",
      "metadata": {
        "id": "qmN3iNIARxg4"
      },
      "source": [
        "clf = LogisticRegression(random_state=0, class_weight=class_weights)"
      ],
      "execution_count": 51,
      "outputs": []
    },
    {
      "cell_type": "code",
      "metadata": {
        "id": "nIIzc2pmR2V7",
        "outputId": "dcb90c9b-f5a5-4f13-b2fc-ff6733b14847",
        "colab": {
          "base_uri": "https://localhost:8080/"
        }
      },
      "source": [
        "clf.fit(X_train, y_train)"
      ],
      "execution_count": 52,
      "outputs": [
        {
          "output_type": "execute_result",
          "data": {
            "text/plain": [
              "LogisticRegression(C=1.0,\n",
              "                   class_weight={0: 0.8114754098360656, 1: 1.3026315789473684},\n",
              "                   dual=False, fit_intercept=True, intercept_scaling=1,\n",
              "                   l1_ratio=None, max_iter=100, multi_class='auto', n_jobs=None,\n",
              "                   penalty='l2', random_state=0, solver='lbfgs', tol=0.0001,\n",
              "                   verbose=0, warm_start=False)"
            ]
          },
          "metadata": {
            "tags": []
          },
          "execution_count": 52
        }
      ]
    },
    {
      "cell_type": "code",
      "metadata": {
        "id": "iSHYLEMVSBmI"
      },
      "source": [
        "clf_train_pred = clf.predict(X_train)"
      ],
      "execution_count": 53,
      "outputs": []
    },
    {
      "cell_type": "code",
      "metadata": {
        "id": "E9lt_nD8SGL2",
        "outputId": "2beaa1b2-d1eb-4abb-98c0-d3f808845e14",
        "colab": {
          "base_uri": "https://localhost:8080/"
        }
      },
      "source": [
        "auc_train =sklearn.metrics.roc_auc_score (y_train, clf_train_pred)\n",
        "print('\\nAUROC.....', auc_train)"
      ],
      "execution_count": 55,
      "outputs": [
        {
          "output_type": "stream",
          "text": [
            "\n",
            "AUROC..... 0.7784255738628362\n"
          ],
          "name": "stdout"
        }
      ]
    },
    {
      "cell_type": "code",
      "metadata": {
        "id": "7gusCcX0SalN"
      },
      "source": [
        "fpr, tpr, threshold = sklearn.metrics.roc_curve(y_train, clf_train_pred)"
      ],
      "execution_count": 56,
      "outputs": []
    },
    {
      "cell_type": "code",
      "metadata": {
        "id": "_TWzuF60SfxA",
        "outputId": "6a2f0410-861d-49fe-b282-f6e537097309",
        "colab": {
          "base_uri": "https://localhost:8080/",
          "height": 500
        }
      },
      "source": [
        "fig = plt.figure(figsize=(12,8)) \n",
        "ax = fig.add_subplot(1,1,1)\n",
        "plt.plot([0,1],[0,1], 'k--')\n",
        "plt.plot(fpr, tpr)"
      ],
      "execution_count": 59,
      "outputs": [
        {
          "output_type": "execute_result",
          "data": {
            "text/plain": [
              "[<matplotlib.lines.Line2D at 0x7fae120cb208>]"
            ]
          },
          "metadata": {
            "tags": []
          },
          "execution_count": 59
        },
        {
          "output_type": "display_data",
          "data": {
            "image/png": "[encoded data removed]",
            "text/plain": [
              "<Figure size 864x576 with 1 Axes>"
            ]
          },
          "metadata": {
            "tags": [],
            "needs_background": "light"
          }
        }
      ]
    },
    {
      "cell_type": "code",
      "metadata": {
        "id": "SQaR0FyQSuwD",
        "outputId": "d634170f-5f10-4cf1-aaee-78d2d828a6bc",
        "colab": {
          "base_uri": "https://localhost:8080/"
        }
      },
      "source": [
        "print('Accuracy')\n",
        "print(sklearn.metrics.accuracy_score(y_train, clf_train_pred))\n",
        "print('Confusion Matrix')\n",
        "print(sklearn.metrics.confusion_matrix(y_train, clf_train_pred))\n",
        "print('Confusion Report')\n",
        "print(sklearn.metrics.classification_report(y_train, clf_train_pred))"
      ],
      "execution_count": 58,
      "outputs": [
        {
          "output_type": "stream",
          "text": [
            "Accuracy\n",
            "0.781437125748503\n",
            "Confusion Matrix\n",
            "[[321  84]\n",
            " [ 62 201]]\n",
            "Confusion Report\n",
            "              precision    recall  f1-score   support\n",
            "\n",
            "           0       0.84      0.79      0.81       405\n",
            "           1       0.71      0.76      0.73       263\n",
            "\n",
            "    accuracy                           0.78       668\n",
            "   macro avg       0.77      0.78      0.77       668\n",
            "weighted avg       0.79      0.78      0.78       668\n",
            "\n"
          ],
          "name": "stdout"
        }
      ]
    }
  ]
}