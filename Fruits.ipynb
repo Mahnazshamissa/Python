{
  "nbformat": 4,
  "nbformat_minor": 0,
  "metadata": {
    "colab": {
      "name": "Fruits.ipynb",
      "provenance": [],
      "authorship_tag": "ABX9TyOrzIo+JE3qRucWVr+JOYzq",
      "include_colab_link": true
    },
    "kernelspec": {
      "name": "python3",
      "display_name": "Python 3"
    }
  },
  "cells": [
    {
      "cell_type": "markdown",
      "metadata": {
        "id": "view-in-github",
        "colab_type": "text"
      },
      "source": [
        "<a href=\"https://colab.research.google.com/github/Mahnazshamissa/Python/blob/main/Fruits.ipynb\" target=\"_parent\"><img src=\"https://colab.research.google.com/assets/colab-badge.svg\" alt=\"Open In Colab\"/></a>"
      ]
    },
    {
      "cell_type": "code",
      "metadata": {
        "id": "FaboUjalQlU0"
      },
      "source": [
        "import numpy as np\n",
        "fruits = ['bananas', 'mangoes', 'oranges', 'others'] \n",
        "quantities = [400, 300, 500, 200]\n",
        "arrFruits = np.array(quantities)\n",
        "probs = arrFruits/np.sum(arrFruits)"
      ],
      "execution_count": null,
      "outputs": []
    },
    {
      "cell_type": "code",
      "metadata": {
        "id": "eIsCbyp6Or5A"
      },
      "source": [
        "import pickle\n",
        "with open('/content/fruit_data.pkl','rb') as fin: \n",
        "  data = pickle.load(fin)"
      ],
      "execution_count": null,
      "outputs": []
    },
    {
      "cell_type": "code",
      "metadata": {
        "id": "XQQ1oHbSPFgy",
        "outputId": "8c2d4e1c-36ec-44da-df69-fc2cbc608c64",
        "colab": {
          "base_uri": "https://localhost:8080/",
          "height": 136
        }
      },
      "source": [
        "data"
      ],
      "execution_count": null,
      "outputs": [
        {
          "output_type": "execute_result",
          "data": {
            "text/plain": [
              "array([['others', '0', '1', '0', '1', '0'],\n",
              "       ['bananas', '1', '0', '1', '0', '0'],\n",
              "       ['bananas', '1', '0', '1', '0', '0'],\n",
              "       ...,\n",
              "       ['bananas', '1', '1', '1', '0', '0'],\n",
              "       ['oranges', '0', '1', '0', '1', '0'],\n",
              "       ['oranges', '0', '1', '0', '1', '0']], dtype='<U21')"
            ]
          },
          "metadata": {
            "tags": []
          },
          "execution_count": 2
        }
      ]
    },
    {
      "cell_type": "code",
      "metadata": {
        "id": "jytTYESMPJlS",
        "outputId": "114050d7-e0ea-479c-d72d-2cea3acdd330",
        "colab": {
          "base_uri": "https://localhost:8080/",
          "height": 34
        }
      },
      "source": [
        "data.size"
      ],
      "execution_count": null,
      "outputs": [
        {
          "output_type": "execute_result",
          "data": {
            "text/plain": [
              "8400"
            ]
          },
          "metadata": {
            "tags": []
          },
          "execution_count": 3
        }
      ]
    },
    {
      "cell_type": "code",
      "metadata": {
        "id": "emRZj9X6PPB3"
      },
      "source": [
        "def this_fruit_data(fruit_name, fruit_quantity, long_count, sweet_count, yellow_count, seed_count, br_count):\n",
        "\n",
        "\n",
        "    longg = np.concatenate((np.ones((long_count,), dtype=int), np.zeros((fruit_quantity - long_count,), dtype=int))) \n",
        "    np.random.shuffle(longg)\n",
        "\n",
        "    sweet = np.concatenate((np.ones((sweet_count,), dtype=int), np.zeros((fruit_quantity - sweet_count,), dtype=int))) \n",
        "    np.random.shuffle(sweet)\n",
        "\n",
        "    yellow = np.concatenate((np.ones((yellow_count,), dtype=int), np.zeros((fruit_quantity - yellow_count,), dtype=int))) \n",
        "    np.random.shuffle(yellow)\n",
        "\n",
        "    seeds = np.concatenate((np.ones((seed_count,), dtype=int), np.zeros((fruit_quantity - seed_count,), dtype=int))) \n",
        "    np.random.shuffle(seeds)\n",
        "\n",
        "    brazil = np.concatenate((np.ones((br_count,), dtype=int), np.zeros((fruit_quantity - br_count,), dtype=int))) \n",
        "    np.random.shuffle(brazil)\n",
        "\n",
        "    fruits = np.full((fruit_quantity,1), fruit_name)\n",
        "    this_fruit_data = np.column_stack((fruits, longg, sweet, yellow, seeds, brazil,))\n",
        "    return this_fruit_data"
      ],
      "execution_count": null,
      "outputs": []
    },
    {
      "cell_type": "code",
      "metadata": {
        "id": "IEfYSNU4PSzS"
      },
      "source": [
        "bananas = this_fruit_data('bananas', quantities[0], 360, 250, 390, 0, 65)"
      ],
      "execution_count": null,
      "outputs": []
    },
    {
      "cell_type": "code",
      "metadata": {
        "id": "H-VTZS-RQDgK"
      },
      "source": [
        "bananas"
      ],
      "execution_count": null,
      "outputs": []
    },
    {
      "cell_type": "code",
      "metadata": {
        "id": "Y4eKnigXQQW7"
      },
      "source": [
        "mangoes = this_fruit_data('mangoes', quantities[1], 110, 200, 120, 0, 300)"
      ],
      "execution_count": null,
      "outputs": []
    },
    {
      "cell_type": "code",
      "metadata": {
        "id": "E4hUm68nQSzZ"
      },
      "source": [
        "oranges = this_fruit_data('oranges', quantities[2], 3, 460, 30, 470, 10)"
      ],
      "execution_count": null,
      "outputs": []
    },
    {
      "cell_type": "code",
      "metadata": {
        "id": "HY49kvtgQV1K"
      },
      "source": [
        "others = this_fruit_data('others', quantities[3], 45, 200, 100, 190, 0)"
      ],
      "execution_count": null,
      "outputs": []
    },
    {
      "cell_type": "code",
      "metadata": {
        "id": "iUVnqtPRQY0o"
      },
      "source": [
        "total_fruit_data = np.vstack((bananas, mangoes, oranges, others))"
      ],
      "execution_count": null,
      "outputs": []
    },
    {
      "cell_type": "code",
      "metadata": {
        "id": "15Vb3EgbQbkf"
      },
      "source": [
        "total_fruit_data"
      ],
      "execution_count": null,
      "outputs": []
    },
    {
      "cell_type": "code",
      "metadata": {
        "id": "lXri01dLR47c"
      },
      "source": [
        "mangoes_indices = np.where(total_fruit_data[:,0] == 'mangoes')[0]\n",
        "oranges_indices = np.where(total_fruit_data[:,0] == 'oranges')[0]\n",
        "bananas_indices = np.where(total_fruit_data[:,0] == 'bananas')[0]\n",
        "others_indices = np.where(total_fruit_data[:,0] == 'others')[0]"
      ],
      "execution_count": null,
      "outputs": []
    },
    {
      "cell_type": "code",
      "metadata": {
        "id": "KIriLUQESHgn"
      },
      "source": [
        "mangoes_indices\n",
        "oranges_indices"
      ],
      "execution_count": null,
      "outputs": []
    },
    {
      "cell_type": "code",
      "metadata": {
        "id": "3-6cR2XoSQsi"
      },
      "source": [
        "sum(total_fruit_data[mangoes_indices][:,3] == '1')\n",
        "sum(total_fruit_data[bananas_indices][:,3] == '1')\n",
        "sum(total_fruit_data[others_indices][:,3] == '1')\n",
        "sum(total_fruit_data[oranges_indices][:,3] == '1')"
      ],
      "execution_count": null,
      "outputs": []
    },
    {
      "cell_type": "code",
      "metadata": {
        "id": "Di-ZZiM-SRra"
      },
      "source": [
        "np.zeros([4,10])"
      ],
      "execution_count": null,
      "outputs": []
    }
  ]
}