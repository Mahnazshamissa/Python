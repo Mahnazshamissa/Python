{
  "nbformat": 4,
  "nbformat_minor": 0,
  "metadata": {
    "colab": {
      "name": "asigmo_ex3_fatemeh.ipynb",
      "provenance": [],
      "collapsed_sections": [],
      "include_colab_link": true
    },
    "kernelspec": {
      "name": "python3",
      "display_name": "Python 3"
    },
    "accelerator": "GPU"
  },
  "cells": [
    {
      "cell_type": "markdown",
      "metadata": {
        "id": "view-in-github",
        "colab_type": "text"
      },
      "source": [
        "<a href=\"https://colab.research.google.com/github/Mahnazshamissa/Python/blob/main/asigmo_ex3_fatemeh.ipynb\" target=\"_parent\"><img src=\"https://colab.research.google.com/assets/colab-badge.svg\" alt=\"Open In Colab\"/></a>"
      ]
    },
    {
      "cell_type": "markdown",
      "metadata": {
        "id": "6cQf_bBTm7r7"
      },
      "source": [
        "# Lab exercise 3\n",
        "\n",
        "\n",
        "Per Group:\n",
        "1.   Create a teams-meeting where one person opens the colab notebook and shares the screen (preferably a different person than yesterday)\n",
        "2.   Don't unfreeze the pretrained ResNet50 and train it together with the last layer from scratch on 20 epochs. What's the best validation accuracy and test accuracy you get?\n",
        "3.   Pretrain the output layer on 20 epochs, then unfreeze all layers and train it for 10 epochs. What's the best validation accuracy and test accuracy you get?\n",
        "4.   Pretrain the output layer on 20 epochs, then unfreeze only the first 10 layers and train it for 10 epochs. What's the best validation accuracy and test accuracy you get?\n",
        "5.   Think about why your network performed better or worse compared to the ~94% accuracy of the baseline network\n",
        "6.   Change the ResNet50 backbone to a ```EfficientNetB4```(group A and C) or ```VGG19``` (group D and E) and train only the output layer. What's the best validation accuracy and test accuracy you get? (don't forget to also change the preprocessing function)\n",
        "7.   In each group channel answer the questions below\n",
        "\n",
        "**Warning:** In steps 3 to 5 make sure you overwrite the model and don't continue training on the model from the previous step!\n",
        "\n",
        "\n",
        "**Questions**\n",
        "1.  Assuming a ResNet50 training step with a batchsize of 64 takes around 900ms, how long would one training epoch take on ImageNet (1.3 million training images)?\n",
        "2. How long would it then take to train the ResNet50 for 100 epochs?"
      ]
    },
    {
      "cell_type": "markdown",
      "metadata": {
        "id": "SB-q8XI3NPWq"
      },
      "source": [
        "## Setup notebook environment\n",
        "\n",
        "Make sure the Colab environment has a GPU enabled *Edit->Notebook Settings->Hardware accelerator->Choose GPU*"
      ]
    },
    {
      "cell_type": "code",
      "metadata": {
        "id": "1aG_RlnMI7Fj",
        "outputId": "943f22b7-dcf7-46b1-f5ea-fe0d589e434f",
        "colab": {
          "base_uri": "https://localhost:8080/"
        }
      },
      "source": [
        "! nvidia-smi"
      ],
      "execution_count": 1,
      "outputs": [
        {
          "output_type": "stream",
          "text": [
            "Thu Oct 29 10:25:09 2020       \n",
            "+-----------------------------------------------------------------------------+\n",
            "| NVIDIA-SMI 455.23.05    Driver Version: 418.67       CUDA Version: 10.1     |\n",
            "|-------------------------------+----------------------+----------------------+\n",
            "| GPU  Name        Persistence-M| Bus-Id        Disp.A | Volatile Uncorr. ECC |\n",
            "| Fan  Temp  Perf  Pwr:Usage/Cap|         Memory-Usage | GPU-Util  Compute M. |\n",
            "|                               |                      |               MIG M. |\n",
            "|===============================+======================+======================|\n",
            "|   0  Tesla P100-PCIE...  Off  | 00000000:00:04.0 Off |                    0 |\n",
            "| N/A   34C    P0    26W / 250W |      0MiB / 16280MiB |      0%      Default |\n",
            "|                               |                      |                 ERR! |\n",
            "+-------------------------------+----------------------+----------------------+\n",
            "                                                                               \n",
            "+-----------------------------------------------------------------------------+\n",
            "| Processes:                                                                  |\n",
            "|  GPU   GI   CI        PID   Type   Process name                  GPU Memory |\n",
            "|        ID   ID                                                   Usage      |\n",
            "|=============================================================================|\n",
            "|  No running processes found                                                 |\n",
            "+-----------------------------------------------------------------------------+\n"
          ],
          "name": "stdout"
        }
      ]
    },
    {
      "cell_type": "markdown",
      "metadata": {
        "id": "uc8c_aozNWpg"
      },
      "source": [
        "Download the dataset first"
      ]
    },
    {
      "cell_type": "code",
      "metadata": {
        "id": "MGa7l7SjNZFe",
        "outputId": "598fa451-f143-4af0-9560-0ce347766745",
        "colab": {
          "base_uri": "https://localhost:8080/"
        }
      },
      "source": [
        "! wget https://pub.ist.ac.at/~mlechner/datasets/f8d.tar.gz\n",
        "! tar -xf f8d.tar.gz"
      ],
      "execution_count": 2,
      "outputs": [
        {
          "output_type": "stream",
          "text": [
            "--2020-10-29 10:25:18--  https://pub.ist.ac.at/~mlechner/datasets/f8d.tar.gz\n",
            "Resolving pub.ist.ac.at (pub.ist.ac.at)... 81.223.84.195\n",
            "Connecting to pub.ist.ac.at (pub.ist.ac.at)|81.223.84.195|:443... connected.\n",
            "HTTP request sent, awaiting response... 200 OK\n",
            "Length: 76149807 (73M) [application/x-gzip]\n",
            "Saving to: ‘f8d.tar.gz’\n",
            "\n",
            "f8d.tar.gz          100%[===================>]  72.62M  3.99MB/s    in 28s     \n",
            "\n",
            "2020-10-29 10:25:48 (2.59 MB/s) - ‘f8d.tar.gz’ saved [76149807/76149807]\n",
            "\n"
          ],
          "name": "stdout"
        }
      ]
    },
    {
      "cell_type": "markdown",
      "metadata": {
        "id": "NkhCfNnTOdTJ"
      },
      "source": [
        "Import python libraries"
      ]
    },
    {
      "cell_type": "code",
      "metadata": {
        "id": "gBF6BqbgNbII"
      },
      "source": [
        "import tensorflow as tf\n",
        "import numpy as np\n",
        "import matplotlib.pyplot as plt"
      ],
      "execution_count": 3,
      "outputs": []
    },
    {
      "cell_type": "markdown",
      "metadata": {
        "id": "WlKQkw7ZOhBQ"
      },
      "source": [
        "## Step 1: Define datasets"
      ]
    },
    {
      "cell_type": "code",
      "metadata": {
        "id": "WZt14huyNguI",
        "outputId": "b7363707-fbca-4533-e425-ecd9756ef669",
        "colab": {
          "base_uri": "https://localhost:8080/"
        }
      },
      "source": [
        "test_dataset = tf.keras.preprocessing.image_dataset_from_directory(\n",
        "  \"f8d/test\", shuffle=False, batch_size=128, image_size=(256, 256),\n",
        ")\n",
        "train_dataset = tf.keras.preprocessing.image_dataset_from_directory(\n",
        "  \"f8d/training\",\n",
        "  shuffle=True,\n",
        "  batch_size=64,\n",
        "  image_size=(256, 256),\n",
        "  validation_split=0.2,\n",
        "  subset=\"training\",\n",
        "  seed=1020202,\n",
        ")\n",
        "valid_dataset = tf.keras.preprocessing.image_dataset_from_directory(\n",
        "  \"f8d/training\",\n",
        "  shuffle=True,\n",
        "  batch_size=128,\n",
        "  image_size=(256, 256),\n",
        "  validation_split=0.2,\n",
        "  subset=\"validation\",\n",
        "  seed=1020202,\n",
        ")\n",
        "AUTOTUNE = tf.data.experimental.AUTOTUNE\n",
        "train_dataset = train_dataset.prefetch(buffer_size=AUTOTUNE)\n",
        "valid_dataset = valid_dataset.prefetch(buffer_size=AUTOTUNE)\n",
        "test_dataset = test_dataset.prefetch(buffer_size=AUTOTUNE)"
      ],
      "execution_count": 4,
      "outputs": [
        {
          "output_type": "stream",
          "text": [
            "Found 640 files belonging to 8 classes.\n",
            "Found 1840 files belonging to 8 classes.\n",
            "Using 1472 files for training.\n",
            "Found 1840 files belonging to 8 classes.\n",
            "Using 368 files for validation.\n"
          ],
          "name": "stdout"
        }
      ]
    },
    {
      "cell_type": "markdown",
      "metadata": {
        "id": "_HtXmk8mOrh4"
      },
      "source": [
        "## Step 2 and 3: Define model and objective"
      ]
    },
    {
      "cell_type": "code",
      "metadata": {
        "id": "onpKWbSNNjCg",
        "outputId": "32413d42-bbfb-496c-d314-764fa9f620ae",
        "colab": {
          "base_uri": "https://localhost:8080/"
        }
      },
      "source": [
        "pretrained_model = tf.keras.applications.ResNet50(input_shape=(224, 224, 3), include_top=False, weights=\"imagenet\")\n",
        "\n",
        "model = tf.keras.Sequential([\n",
        "  tf.keras.layers.Input(shape=(256,256,3)),\n",
        "  tf.keras.layers.experimental.preprocessing.RandomCrop(224, 224),\n",
        "  tf.keras.layers.Lambda(lambda x: tf.keras.applications.resnet.preprocess_input(x)),\n",
        "  pretrained_model,\n",
        "  tf.keras.layers.GlobalAveragePooling2D(),\n",
        "  tf.keras.layers.Dense(8, activation=\"softmax\"),\n",
        "])\n",
        "pretrained_model.trainable=False\n",
        "model.compile(\n",
        "    optimizer=tf.keras.optimizers.Adam(0.001),\n",
        "    loss=\"sparse_categorical_crossentropy\",\n",
        "    metrics=[\"sparse_categorical_accuracy\"],\n",
        ")\n",
        "model.summary()"
      ],
      "execution_count": 5,
      "outputs": [
        {
          "output_type": "stream",
          "text": [
            "Downloading data from https://storage.googleapis.com/tensorflow/keras-applications/resnet/resnet50_weights_tf_dim_ordering_tf_kernels_notop.h5\n",
            "94773248/94765736 [==============================] - 4s 0us/step\n",
            "Model: \"sequential\"\n",
            "_________________________________________________________________\n",
            "Layer (type)                 Output Shape              Param #   \n",
            "=================================================================\n",
            "random_crop (RandomCrop)     (None, 224, 224, 3)       0         \n",
            "_________________________________________________________________\n",
            "lambda (Lambda)              (None, 224, 224, 3)       0         \n",
            "_________________________________________________________________\n",
            "resnet50 (Functional)        (None, 7, 7, 2048)        23587712  \n",
            "_________________________________________________________________\n",
            "global_average_pooling2d (Gl (None, 2048)              0         \n",
            "_________________________________________________________________\n",
            "dense (Dense)                (None, 8)                 16392     \n",
            "=================================================================\n",
            "Total params: 23,604,104\n",
            "Trainable params: 16,392\n",
            "Non-trainable params: 23,587,712\n",
            "_________________________________________________________________\n"
          ],
          "name": "stdout"
        }
      ]
    },
    {
      "cell_type": "markdown",
      "metadata": {
        "id": "YXRe8j9zOvbw"
      },
      "source": [
        "## Step 4: Train the last layer"
      ]
    },
    {
      "cell_type": "code",
      "metadata": {
        "id": "1Aes5WmpNlTN",
        "outputId": "774ed055-414b-4d47-af88-38697e4fe645",
        "colab": {
          "base_uri": "https://localhost:8080/"
        }
      },
      "source": [
        "training_log = model.fit(\n",
        "  train_dataset, epochs=10, validation_data=valid_dataset\n",
        ")"
      ],
      "execution_count": 11,
      "outputs": [
        {
          "output_type": "stream",
          "text": [
            "Epoch 1/10\n",
            "23/23 [==============================] - 8s 348ms/step - loss: 0.0366 - sparse_categorical_accuracy: 0.9918 - val_loss: 0.1294 - val_sparse_categorical_accuracy: 0.9484\n",
            "Epoch 2/10\n",
            "23/23 [==============================] - 7s 318ms/step - loss: 0.0318 - sparse_categorical_accuracy: 0.9959 - val_loss: 0.1273 - val_sparse_categorical_accuracy: 0.9565\n",
            "Epoch 3/10\n",
            "23/23 [==============================] - 7s 318ms/step - loss: 0.0261 - sparse_categorical_accuracy: 0.9973 - val_loss: 0.1221 - val_sparse_categorical_accuracy: 0.9565\n",
            "Epoch 4/10\n",
            "23/23 [==============================] - 7s 318ms/step - loss: 0.0249 - sparse_categorical_accuracy: 0.9986 - val_loss: 0.1289 - val_sparse_categorical_accuracy: 0.9457\n",
            "Epoch 5/10\n",
            "23/23 [==============================] - 7s 316ms/step - loss: 0.0207 - sparse_categorical_accuracy: 1.0000 - val_loss: 0.1322 - val_sparse_categorical_accuracy: 0.9457\n",
            "Epoch 6/10\n",
            "23/23 [==============================] - 7s 318ms/step - loss: 0.0205 - sparse_categorical_accuracy: 0.9993 - val_loss: 0.1218 - val_sparse_categorical_accuracy: 0.9511\n",
            "Epoch 7/10\n",
            "23/23 [==============================] - 7s 316ms/step - loss: 0.0183 - sparse_categorical_accuracy: 0.9993 - val_loss: 0.1314 - val_sparse_categorical_accuracy: 0.9484\n",
            "Epoch 8/10\n",
            "23/23 [==============================] - 7s 319ms/step - loss: 0.0163 - sparse_categorical_accuracy: 1.0000 - val_loss: 0.1224 - val_sparse_categorical_accuracy: 0.9592\n",
            "Epoch 9/10\n",
            "23/23 [==============================] - 7s 320ms/step - loss: 0.0180 - sparse_categorical_accuracy: 0.9986 - val_loss: 0.1331 - val_sparse_categorical_accuracy: 0.9511\n",
            "Epoch 10/10\n",
            "23/23 [==============================] - 7s 320ms/step - loss: 0.0172 - sparse_categorical_accuracy: 0.9986 - val_loss: 0.1246 - val_sparse_categorical_accuracy: 0.9620\n"
          ],
          "name": "stdout"
        }
      ]
    },
    {
      "cell_type": "code",
      "metadata": {
        "id": "xIt6mEA-NnIY",
        "outputId": "9bcde698-9c3c-43de-b455-d7eb3bfeb7d4",
        "colab": {
          "base_uri": "https://localhost:8080/"
        }
      },
      "source": [
        "print(f\"Best validation accuracy is {100*np.max(training_log.history['val_sparse_categorical_accuracy']):0.2f}%\")"
      ],
      "execution_count": 12,
      "outputs": [
        {
          "output_type": "stream",
          "text": [
            "Best validation accuracy is 96.20%\n"
          ],
          "name": "stdout"
        }
      ]
    },
    {
      "cell_type": "markdown",
      "metadata": {
        "id": "eECMpKvLO4LJ"
      },
      "source": [
        "## Step 5: Evaluate the model"
      ]
    },
    {
      "cell_type": "code",
      "metadata": {
        "id": "VP1f7owVNohQ",
        "outputId": "f7ac0310-d6b8-4e02-fc9a-c52036fc2075",
        "colab": {
          "base_uri": "https://localhost:8080/"
        }
      },
      "source": [
        "model.evaluate(test_dataset)"
      ],
      "execution_count": 13,
      "outputs": [
        {
          "output_type": "stream",
          "text": [
            "5/5 [==============================] - 1s 187ms/step - loss: 0.2001 - sparse_categorical_accuracy: 0.9406\n"
          ],
          "name": "stdout"
        },
        {
          "output_type": "execute_result",
          "data": {
            "text/plain": [
              "[0.20006532967090607, 0.940625011920929]"
            ]
          },
          "metadata": {
            "tags": []
          },
          "execution_count": 13
        }
      ]
    },
    {
      "cell_type": "markdown",
      "metadata": {
        "id": "3Jit-LJQpQYS"
      },
      "source": [
        "## Unfreeze the weights of the last 10 layers"
      ]
    },
    {
      "cell_type": "code",
      "metadata": {
        "id": "EkGqdgVSVoeg",
        "outputId": "b48e40d7-517a-4cd2-f53f-11629425979e",
        "colab": {
          "base_uri": "https://localhost:8080/"
        }
      },
      "source": [
        "pretrained_model.trainable = True\n",
        "for l in pretrained_model.layers:\n",
        "  l.trainable=False\n",
        "for i in range(10):\n",
        "  pretrained_model.layers[-i].trainable=True\n",
        "  \n",
        "model.compile(\n",
        "    optimizer=tf.keras.optimizers.RMSprop(0.0001),\n",
        "    loss=\"sparse_categorical_crossentropy\",\n",
        "    metrics=[\"sparse_categorical_accuracy\"],\n",
        ")\n",
        "model.summary()"
      ],
      "execution_count": 9,
      "outputs": [
        {
          "output_type": "stream",
          "text": [
            "Model: \"sequential\"\n",
            "_________________________________________________________________\n",
            "Layer (type)                 Output Shape              Param #   \n",
            "=================================================================\n",
            "random_crop (RandomCrop)     (None, 224, 224, 3)       0         \n",
            "_________________________________________________________________\n",
            "lambda (Lambda)              (None, 224, 224, 3)       0         \n",
            "_________________________________________________________________\n",
            "resnet50 (Functional)        (None, 7, 7, 2048)        23587712  \n",
            "_________________________________________________________________\n",
            "global_average_pooling2d (Gl (None, 2048)              0         \n",
            "_________________________________________________________________\n",
            "dense (Dense)                (None, 8)                 16392     \n",
            "=================================================================\n",
            "Total params: 23,604,104\n",
            "Trainable params: 3,432,968\n",
            "Non-trainable params: 20,171,136\n",
            "_________________________________________________________________\n"
          ],
          "name": "stdout"
        }
      ]
    },
    {
      "cell_type": "code",
      "metadata": {
        "id": "YdvaiWDm72aL",
        "outputId": "fa762953-18b4-4801-edfd-ee4c73c65b66",
        "colab": {
          "base_uri": "https://localhost:8080/"
        }
      },
      "source": [
        "pretrained_model.trainable = True\n",
        "for l in pretrained_model.layers:\n",
        "  l.trainable=False\n",
        "for i in range(10):\n",
        "  pretrained_model.layers[i].trainable=True\n",
        "  \n",
        "model.compile(\n",
        "    optimizer=tf.keras.optimizers.RMSprop(0.0001),\n",
        "    loss=\"sparse_categorical_crossentropy\",\n",
        "    metrics=[\"sparse_categorical_accuracy\"],\n",
        ")\n",
        "model.summary()"
      ],
      "execution_count": 10,
      "outputs": [
        {
          "output_type": "stream",
          "text": [
            "Model: \"sequential\"\n",
            "_________________________________________________________________\n",
            "Layer (type)                 Output Shape              Param #   \n",
            "=================================================================\n",
            "random_crop (RandomCrop)     (None, 224, 224, 3)       0         \n",
            "_________________________________________________________________\n",
            "lambda (Lambda)              (None, 224, 224, 3)       0         \n",
            "_________________________________________________________________\n",
            "resnet50 (Functional)        (None, 7, 7, 2048)        23587712  \n",
            "_________________________________________________________________\n",
            "global_average_pooling2d (Gl (None, 2048)              0         \n",
            "_________________________________________________________________\n",
            "dense (Dense)                (None, 8)                 16392     \n",
            "=================================================================\n",
            "Total params: 23,604,104\n",
            "Trainable params: 30,280\n",
            "Non-trainable params: 23,573,824\n",
            "_________________________________________________________________\n"
          ],
          "name": "stdout"
        }
      ]
    },
    {
      "cell_type": "code",
      "metadata": {
        "id": "-5ma8maFV6kO"
      },
      "source": [
        "training_log2 = model.fit(\n",
        "  train_dataset, epochs=10, validation_data=valid_dataset\n",
        ")"
      ],
      "execution_count": null,
      "outputs": []
    },
    {
      "cell_type": "code",
      "metadata": {
        "id": "jBaBM5R9YVCw"
      },
      "source": [
        "model.evaluate(test_dataset)"
      ],
      "execution_count": null,
      "outputs": []
    }
  ]
}