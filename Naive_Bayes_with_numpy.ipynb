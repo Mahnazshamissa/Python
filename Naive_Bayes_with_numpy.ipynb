{
  "nbformat": 4,
  "nbformat_minor": 0,
  "metadata": {
    "colab": {
      "name": "Naive Bayes with numpy.ipynb",
      "provenance": [],
      "authorship_tag": "ABX9TyMkmFun2CaTtVWJF98OiKkh",
      "include_colab_link": true
    },
    "kernelspec": {
      "name": "python3",
      "display_name": "Python 3"
    }
  },
  "cells": [
    {
      "cell_type": "markdown",
      "metadata": {
        "id": "view-in-github",
        "colab_type": "text"
      },
      "source": [
        "<a href=\"https://colab.research.google.com/github/Mahnazshamissa/Python/blob/main/Naive_Bayes_with_numpy.ipynb\" target=\"_parent\"><img src=\"https://colab.research.google.com/assets/colab-badge.svg\" alt=\"Open In Colab\"/></a>"
      ]
    },
    {
      "cell_type": "code",
      "metadata": {
        "id": "oB2XP5yE15v4"
      },
      "source": [
        "import numpy as np\n",
        "import pickle"
      ],
      "execution_count": 1,
      "outputs": []
    },
    {
      "cell_type": "code",
      "metadata": {
        "id": "hDRH2E2s-tzM"
      },
      "source": [
        "data = None\n",
        "column_names = ['long', 'sweet', 'yellow', 'seed', 'Brazil']\n",
        "\n",
        "with open('/content/fruit_data.pkl', 'rb') as fin:\n",
        "    data = pickle.load(fin)"
      ],
      "execution_count": 5,
      "outputs": []
    },
    {
      "cell_type": "code",
      "metadata": {
        "id": "UIfzMq9CASbn"
      },
      "source": [
        "priors = None\n",
        "posteriors = None"
      ],
      "execution_count": 6,
      "outputs": []
    },
    {
      "cell_type": "code",
      "metadata": {
        "id": "EE1nrojdAXmu"
      },
      "source": [
        "def train():\n",
        "    \n",
        "    priors, fruits = get_priors()\n",
        "    \n",
        "    posteriors = get_posteriors(fruits)\n",
        "    \n",
        "    return priors, posteriors"
      ],
      "execution_count": 7,
      "outputs": []
    },
    {
      "cell_type": "code",
      "metadata": {
        "id": "XjagI3CtAbwo"
      },
      "source": [
        "def get_priors():\n",
        "    pre_priors = np.unique(data[:, :1], return_counts=True)\n",
        "    fruits = pre_priors[0]\n",
        "    priors = pre_priors[1]/len(data)\n",
        "    return priors, fruits"
      ],
      "execution_count": 8,
      "outputs": []
    },
    {
      "cell_type": "code",
      "metadata": {
        "id": "fabRevN4AhF3"
      },
      "source": [
        "def get_posteriors(fruits):\n",
        "    \n",
        "    posteriors = np.zeros([len(fruits), 10])\n",
        "    \n",
        "    for fruit in fruits:\n",
        "        current_fruit_indices = np.where(data[:, :1] == fruit)[0]\n",
        "        current_fruit_data = data[current_fruit_indices]\n",
        "        \n",
        "        posteriors = populate_posterior_row(list(fruits).index(fruit), current_fruit_data, posteriors)\n",
        "    \n",
        "    return posteriors"
      ],
      "execution_count": 9,
      "outputs": []
    },
    {
      "cell_type": "code",
      "metadata": {
        "id": "6j_NUKK_Am_g"
      },
      "source": [
        "def populate_posterior_row(ind, fruit_data_slice, posteriors):\n",
        "    j = 0 \n",
        "    \n",
        "    for i in range(len(column_names) + 1):\n",
        "\n",
        "        # skips the first column, which holds the names of the fruits\n",
        "        if i == 0:\n",
        "            continue\n",
        "\n",
        "\n",
        "        int_feature = fruit_data_slice[:, i:i+1].astype('int')\n",
        "        feature_count = int_feature.sum() / len(fruit_data_slice)\n",
        "        not_feature_count = (len(fruit_data_slice[:, i:i+1]) - int_feature.sum()) / len(fruit_data_slice)\n",
        "\n",
        "        posteriors[ind, j] = feature_count\n",
        "        j += 1\n",
        "        posteriors[ind, j] = not_feature_count\n",
        "        j += 1\n",
        "    \n",
        "    return posteriors"
      ],
      "execution_count": 10,
      "outputs": []
    },
    {
      "cell_type": "code",
      "metadata": {
        "id": "S37BlfIRAqY-"
      },
      "source": [
        "priors, posteriors = train()"
      ],
      "execution_count": 11,
      "outputs": []
    },
    {
      "cell_type": "code",
      "metadata": {
        "id": "RDh_5KzwAtq9",
        "outputId": "389df74d-1ff3-498d-b642-9bef0df271b4",
        "colab": {
          "base_uri": "https://localhost:8080/",
          "height": 34
        }
      },
      "source": [
        "priors"
      ],
      "execution_count": 12,
      "outputs": [
        {
          "output_type": "execute_result",
          "data": {
            "text/plain": [
              "array([0.28571429, 0.21428571, 0.35714286, 0.14285714])"
            ]
          },
          "metadata": {
            "tags": []
          },
          "execution_count": 12
        }
      ]
    },
    {
      "cell_type": "code",
      "metadata": {
        "id": "PRxPL4QnAykf",
        "outputId": "7ff17506-e7a1-4916-e992-bb5009d62cd1",
        "colab": {
          "base_uri": "https://localhost:8080/",
          "height": 153
        }
      },
      "source": [
        "posteriors"
      ],
      "execution_count": 13,
      "outputs": [
        {
          "output_type": "execute_result",
          "data": {
            "text/plain": [
              "array([[0.9       , 0.1       , 0.625     , 0.375     , 0.975     ,\n",
              "        0.025     , 0.        , 1.        , 0.1625    , 0.8375    ],\n",
              "       [0.36666667, 0.63333333, 0.66666667, 0.33333333, 0.4       ,\n",
              "        0.6       , 0.        , 1.        , 1.        , 0.        ],\n",
              "       [0.006     , 0.994     , 0.92      , 0.08      , 0.06      ,\n",
              "        0.94      , 0.94      , 0.06      , 0.02      , 0.98      ],\n",
              "       [0.225     , 0.775     , 1.        , 0.        , 0.5       ,\n",
              "        0.5       , 0.95      , 0.05      , 0.        , 1.        ]])"
            ]
          },
          "metadata": {
            "tags": []
          },
          "execution_count": 13
        }
      ]
    }
  ]
}