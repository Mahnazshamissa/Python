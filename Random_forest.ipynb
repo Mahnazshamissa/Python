{
  "nbformat": 4,
  "nbformat_minor": 0,
  "metadata": {
    "colab": {
      "name": "Random_forest.ipynb",
      "provenance": [],
      "authorship_tag": "ABX9TyMaunEvNvBb64nAjkF8ltfo",
      "include_colab_link": true
    },
    "kernelspec": {
      "name": "python3",
      "display_name": "Python 3"
    }
  },
  "cells": [
    {
      "cell_type": "markdown",
      "metadata": {
        "id": "view-in-github",
        "colab_type": "text"
      },
      "source": [
        "<a href=\"https://colab.research.google.com/github/Mahnazshamissa/Python/blob/main/Random_forest.ipynb\" target=\"_parent\"><img src=\"https://colab.research.google.com/assets/colab-badge.svg\" alt=\"Open In Colab\"/></a>"
      ]
    },
    {
      "cell_type": "code",
      "metadata": {
        "id": "59WyYdZNjFyc"
      },
      "source": [
        "import pandas as pd\n",
        "import numpy as np\n",
        "import matplotlib.pyplot as plt\n",
        "from sklearn.ensemble import RandomForestClassifier\n",
        "from sklearn.preprocessing import StandardScaler, LabelEncoder, PowerTransformer\n",
        "from sklearn.utils.class_weight import compute_class_weight\n",
        "from sklearn.model_selection import StratifiedKFold\n",
        "from sklearn.metrics import accuracy_score, confusion_matrix, classification_report, roc_curve, auc, f1_score\n",
        "from sklearn.metrics import roc_auc_score, precision_recall_curve, average_precision_score, plot_precision_recall_curve\n",
        "from sklearn.model_selection import train_test_split"
      ],
      "execution_count": 6,
      "outputs": []
    },
    {
      "cell_type": "code",
      "metadata": {
        "id": "eTG1vS2AjT08"
      },
      "source": [
        "abo_path = '/content/WA_Fn-UseC_-Telco-Customer-Churn.csv'\n",
        "p_df_raw = pd.read_csv(abo_path, sep=',', encoding=\"UTF-8\")"
      ],
      "execution_count": 7,
      "outputs": []
    },
    {
      "cell_type": "code",
      "metadata": {
        "id": "DTeiMakOjohN",
        "outputId": "60a0cc51-2318-4ce9-df20-f517c1883da2",
        "colab": {
          "base_uri": "https://localhost:8080/",
          "height": 292
        }
      },
      "source": [
        "p_df_raw.tail()"
      ],
      "execution_count": 8,
      "outputs": [
        {
          "output_type": "execute_result",
          "data": {
            "text/html": [
              "<div>\n",
              "<style scoped>\n",
              "    .dataframe tbody tr th:only-of-type {\n",
              "        vertical-align: middle;\n",
              "    }\n",
              "\n",
              "    .dataframe tbody tr th {\n",
              "        vertical-align: top;\n",
              "    }\n",
              "\n",
              "    .dataframe thead th {\n",
              "        text-align: right;\n",
              "    }\n",
              "</style>\n",
              "<table border=\"1\" class=\"dataframe\">\n",
              "  <thead>\n",
              "    <tr style=\"text-align: right;\">\n",
              "      <th></th>\n",
              "      <th>customerID</th>\n",
              "      <th>gender</th>\n",
              "      <th>SeniorCitizen</th>\n",
              "      <th>Partner</th>\n",
              "      <th>Dependents</th>\n",
              "      <th>tenure</th>\n",
              "      <th>PhoneService</th>\n",
              "      <th>MultipleLines</th>\n",
              "      <th>InternetService</th>\n",
              "      <th>OnlineSecurity</th>\n",
              "      <th>OnlineBackup</th>\n",
              "      <th>DeviceProtection</th>\n",
              "      <th>TechSupport</th>\n",
              "      <th>StreamingTV</th>\n",
              "      <th>StreamingMovies</th>\n",
              "      <th>Contract</th>\n",
              "      <th>PaperlessBilling</th>\n",
              "      <th>PaymentMethod</th>\n",
              "      <th>MonthlyCharges</th>\n",
              "      <th>TotalCharges</th>\n",
              "      <th>Churn</th>\n",
              "    </tr>\n",
              "  </thead>\n",
              "  <tbody>\n",
              "    <tr>\n",
              "      <th>7038</th>\n",
              "      <td>6840-RESVB</td>\n",
              "      <td>Male</td>\n",
              "      <td>0</td>\n",
              "      <td>Yes</td>\n",
              "      <td>Yes</td>\n",
              "      <td>24</td>\n",
              "      <td>Yes</td>\n",
              "      <td>Yes</td>\n",
              "      <td>DSL</td>\n",
              "      <td>Yes</td>\n",
              "      <td>No</td>\n",
              "      <td>Yes</td>\n",
              "      <td>Yes</td>\n",
              "      <td>Yes</td>\n",
              "      <td>Yes</td>\n",
              "      <td>One year</td>\n",
              "      <td>Yes</td>\n",
              "      <td>Mailed check</td>\n",
              "      <td>84.80</td>\n",
              "      <td>1990.5</td>\n",
              "      <td>No</td>\n",
              "    </tr>\n",
              "    <tr>\n",
              "      <th>7039</th>\n",
              "      <td>2234-XADUH</td>\n",
              "      <td>Female</td>\n",
              "      <td>0</td>\n",
              "      <td>Yes</td>\n",
              "      <td>Yes</td>\n",
              "      <td>72</td>\n",
              "      <td>Yes</td>\n",
              "      <td>Yes</td>\n",
              "      <td>Fiber optic</td>\n",
              "      <td>No</td>\n",
              "      <td>Yes</td>\n",
              "      <td>Yes</td>\n",
              "      <td>No</td>\n",
              "      <td>Yes</td>\n",
              "      <td>Yes</td>\n",
              "      <td>One year</td>\n",
              "      <td>Yes</td>\n",
              "      <td>Credit card (automatic)</td>\n",
              "      <td>103.20</td>\n",
              "      <td>7362.9</td>\n",
              "      <td>No</td>\n",
              "    </tr>\n",
              "    <tr>\n",
              "      <th>7040</th>\n",
              "      <td>4801-JZAZL</td>\n",
              "      <td>Female</td>\n",
              "      <td>0</td>\n",
              "      <td>Yes</td>\n",
              "      <td>Yes</td>\n",
              "      <td>11</td>\n",
              "      <td>No</td>\n",
              "      <td>No phone service</td>\n",
              "      <td>DSL</td>\n",
              "      <td>Yes</td>\n",
              "      <td>No</td>\n",
              "      <td>No</td>\n",
              "      <td>No</td>\n",
              "      <td>No</td>\n",
              "      <td>No</td>\n",
              "      <td>Month-to-month</td>\n",
              "      <td>Yes</td>\n",
              "      <td>Electronic check</td>\n",
              "      <td>29.60</td>\n",
              "      <td>346.45</td>\n",
              "      <td>No</td>\n",
              "    </tr>\n",
              "    <tr>\n",
              "      <th>7041</th>\n",
              "      <td>8361-LTMKD</td>\n",
              "      <td>Male</td>\n",
              "      <td>1</td>\n",
              "      <td>Yes</td>\n",
              "      <td>No</td>\n",
              "      <td>4</td>\n",
              "      <td>Yes</td>\n",
              "      <td>Yes</td>\n",
              "      <td>Fiber optic</td>\n",
              "      <td>No</td>\n",
              "      <td>No</td>\n",
              "      <td>No</td>\n",
              "      <td>No</td>\n",
              "      <td>No</td>\n",
              "      <td>No</td>\n",
              "      <td>Month-to-month</td>\n",
              "      <td>Yes</td>\n",
              "      <td>Mailed check</td>\n",
              "      <td>74.40</td>\n",
              "      <td>306.6</td>\n",
              "      <td>Yes</td>\n",
              "    </tr>\n",
              "    <tr>\n",
              "      <th>7042</th>\n",
              "      <td>3186-AJIEK</td>\n",
              "      <td>Male</td>\n",
              "      <td>0</td>\n",
              "      <td>No</td>\n",
              "      <td>No</td>\n",
              "      <td>66</td>\n",
              "      <td>Yes</td>\n",
              "      <td>No</td>\n",
              "      <td>Fiber optic</td>\n",
              "      <td>Yes</td>\n",
              "      <td>No</td>\n",
              "      <td>Yes</td>\n",
              "      <td>Yes</td>\n",
              "      <td>Yes</td>\n",
              "      <td>Yes</td>\n",
              "      <td>Two year</td>\n",
              "      <td>Yes</td>\n",
              "      <td>Bank transfer (automatic)</td>\n",
              "      <td>105.65</td>\n",
              "      <td>6844.5</td>\n",
              "      <td>No</td>\n",
              "    </tr>\n",
              "  </tbody>\n",
              "</table>\n",
              "</div>"
            ],
            "text/plain": [
              "      customerID  gender  SeniorCitizen  ... MonthlyCharges TotalCharges  Churn\n",
              "7038  6840-RESVB    Male              0  ...          84.80       1990.5     No\n",
              "7039  2234-XADUH  Female              0  ...         103.20       7362.9     No\n",
              "7040  4801-JZAZL  Female              0  ...          29.60       346.45     No\n",
              "7041  8361-LTMKD    Male              1  ...          74.40        306.6    Yes\n",
              "7042  3186-AJIEK    Male              0  ...         105.65       6844.5     No\n",
              "\n",
              "[5 rows x 21 columns]"
            ]
          },
          "metadata": {
            "tags": []
          },
          "execution_count": 8
        }
      ]
    },
    {
      "cell_type": "code",
      "metadata": {
        "id": "XxfFDDOGjwmf",
        "outputId": "d774d38a-b339-4b59-c3cf-85d1b540516a",
        "colab": {
          "base_uri": "https://localhost:8080/"
        }
      },
      "source": [
        "p_df_raw.isna().sum()"
      ],
      "execution_count": 9,
      "outputs": [
        {
          "output_type": "execute_result",
          "data": {
            "text/plain": [
              "customerID          0\n",
              "gender              0\n",
              "SeniorCitizen       0\n",
              "Partner             0\n",
              "Dependents          0\n",
              "tenure              0\n",
              "PhoneService        0\n",
              "MultipleLines       0\n",
              "InternetService     0\n",
              "OnlineSecurity      0\n",
              "OnlineBackup        0\n",
              "DeviceProtection    0\n",
              "TechSupport         0\n",
              "StreamingTV         0\n",
              "StreamingMovies     0\n",
              "Contract            0\n",
              "PaperlessBilling    0\n",
              "PaymentMethod       0\n",
              "MonthlyCharges      0\n",
              "TotalCharges        0\n",
              "Churn               0\n",
              "dtype: int64"
            ]
          },
          "metadata": {
            "tags": []
          },
          "execution_count": 9
        }
      ]
    },
    {
      "cell_type": "markdown",
      "metadata": {
        "id": "EW_xiPeXj2c0"
      },
      "source": [
        "# **Transform the data: make every column into number and scale the values of each column**"
      ]
    },
    {
      "cell_type": "code",
      "metadata": {
        "id": "ha91JcwDj6hj"
      },
      "source": [
        "df_y = p_df_raw['Churn']\n",
        "df_y = pd.DataFrame(LabelEncoder().fit_transform(df_y))\n",
        "df_y = df_y.reset_index(drop=True)\n",
        "\n",
        "df_X_raw = p_df_raw.drop(['customerID', 'Churn'], axis=1)\n",
        "#df_X_raw = p_df_raw_train.drop(['Name'], axis=1)\n",
        "\n",
        "columns=df_X_raw.columns\n",
        "for f in df_X_raw.columns:\n",
        "    if df_X_raw[f].dtype == 'object':\n",
        "        df_X_raw[f] = LabelEncoder().fit_transform(list(df_X_raw[f]))"
      ],
      "execution_count": 12,
      "outputs": []
    },
    {
      "cell_type": "code",
      "metadata": {
        "id": "diywjF9skQYT"
      },
      "source": [
        "scaler = PowerTransformer()\n",
        "scaled_df = scaler.fit_transform(df_X_raw)\n",
        "df_X = pd.DataFrame(scaled_df, columns=columns)\n",
        "df_X = df_X.reset_index(drop=True)"
      ],
      "execution_count": 13,
      "outputs": []
    },
    {
      "cell_type": "code",
      "metadata": {
        "id": "cWAZhNzkkgPP",
        "outputId": "81835c9c-8d53-4dce-9b8c-f328f7c322a8",
        "colab": {
          "base_uri": "https://localhost:8080/"
        }
      },
      "source": [
        "class_labels = np.unique(df_y)\n",
        "class_weights = compute_class_weight('balanced', class_labels, df_y)\n",
        "class_weights = dict(zip(class_labels, class_weights))"
      ],
      "execution_count": 14,
      "outputs": [
        {
          "output_type": "stream",
          "text": [
            "/usr/local/lib/python3.6/dist-packages/sklearn/preprocessing/_label.py:251: DataConversionWarning: A column-vector y was passed when a 1d array was expected. Please change the shape of y to (n_samples, ), for example using ravel().\n",
            "  y = column_or_1d(y, warn=True)\n"
          ],
          "name": "stderr"
        }
      ]
    },
    {
      "cell_type": "code",
      "metadata": {
        "id": "h3Mztb06kk8o",
        "outputId": "d3d5444e-3fc2-4ec7-ff06-3dad673337ec",
        "colab": {
          "base_uri": "https://localhost:8080/"
        }
      },
      "source": [
        "class_weights"
      ],
      "execution_count": 15,
      "outputs": [
        {
          "output_type": "execute_result",
          "data": {
            "text/plain": [
              "{0: 0.6806146115191342, 1: 1.8841626538255751}"
            ]
          },
          "metadata": {
            "tags": []
          },
          "execution_count": 15
        }
      ]
    },
    {
      "cell_type": "code",
      "metadata": {
        "id": "VytOSVW3kpZA",
        "outputId": "5637960b-e182-4a3e-be06-581b8b4ff60d",
        "colab": {
          "base_uri": "https://localhost:8080/"
        }
      },
      "source": [
        "df_X.isna().sum()"
      ],
      "execution_count": 16,
      "outputs": [
        {
          "output_type": "execute_result",
          "data": {
            "text/plain": [
              "gender              0\n",
              "SeniorCitizen       0\n",
              "Partner             0\n",
              "Dependents          0\n",
              "tenure              0\n",
              "PhoneService        0\n",
              "MultipleLines       0\n",
              "InternetService     0\n",
              "OnlineSecurity      0\n",
              "OnlineBackup        0\n",
              "DeviceProtection    0\n",
              "TechSupport         0\n",
              "StreamingTV         0\n",
              "StreamingMovies     0\n",
              "Contract            0\n",
              "PaperlessBilling    0\n",
              "PaymentMethod       0\n",
              "MonthlyCharges      0\n",
              "TotalCharges        0\n",
              "dtype: int64"
            ]
          },
          "metadata": {
            "tags": []
          },
          "execution_count": 16
        }
      ]
    },
    {
      "cell_type": "code",
      "metadata": {
        "id": "WR1ibWfCnG8O"
      },
      "source": [
        "X_train, X_test, y_train, y_test = train_test_split(df_X, df_y)"
      ],
      "execution_count": 17,
      "outputs": []
    },
    {
      "cell_type": "markdown",
      "metadata": {
        "id": "voEo2_dKnKQI"
      },
      "source": [
        "# **Random Forest initializer**"
      ]
    },
    {
      "cell_type": "code",
      "metadata": {
        "id": "FunK-p-4nPXs"
      },
      "source": [
        "clf = RandomForestClassifier(\n",
        "    n_estimators=50,\n",
        "    criterion='gini',\n",
        "    max_depth=5,\n",
        "    min_samples_split=2,\n",
        "    min_samples_leaf=1,\n",
        "    min_weight_fraction_leaf=0.0,\n",
        "    max_features='auto',\n",
        "    max_leaf_nodes=None,\n",
        "    min_impurity_decrease=0.0,\n",
        "    min_impurity_split=None,\n",
        "    bootstrap=True,\n",
        "    oob_score=False,\n",
        "    n_jobs=-1,\n",
        "    random_state=0,\n",
        "    verbose=0,\n",
        "    warm_start=False,\n",
        "    class_weight='balanced'\n",
        ")"
      ],
      "execution_count": 18,
      "outputs": []
    },
    {
      "cell_type": "markdown",
      "metadata": {
        "id": "QGAT8BGmnS6c"
      },
      "source": [
        "# **training with CV**"
      ]
    },
    {
      "cell_type": "code",
      "metadata": {
        "id": "Tb0m0dw7nWPt",
        "outputId": "ac5e83d6-0911-4607-c18e-511b0be4bbb0",
        "colab": {
          "base_uri": "https://localhost:8080/"
        }
      },
      "source": [
        "train_auc_list = []\n",
        "valid_auc_list = []\n",
        "\n",
        "fprs, tprs, scores = [], [], []\n",
        "\n",
        "cv = StratifiedKFold(n_splits=5, random_state=123, shuffle=True)\n",
        "\n",
        "\n",
        "for train_index, val_index in cv.split(X_train, y_train):\n",
        "    X_train_sub, X_valid_sub = X_train.loc[X_train.index[train_index]], X_train.loc[X_train.index[val_index]]\n",
        "    y_train_sub, y_valid_sub = y_train.loc[y_train.index[train_index]], y_train.loc[y_train.index[val_index]]\n",
        "    \n",
        "    print(type(y_train_sub),y_train_sub.shape)\n",
        "\n",
        "    #print(type(y_train_sub.values),y_train_sub.shape())\n",
        "    clf.fit(X_train_sub, y_train_sub.values[:,0])  #[0].ravel())\n",
        "    clf_pred_train = clf.predict(X_train_sub)\n",
        "    clf_pred_val = clf.predict(X_valid_sub)\n",
        "            \n",
        "    train_f1 = round(f1_score(clf_pred_train, y_train_sub), 8)*100\n",
        "    valid_f1 = round(f1_score(clf_pred_val, y_valid_sub), 8)*100\n",
        "        \n",
        "    scores.append((train_f1, valid_f1))   \n",
        "    train_auc_list.append(train_f1)\n",
        "    valid_auc_list.append(valid_f1)"
      ],
      "execution_count": 31,
      "outputs": [
        {
          "output_type": "stream",
          "text": [
            "<class 'pandas.core.frame.DataFrame'> (4225, 1)\n",
            "<class 'pandas.core.frame.DataFrame'> (4225, 1)\n",
            "<class 'pandas.core.frame.DataFrame'> (4226, 1)\n",
            "<class 'pandas.core.frame.DataFrame'> (4226, 1)\n",
            "<class 'pandas.core.frame.DataFrame'> (4226, 1)\n"
          ],
          "name": "stdout"
        }
      ]
    },
    {
      "cell_type": "code",
      "metadata": {
        "id": "b5hy3ebZn-nA",
        "outputId": "b8b9b2e4-e065-4c18-fe31-4c9f2b249873",
        "colab": {
          "base_uri": "https://localhost:8080/",
          "height": 204
        }
      },
      "source": [
        "pd.DataFrame(scores, columns=['F1 Train', 'F1 Val'])"
      ],
      "execution_count": 32,
      "outputs": [
        {
          "output_type": "execute_result",
          "data": {
            "text/html": [
              "<div>\n",
              "<style scoped>\n",
              "    .dataframe tbody tr th:only-of-type {\n",
              "        vertical-align: middle;\n",
              "    }\n",
              "\n",
              "    .dataframe tbody tr th {\n",
              "        vertical-align: top;\n",
              "    }\n",
              "\n",
              "    .dataframe thead th {\n",
              "        text-align: right;\n",
              "    }\n",
              "</style>\n",
              "<table border=\"1\" class=\"dataframe\">\n",
              "  <thead>\n",
              "    <tr style=\"text-align: right;\">\n",
              "      <th></th>\n",
              "      <th>F1 Train</th>\n",
              "      <th>F1 Val</th>\n",
              "    </tr>\n",
              "  </thead>\n",
              "  <tbody>\n",
              "    <tr>\n",
              "      <th>0</th>\n",
              "      <td>64.714185</td>\n",
              "      <td>63.202247</td>\n",
              "    </tr>\n",
              "    <tr>\n",
              "      <th>1</th>\n",
              "      <td>64.828561</td>\n",
              "      <td>65.915493</td>\n",
              "    </tr>\n",
              "    <tr>\n",
              "      <th>2</th>\n",
              "      <td>64.812834</td>\n",
              "      <td>61.939219</td>\n",
              "    </tr>\n",
              "    <tr>\n",
              "      <th>3</th>\n",
              "      <td>64.749211</td>\n",
              "      <td>62.253521</td>\n",
              "    </tr>\n",
              "    <tr>\n",
              "      <th>4</th>\n",
              "      <td>65.211167</td>\n",
              "      <td>61.797753</td>\n",
              "    </tr>\n",
              "  </tbody>\n",
              "</table>\n",
              "</div>"
            ],
            "text/plain": [
              "    F1 Train     F1 Val\n",
              "0  64.714185  63.202247\n",
              "1  64.828561  65.915493\n",
              "2  64.812834  61.939219\n",
              "3  64.749211  62.253521\n",
              "4  65.211167  61.797753"
            ]
          },
          "metadata": {
            "tags": []
          },
          "execution_count": 32
        }
      ]
    },
    {
      "cell_type": "markdown",
      "metadata": {
        "id": "lL9OYaDwoTyn"
      },
      "source": [
        "# **Predicting on test data**"
      ]
    },
    {
      "cell_type": "code",
      "metadata": {
        "id": "qeqLQ33coYyR"
      },
      "source": [
        "clf_test_pred = clf.predict(X_test)"
      ],
      "execution_count": 21,
      "outputs": []
    },
    {
      "cell_type": "code",
      "metadata": {
        "id": "wAwLyb4dodIT",
        "outputId": "33ee4685-94e6-488a-8bda-a26b6dac6da1",
        "colab": {
          "base_uri": "https://localhost:8080/"
        }
      },
      "source": [
        "auc_test = roc_auc_score(y_test, clf_test_pred)\n",
        "test_f1 = round(f1_score(y_test, clf_test_pred), 8)*100\n",
        "print('\\nAUROC:',auc_test, \", F1 score:\", test_f1)"
      ],
      "execution_count": 22,
      "outputs": [
        {
          "output_type": "stream",
          "text": [
            "\n",
            "AUROC: 0.7382008676434477 , F1 score: 60.15037600000001\n"
          ],
          "name": "stdout"
        }
      ]
    },
    {
      "cell_type": "code",
      "metadata": {
        "id": "Nh9fd9QvokXk"
      },
      "source": [
        "fpr, tpr, threshold = roc_curve(y_test, clf_test_pred)"
      ],
      "execution_count": 23,
      "outputs": []
    },
    {
      "cell_type": "code",
      "metadata": {
        "id": "m_Uk7QUHonzc",
        "outputId": "b7aef656-6603-4b9f-f41c-9b247fd5db1c",
        "colab": {
          "base_uri": "https://localhost:8080/",
          "height": 483
        }
      },
      "source": [
        "fig = plt.figure(figsize=(12,8)) \n",
        "ax = fig.add_subplot(1,1,1)\n",
        "plt.plot([0,1],[0,1], 'k--')\n",
        "plt.plot(fpr, tpr);"
      ],
      "execution_count": 24,
      "outputs": [
        {
          "output_type": "display_data",
          "data": {
            "image/png": "[encoded data removed]",
            "text/plain": [
              "<Figure size 864x576 with 1 Axes>"
            ]
          },
          "metadata": {
            "tags": [],
            "needs_background": "light"
          }
        }
      ]
    },
    {
      "cell_type": "code",
      "metadata": {
        "id": "yzEta-qBos8V",
        "outputId": "f3cdde78-bc3d-478a-e3a0-74c228158480",
        "colab": {
          "base_uri": "https://localhost:8080/"
        }
      },
      "source": [
        "print('Accuracy')\n",
        "print(accuracy_score(y_test, clf_test_pred))\n",
        "print('Confusion Matrix')\n",
        "print(confusion_matrix(y_test, clf_test_pred))\n",
        "print('Confusion Report')\n",
        "print(classification_report(y_test, clf_test_pred))"
      ],
      "execution_count": 25,
      "outputs": [
        {
          "output_type": "stream",
          "text": [
            "Accuracy\n",
            "0.7291311754684838\n",
            "Confusion Matrix\n",
            "[[924 362]\n",
            " [115 360]]\n",
            "Confusion Report\n",
            "              precision    recall  f1-score   support\n",
            "\n",
            "           0       0.89      0.72      0.79      1286\n",
            "           1       0.50      0.76      0.60       475\n",
            "\n",
            "    accuracy                           0.73      1761\n",
            "   macro avg       0.69      0.74      0.70      1761\n",
            "weighted avg       0.78      0.73      0.74      1761\n",
            "\n"
          ],
          "name": "stdout"
        }
      ]
    }
  ]
}